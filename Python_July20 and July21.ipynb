{
 "cells": [
  {
   "cell_type": "markdown",
   "id": "93d8aecf-290e-4ffd-afcd-1476737704c0",
   "metadata": {},
   "source": [
    "# Python - Week1 - July 20 & July 21"
   ]
  },
  {
   "cell_type": "markdown",
   "id": "ee1c5f9f-108f-4681-a519-961b5b42df50",
   "metadata": {},
   "source": [
    "Python is an **interpreted**, **object-oriented**, **high-level programming language** with dynamic semantics. \n",
    "Its design philosophy emphasizes **code readability** through the use of **significant indentation**. \n",
    "Python supports multiple programming paradigms, including **structured (particularly procedural)**, **object-oriented**, and **functional programming**. \n",
    "It's often described as a \"batteries included\" language due to its comprehensive standard library¹. \n",
    "\n",
    "In summary, Python is widely used for **web development**, **automation**, **data analysis**, and more³. 🐍🌟"
   ]
  },
  {
   "cell_type": "markdown",
   "id": "84581d3e-a53a-4b3d-9e89-bb0c642128b7",
   "metadata": {},
   "source": [
    "### Features of Python\n",
    "    Python has plenty of features that make it the most demanding and popular. Let’s read about a few of the best features that Python has:\n",
    "    \n",
    "    Easy to read and understand\n",
    "    Interpreted language\n",
    "    Object-oriented programming language\n",
    "    Free and open-source\n",
    "    Versatile(general purpose language) and Extensible (Python code can be integrated with other programming languages)\n",
    "    Multi-platform\n",
    "    Hundreds of libraries and frameworks\n",
    "    Flexible, supports GUI\n",
    "    Dynamically typed (In Python, dynamic typing refers to the language feature that allows variables to change their data types during program execution)\n",
    "    Huge and active community"
   ]
  },
  {
   "cell_type": "markdown",
   "id": "26aef1fd-8e97-4f48-9b80-26d77a1a4ca4",
   "metadata": {},
   "source": [
    "#### Variables\n",
    "\n",
    "    Python Variable is containers that store values. \n",
    "    We do not need to declare variables before using them or declare their type. \n",
    "    A variable is created the moment we first assign a value to it. \n",
    "    A Python variable is a name given to a memory location. \n",
    "    It is the basic unit of storage in a program"
   ]
  },
  {
   "cell_type": "markdown",
   "id": "426acb42-af9d-458f-bb47-88e5bccd447e",
   "metadata": {},
   "source": [
    "Creating variables and assigning values\n",
    "\n",
    "    <variable name> = <value>\n",
    "Rules:\n",
    "    1. Variable name should name start with a number.\n",
    "    2. Variable names must start with letter or underscore\n",
    "    3. Remainder of var name may consist of letters, numbers or underscores\n",
    "    4. var names are case sensitive\n",
    "    5. var name cannot begin with number"
   ]
  },
  {
   "cell_type": "code",
   "execution_count": 17,
   "id": "5d22ce9d-512b-4244-8137-ad6ca1fd1dbf",
   "metadata": {},
   "outputs": [
    {
     "name": "stdout",
     "output_type": "stream",
     "text": [
      "10\n"
     ]
    },
    {
     "data": {
      "text/plain": [
       "int"
      ]
     },
     "execution_count": 17,
     "metadata": {},
     "output_type": "execute_result"
    }
   ],
   "source": [
    "a = 10\n",
    "print(a)\n",
    "type(a) #type is used to check what class a variable belongs to "
   ]
  },
  {
   "cell_type": "code",
   "execution_count": 19,
   "id": "d8ce0d65-7fd7-43a9-9b54-37501fddc6ca",
   "metadata": {},
   "outputs": [
    {
     "name": "stdout",
     "output_type": "stream",
     "text": [
      "3.141 1 2 3\n"
     ]
    }
   ],
   "source": [
    "pi = 3.141\n",
    "a, b, c = 1, 2, 3\n",
    "print(pi, a, b, c)"
   ]
  },
  {
   "cell_type": "code",
   "execution_count": 21,
   "id": "fc205a01-67a2-477e-819e-ec16bd46f6a2",
   "metadata": {},
   "outputs": [
    {
     "ename": "SyntaxError",
     "evalue": "invalid decimal literal (4039972918.py, line 1)",
     "output_type": "error",
     "traceback": [
      "\u001b[1;36m  Cell \u001b[1;32mIn[21], line 1\u001b[1;36m\u001b[0m\n\u001b[1;33m    10key = 'data science class'\u001b[0m\n\u001b[1;37m     ^\u001b[0m\n\u001b[1;31mSyntaxError\u001b[0m\u001b[1;31m:\u001b[0m invalid decimal literal\n"
     ]
    }
   ],
   "source": [
    "10key = 'data science class'"
   ]
  },
  {
   "cell_type": "code",
   "execution_count": 23,
   "id": "c34edd99-77ed-4c64-b670-d2e277f69023",
   "metadata": {},
   "outputs": [
    {
     "data": {
      "text/plain": [
       "'data science'"
      ]
     },
     "execution_count": 23,
     "metadata": {},
     "output_type": "execute_result"
    }
   ],
   "source": [
    "key10 = 'data science'\n",
    "key10"
   ]
  },
  {
   "cell_type": "code",
   "execution_count": 27,
   "id": "f7eec1f5-f6b5-4aad-a867-7d6f19eb50e3",
   "metadata": {},
   "outputs": [
    {
     "data": {
      "text/plain": [
       "('data science', 'class')"
      ]
     },
     "execution_count": 27,
     "metadata": {},
     "output_type": "execute_result"
    }
   ],
   "source": [
    "key_10, _key10 = 'data science', 'class'\n",
    "key_10, _key10"
   ]
  },
  {
   "cell_type": "code",
   "execution_count": 29,
   "id": "f5c2b986-97ab-4a40-b239-e12f5978c5c0",
   "metadata": {},
   "outputs": [
    {
     "name": "stdout",
     "output_type": "stream",
     "text": [
      "data data\n"
     ]
    }
   ],
   "source": [
    "KEY_10 = 'data'\n",
    "key_10 = 'data'\n",
    "print(KEY_10, key_10)\n"
   ]
  },
  {
   "cell_type": "code",
   "execution_count": 31,
   "id": "ca49309c-5bbf-4320-b913-df885a61af72",
   "metadata": {},
   "outputs": [
    {
     "data": {
      "text/plain": [
       "True"
      ]
     },
     "execution_count": 31,
     "metadata": {},
     "output_type": "execute_result"
    }
   ],
   "source": [
    "KEY_10 == key_10"
   ]
  },
  {
   "cell_type": "code",
   "execution_count": 33,
   "id": "b641233c-07b8-40dc-a09d-4b85412fe4fd",
   "metadata": {},
   "outputs": [
    {
     "data": {
      "text/plain": [
       "(140735038466176, 140735038466176)"
      ]
     },
     "execution_count": 33,
     "metadata": {},
     "output_type": "execute_result"
    }
   ],
   "source": [
    "id(KEY_10), id(key_10)"
   ]
  },
  {
   "cell_type": "code",
   "execution_count": 35,
   "id": "726a42ba-c6e2-48cd-84cb-ade3af040ccf",
   "metadata": {},
   "outputs": [],
   "source": [
    "key_10 = 'science'"
   ]
  },
  {
   "cell_type": "code",
   "execution_count": 37,
   "id": "01136f6a-6417-43a9-90ab-53b44dd8fefc",
   "metadata": {},
   "outputs": [
    {
     "data": {
      "text/plain": [
       "('data', 140735038466176, 'science', 1480571808624)"
      ]
     },
     "execution_count": 37,
     "metadata": {},
     "output_type": "execute_result"
    }
   ],
   "source": [
    "KEY_10, id(KEY_10), key_10, id(key_10)"
   ]
  },
  {
   "cell_type": "code",
   "execution_count": 39,
   "id": "ad3055eb-d499-42a6-ada2-818f321e485f",
   "metadata": {},
   "outputs": [
    {
     "data": {
      "text/plain": [
       "False"
      ]
     },
     "execution_count": 39,
     "metadata": {},
     "output_type": "execute_result"
    }
   ],
   "source": [
    "KEY_10 == key_10"
   ]
  },
  {
   "cell_type": "code",
   "execution_count": 41,
   "id": "e19b5fa7-5636-4668-8d34-205af9f9f32e",
   "metadata": {},
   "outputs": [
    {
     "ename": "SyntaxError",
     "evalue": "invalid syntax (1014370681.py, line 1)",
     "output_type": "error",
     "traceback": [
      "\u001b[1;36m  Cell \u001b[1;32mIn[41], line 1\u001b[1;36m\u001b[0m\n\u001b[1;33m    $key10 = 'data++'\u001b[0m\n\u001b[1;37m    ^\u001b[0m\n\u001b[1;31mSyntaxError\u001b[0m\u001b[1;31m:\u001b[0m invalid syntax\n"
     ]
    }
   ],
   "source": [
    "$key10 = 'data++' #Cannot begin weith special symbols"
   ]
  },
  {
   "cell_type": "code",
   "execution_count": 43,
   "id": "04eea9df-b8c2-4527-addc-e320dd0d5732",
   "metadata": {},
   "outputs": [],
   "source": [
    "_ = 'data++' #Can begin with underscore"
   ]
  },
  {
   "cell_type": "code",
   "execution_count": 45,
   "id": "2e626fbe-f0b5-4ad9-a6c1-6171d0fcc03a",
   "metadata": {},
   "outputs": [
    {
     "data": {
      "text/plain": [
       "'data++'"
      ]
     },
     "execution_count": 45,
     "metadata": {},
     "output_type": "execute_result"
    }
   ],
   "source": [
    "_"
   ]
  },
  {
   "cell_type": "code",
   "execution_count": 47,
   "id": "3ab81d78-dc18-440f-96bd-8fe5ae6108fa",
   "metadata": {},
   "outputs": [],
   "source": [
    "name = 'sadiq pasha'\n",
    "subject = 'data science'"
   ]
  },
  {
   "cell_type": "code",
   "execution_count": 49,
   "id": "19ac896d-15ac-430b-8678-1c76325f6bd2",
   "metadata": {},
   "outputs": [
    {
     "name": "stdout",
     "output_type": "stream",
     "text": [
      "sadiq pasha is teachiung a data science class\n"
     ]
    }
   ],
   "source": [
    "print(f\"{name} is teachiung a {subject} class\")"
   ]
  },
  {
   "cell_type": "code",
   "execution_count": 51,
   "id": "19da1d37-aae4-48b7-a1bd-d965f0245b77",
   "metadata": {},
   "outputs": [
    {
     "data": {
      "text/plain": [
       "'sadiq pasha'"
      ]
     },
     "execution_count": 51,
     "metadata": {},
     "output_type": "execute_result"
    }
   ],
   "source": [
    "name"
   ]
  },
  {
   "cell_type": "code",
   "execution_count": 53,
   "id": "6f14646d-ec19-437d-b699-6ad634462f43",
   "metadata": {},
   "outputs": [
    {
     "data": {
      "text/plain": [
       "'data science'"
      ]
     },
     "execution_count": 53,
     "metadata": {},
     "output_type": "execute_result"
    }
   ],
   "source": [
    "subject"
   ]
  },
  {
   "cell_type": "code",
   "execution_count": 55,
   "id": "ad87b093-a207-4bcd-afb5-5fbd6b52c3cd",
   "metadata": {},
   "outputs": [
    {
     "name": "stdout",
     "output_type": "stream",
     "text": [
      "data science\n"
     ]
    }
   ],
   "source": [
    "name\n",
    "print(subject)"
   ]
  },
  {
   "cell_type": "code",
   "execution_count": 57,
   "id": "7e4777af-168d-4c41-9993-7c238c992b82",
   "metadata": {},
   "outputs": [],
   "source": [
    "calc = 678 + 896 -24354 / 5 ** 2"
   ]
  },
  {
   "cell_type": "code",
   "execution_count": 59,
   "id": "fde42d2e-ace3-4626-bd1b-ca9fd412052a",
   "metadata": {},
   "outputs": [
    {
     "data": {
      "text/plain": [
       "599.84"
      ]
     },
     "execution_count": 59,
     "metadata": {},
     "output_type": "execute_result"
    }
   ],
   "source": [
    "calc"
   ]
  },
  {
   "cell_type": "code",
   "execution_count": 61,
   "id": "fb6dd2bf-5f40-4e0c-b81f-d42b27c9e146",
   "metadata": {},
   "outputs": [
    {
     "name": "stdout",
     "output_type": "stream",
     "text": [
      "sadiq pashadata science\n"
     ]
    }
   ],
   "source": [
    "print(name + subject)"
   ]
  },
  {
   "cell_type": "markdown",
   "id": "c1d3ef35-4b4a-4331-8436-a49fe947cb7c",
   "metadata": {},
   "source": [
    "#### dir()"
   ]
  },
  {
   "cell_type": "code",
   "execution_count": 65,
   "id": "cbb2d151-5fbd-4eb2-80c9-2139c3f5fb25",
   "metadata": {
    "scrolled": true
   },
   "outputs": [
    {
     "data": {
      "text/plain": [
       "['In',\n",
       " 'KEY_10',\n",
       " 'Out',\n",
       " '_',\n",
       " '_1',\n",
       " '_10',\n",
       " '_11',\n",
       " '_12',\n",
       " '_13',\n",
       " '_14',\n",
       " '_16',\n",
       " '_17',\n",
       " '_18',\n",
       " '_2',\n",
       " '_20',\n",
       " '_22',\n",
       " '_23',\n",
       " '_24',\n",
       " '_26',\n",
       " '_27',\n",
       " '_28',\n",
       " '_3',\n",
       " '_30',\n",
       " '_31',\n",
       " '_32',\n",
       " '_33',\n",
       " '_34',\n",
       " '_36',\n",
       " '_37',\n",
       " '_38',\n",
       " '_39',\n",
       " '_4',\n",
       " '_40',\n",
       " '_42',\n",
       " '_44',\n",
       " '_45',\n",
       " '_46',\n",
       " '_48',\n",
       " '_5',\n",
       " '_50',\n",
       " '_51',\n",
       " '_52',\n",
       " '_53',\n",
       " '_54',\n",
       " '_56',\n",
       " '_58',\n",
       " '_59',\n",
       " '_6',\n",
       " '_60',\n",
       " '_62',\n",
       " '_63',\n",
       " '_64',\n",
       " '_7',\n",
       " '_8',\n",
       " '_9',\n",
       " '__',\n",
       " '___',\n",
       " '__builtin__',\n",
       " '__builtins__',\n",
       " '__doc__',\n",
       " '__loader__',\n",
       " '__name__',\n",
       " '__package__',\n",
       " '__pandas',\n",
       " '__session__',\n",
       " '__spec__',\n",
       " '_dh',\n",
       " '_i',\n",
       " '_i1',\n",
       " '_i10',\n",
       " '_i11',\n",
       " '_i12',\n",
       " '_i13',\n",
       " '_i14',\n",
       " '_i15',\n",
       " '_i16',\n",
       " '_i17',\n",
       " '_i18',\n",
       " '_i19',\n",
       " '_i2',\n",
       " '_i20',\n",
       " '_i21',\n",
       " '_i22',\n",
       " '_i23',\n",
       " '_i24',\n",
       " '_i25',\n",
       " '_i26',\n",
       " '_i27',\n",
       " '_i28',\n",
       " '_i29',\n",
       " '_i3',\n",
       " '_i30',\n",
       " '_i31',\n",
       " '_i32',\n",
       " '_i33',\n",
       " '_i34',\n",
       " '_i35',\n",
       " '_i36',\n",
       " '_i37',\n",
       " '_i38',\n",
       " '_i39',\n",
       " '_i4',\n",
       " '_i40',\n",
       " '_i41',\n",
       " '_i42',\n",
       " '_i43',\n",
       " '_i44',\n",
       " '_i45',\n",
       " '_i46',\n",
       " '_i47',\n",
       " '_i48',\n",
       " '_i49',\n",
       " '_i5',\n",
       " '_i50',\n",
       " '_i51',\n",
       " '_i52',\n",
       " '_i53',\n",
       " '_i54',\n",
       " '_i55',\n",
       " '_i56',\n",
       " '_i57',\n",
       " '_i58',\n",
       " '_i59',\n",
       " '_i6',\n",
       " '_i60',\n",
       " '_i61',\n",
       " '_i62',\n",
       " '_i63',\n",
       " '_i64',\n",
       " '_i65',\n",
       " '_i7',\n",
       " '_i8',\n",
       " '_i9',\n",
       " '_ih',\n",
       " '_ii',\n",
       " '_iii',\n",
       " '_key10',\n",
       " '_oh',\n",
       " 'a',\n",
       " 'b',\n",
       " 'c',\n",
       " 'calc',\n",
       " 'dataframe_columns',\n",
       " 'dataframe_hash',\n",
       " 'dtypes_str',\n",
       " 'exit',\n",
       " 'get_dataframes',\n",
       " 'get_ipython',\n",
       " 'getpass',\n",
       " 'hashlib',\n",
       " 'import_pandas_safely',\n",
       " 'is_data_frame',\n",
       " 'json',\n",
       " 'key10',\n",
       " 'key_10',\n",
       " 'name',\n",
       " 'open',\n",
       " 'pi',\n",
       " 'quit',\n",
       " 'subject']"
      ]
     },
     "execution_count": 65,
     "metadata": {},
     "output_type": "execute_result"
    }
   ],
   "source": [
    "dir()"
   ]
  },
  {
   "cell_type": "markdown",
   "id": "3a197d8a-2925-4cc4-bd83-82e21e830bf9",
   "metadata": {},
   "source": [
    "### strings"
   ]
  },
  {
   "cell_type": "code",
   "execution_count": 70,
   "id": "389cc2a4-3667-4407-a5f0-f4849052d686",
   "metadata": {},
   "outputs": [
    {
     "name": "stdout",
     "output_type": "stream",
     "text": [
      "<class 'str'>\n"
     ]
    }
   ],
   "source": [
    "greeting = \"Good Morning\"\n",
    "print(type(greeting))"
   ]
  },
  {
   "cell_type": "code",
   "execution_count": 72,
   "id": "02568f9f-1125-431d-bfd9-b97e0fd9bed8",
   "metadata": {},
   "outputs": [
    {
     "name": "stdout",
     "output_type": "stream",
     "text": [
      "<class 'str'>\n"
     ]
    }
   ],
   "source": [
    "greeting = 'Good Evening'\n",
    "print(type(greeting))"
   ]
  },
  {
   "cell_type": "code",
   "execution_count": 74,
   "id": "80b2dec2-78e9-4dd9-b21b-8f2b5c78cac8",
   "metadata": {},
   "outputs": [
    {
     "name": "stdout",
     "output_type": "stream",
     "text": [
      "<class 'str'>\n"
     ]
    }
   ],
   "source": [
    "greeting = \"\"\" Hello there \"\"\"\n",
    "print(type(greeting))"
   ]
  },
  {
   "cell_type": "code",
   "execution_count": 76,
   "id": "3740b9a0-7c11-4edd-bbb3-7b1e3d998f20",
   "metadata": {},
   "outputs": [
    {
     "data": {
      "text/plain": [
       "['__add__',\n",
       " '__class__',\n",
       " '__contains__',\n",
       " '__delattr__',\n",
       " '__dir__',\n",
       " '__doc__',\n",
       " '__eq__',\n",
       " '__format__',\n",
       " '__ge__',\n",
       " '__getattribute__',\n",
       " '__getitem__',\n",
       " '__getnewargs__',\n",
       " '__getstate__',\n",
       " '__gt__',\n",
       " '__hash__',\n",
       " '__init__',\n",
       " '__init_subclass__',\n",
       " '__iter__',\n",
       " '__le__',\n",
       " '__len__',\n",
       " '__lt__',\n",
       " '__mod__',\n",
       " '__mul__',\n",
       " '__ne__',\n",
       " '__new__',\n",
       " '__reduce__',\n",
       " '__reduce_ex__',\n",
       " '__repr__',\n",
       " '__rmod__',\n",
       " '__rmul__',\n",
       " '__setattr__',\n",
       " '__sizeof__',\n",
       " '__str__',\n",
       " '__subclasshook__',\n",
       " 'capitalize',\n",
       " 'casefold',\n",
       " 'center',\n",
       " 'count',\n",
       " 'encode',\n",
       " 'endswith',\n",
       " 'expandtabs',\n",
       " 'find',\n",
       " 'format',\n",
       " 'format_map',\n",
       " 'index',\n",
       " 'isalnum',\n",
       " 'isalpha',\n",
       " 'isascii',\n",
       " 'isdecimal',\n",
       " 'isdigit',\n",
       " 'isidentifier',\n",
       " 'islower',\n",
       " 'isnumeric',\n",
       " 'isprintable',\n",
       " 'isspace',\n",
       " 'istitle',\n",
       " 'isupper',\n",
       " 'join',\n",
       " 'ljust',\n",
       " 'lower',\n",
       " 'lstrip',\n",
       " 'maketrans',\n",
       " 'partition',\n",
       " 'removeprefix',\n",
       " 'removesuffix',\n",
       " 'replace',\n",
       " 'rfind',\n",
       " 'rindex',\n",
       " 'rjust',\n",
       " 'rpartition',\n",
       " 'rsplit',\n",
       " 'rstrip',\n",
       " 'split',\n",
       " 'splitlines',\n",
       " 'startswith',\n",
       " 'strip',\n",
       " 'swapcase',\n",
       " 'title',\n",
       " 'translate',\n",
       " 'upper',\n",
       " 'zfill']"
      ]
     },
     "execution_count": 76,
     "metadata": {},
     "output_type": "execute_result"
    }
   ],
   "source": [
    "dir(greeting)"
   ]
  },
  {
   "cell_type": "markdown",
   "id": "9c453b16-d308-4fe8-8f41-b4c5e08cf12d",
   "metadata": {},
   "source": [
    "### indexing and slicing\n",
    "\n",
    "    - Indexing in python starts at 0 from left size of dattype\n",
    "    - Indexing starts from -1 from right side of data type\n",
    "    - Pass n+1 th index to get nth element\n",
    "    - Add rule about indexing comparison"
   ]
  },
  {
   "cell_type": "raw",
   "id": "2db5cf10-d323-47ed-90f6-f5e1c263231b",
   "metadata": {},
   "source": [
    "[], [initial value to access: ending value to access] [start value:end value: step size] "
   ]
  },
  {
   "cell_type": "code",
   "execution_count": 90,
   "id": "e69b6864-49f4-464c-af6b-e041d89c6e39",
   "metadata": {},
   "outputs": [
    {
     "data": {
      "text/plain": [
       "'Good Morning'"
      ]
     },
     "execution_count": 90,
     "metadata": {},
     "output_type": "execute_result"
    }
   ],
   "source": [
    "greeting = \"Good Morning\"\n",
    "greeting"
   ]
  },
  {
   "cell_type": "code",
   "execution_count": 103,
   "id": "683858cc-26a5-40dc-9feb-60858ce59d57",
   "metadata": {},
   "outputs": [
    {
     "data": {
      "text/plain": [
       "('G', 'o', 'od M', 'Go onn')"
      ]
     },
     "execution_count": 103,
     "metadata": {},
     "output_type": "execute_result"
    }
   ],
   "source": [
    "greeting[0], greeting[1], greeting[2:6], greeting[0:11:2]"
   ]
  },
  {
   "cell_type": "code",
   "execution_count": 109,
   "id": "1ed803ab-c50d-4681-9467-e9f6e13f18e3",
   "metadata": {},
   "outputs": [
    {
     "data": {
      "text/plain": [
       "('gninroM dooG', 'girMdo', 'Go onn')"
      ]
     },
     "execution_count": 109,
     "metadata": {},
     "output_type": "execute_result"
    }
   ],
   "source": [
    "greeting[::-1], greeting[::-2], greeting[::2]"
   ]
  },
  {
   "cell_type": "code",
   "execution_count": 113,
   "id": "5a4dd30d-5545-4b2c-8411-71e7d794765a",
   "metadata": {},
   "outputs": [
    {
     "data": {
      "text/plain": [
       "('Good Morning', 'gninroM dooG')"
      ]
     },
     "execution_count": 113,
     "metadata": {},
     "output_type": "execute_result"
    }
   ],
   "source": [
    "greeting[::1], greeting[::-1]"
   ]
  },
  {
   "cell_type": "code",
   "execution_count": 115,
   "id": "e189fc32-4443-47c4-bc41-c7a10feaaed2",
   "metadata": {},
   "outputs": [
    {
     "data": {
      "text/plain": [
       "('girMdo', 'Go onn')"
      ]
     },
     "execution_count": 115,
     "metadata": {},
     "output_type": "execute_result"
    }
   ],
   "source": [
    "greeting[::-2], greeting[::2]"
   ]
  },
  {
   "cell_type": "code",
   "execution_count": 117,
   "id": "7e6f8459-c1d0-4762-ac02-64edaccbee4e",
   "metadata": {},
   "outputs": [
    {
     "data": {
      "text/plain": [
       "('Good Morning', 'Go onn', 'Gdoi')"
      ]
     },
     "execution_count": 117,
     "metadata": {},
     "output_type": "execute_result"
    }
   ],
   "source": [
    "greeting[::1], greeting[::2], greeting[::3]"
   ]
  },
  {
   "cell_type": "code",
   "execution_count": 119,
   "id": "e8c9455f-2d10-4b0e-9d3f-e2f51258375c",
   "metadata": {},
   "outputs": [
    {
     "data": {
      "text/plain": [
       "('gninroM dooG', 'girMdo', 'gnMo')"
      ]
     },
     "execution_count": 119,
     "metadata": {},
     "output_type": "execute_result"
    }
   ],
   "source": [
    "greeting[::-1], greeting[::-2], greeting[::-3],"
   ]
  },
  {
   "cell_type": "code",
   "execution_count": 129,
   "id": "b2a4e394-8334-47dd-8c2a-dc1a937e7545",
   "metadata": {},
   "outputs": [
    {
     "data": {
      "text/plain": [
       "'Good'"
      ]
     },
     "execution_count": 129,
     "metadata": {},
     "output_type": "execute_result"
    }
   ],
   "source": [
    "greeting[0:4]"
   ]
  },
  {
   "cell_type": "markdown",
   "id": "ef9586bd-bd68-4d14-8e86-e6fb56cbc029",
   "metadata": {},
   "source": [
    "### Methods on strings"
   ]
  },
  {
   "cell_type": "code",
   "execution_count": 133,
   "id": "257b2cc9-3f0f-4223-8c9f-9c80d5749aab",
   "metadata": {},
   "outputs": [],
   "source": [
    "subject = 'machine learning'\n",
    "SUB = 'MACHINE LEARNING'"
   ]
  },
  {
   "cell_type": "code",
   "execution_count": 137,
   "id": "69d63fce-c468-4808-8cd6-2392834fa214",
   "metadata": {},
   "outputs": [
    {
     "data": {
      "text/plain": [
       "('Machine learning', 'Machine learning')"
      ]
     },
     "execution_count": 137,
     "metadata": {},
     "output_type": "execute_result"
    }
   ],
   "source": [
    "subject.capitalize(), SUB.capitalize() # Used to generate title"
   ]
  },
  {
   "cell_type": "code",
   "execution_count": 139,
   "id": "6e83f933-0a82-496c-953b-233d5816c3ab",
   "metadata": {},
   "outputs": [
    {
     "data": {
      "text/plain": [
       "('machine learning', 'machine learning')"
      ]
     },
     "execution_count": 139,
     "metadata": {},
     "output_type": "execute_result"
    }
   ],
   "source": [
    "subject.casefold(), SUB.casefold() #Caseless comparison"
   ]
  },
  {
   "cell_type": "code",
   "execution_count": 141,
   "id": "6f5f2489-a2e2-47ce-b76c-8e386fee6d94",
   "metadata": {},
   "outputs": [
    {
     "data": {
      "text/plain": [
       "'                                          machine learning                                          '"
      ]
     },
     "execution_count": 141,
     "metadata": {},
     "output_type": "execute_result"
    }
   ],
   "source": [
    "subject.center(100, ' ') #Aligns string to the center with extra space"
   ]
  },
  {
   "cell_type": "code",
   "execution_count": 143,
   "id": "2386e728-dffb-493b-8746-a2d5025eae33",
   "metadata": {},
   "outputs": [
    {
     "data": {
      "text/plain": [
       "(16, 100)"
      ]
     },
     "execution_count": 143,
     "metadata": {},
     "output_type": "execute_result"
    }
   ],
   "source": [
    "len(subject), len(subject.center(100, ' '))"
   ]
  },
  {
   "cell_type": "code",
   "execution_count": 147,
   "id": "3a55fd6b-1dfb-4995-8108-0ab67085833a",
   "metadata": {},
   "outputs": [
    {
     "data": {
      "text/plain": [
       "(2, 2)"
      ]
     },
     "execution_count": 147,
     "metadata": {},
     "output_type": "execute_result"
    }
   ],
   "source": [
    "subject.count('e'), subject.count('in') # gives result as number of occurences of sub strings in a string"
   ]
  },
  {
   "cell_type": "code",
   "execution_count": 151,
   "id": "c5df4e28-0a7e-4142-8e7b-5f62816e4196",
   "metadata": {},
   "outputs": [
    {
     "data": {
      "text/plain": [
       "b'machine learning'"
      ]
     },
     "execution_count": 151,
     "metadata": {},
     "output_type": "execute_result"
    }
   ],
   "source": [
    "subject.encode('utf-8')"
   ]
  },
  {
   "cell_type": "code",
   "execution_count": 159,
   "id": "d9a416d0-0072-409a-91c6-09340679ceeb",
   "metadata": {},
   "outputs": [
    {
     "data": {
      "text/plain": [
       "(True, False, True)"
      ]
     },
     "execution_count": 159,
     "metadata": {},
     "output_type": "execute_result"
    }
   ],
   "source": [
    "subject.endswith('ing'), subject.endswith('ine'), subject[0:7].endswith('ine') # Checks if certain string is ending with substring"
   ]
  },
  {
   "cell_type": "code",
   "execution_count": 161,
   "id": "792e1d9a-8811-41e4-b9cf-d52e042afb5f",
   "metadata": {},
   "outputs": [
    {
     "data": {
      "text/plain": [
       "8"
      ]
     },
     "execution_count": 161,
     "metadata": {},
     "output_type": "execute_result"
    }
   ],
   "source": [
    "subject.find('learn') #Gives position at which the sub string is found usually first letter"
   ]
  },
  {
   "cell_type": "code",
   "execution_count": 163,
   "id": "6ac73748-f172-4ac1-81ab-1b71409f7b41",
   "metadata": {},
   "outputs": [
    {
     "data": {
      "text/plain": [
       "8"
      ]
     },
     "execution_count": 163,
     "metadata": {},
     "output_type": "execute_result"
    }
   ],
   "source": [
    "subject.index('learn') #index prints the index of substring"
   ]
  },
  {
   "cell_type": "code",
   "execution_count": 187,
   "id": "ef96cf49-058e-4400-9345-eed4b9863e3d",
   "metadata": {},
   "outputs": [],
   "source": [
    "para = \"Python the is is interpreted, object-oriented, with high-level programming language with dynamic semantics. Its design philosophy emphasizes code readability through the use of significant indentation. Python supports multiple programming paradigms, including structured (particularly procedural), object-oriented, and functional programming\""
   ]
  },
  {
   "cell_type": "code",
   "execution_count": 189,
   "id": "4ba0b107-94e9-4662-98cc-d5d09f39d621",
   "metadata": {},
   "outputs": [
    {
     "data": {
      "text/plain": [
       "11"
      ]
     },
     "execution_count": 189,
     "metadata": {},
     "output_type": "execute_result"
    }
   ],
   "source": [
    "para.find('i')"
   ]
  },
  {
   "cell_type": "code",
   "execution_count": 183,
   "id": "4e3105a6-8d0a-4f52-b8ca-6eda2a09002c",
   "metadata": {},
   "outputs": [
    {
     "data": {
      "text/plain": [
       "7"
      ]
     },
     "execution_count": 183,
     "metadata": {},
     "output_type": "execute_result"
    }
   ],
   "source": [
    "para.index('i')"
   ]
  },
  {
   "cell_type": "code",
   "execution_count": 191,
   "id": "5ebba8c6-fc44-4b95-b82d-ad86ad4e9040",
   "metadata": {},
   "outputs": [],
   "source": [
    "subj = 'statistics101' "
   ]
  },
  {
   "cell_type": "code",
   "execution_count": 197,
   "id": "caf6df0c-0734-407e-a7df-1d6be30ee516",
   "metadata": {},
   "outputs": [
    {
     "data": {
      "text/plain": [
       "(True, False)"
      ]
     },
     "execution_count": 197,
     "metadata": {},
     "output_type": "execute_result"
    }
   ],
   "source": [
    "subj.isalnum(), subject.isalnum() #isAlnum checks if certain string has both alphabets and numbers"
   ]
  },
  {
   "cell_type": "code",
   "execution_count": 203,
   "id": "88ffc455-2e9f-4261-9d7e-ea475df97b04",
   "metadata": {},
   "outputs": [
    {
     "data": {
      "text/plain": [
       "'machine learning'"
      ]
     },
     "execution_count": 203,
     "metadata": {},
     "output_type": "execute_result"
    }
   ],
   "source": [
    "subject"
   ]
  },
  {
   "cell_type": "code",
   "execution_count": 207,
   "id": "3f132a57-493e-4cd3-9bbb-f81b138897ff",
   "metadata": {},
   "outputs": [
    {
     "data": {
      "text/plain": [
       "(False, True, False)"
      ]
     },
     "execution_count": 207,
     "metadata": {},
     "output_type": "execute_result"
    }
   ],
   "source": [
    "subj.isalpha(), 'machinelearning'.isalpha(), subject.isalpha() #Chcks if string is alphabet"
   ]
  },
  {
   "cell_type": "code",
   "execution_count": 209,
   "id": "5162ca49-2df0-468d-9568-a203f0baf2ec",
   "metadata": {},
   "outputs": [
    {
     "data": {
      "text/plain": [
       "True"
      ]
     },
     "execution_count": 209,
     "metadata": {},
     "output_type": "execute_result"
    }
   ],
   "source": [
    "subj.isascii()"
   ]
  },
  {
   "cell_type": "code",
   "execution_count": 213,
   "id": "4e95c190-0c09-4f69-8422-4b19dae44684",
   "metadata": {},
   "outputs": [
    {
     "data": {
      "text/plain": [
       "True"
      ]
     },
     "execution_count": 213,
     "metadata": {},
     "output_type": "execute_result"
    }
   ],
   "source": [
    "'stats\\t'.isascii() #Checks if string belongs to ascii encoding 0 to 127 "
   ]
  },
  {
   "cell_type": "code",
   "execution_count": 239,
   "id": "942d006f-5dc5-484c-8856-91450a79a9e8",
   "metadata": {},
   "outputs": [
    {
     "data": {
      "text/plain": [
       "(True, False, False, False)"
      ]
     },
     "execution_count": 239,
     "metadata": {},
     "output_type": "execute_result"
    }
   ],
   "source": [
    "'236587362'.isdecimal(), '3.14159'.isdecimal(), \"🄀⒊⒏\".isdecimal(), \"ⅠⅢⅧ\".isdecimal() #Checks if string is a whole number"
   ]
  },
  {
   "cell_type": "code",
   "execution_count": 219,
   "id": "af2022ab-79e4-4670-b7bc-2c37afd1d3ba",
   "metadata": {},
   "outputs": [
    {
     "data": {
      "text/plain": [
       "False"
      ]
     },
     "execution_count": 219,
     "metadata": {},
     "output_type": "execute_result"
    }
   ],
   "source": [
    "'Φ'.isascii() "
   ]
  },
  {
   "cell_type": "code",
   "execution_count": 237,
   "id": "4ac2ebe6-2fbc-4e06-97d0-f915e1b66c74",
   "metadata": {},
   "outputs": [
    {
     "data": {
      "text/plain": [
       "(True, False, True, False)"
      ]
     },
     "execution_count": 237,
     "metadata": {},
     "output_type": "execute_result"
    }
   ],
   "source": [
    "'236587362'.isdigit(), '3.14159'.isdigit(), \"🄀⒊⒏\".isdigit(), \"ⅠⅢⅧ\".isdigit()"
   ]
  },
  {
   "cell_type": "code",
   "execution_count": 241,
   "id": "22795dca-da0c-4b66-a6fa-aa4488c2da8f",
   "metadata": {},
   "outputs": [
    {
     "data": {
      "text/plain": [
       "(True, False, True, True, True)"
      ]
     },
     "execution_count": 241,
     "metadata": {},
     "output_type": "execute_result"
    }
   ],
   "source": [
    "'236587362'.isnumeric(), '3.14159'.isnumeric(), \"🄀⒊⒏\".isnumeric(), \"ⅠⅢⅧ\".isnumeric(),\"↉⅛⅘\".isnumeric() "
   ]
  },
  {
   "cell_type": "raw",
   "id": "f8d8e570-108f-4ac4-bc6b-96a030dab8b8",
   "metadata": {},
   "source": [
    "By definition, isdecimal() ⊆ isdigit() ⊆ isnumeric(). That is, if a string is decimal, then it'll also be digit and numeric.\n",
    "\n",
    "Therefore, given a string s and test it with those three methods, there'll only be 4 types of results.\n",
    "\n",
    "isdecimal()\tisdigit()\tisnumeric()\tExample\n",
    "True\tTrue\tTrue\t\"038\", \"੦੩੮\", \"０３８\"\n",
    "False\tTrue\tTrue\t\"⁰³⁸\", \"🄀⒊⒏\", \"⓪③⑧\"\n",
    "False\tFalse\tTrue\t\"↉⅛⅘\", \"ⅠⅢⅧ\", \"⑩⑬㊿\", \"壹貳參\"\n",
    "False\tFalse\tFalse\t\"abc\", \"38.0\", \"-38\""
   ]
  },
  {
   "cell_type": "code",
   "execution_count": 249,
   "id": "eb3f6e38-a620-4583-b5db-d3302809c820",
   "metadata": {},
   "outputs": [
    {
     "data": {
      "text/plain": [
       "'machine learning'"
      ]
     },
     "execution_count": 249,
     "metadata": {},
     "output_type": "execute_result"
    }
   ],
   "source": [
    "subject"
   ]
  },
  {
   "cell_type": "code",
   "execution_count": 245,
   "id": "0ade54ad-708c-440d-b39d-ec08cbc30001",
   "metadata": {},
   "outputs": [
    {
     "data": {
      "text/plain": [
       "False"
      ]
     },
     "execution_count": 245,
     "metadata": {},
     "output_type": "execute_result"
    }
   ],
   "source": [
    "subject.isidentifier() #check is it is a valid variable name"
   ]
  },
  {
   "cell_type": "code",
   "execution_count": 251,
   "id": "5f8ccc7e-4ad3-4434-8b5d-8334f00a09cf",
   "metadata": {},
   "outputs": [
    {
     "data": {
      "text/plain": [
       "(True, True, True, False)"
      ]
     },
     "execution_count": 251,
     "metadata": {},
     "output_type": "execute_result"
    }
   ],
   "source": [
    "'subject'.isidentifier(), 'subject_'.isidentifier(), '_subject10'.isidentifier(), '10key'.isidentifier()"
   ]
  },
  {
   "cell_type": "code",
   "execution_count": 255,
   "id": "45124e54-1dde-42e0-9a8b-cd422342204b",
   "metadata": {},
   "outputs": [
    {
     "data": {
      "text/plain": [
       "('MACHINE LEARNING', False, True, True)"
      ]
     },
     "execution_count": 255,
     "metadata": {},
     "output_type": "execute_result"
    }
   ],
   "source": [
    "SUB, SUB.islower(), SUB.isupper(), subject.islower()"
   ]
  },
  {
   "cell_type": "code",
   "execution_count": 261,
   "id": "8b3d9a63-1f42-4958-b020-b0382e418d43",
   "metadata": {},
   "outputs": [
    {
     "data": {
      "text/plain": [
       "(False, False, True)"
      ]
     },
     "execution_count": 261,
     "metadata": {},
     "output_type": "execute_result"
    }
   ],
   "source": [
    "subject.istitle(), 'SadiqPasha'.istitle(), 'Sadiqpasha'.istitle(), "
   ]
  },
  {
   "cell_type": "code",
   "execution_count": 275,
   "id": "15344e09-4654-4075-aede-ed75012a9731",
   "metadata": {},
   "outputs": [
    {
     "data": {
      "text/plain": [
       "(False, True, False, True, True, True)"
      ]
     },
     "execution_count": 275,
     "metadata": {},
     "output_type": "execute_result"
    }
   ],
   "source": [
    "''.isspace() , ' '.isspace(), subject.isspace(), '\\n'.isspace(), '\\t'.isspace(), '    '.isspace()"
   ]
  },
  {
   "cell_type": "code",
   "execution_count": 277,
   "id": "50ba5f34-b370-4968-bf93-1b3ae95975b5",
   "metadata": {},
   "outputs": [
    {
     "data": {
      "text/plain": [
       "True"
      ]
     },
     "execution_count": 277,
     "metadata": {},
     "output_type": "execute_result"
    }
   ],
   "source": [
    "subject.isprintable() #Checks if string can be printed on console"
   ]
  },
  {
   "cell_type": "code",
   "execution_count": 279,
   "id": "bd7fd638-f599-4047-bb6e-cfbc60acaac9",
   "metadata": {},
   "outputs": [
    {
     "data": {
      "text/plain": [
       "False"
      ]
     },
     "execution_count": 279,
     "metadata": {},
     "output_type": "execute_result"
    }
   ],
   "source": [
    "'\\n'.isprintable()"
   ]
  },
  {
   "cell_type": "code",
   "execution_count": 281,
   "id": "0d1ccdf5-3027-4c71-a967-f0095cd039a8",
   "metadata": {},
   "outputs": [
    {
     "data": {
      "text/plain": [
       "True"
      ]
     },
     "execution_count": 281,
     "metadata": {},
     "output_type": "execute_result"
    }
   ],
   "source": [
    "\"壹貳參\".isprintable()"
   ]
  },
  {
   "cell_type": "code",
   "execution_count": 283,
   "id": "c75caa22-8c24-4d5c-8aee-bbbb32510f21",
   "metadata": {},
   "outputs": [
    {
     "data": {
      "text/plain": [
       "'machine learning'"
      ]
     },
     "execution_count": 283,
     "metadata": {},
     "output_type": "execute_result"
    }
   ],
   "source": [
    "subject"
   ]
  },
  {
   "cell_type": "code",
   "execution_count": 289,
   "id": "bd1578cc-254c-40e0-96a5-908f8cae911b",
   "metadata": {},
   "outputs": [],
   "source": [
    "person = {'subject' : 'python',\n",
    "         'time': 8\n",
    "         }"
   ]
  },
  {
   "cell_type": "code",
   "execution_count": 293,
   "id": "b433c15b-ce47-4045-9e59-56ae82235d2c",
   "metadata": {},
   "outputs": [
    {
     "name": "stdout",
     "output_type": "stream",
     "text": [
      "python is taught by person at 8 time\n"
     ]
    }
   ],
   "source": [
    "print(\"{subject} is taught by person at {time} time\".format_map(person))"
   ]
  },
  {
   "cell_type": "code",
   "execution_count": 285,
   "id": "8c5f7717-1a56-44cf-b88e-bf7c5a439895",
   "metadata": {},
   "outputs": [
    {
     "name": "stdout",
     "output_type": "stream",
     "text": [
      "machine learning is a good class\n"
     ]
    }
   ],
   "source": [
    "print('{} is a good class'.format(subject)) "
   ]
  },
  {
   "cell_type": "code",
   "execution_count": 295,
   "id": "0291770e-f29a-4c71-ab29-7985560fc12e",
   "metadata": {},
   "outputs": [],
   "source": [
    "time = 8"
   ]
  },
  {
   "cell_type": "code",
   "execution_count": 301,
   "id": "354f5c52-cda0-4f38-9809-8eaf9ed42bfd",
   "metadata": {},
   "outputs": [
    {
     "name": "stdout",
     "output_type": "stream",
     "text": [
      "{subject} is taught by person at {time} time\n"
     ]
    }
   ],
   "source": [
    "print(\"{subject} is taught by person at {time} time\")"
   ]
  },
  {
   "cell_type": "code",
   "execution_count": 299,
   "id": "0f8dc318-fa21-4629-9d34-56a688089add",
   "metadata": {},
   "outputs": [
    {
     "name": "stdout",
     "output_type": "stream",
     "text": [
      "machine learning is taught by person at 8 time\n"
     ]
    }
   ],
   "source": [
    "print(f\"{subject} is taught by person at {time} time\")  #F-strings"
   ]
  },
  {
   "cell_type": "code",
   "execution_count": 303,
   "id": "c258aa58-b498-43e6-a5ed-82bc553178f6",
   "metadata": {},
   "outputs": [
    {
     "data": {
      "text/plain": [
       "'StatisticsML'"
      ]
     },
     "execution_count": 303,
     "metadata": {},
     "output_type": "execute_result"
    }
   ],
   "source": [
    "'Statistics' + 'ML' #Concatenating"
   ]
  },
  {
   "cell_type": "code",
   "execution_count": 305,
   "id": "e679a027-152a-43a7-9c4e-83dc8631d457",
   "metadata": {},
   "outputs": [
    {
     "data": {
      "text/plain": [
       "'MStatisticsL'"
      ]
     },
     "execution_count": 305,
     "metadata": {},
     "output_type": "execute_result"
    }
   ],
   "source": [
    "'Statistics'.join('ML')"
   ]
  },
  {
   "cell_type": "code",
   "execution_count": 307,
   "id": "f4b7fc5e-0a00-4a6e-8ed3-63588c0a9456",
   "metadata": {},
   "outputs": [
    {
     "data": {
      "text/plain": [
       "'MStatistics StatisticsL'"
      ]
     },
     "execution_count": 307,
     "metadata": {},
     "output_type": "execute_result"
    }
   ],
   "source": [
    "'Statistics'.join('M L')"
   ]
  },
  {
   "cell_type": "code",
   "execution_count": 309,
   "id": "b693f23b-6f59-44de-90c8-9a8ea1ff41cc",
   "metadata": {},
   "outputs": [
    {
     "data": {
      "text/plain": [
       "' StatisticsMStatistics StatisticsL'"
      ]
     },
     "execution_count": 309,
     "metadata": {},
     "output_type": "execute_result"
    }
   ],
   "source": [
    "'Statistics'.join(' M L')"
   ]
  },
  {
   "cell_type": "code",
   "execution_count": 313,
   "id": "cf156601-1042-4504-865b-1566ee7cf71b",
   "metadata": {},
   "outputs": [
    {
     "data": {
      "text/plain": [
       "'1Statistics2Statistics3'"
      ]
     },
     "execution_count": 313,
     "metadata": {},
     "output_type": "execute_result"
    }
   ],
   "source": [
    "'Statistics'.join('123')"
   ]
  },
  {
   "cell_type": "code",
   "execution_count": 317,
   "id": "b7480391-9c4a-4f87-8b69-2e8b7b5f0f21",
   "metadata": {},
   "outputs": [
    {
     "data": {
      "text/plain": [
       "('MACHINE LEARNING', False, 'machine learning')"
      ]
     },
     "execution_count": 317,
     "metadata": {},
     "output_type": "execute_result"
    }
   ],
   "source": [
    "SUB, SUB.islower(), SUB.lower()"
   ]
  },
  {
   "cell_type": "code",
   "execution_count": 319,
   "id": "8dce9bfe-b8e5-49e2-8a4e-1dbaa76a99c2",
   "metadata": {},
   "outputs": [
    {
     "data": {
      "text/plain": [
       "('machine learning', False, 'MACHINE LEARNING')"
      ]
     },
     "execution_count": 319,
     "metadata": {},
     "output_type": "execute_result"
    }
   ],
   "source": [
    "subject, subject.isupper(), subject.upper()"
   ]
  },
  {
   "cell_type": "code",
   "execution_count": 329,
   "id": "c6148b1b-21ed-47df-9bc1-3efdfd644f8e",
   "metadata": {},
   "outputs": [
    {
     "data": {
      "text/plain": [
       "'machine learning'"
      ]
     },
     "execution_count": 329,
     "metadata": {},
     "output_type": "execute_result"
    }
   ],
   "source": [
    "subject"
   ]
  },
  {
   "cell_type": "code",
   "execution_count": 327,
   "id": "496156fa-c6ad-4ec8-9ad0-87c7eb2bfd1e",
   "metadata": {},
   "outputs": [
    {
     "data": {
      "text/plain": [
       "('dATA aNALYSIS', 'MACHINE LEARNING')"
      ]
     },
     "execution_count": 327,
     "metadata": {},
     "output_type": "execute_result"
    }
   ],
   "source": [
    "\"Data Analysis\".swapcase(), subject.swapcase()"
   ]
  },
  {
   "cell_type": "code",
   "execution_count": 323,
   "id": "f083958a-c338-4c77-9e5e-d286b0e6ab16",
   "metadata": {},
   "outputs": [
    {
     "data": {
      "text/plain": [
       "'Python the is is interpreted, object-oriented, with high-level programming language with dynamic semantics. Its design philosophy emphasizes code readability through the use of significant indentation. Python supports multiple programming paradigms, including structured (particularly procedural), object-oriented, and functional programming'"
      ]
     },
     "execution_count": 323,
     "metadata": {},
     "output_type": "execute_result"
    }
   ],
   "source": [
    "para"
   ]
  },
  {
   "cell_type": "code",
   "execution_count": 357,
   "id": "68727782-38de-46e3-b55a-26dd750521a2",
   "metadata": {
    "scrolled": true
   },
   "outputs": [
    {
     "data": {
      "text/plain": [
       "(['Python',\n",
       "  'the',\n",
       "  'is',\n",
       "  'is',\n",
       "  'interpreted,',\n",
       "  'object-oriented,',\n",
       "  'with',\n",
       "  'high-level',\n",
       "  'programming',\n",
       "  'language',\n",
       "  'with',\n",
       "  'dynamic',\n",
       "  'semantics.',\n",
       "  'Its',\n",
       "  'design',\n",
       "  'philosophy',\n",
       "  'emphasizes',\n",
       "  'code',\n",
       "  'readability',\n",
       "  'through',\n",
       "  'the',\n",
       "  'use',\n",
       "  'of',\n",
       "  'significant',\n",
       "  'indentation.',\n",
       "  'Python',\n",
       "  'supports',\n",
       "  'multiple',\n",
       "  'programming',\n",
       "  'paradigms,',\n",
       "  'including',\n",
       "  'structured',\n",
       "  '(particularly',\n",
       "  'procedural),',\n",
       "  'object-oriented,',\n",
       "  'and',\n",
       "  'functional',\n",
       "  'programming'],\n",
       " ['Python',\n",
       "  'the',\n",
       "  'is',\n",
       "  'is',\n",
       "  'interpreted,',\n",
       "  'object-oriented,',\n",
       "  'with',\n",
       "  'high-level',\n",
       "  'programming',\n",
       "  'language',\n",
       "  'with',\n",
       "  'dynamic',\n",
       "  'semantics.',\n",
       "  'Its',\n",
       "  'design',\n",
       "  'philosophy',\n",
       "  'emphasizes',\n",
       "  'code',\n",
       "  'readability',\n",
       "  'through',\n",
       "  'the',\n",
       "  'use',\n",
       "  'of',\n",
       "  'significant',\n",
       "  'indentation.',\n",
       "  'Python',\n",
       "  'supports',\n",
       "  'multiple',\n",
       "  'programming',\n",
       "  'paradigms,',\n",
       "  'including',\n",
       "  'structured',\n",
       "  '(particularly',\n",
       "  'procedural),',\n",
       "  'object-oriented,',\n",
       "  'and',\n",
       "  'functional',\n",
       "  'programming'])"
      ]
     },
     "execution_count": 357,
     "metadata": {},
     "output_type": "execute_result"
    }
   ],
   "source": [
    "para.split(), para.rsplit() #Split divides a string into words"
   ]
  },
  {
   "cell_type": "code",
   "execution_count": 337,
   "id": "21af515c-a460-4d32-9bb6-05da58df3572",
   "metadata": {},
   "outputs": [],
   "source": [
    "para = 'Python the is is interpreted, object-oriented, with high-level programming language with dynamic semantics. \\nIts design philosophy emphasizes code readability through the use of significant indentation. Python supports multiple programming paradigms, including structured (particularly procedural), \\nobject-oriented, and functional programming'"
   ]
  },
  {
   "cell_type": "code",
   "execution_count": 339,
   "id": "a37d4ca3-4e64-4522-8309-812e9b6f892c",
   "metadata": {},
   "outputs": [
    {
     "data": {
      "text/plain": [
       "['Python the is is interpreted, object-oriented, with high-level programming language with dynamic semantics. ',\n",
       " 'Its design philosophy emphasizes code readability through the use of significant indentation. Python supports multiple programming paradigms, including structured (particularly procedural), ',\n",
       " 'object-oriented, and functional programming']"
      ]
     },
     "execution_count": 339,
     "metadata": {},
     "output_type": "execute_result"
    }
   ],
   "source": [
    "para.splitlines() #divides strign into sentences provided \\n exists"
   ]
  },
  {
   "cell_type": "code",
   "execution_count": 345,
   "id": "a26aded9-a05d-4ebe-9a5c-f94f3d2f87ab",
   "metadata": {},
   "outputs": [
    {
     "data": {
      "text/plain": [
       "('machine learning', True, True)"
      ]
     },
     "execution_count": 345,
     "metadata": {},
     "output_type": "execute_result"
    }
   ],
   "source": [
    "subject, subject.endswith('ing'), subject.startswith('mac')"
   ]
  },
  {
   "cell_type": "code",
   "execution_count": 347,
   "id": "0bdf7306-50e2-49b9-b387-48aad393ce38",
   "metadata": {},
   "outputs": [
    {
     "data": {
      "text/plain": [
       "('machine learning  ', '  machine learning', 'machine learning')"
      ]
     },
     "execution_count": 347,
     "metadata": {},
     "output_type": "execute_result"
    }
   ],
   "source": [
    "'  machine learning  '.lstrip(), '  machine learning  '.rstrip(), '  machine learning  '.strip() #Removing extra spaces"
   ]
  },
  {
   "cell_type": "code",
   "execution_count": 351,
   "id": "40e920f4-8e80-47a9-b5ef-76d4710da098",
   "metadata": {},
   "outputs": [
    {
     "data": {
      "text/plain": [
       "'  machine learning                                                                                  '"
      ]
     },
     "execution_count": 351,
     "metadata": {},
     "output_type": "execute_result"
    }
   ],
   "source": [
    "'  machine learning  '.ljust(100)"
   ]
  },
  {
   "cell_type": "code",
   "execution_count": 353,
   "id": "13ca621f-007d-4736-8d4f-b5a3c1e94cbe",
   "metadata": {},
   "outputs": [
    {
     "data": {
      "text/plain": [
       "'                                                                                  machine learning  '"
      ]
     },
     "execution_count": 353,
     "metadata": {},
     "output_type": "execute_result"
    }
   ],
   "source": [
    "'  machine learning  '.rjust(100)"
   ]
  },
  {
   "cell_type": "code",
   "execution_count": 355,
   "id": "154c45b9-7eb7-4638-959c-f9ae9e1ee493",
   "metadata": {},
   "outputs": [
    {
     "data": {
      "text/plain": [
       "'                                          machine learning                                          '"
      ]
     },
     "execution_count": 355,
     "metadata": {},
     "output_type": "execute_result"
    }
   ],
   "source": [
    "'  machine learning  '.center(100)"
   ]
  },
  {
   "cell_type": "code",
   "execution_count": 363,
   "id": "3aae20dc-f5c8-407f-8610-2fd3802961ad",
   "metadata": {},
   "outputs": [
    {
     "data": {
      "text/plain": [
       "(('prob', 'a', 'bility'), ('probab', 'ili', 'ty'))"
      ]
     },
     "execution_count": 363,
     "metadata": {},
     "output_type": "execute_result"
    }
   ],
   "source": [
    "'probability'.partition('a'), 'probability'.partition('ili') # Divides string into 3 parts basis on sub string"
   ]
  },
  {
   "cell_type": "code",
   "execution_count": 365,
   "id": "a4cfdc84-0333-45a3-b048-63d28c891952",
   "metadata": {},
   "outputs": [
    {
     "data": {
      "text/plain": [
       "(('prob', 'a', 'bility'), ('rprobab', 'ili', 'ty'))"
      ]
     },
     "execution_count": 365,
     "metadata": {},
     "output_type": "execute_result"
    }
   ],
   "source": [
    "'probability'.rpartition('a'), 'probability'.partition('ili')"
   ]
  },
  {
   "cell_type": "code",
   "execution_count": 367,
   "id": "5910ee48-e81d-43d2-9c6d-43a9057cc3b1",
   "metadata": {},
   "outputs": [
    {
     "data": {
      "text/plain": [
       "(('g', 'a', 'ngaikondacholapuram'), ('gangaikondacholapur', 'a', 'm'))"
      ]
     },
     "execution_count": 367,
     "metadata": {},
     "output_type": "execute_result"
    }
   ],
   "source": [
    "'gangaikondacholapuram'.partition('a'), 'gangaikondacholapuram'.rpartition('a')"
   ]
  },
  {
   "cell_type": "code",
   "execution_count": 371,
   "id": "77cfa4b4-dfe9-4156-8769-32891b60ded0",
   "metadata": {},
   "outputs": [
    {
     "data": {
      "text/plain": [
       "'Sidiq Pishi'"
      ]
     },
     "execution_count": 371,
     "metadata": {},
     "output_type": "execute_result"
    }
   ],
   "source": [
    "'Sadiq Pasha'.replace('a', 'i') #Replaces all occurences of sub strings with value provided"
   ]
  },
  {
   "cell_type": "code",
   "execution_count": 375,
   "id": "ce256c41-e7e8-4939-b486-696ba68e7de4",
   "metadata": {},
   "outputs": [
    {
     "data": {
      "text/plain": [
       "(1, 10)"
      ]
     },
     "execution_count": 375,
     "metadata": {},
     "output_type": "execute_result"
    }
   ],
   "source": [
    "'Sadiq Pasha'.find('a'), 'Sadiq Pasha'.rfind('a')"
   ]
  },
  {
   "cell_type": "code",
   "execution_count": 377,
   "id": "79823acb-ba86-4247-80df-12e0b18625b0",
   "metadata": {},
   "outputs": [
    {
     "data": {
      "text/plain": [
       "(1, 10)"
      ]
     },
     "execution_count": 377,
     "metadata": {},
     "output_type": "execute_result"
    }
   ],
   "source": [
    "'Sadiq Pasha'.index('a'), 'Sadiq Pasha'.rindex('a')"
   ]
  },
  {
   "cell_type": "code",
   "execution_count": 421,
   "id": "ffb02f76-512a-4c8f-b12c-49ae8b3cf5e8",
   "metadata": {},
   "outputs": [
    {
     "data": {
      "text/plain": [
       "(-1, -1)"
      ]
     },
     "execution_count": 421,
     "metadata": {},
     "output_type": "execute_result"
    }
   ],
   "source": [
    "'Sadiq Pasha'.find('m'), 'Sadiq Pasha'.rfind('m')"
   ]
  },
  {
   "cell_type": "code",
   "execution_count": 423,
   "id": "a1f77e74-3f86-4eee-819a-915347d4fce3",
   "metadata": {},
   "outputs": [
    {
     "ename": "ValueError",
     "evalue": "substring not found",
     "output_type": "error",
     "traceback": [
      "\u001b[1;31m---------------------------------------------------------------------------\u001b[0m",
      "\u001b[1;31mValueError\u001b[0m                                Traceback (most recent call last)",
      "Cell \u001b[1;32mIn[423], line 1\u001b[0m\n\u001b[1;32m----> 1\u001b[0m \u001b[38;5;124m'\u001b[39m\u001b[38;5;124mSadiq Pasha\u001b[39m\u001b[38;5;124m'\u001b[39m\u001b[38;5;241m.\u001b[39mindex(\u001b[38;5;124m'\u001b[39m\u001b[38;5;124mm\u001b[39m\u001b[38;5;124m'\u001b[39m), \u001b[38;5;124m'\u001b[39m\u001b[38;5;124mSadiq Pasha\u001b[39m\u001b[38;5;124m'\u001b[39m\u001b[38;5;241m.\u001b[39mrindex(\u001b[38;5;124m'\u001b[39m\u001b[38;5;124mm\u001b[39m\u001b[38;5;124m'\u001b[39m)\n",
      "\u001b[1;31mValueError\u001b[0m: substring not found"
     ]
    }
   ],
   "source": [
    "'Sadiq Pasha'.index('m'), 'Sadiq Pasha'.rindex('m')"
   ]
  },
  {
   "cell_type": "code",
   "execution_count": 385,
   "id": "36df85d4-2918-4414-bf1c-2f9c7b5438a5",
   "metadata": {},
   "outputs": [
    {
     "data": {
      "text/plain": [
       "(' Sadiq pasha sir', 'Mr. Sadiq pasha ')"
      ]
     },
     "execution_count": 385,
     "metadata": {},
     "output_type": "execute_result"
    }
   ],
   "source": [
    "'Mr. Sadiq pasha sir'.removeprefix('Mr.'), 'Mr. Sadiq pasha sir'.removesuffix('sir')"
   ]
  },
  {
   "cell_type": "code",
   "execution_count": 387,
   "id": "1f85306a-12bf-457f-8e25-2005b486a9e1",
   "metadata": {},
   "outputs": [
    {
     "data": {
      "text/plain": [
       "('Mr. Sadiq pasha sir', 'Mr. Sadiq pasha sir')"
      ]
     },
     "execution_count": 387,
     "metadata": {},
     "output_type": "execute_result"
    }
   ],
   "source": [
    "'Mr. Sadiq pasha sir'.removeprefix('sir'), 'Mr. Sadiq pasha sir'.removesuffix('Mr.')"
   ]
  },
  {
   "cell_type": "code",
   "execution_count": 389,
   "id": "973c6bae-f392-4274-bb03-44f1a485665c",
   "metadata": {},
   "outputs": [
    {
     "data": {
      "text/plain": [
       "'sadiq pasha'"
      ]
     },
     "execution_count": 389,
     "metadata": {},
     "output_type": "execute_result"
    }
   ],
   "source": [
    "'sadiq pasha'.expandtabs(2)"
   ]
  },
  {
   "cell_type": "code",
   "execution_count": 395,
   "id": "5fa74040-e796-4f8c-be33-a6571955fb90",
   "metadata": {},
   "outputs": [
    {
     "data": {
      "text/plain": [
       "'sadiq           pasha'"
      ]
     },
     "execution_count": 395,
     "metadata": {},
     "output_type": "execute_result"
    }
   ],
   "source": [
    "'sadiq\\tpasha'.expandtabs(16)"
   ]
  },
  {
   "cell_type": "code",
   "execution_count": 405,
   "id": "c1a0a745-8a4f-465c-9ec5-2a07daf20795",
   "metadata": {},
   "outputs": [],
   "source": [
    "var = \"hello sadiq!\""
   ]
  },
  {
   "cell_type": "code",
   "execution_count": 401,
   "id": "2ca732cc-738a-4a72-a717-985bc8048712",
   "metadata": {},
   "outputs": [
    {
     "data": {
      "text/plain": [
       "{115: 112}"
      ]
     },
     "execution_count": 401,
     "metadata": {},
     "output_type": "execute_result"
    }
   ],
   "source": [
    "\n",
    "val = str.maketrans('s', 'p') #Creates mapping using ASCII values\n",
    "val"
   ]
  },
  {
   "cell_type": "code",
   "execution_count": 403,
   "id": "81725f50-4bec-49cf-be5e-8c27e455d25c",
   "metadata": {},
   "outputs": [
    {
     "data": {
      "text/plain": [
       "'hello padiq!'"
      ]
     },
     "execution_count": 403,
     "metadata": {},
     "output_type": "execute_result"
    }
   ],
   "source": [
    "var.translate(val)"
   ]
  },
  {
   "cell_type": "code",
   "execution_count": 407,
   "id": "79ef9f13-00b0-403c-8652-6f0501074a73",
   "metadata": {},
   "outputs": [
    {
     "data": {
      "text/plain": [
       "'hello padiq'"
      ]
     },
     "execution_count": 407,
     "metadata": {},
     "output_type": "execute_result"
    }
   ],
   "source": [
    "\"hello sadiq\".translate({115:112}) #Applies mapping to a string"
   ]
  },
  {
   "cell_type": "code",
   "execution_count": 413,
   "id": "327994b3-37b5-496a-ac01-50d578569c73",
   "metadata": {},
   "outputs": [
    {
     "data": {
      "text/plain": [
       "'000000000000000000000000000000000000000hello sadiq'"
      ]
     },
     "execution_count": 413,
     "metadata": {},
     "output_type": "execute_result"
    }
   ],
   "source": [
    "\"hello sadiq\".zfill(50) #FILLS STARTING OF A STRING WITH 0"
   ]
  },
  {
   "cell_type": "code",
   "execution_count": 415,
   "id": "efe46e0a-d9e3-4a60-9a0e-14bb473e45da",
   "metadata": {},
   "outputs": [
    {
     "data": {
      "text/plain": [
       "'machine learningstats'"
      ]
     },
     "execution_count": 415,
     "metadata": {},
     "output_type": "execute_result"
    }
   ],
   "source": [
    "\"machine learning\" + 'stats'"
   ]
  },
  {
   "cell_type": "code",
   "execution_count": 419,
   "id": "b6f56d25-7299-45a1-9786-8383607b6c3e",
   "metadata": {},
   "outputs": [
    {
     "data": {
      "text/plain": [
       "'machine learningmachine learningmachine learning'"
      ]
     },
     "execution_count": 419,
     "metadata": {},
     "output_type": "execute_result"
    }
   ],
   "source": [
    "\"machine learning\" * 3"
   ]
  },
  {
   "cell_type": "markdown",
   "id": "e9549915-cab6-4315-84ed-d5912e3a989c",
   "metadata": {},
   "source": [
    "## Arrays"
   ]
  },
  {
   "cell_type": "raw",
   "id": "67d0425d-b039-4c33-b875-aaf51be7b082",
   "metadata": {},
   "source": [
    "Arrays are the data structures that store values of same datatypes. \n",
    "\n",
    "Init signature: array(self, /, *args, **kwargs)\n",
    "Docstring:     \n",
    "array(typecode [, initializer]) -> array\n",
    "\n",
    "Return a new array whose items are restricted by typecode, and\n",
    "initialized from the optional initializer value, which must be a list,\n",
    "string or iterable over elements of the appropriate type.\n",
    "\n",
    "Arrays represent basic values and behave very much like lists, except\n",
    "the type of objects stored in them is constrained. The type is specified\n",
    "at object creation time by using a type code, which is a single character.\n",
    "The following type codes are defined:\n",
    "\n",
    "    Type code   C Type             Minimum size in bytes \n",
    "    'b'         signed integer     1 \n",
    "    'B'         unsigned integer   1 \n",
    "    'u'         Unicode character  2 (see note) \n",
    "    'h'         signed integer     2 \n",
    "    'H'         unsigned integer   2 \n",
    "    'i'         signed integer     2 \n",
    "    'I'         unsigned integer   2 \n",
    "    'l'         signed integer     4 \n",
    "    'L'         unsigned integer   4 \n",
    "    'q'         signed integer     8 (see note) \n",
    "    'Q'         unsigned integer   8 (see note) \n",
    "    'f'         floating point     4 \n",
    "    'd'         floating point     8 \n",
    "\n",
    "NOTE: The 'u' typecode corresponds to Python's unicode character. On \n",
    "narrow builds this is 2-bytes on wide builds this is 4-bytes.\n",
    "\n",
    "    A signed integer is a 32-bit datum that encodes an integer in the range [-2147483648 to 2147483647]. \n",
    "    An unsigned integer is a 32-bit datum that encodes a nonnegative integer in the range [0 to 4294967295]\n",
    "    Ref: https://www.geeksforgeeks.org/how-to-convert-signed-to-unsigned-integer-in-python/ \n",
    "\n",
    "NOTE: The 'q' and 'Q' type codes are only available if the platform \n",
    "C compiler used to build Python supports 'long long', or, on Windows, \n",
    "'__int64'.\n",
    "\n",
    "    Methods:\n",
    "    \n",
    "    append() -- append a new item to the end of the array\n",
    "    buffer_info() -- return information giving the current memory info\n",
    "    byteswap() -- byteswap all the items of the array\n",
    "    count() -- return number of occurrences of an object\n",
    "    extend() -- extend array by appending multiple elements from an iterable\n",
    "    fromfile() -- read items from a file object\n",
    "    fromlist() -- append items from the list\n",
    "    frombytes() -- append items from the string\n",
    "    index() -- return index of first occurrence of an object\n",
    "    insert() -- insert a new item into the array at a provided position\n",
    "    pop() -- remove and return item (default last)\n",
    "    remove() -- remove first occurrence of an object\n",
    "    reverse() -- reverse the order of the items in the array\n",
    "    tofile() -- write all items to a file object\n",
    "    tolist() -- return the array converted to an ordinary list\n",
    "    tobytes() -- return the array converted to a string\n",
    "\n",
    "Attributes:\n",
    "\n",
    "typecode -- the typecode character used to create the array\n",
    "itemsize -- the length in bytes of one array item\n",
    "\n",
    "arrayIdentifiername = array(typecode, [initializers])"
   ]
  },
  {
   "cell_type": "code",
   "execution_count": 465,
   "id": "352fa262-549e-4b8b-87ee-09466e6403d5",
   "metadata": {},
   "outputs": [],
   "source": [
    "from array import array"
   ]
  },
  {
   "cell_type": "code",
   "execution_count": 483,
   "id": "de1fb7d0-e67a-4fa4-9476-7856b5e048fb",
   "metadata": {},
   "outputs": [
    {
     "data": {
      "text/plain": [
       "array('i', [11, 2, 3, 4, 2147483647])"
      ]
     },
     "execution_count": 483,
     "metadata": {},
     "output_type": "execute_result"
    }
   ],
   "source": [
    "x = array('i', [11, 2, 3, 4, 2147483647])\n",
    "x"
   ]
  },
  {
   "cell_type": "code",
   "execution_count": 473,
   "id": "3d4d4ee0-ef1c-4ec4-9422-0eb43d9b9d31",
   "metadata": {},
   "outputs": [
    {
     "data": {
      "text/plain": [
       "array('f', [1.100000023841858, 2.5999999046325684, 4.800000190734863, 90.6500015258789])"
      ]
     },
     "execution_count": 473,
     "metadata": {},
     "output_type": "execute_result"
    }
   ],
   "source": [
    "y = array('f', [1.1, 2.6, 4.8, 90.65])\n",
    "y"
   ]
  },
  {
   "cell_type": "code",
   "execution_count": 477,
   "id": "ef99cc37-1ee0-494c-be2c-3c4b84e40e6f",
   "metadata": {},
   "outputs": [
    {
     "data": {
      "text/plain": [
       "array('u', 'mach')"
      ]
     },
     "execution_count": 477,
     "metadata": {},
     "output_type": "execute_result"
    }
   ],
   "source": [
    "z = array('u', ['m', 'a', 'c', 'h'])\n",
    "z"
   ]
  },
  {
   "cell_type": "code",
   "execution_count": 493,
   "id": "1a52d14f-83a6-4770-8054-305c5094b3e5",
   "metadata": {},
   "outputs": [
    {
     "data": {
      "text/plain": [
       "(11,\n",
       " 2147483647,\n",
       " array('i', [11, 2, 3, 4, 2147483647]),\n",
       " array('i', [11, 3, 2147483647]),\n",
       " array('i', [2147483647, 4, 3, 2, 11]))"
      ]
     },
     "execution_count": 493,
     "metadata": {},
     "output_type": "execute_result"
    }
   ],
   "source": [
    "x[0], x[-1], x[:], x[::2], x[::-1] "
   ]
  },
  {
   "cell_type": "code",
   "execution_count": 495,
   "id": "fb1a58d3-dc3a-4cbb-b579-06b9ea2a80cb",
   "metadata": {},
   "outputs": [
    {
     "data": {
      "text/plain": [
       "['__add__',\n",
       " '__class__',\n",
       " '__contains__',\n",
       " '__copy__',\n",
       " '__deepcopy__',\n",
       " '__delattr__',\n",
       " '__delitem__',\n",
       " '__dir__',\n",
       " '__doc__',\n",
       " '__eq__',\n",
       " '__format__',\n",
       " '__ge__',\n",
       " '__getattribute__',\n",
       " '__getitem__',\n",
       " '__getstate__',\n",
       " '__gt__',\n",
       " '__hash__',\n",
       " '__iadd__',\n",
       " '__imul__',\n",
       " '__init__',\n",
       " '__init_subclass__',\n",
       " '__iter__',\n",
       " '__le__',\n",
       " '__len__',\n",
       " '__lt__',\n",
       " '__module__',\n",
       " '__mul__',\n",
       " '__ne__',\n",
       " '__new__',\n",
       " '__reduce__',\n",
       " '__reduce_ex__',\n",
       " '__repr__',\n",
       " '__rmul__',\n",
       " '__setattr__',\n",
       " '__setitem__',\n",
       " '__sizeof__',\n",
       " '__str__',\n",
       " '__subclasshook__',\n",
       " 'append',\n",
       " 'buffer_info',\n",
       " 'byteswap',\n",
       " 'count',\n",
       " 'extend',\n",
       " 'frombytes',\n",
       " 'fromfile',\n",
       " 'fromlist',\n",
       " 'fromunicode',\n",
       " 'index',\n",
       " 'insert',\n",
       " 'itemsize',\n",
       " 'pop',\n",
       " 'remove',\n",
       " 'reverse',\n",
       " 'tobytes',\n",
       " 'tofile',\n",
       " 'tolist',\n",
       " 'tounicode',\n",
       " 'typecode']"
      ]
     },
     "execution_count": 495,
     "metadata": {},
     "output_type": "execute_result"
    }
   ],
   "source": [
    "dir(array)"
   ]
  },
  {
   "cell_type": "code",
   "execution_count": 497,
   "id": "61c6aee2-0769-4e2e-a9b9-908193e5fb1c",
   "metadata": {},
   "outputs": [
    {
     "ename": "TypeError",
     "evalue": "'float' object cannot be interpreted as an integer",
     "output_type": "error",
     "traceback": [
      "\u001b[1;31m---------------------------------------------------------------------------\u001b[0m",
      "\u001b[1;31mTypeError\u001b[0m                                 Traceback (most recent call last)",
      "Cell \u001b[1;32mIn[497], line 1\u001b[0m\n\u001b[1;32m----> 1\u001b[0m x\u001b[38;5;241m.\u001b[39mappend(\u001b[38;5;241m3.14\u001b[39m)\n",
      "\u001b[1;31mTypeError\u001b[0m: 'float' object cannot be interpreted as an integer"
     ]
    }
   ],
   "source": [
    "x.append(3.14)"
   ]
  },
  {
   "cell_type": "code",
   "execution_count": 499,
   "id": "e5d85118-e2e5-43ae-b402-b7ad6d8fc6ba",
   "metadata": {},
   "outputs": [],
   "source": [
    "x.append(14)"
   ]
  },
  {
   "cell_type": "code",
   "execution_count": 501,
   "id": "74eab64f-cc12-4189-aed1-501c8f2f180d",
   "metadata": {},
   "outputs": [
    {
     "data": {
      "text/plain": [
       "array('i', [11, 2, 3, 4, 2147483647, 14])"
      ]
     },
     "execution_count": 501,
     "metadata": {},
     "output_type": "execute_result"
    }
   ],
   "source": [
    "x"
   ]
  },
  {
   "cell_type": "code",
   "execution_count": 503,
   "id": "18e3f42b-381a-4814-b3fb-42ccfa3d02d1",
   "metadata": {},
   "outputs": [
    {
     "data": {
      "text/plain": [
       "1"
      ]
     },
     "execution_count": 503,
     "metadata": {},
     "output_type": "execute_result"
    }
   ],
   "source": [
    "x.count(14)"
   ]
  },
  {
   "cell_type": "code",
   "execution_count": 505,
   "id": "536ef014-125b-40be-847c-d8665c733995",
   "metadata": {},
   "outputs": [
    {
     "data": {
      "text/plain": [
       "0"
      ]
     },
     "execution_count": 505,
     "metadata": {},
     "output_type": "execute_result"
    }
   ],
   "source": [
    "y.count(3.14)"
   ]
  },
  {
   "cell_type": "code",
   "execution_count": 507,
   "id": "86f2fcde-ca8c-4a7f-b8c9-68855c2fd4dd",
   "metadata": {},
   "outputs": [
    {
     "ename": "TypeError",
     "evalue": "can only extend with array of same kind",
     "output_type": "error",
     "traceback": [
      "\u001b[1;31m---------------------------------------------------------------------------\u001b[0m",
      "\u001b[1;31mTypeError\u001b[0m                                 Traceback (most recent call last)",
      "Cell \u001b[1;32mIn[507], line 1\u001b[0m\n\u001b[1;32m----> 1\u001b[0m x\u001b[38;5;241m.\u001b[39mextend(y)\n",
      "\u001b[1;31mTypeError\u001b[0m: can only extend with array of same kind"
     ]
    }
   ],
   "source": [
    "x.extend(y)"
   ]
  },
  {
   "cell_type": "code",
   "execution_count": 509,
   "id": "6bac7c01-8265-4532-a083-8c9cd0c6c548",
   "metadata": {},
   "outputs": [],
   "source": [
    "x1 = array('i', [15, 16])\n",
    "x.extend(x1) #Extend is possible only if the typecode is same for both arrays"
   ]
  },
  {
   "cell_type": "code",
   "execution_count": 511,
   "id": "22f8be01-e94b-4e1e-b6c4-6b67288cc0ce",
   "metadata": {},
   "outputs": [
    {
     "data": {
      "text/plain": [
       "array('i', [11, 2, 3, 4, 2147483647, 14, 15, 16])"
      ]
     },
     "execution_count": 511,
     "metadata": {},
     "output_type": "execute_result"
    }
   ],
   "source": [
    "x"
   ]
  },
  {
   "cell_type": "code",
   "execution_count": 513,
   "id": "2f111d69-463d-4409-95bf-afc6265b7443",
   "metadata": {},
   "outputs": [
    {
     "data": {
      "text/plain": [
       "3"
      ]
     },
     "execution_count": 513,
     "metadata": {},
     "output_type": "execute_result"
    }
   ],
   "source": [
    "x.index(4)"
   ]
  },
  {
   "cell_type": "code",
   "execution_count": 515,
   "id": "dee26c07-1936-41be-aef7-c9144a0b56a5",
   "metadata": {},
   "outputs": [],
   "source": [
    "x.insert(3, 100) #index, value"
   ]
  },
  {
   "cell_type": "code",
   "execution_count": 517,
   "id": "2e9a9197-5be3-4244-b41c-aab44fa5aaaf",
   "metadata": {},
   "outputs": [
    {
     "data": {
      "text/plain": [
       "array('i', [11, 2, 3, 100, 4, 2147483647, 14, 15, 16])"
      ]
     },
     "execution_count": 517,
     "metadata": {},
     "output_type": "execute_result"
    }
   ],
   "source": [
    "x"
   ]
  },
  {
   "cell_type": "code",
   "execution_count": 519,
   "id": "71ec2f8e-c841-4b54-abde-f1c201db6fef",
   "metadata": {},
   "outputs": [
    {
     "data": {
      "text/plain": [
       "16"
      ]
     },
     "execution_count": 519,
     "metadata": {},
     "output_type": "execute_result"
    }
   ],
   "source": [
    "x.pop()"
   ]
  },
  {
   "cell_type": "code",
   "execution_count": 521,
   "id": "d960dd9a-bf5d-4301-897a-f196baa953e0",
   "metadata": {},
   "outputs": [
    {
     "data": {
      "text/plain": [
       "15"
      ]
     },
     "execution_count": 521,
     "metadata": {},
     "output_type": "execute_result"
    }
   ],
   "source": [
    "x.pop() #Remove last value from array"
   ]
  },
  {
   "cell_type": "code",
   "execution_count": 523,
   "id": "cf8a5732-d927-4e10-9f90-5d06cb1b8705",
   "metadata": {},
   "outputs": [
    {
     "data": {
      "text/plain": [
       "array('i', [11, 2, 3, 100, 4, 2147483647, 14])"
      ]
     },
     "execution_count": 523,
     "metadata": {},
     "output_type": "execute_result"
    }
   ],
   "source": [
    "x"
   ]
  },
  {
   "cell_type": "code",
   "execution_count": 525,
   "id": "4f8cc3e9-23f5-4864-9f6b-2ee750cbe2ea",
   "metadata": {},
   "outputs": [],
   "source": [
    "x.remove(2147483647) #Remove specific value from array"
   ]
  },
  {
   "cell_type": "code",
   "execution_count": 527,
   "id": "4cd7420c-d7e7-4ab8-b5cf-df3b489b4c99",
   "metadata": {},
   "outputs": [
    {
     "data": {
      "text/plain": [
       "array('i', [11, 2, 3, 100, 4, 14])"
      ]
     },
     "execution_count": 527,
     "metadata": {},
     "output_type": "execute_result"
    }
   ],
   "source": [
    "x"
   ]
  },
  {
   "cell_type": "code",
   "execution_count": 529,
   "id": "cbaab3fc-34f0-461f-8fa3-dc32fb452adc",
   "metadata": {},
   "outputs": [],
   "source": [
    "x.reverse()"
   ]
  },
  {
   "cell_type": "code",
   "execution_count": 531,
   "id": "5a166f3b-41a8-4478-8344-dfeb1c2696f5",
   "metadata": {},
   "outputs": [
    {
     "data": {
      "text/plain": [
       "array('i', [14, 4, 100, 3, 2, 11])"
      ]
     },
     "execution_count": 531,
     "metadata": {},
     "output_type": "execute_result"
    }
   ],
   "source": [
    "x"
   ]
  },
  {
   "cell_type": "code",
   "execution_count": 535,
   "id": "2e74e216-d5cd-4ef7-9bf0-6e24e760af8b",
   "metadata": {},
   "outputs": [
    {
     "data": {
      "text/plain": [
       "(1480575375696, 6)"
      ]
     },
     "execution_count": 535,
     "metadata": {},
     "output_type": "execute_result"
    }
   ],
   "source": [
    "x.buffer_info()"
   ]
  },
  {
   "cell_type": "code",
   "execution_count": 553,
   "id": "df3e77b4-a7e5-4050-a8ff-4254a9b15215",
   "metadata": {},
   "outputs": [],
   "source": [
    "x.byteswap()"
   ]
  },
  {
   "cell_type": "code",
   "execution_count": 555,
   "id": "f7f3a278-3c68-4010-98e0-9ce48c055bc0",
   "metadata": {},
   "outputs": [
    {
     "data": {
      "text/plain": [
       "array('i', [14, 4, 100, 3, 2, 11, 16777216, 33554432, 50331648, 67108864, 83886080])"
      ]
     },
     "execution_count": 555,
     "metadata": {},
     "output_type": "execute_result"
    }
   ],
   "source": [
    "x  "
   ]
  },
  {
   "cell_type": "code",
   "execution_count": 547,
   "id": "f95b9782-0975-414a-969d-93c28d14f6b9",
   "metadata": {},
   "outputs": [
    {
     "name": "stdout",
     "output_type": "stream",
     "text": [
      "array('i', [131073, 262147])\n"
     ]
    }
   ],
   "source": [
    "from array import array\n",
    "\n",
    "b = b\"\\x01\\x00\\x02\\x00\\x03\\x00\\x04\\x00\"\n",
    "a = array('i') #signed int (2 bytes)\n",
    "a.frombytes(b)\n",
    "print(a)"
   ]
  },
  {
   "cell_type": "code",
   "execution_count": null,
   "id": "43a13f7d-921f-4910-85f4-3f4af0477d52",
   "metadata": {},
   "outputs": [],
   "source": [
    "l = [1, 2, 3, 4,5]"
   ]
  },
  {
   "cell_type": "code",
   "execution_count": 557,
   "id": "b8bae86d-7491-401d-ade4-58856e324f9c",
   "metadata": {},
   "outputs": [],
   "source": [
    "x.fromlist(l)  #Appending list to an array"
   ]
  },
  {
   "cell_type": "code",
   "execution_count": 559,
   "id": "c840f5c0-49fa-4330-ba97-411beebcbbb0",
   "metadata": {},
   "outputs": [
    {
     "data": {
      "text/plain": [
       "array('i', [14, 4, 100, 3, 2, 11, 16777216, 33554432, 50331648, 67108864, 83886080, 1, 2, 3, 4, 5])"
      ]
     },
     "execution_count": 559,
     "metadata": {},
     "output_type": "execute_result"
    }
   ],
   "source": [
    "x"
   ]
  },
  {
   "cell_type": "code",
   "execution_count": 575,
   "id": "5b3bfe00-b1a8-4934-9c0c-b1a45273e1ac",
   "metadata": {},
   "outputs": [
    {
     "name": "stdout",
     "output_type": "stream",
     "text": [
      "i\n"
     ]
    }
   ],
   "source": [
    "# creating an integer data type array\n",
    "x = array('i', [1,2,3,4,5,6,7])\n",
    "y = array('u', ['d', 'a', 't', 'a'])\n",
    "# using the typecode funtion to ccheck for the array's typecode\n",
    "print(x.typecode)"
   ]
  },
  {
   "cell_type": "code",
   "execution_count": 577,
   "id": "4f164433-f035-42f0-a23f-cb6ad290bd87",
   "metadata": {},
   "outputs": [
    {
     "data": {
      "text/plain": [
       "b'\\x01\\x00\\x00\\x00\\x02\\x00\\x00\\x00\\x03\\x00\\x00\\x00\\x04\\x00\\x00\\x00\\x05\\x00\\x00\\x00\\x06\\x00\\x00\\x00\\x07\\x00\\x00\\x00'"
      ]
     },
     "execution_count": 577,
     "metadata": {},
     "output_type": "execute_result"
    }
   ],
   "source": [
    "x.tobytes()"
   ]
  },
  {
   "cell_type": "code",
   "execution_count": 579,
   "id": "a91ec962-3703-4b14-b377-46bdd108e1ba",
   "metadata": {},
   "outputs": [
    {
     "data": {
      "text/plain": [
       "[1, 2, 3, 4, 5, 6, 7]"
      ]
     },
     "execution_count": 579,
     "metadata": {},
     "output_type": "execute_result"
    }
   ],
   "source": [
    "x.tolist()"
   ]
  },
  {
   "cell_type": "code",
   "execution_count": 581,
   "id": "db540552-84f0-4b96-9f2e-ee5e9c2a55d2",
   "metadata": {},
   "outputs": [
    {
     "data": {
      "text/plain": [
       "'data'"
      ]
     },
     "execution_count": 581,
     "metadata": {},
     "output_type": "execute_result"
    }
   ],
   "source": [
    "y.tounicode()"
   ]
  },
  {
   "cell_type": "raw",
   "id": "482f935b-f4fd-46d5-9519-2ce449883c9e",
   "metadata": {},
   "source": [
    "Byteswap\n",
    "fromunicode\n",
    " 'itemsize',\n",
    " 'tobytes',\n",
    " 'tofile',\n",
    " 'tolist',\n",
    " 'tounicode',\n",
    " 'typecode"
   ]
  },
  {
   "cell_type": "code",
   "execution_count": null,
   "id": "5c40404b-48f3-4137-97ee-98a277f1faf6",
   "metadata": {},
   "outputs": [],
   "source": []
  },
  {
   "cell_type": "markdown",
   "id": "c12de666-2c11-4147-b647-dd4afa9afb52",
   "metadata": {},
   "source": [
    "## Lists"
   ]
  },
  {
   "cell_type": "code",
   "execution_count": 583,
   "id": "d755c8d8-0d6d-4d6e-a75b-5b82f61d8797",
   "metadata": {},
   "outputs": [],
   "source": [
    "l = [] #Empty list"
   ]
  },
  {
   "cell_type": "code",
   "execution_count": 585,
   "id": "7380fa71-ae07-485c-bb8a-703dd6937b86",
   "metadata": {},
   "outputs": [
    {
     "data": {
      "text/plain": [
       "(list, 1480582898112)"
      ]
     },
     "execution_count": 585,
     "metadata": {},
     "output_type": "execute_result"
    }
   ],
   "source": [
    "type(l), id(l)"
   ]
  },
  {
   "cell_type": "code",
   "execution_count": 587,
   "id": "6ca99096-d54d-4847-940d-d7f3485146ce",
   "metadata": {},
   "outputs": [
    {
     "data": {
      "text/plain": [
       "NoneType"
      ]
     },
     "execution_count": 587,
     "metadata": {},
     "output_type": "execute_result"
    }
   ],
   "source": [
    "abc = None\n",
    "type(abc)"
   ]
  },
  {
   "cell_type": "code",
   "execution_count": 589,
   "id": "89759285-6d2c-4123-84f8-f5cb0eb82b55",
   "metadata": {},
   "outputs": [
    {
     "data": {
      "text/plain": [
       "140735037795056"
      ]
     },
     "execution_count": 589,
     "metadata": {},
     "output_type": "execute_result"
    }
   ],
   "source": [
    "id(None)"
   ]
  },
  {
   "cell_type": "code",
   "execution_count": 591,
   "id": "2f8b53c4-15f3-4a13-8bc9-ba60ff403e8a",
   "metadata": {},
   "outputs": [
    {
     "ename": "TypeError",
     "evalue": "unsupported operand type(s) for +: 'NoneType' and 'str'",
     "output_type": "error",
     "traceback": [
      "\u001b[1;31m---------------------------------------------------------------------------\u001b[0m",
      "\u001b[1;31mTypeError\u001b[0m                                 Traceback (most recent call last)",
      "Cell \u001b[1;32mIn[591], line 1\u001b[0m\n\u001b[1;32m----> 1\u001b[0m abc \u001b[38;5;241m+\u001b[39m \u001b[38;5;124m'\u001b[39m\u001b[38;5;124mstringvalue\u001b[39m\u001b[38;5;124m'\u001b[39m\n",
      "\u001b[1;31mTypeError\u001b[0m: unsupported operand type(s) for +: 'NoneType' and 'str'"
     ]
    }
   ],
   "source": [
    "abc + 'stringvalue'"
   ]
  },
  {
   "cell_type": "code",
   "execution_count": 593,
   "id": "02277c8f-09c4-4fe0-b96e-14fd01860c5e",
   "metadata": {},
   "outputs": [],
   "source": [
    "l.append('stringvalue')"
   ]
  },
  {
   "cell_type": "code",
   "execution_count": 595,
   "id": "c1946800-9e02-476d-a2ef-74a0c85ac13d",
   "metadata": {},
   "outputs": [
    {
     "data": {
      "text/plain": [
       "['stringvalue']"
      ]
     },
     "execution_count": 595,
     "metadata": {},
     "output_type": "execute_result"
    }
   ],
   "source": [
    "l"
   ]
  },
  {
   "cell_type": "code",
   "execution_count": 597,
   "id": "0286d5e5-f071-4edc-9293-345bafe6c13e",
   "metadata": {},
   "outputs": [
    {
     "data": {
      "text/plain": [
       "['__add__',\n",
       " '__class__',\n",
       " '__class_getitem__',\n",
       " '__contains__',\n",
       " '__delattr__',\n",
       " '__delitem__',\n",
       " '__dir__',\n",
       " '__doc__',\n",
       " '__eq__',\n",
       " '__format__',\n",
       " '__ge__',\n",
       " '__getattribute__',\n",
       " '__getitem__',\n",
       " '__getstate__',\n",
       " '__gt__',\n",
       " '__hash__',\n",
       " '__iadd__',\n",
       " '__imul__',\n",
       " '__init__',\n",
       " '__init_subclass__',\n",
       " '__iter__',\n",
       " '__le__',\n",
       " '__len__',\n",
       " '__lt__',\n",
       " '__mul__',\n",
       " '__ne__',\n",
       " '__new__',\n",
       " '__reduce__',\n",
       " '__reduce_ex__',\n",
       " '__repr__',\n",
       " '__reversed__',\n",
       " '__rmul__',\n",
       " '__setattr__',\n",
       " '__setitem__',\n",
       " '__sizeof__',\n",
       " '__str__',\n",
       " '__subclasshook__',\n",
       " 'append',\n",
       " 'clear',\n",
       " 'copy',\n",
       " 'count',\n",
       " 'extend',\n",
       " 'index',\n",
       " 'insert',\n",
       " 'pop',\n",
       " 'remove',\n",
       " 'reverse',\n",
       " 'sort']"
      ]
     },
     "execution_count": 597,
     "metadata": {},
     "output_type": "execute_result"
    }
   ],
   "source": [
    "dir(l)"
   ]
  },
  {
   "cell_type": "code",
   "execution_count": 599,
   "id": "6c4fa649-5887-4bbe-9059-455b32a9256b",
   "metadata": {},
   "outputs": [
    {
     "data": {
      "text/plain": [
       "['stringvalue']"
      ]
     },
     "execution_count": 599,
     "metadata": {},
     "output_type": "execute_result"
    }
   ],
   "source": [
    "l"
   ]
  },
  {
   "cell_type": "code",
   "execution_count": 603,
   "id": "df4eb3be-15af-4f33-8820-f43d1104573b",
   "metadata": {},
   "outputs": [],
   "source": [
    "l.append('yaseen')"
   ]
  },
  {
   "cell_type": "code",
   "execution_count": 605,
   "id": "a28b98f6-3d0a-48df-bb49-a9a1041c9fbc",
   "metadata": {},
   "outputs": [
    {
     "data": {
      "text/plain": [
       "['stringvalue', 'yaseen']"
      ]
     },
     "execution_count": 605,
     "metadata": {},
     "output_type": "execute_result"
    }
   ],
   "source": [
    "l"
   ]
  },
  {
   "cell_type": "code",
   "execution_count": 607,
   "id": "db8c20c5-4f95-4e98-a4f7-39604ce10459",
   "metadata": {},
   "outputs": [],
   "source": [
    "l.append(['satya', 'swapnil'])"
   ]
  },
  {
   "cell_type": "code",
   "execution_count": 609,
   "id": "8c5e881f-bd5c-4328-8922-35bd42cc7b58",
   "metadata": {},
   "outputs": [
    {
     "data": {
      "text/plain": [
       "['stringvalue', 'yaseen', ['satya', 'swapnil']]"
      ]
     },
     "execution_count": 609,
     "metadata": {},
     "output_type": "execute_result"
    }
   ],
   "source": [
    "l"
   ]
  },
  {
   "cell_type": "code",
   "execution_count": 611,
   "id": "4edd9bb4-fe36-4547-a2f8-f84ec84ad556",
   "metadata": {},
   "outputs": [],
   "source": [
    "l.append(3)"
   ]
  },
  {
   "cell_type": "code",
   "execution_count": 613,
   "id": "ee94fd20-6701-4462-8c6a-a20b32fb8ddb",
   "metadata": {},
   "outputs": [],
   "source": [
    "l.append({'sub': 'datascience'})"
   ]
  },
  {
   "cell_type": "code",
   "execution_count": 615,
   "id": "09a5eaa4-2271-4134-8b4c-442ce60c5433",
   "metadata": {},
   "outputs": [
    {
     "data": {
      "text/plain": [
       "['stringvalue', 'yaseen', ['satya', 'swapnil'], 3, {'sub': 'datascience'}]"
      ]
     },
     "execution_count": 615,
     "metadata": {},
     "output_type": "execute_result"
    }
   ],
   "source": [
    "l"
   ]
  },
  {
   "cell_type": "code",
   "execution_count": 617,
   "id": "99992188-e27f-4ccc-8def-c9f0ef723f1e",
   "metadata": {},
   "outputs": [],
   "source": [
    "l1 = l.copy()  #Deep copy"
   ]
  },
  {
   "cell_type": "code",
   "execution_count": 619,
   "id": "6c6d8991-f686-4574-b26c-6e5337e1321c",
   "metadata": {},
   "outputs": [
    {
     "data": {
      "text/plain": [
       "['stringvalue', 'yaseen', ['satya', 'swapnil'], 3, {'sub': 'datascience'}]"
      ]
     },
     "execution_count": 619,
     "metadata": {},
     "output_type": "execute_result"
    }
   ],
   "source": [
    "l1"
   ]
  },
  {
   "cell_type": "code",
   "execution_count": 621,
   "id": "b972b19b-44e0-4100-b87e-51486aba8bc7",
   "metadata": {},
   "outputs": [],
   "source": [
    "l1.append('x')"
   ]
  },
  {
   "cell_type": "code",
   "execution_count": 623,
   "id": "d1845e76-4f2c-4424-a2cc-6b53d584eea5",
   "metadata": {},
   "outputs": [
    {
     "data": {
      "text/plain": [
       "['stringvalue', 'yaseen', ['satya', 'swapnil'], 3, {'sub': 'datascience'}, 'x']"
      ]
     },
     "execution_count": 623,
     "metadata": {},
     "output_type": "execute_result"
    }
   ],
   "source": [
    "l1"
   ]
  },
  {
   "cell_type": "code",
   "execution_count": 625,
   "id": "4ef80c18-a0d0-49b5-a990-7b0b820844eb",
   "metadata": {},
   "outputs": [
    {
     "data": {
      "text/plain": [
       "['stringvalue', 'yaseen', ['satya', 'swapnil'], 3, {'sub': 'datascience'}]"
      ]
     },
     "execution_count": 625,
     "metadata": {},
     "output_type": "execute_result"
    }
   ],
   "source": [
    "l"
   ]
  },
  {
   "cell_type": "code",
   "execution_count": 627,
   "id": "1a04c778-3dd9-456d-ba5a-fd7b6727a589",
   "metadata": {},
   "outputs": [],
   "source": [
    "l2 = l #Shallow copy"
   ]
  },
  {
   "cell_type": "code",
   "execution_count": 629,
   "id": "176f7dd6-7765-4fe6-9f66-ddf9d49f9836",
   "metadata": {},
   "outputs": [],
   "source": [
    "l2.append(5)"
   ]
  },
  {
   "cell_type": "code",
   "execution_count": 631,
   "id": "a9c2b13c-e59f-4b65-a9a7-ec13c8b764ff",
   "metadata": {},
   "outputs": [
    {
     "data": {
      "text/plain": [
       "['stringvalue', 'yaseen', ['satya', 'swapnil'], 3, {'sub': 'datascience'}, 5]"
      ]
     },
     "execution_count": 631,
     "metadata": {},
     "output_type": "execute_result"
    }
   ],
   "source": [
    "l2"
   ]
  },
  {
   "cell_type": "code",
   "execution_count": 633,
   "id": "a2e8827d-1695-4f16-beb0-3bfb94e50888",
   "metadata": {},
   "outputs": [
    {
     "data": {
      "text/plain": [
       "['stringvalue', 'yaseen', ['satya', 'swapnil'], 3, {'sub': 'datascience'}, 5]"
      ]
     },
     "execution_count": 633,
     "metadata": {},
     "output_type": "execute_result"
    }
   ],
   "source": [
    "l"
   ]
  },
  {
   "cell_type": "code",
   "execution_count": 635,
   "id": "2dcce143-588f-4588-ac21-61d18aac4ac7",
   "metadata": {},
   "outputs": [],
   "source": [
    "l1.clear()"
   ]
  },
  {
   "cell_type": "code",
   "execution_count": 637,
   "id": "ecf46269-7979-4468-896f-86ad2d2e8354",
   "metadata": {},
   "outputs": [
    {
     "data": {
      "text/plain": [
       "[]"
      ]
     },
     "execution_count": 637,
     "metadata": {},
     "output_type": "execute_result"
    }
   ],
   "source": [
    "l1"
   ]
  },
  {
   "cell_type": "code",
   "execution_count": 639,
   "id": "25cd4106-87ae-49c5-9c5d-46478bc21865",
   "metadata": {},
   "outputs": [
    {
     "data": {
      "text/plain": [
       "1"
      ]
     },
     "execution_count": 639,
     "metadata": {},
     "output_type": "execute_result"
    }
   ],
   "source": [
    "l2.count(3)"
   ]
  },
  {
   "cell_type": "code",
   "execution_count": 641,
   "id": "3435895c-1591-4ab6-ac8b-1c07a385639a",
   "metadata": {},
   "outputs": [
    {
     "data": {
      "text/plain": [
       "1"
      ]
     },
     "execution_count": 641,
     "metadata": {},
     "output_type": "execute_result"
    }
   ],
   "source": [
    "l.count(5)"
   ]
  },
  {
   "cell_type": "code",
   "execution_count": 643,
   "id": "83ad31f3-0b65-4e6b-9e02-38138caf82bc",
   "metadata": {},
   "outputs": [
    {
     "data": {
      "text/plain": [
       "True"
      ]
     },
     "execution_count": 643,
     "metadata": {},
     "output_type": "execute_result"
    }
   ],
   "source": [
    "l2.count(5) == l.count(5)"
   ]
  },
  {
   "cell_type": "code",
   "execution_count": 645,
   "id": "a461f9f5-bad2-4d11-abb4-c8a3ecd379c9",
   "metadata": {},
   "outputs": [],
   "source": [
    "l1 = ['stats', 'prob']"
   ]
  },
  {
   "cell_type": "code",
   "execution_count": 647,
   "id": "d962a780-3b0e-468d-8a37-d3c886a0b9fd",
   "metadata": {},
   "outputs": [],
   "source": [
    "l2.extend(l1)"
   ]
  },
  {
   "cell_type": "code",
   "execution_count": 651,
   "id": "d10454c5-6ffb-4261-a6f1-2ee7c2ce4642",
   "metadata": {},
   "outputs": [
    {
     "data": {
      "text/plain": [
       "(['stringvalue',\n",
       "  'yaseen',\n",
       "  ['satya', 'swapnil'],\n",
       "  3,\n",
       "  {'sub': 'datascience'},\n",
       "  5,\n",
       "  'stats',\n",
       "  'prob'],\n",
       " ['stringvalue',\n",
       "  'yaseen',\n",
       "  ['satya', 'swapnil'],\n",
       "  3,\n",
       "  {'sub': 'datascience'},\n",
       "  5,\n",
       "  'stats',\n",
       "  'prob'])"
      ]
     },
     "execution_count": 651,
     "metadata": {},
     "output_type": "execute_result"
    }
   ],
   "source": [
    "l2, l"
   ]
  },
  {
   "cell_type": "code",
   "execution_count": 655,
   "id": "4e6c7406-fa2a-4353-8a41-b4d1123bd1e9",
   "metadata": {},
   "outputs": [
    {
     "data": {
      "text/plain": [
       "1"
      ]
     },
     "execution_count": 655,
     "metadata": {},
     "output_type": "execute_result"
    }
   ],
   "source": [
    "l2.index('yaseen')"
   ]
  },
  {
   "cell_type": "code",
   "execution_count": 657,
   "id": "9ad3ea8b-a4df-4a36-b665-4117c5ca5cfa",
   "metadata": {},
   "outputs": [],
   "source": [
    "l2.insert(5, 10000)"
   ]
  },
  {
   "cell_type": "code",
   "execution_count": 659,
   "id": "a8b56fca-fd8b-4a01-b863-e5357ec6e52b",
   "metadata": {},
   "outputs": [
    {
     "data": {
      "text/plain": [
       "['stringvalue',\n",
       " 'yaseen',\n",
       " ['satya', 'swapnil'],\n",
       " 3,\n",
       " {'sub': 'datascience'},\n",
       " 10000,\n",
       " 5,\n",
       " 'stats',\n",
       " 'prob']"
      ]
     },
     "execution_count": 659,
     "metadata": {},
     "output_type": "execute_result"
    }
   ],
   "source": [
    "l2"
   ]
  },
  {
   "cell_type": "code",
   "execution_count": 661,
   "id": "cd70ddc4-94e5-41e7-8e03-0d786138ad00",
   "metadata": {},
   "outputs": [
    {
     "data": {
      "text/plain": [
       "'prob'"
      ]
     },
     "execution_count": 661,
     "metadata": {},
     "output_type": "execute_result"
    }
   ],
   "source": [
    "l2.pop()"
   ]
  },
  {
   "cell_type": "code",
   "execution_count": 663,
   "id": "ba02f125-bf59-4a95-aefd-ed9731deab46",
   "metadata": {},
   "outputs": [
    {
     "data": {
      "text/plain": [
       "['stringvalue',\n",
       " 'yaseen',\n",
       " ['satya', 'swapnil'],\n",
       " 3,\n",
       " {'sub': 'datascience'},\n",
       " 10000,\n",
       " 5,\n",
       " 'stats']"
      ]
     },
     "execution_count": 663,
     "metadata": {},
     "output_type": "execute_result"
    }
   ],
   "source": [
    "l2"
   ]
  },
  {
   "cell_type": "code",
   "execution_count": 667,
   "id": "e2f8dcdf-e0f3-4ac7-a498-79ada97d0117",
   "metadata": {},
   "outputs": [],
   "source": [
    "l2.remove(5)"
   ]
  },
  {
   "cell_type": "code",
   "execution_count": 669,
   "id": "958f3527-c672-4118-bb16-1bc0f5998b4b",
   "metadata": {},
   "outputs": [
    {
     "data": {
      "text/plain": [
       "['stringvalue',\n",
       " 'yaseen',\n",
       " ['satya', 'swapnil'],\n",
       " 3,\n",
       " {'sub': 'datascience'},\n",
       " 10000,\n",
       " 'stats']"
      ]
     },
     "execution_count": 669,
     "metadata": {},
     "output_type": "execute_result"
    }
   ],
   "source": [
    "l2"
   ]
  },
  {
   "cell_type": "code",
   "execution_count": 671,
   "id": "f5b8b4fd-c3ac-4e2e-8747-ba2976aded16",
   "metadata": {},
   "outputs": [],
   "source": [
    "l2.reverse()"
   ]
  },
  {
   "cell_type": "code",
   "execution_count": 673,
   "id": "59e54d37-1b80-4749-8aab-ba8496e5dffb",
   "metadata": {},
   "outputs": [
    {
     "data": {
      "text/plain": [
       "['stats',\n",
       " 10000,\n",
       " {'sub': 'datascience'},\n",
       " 3,\n",
       " ['satya', 'swapnil'],\n",
       " 'yaseen',\n",
       " 'stringvalue']"
      ]
     },
     "execution_count": 673,
     "metadata": {},
     "output_type": "execute_result"
    }
   ],
   "source": [
    "l2"
   ]
  },
  {
   "cell_type": "code",
   "execution_count": 675,
   "id": "8cf1da15-d528-4a47-9778-f0b9243a939b",
   "metadata": {},
   "outputs": [
    {
     "ename": "TypeError",
     "evalue": "'<' not supported between instances of 'int' and 'str'",
     "output_type": "error",
     "traceback": [
      "\u001b[1;31m---------------------------------------------------------------------------\u001b[0m",
      "\u001b[1;31mTypeError\u001b[0m                                 Traceback (most recent call last)",
      "Cell \u001b[1;32mIn[675], line 1\u001b[0m\n\u001b[1;32m----> 1\u001b[0m l2\u001b[38;5;241m.\u001b[39msort()\n",
      "\u001b[1;31mTypeError\u001b[0m: '<' not supported between instances of 'int' and 'str'"
     ]
    }
   ],
   "source": [
    "l2.sort()"
   ]
  },
  {
   "cell_type": "code",
   "execution_count": 681,
   "id": "d8d16779-7fbe-4d04-bd39-ee94e93b729b",
   "metadata": {},
   "outputs": [],
   "source": [
    "l1 = [5, 3, 8, 3.14]\n",
    "l1.sort()"
   ]
  },
  {
   "cell_type": "code",
   "execution_count": 683,
   "id": "d6146f46-5c60-4e96-abc7-41b5d4bde7f1",
   "metadata": {},
   "outputs": [
    {
     "data": {
      "text/plain": [
       "[3, 3.14, 5, 8]"
      ]
     },
     "execution_count": 683,
     "metadata": {},
     "output_type": "execute_result"
    }
   ],
   "source": [
    "l1"
   ]
  },
  {
   "cell_type": "code",
   "execution_count": 685,
   "id": "a25ef904-cf48-4b16-87af-0b364fe9a9b5",
   "metadata": {},
   "outputs": [
    {
     "data": {
      "text/plain": [
       "['swapnil', 'yaseen']"
      ]
     },
     "execution_count": 685,
     "metadata": {},
     "output_type": "execute_result"
    }
   ],
   "source": [
    "l4 = ['yaseen', 'swapnil']\n",
    "l4.sort()\n",
    "l4"
   ]
  },
  {
   "cell_type": "markdown",
   "id": "2821d94f-b171-471b-9b7b-7e5f0d6267ac",
   "metadata": {},
   "source": [
    "#### slicing & indexing"
   ]
  },
  {
   "cell_type": "code",
   "execution_count": 688,
   "id": "6e54b380-16a0-41e1-871d-9ee18821e111",
   "metadata": {},
   "outputs": [
    {
     "data": {
      "text/plain": [
       "['stats',\n",
       " 10000,\n",
       " {'sub': 'datascience'},\n",
       " 3,\n",
       " ['satya', 'swapnil'],\n",
       " 'yaseen',\n",
       " 'stringvalue']"
      ]
     },
     "execution_count": 688,
     "metadata": {},
     "output_type": "execute_result"
    }
   ],
   "source": [
    "l2"
   ]
  },
  {
   "cell_type": "code",
   "execution_count": 694,
   "id": "56356c88-c427-4d49-926f-bb18cee7d043",
   "metadata": {},
   "outputs": [
    {
     "data": {
      "text/plain": [
       "('stats', 'stringvalue', {'sub': 'datascience'})"
      ]
     },
     "execution_count": 694,
     "metadata": {},
     "output_type": "execute_result"
    }
   ],
   "source": [
    "l2[0], l2[-1], l2[2], "
   ]
  },
  {
   "cell_type": "code",
   "execution_count": 696,
   "id": "992fc255-c922-470b-a337-500764e0f450",
   "metadata": {},
   "outputs": [
    {
     "ename": "KeyError",
     "evalue": "0",
     "output_type": "error",
     "traceback": [
      "\u001b[1;31m---------------------------------------------------------------------------\u001b[0m",
      "\u001b[1;31mKeyError\u001b[0m                                  Traceback (most recent call last)",
      "Cell \u001b[1;32mIn[696], line 1\u001b[0m\n\u001b[1;32m----> 1\u001b[0m l2[\u001b[38;5;241m2\u001b[39m][\u001b[38;5;241m0\u001b[39m]\n",
      "\u001b[1;31mKeyError\u001b[0m: 0"
     ]
    }
   ],
   "source": [
    "l2[2][0], "
   ]
  },
  {
   "cell_type": "code",
   "execution_count": 698,
   "id": "a800f95a-49e5-46e4-8cee-80df79503cbe",
   "metadata": {},
   "outputs": [
    {
     "data": {
      "text/plain": [
       "'datascience'"
      ]
     },
     "execution_count": 698,
     "metadata": {},
     "output_type": "execute_result"
    }
   ],
   "source": [
    "l2[2]['sub']"
   ]
  },
  {
   "cell_type": "code",
   "execution_count": 702,
   "id": "8f9059a6-1cc2-41a8-a91f-191258f3ba0c",
   "metadata": {},
   "outputs": [
    {
     "data": {
      "text/plain": [
       "('satya', 'swapnil')"
      ]
     },
     "execution_count": 702,
     "metadata": {},
     "output_type": "execute_result"
    }
   ],
   "source": [
    "l2[4][0], l2[4][-1]"
   ]
  },
  {
   "cell_type": "code",
   "execution_count": 704,
   "id": "b5db162f-36cd-4285-a48a-5494bc5acc32",
   "metadata": {},
   "outputs": [
    {
     "data": {
      "text/plain": [
       "[10000, {'sub': 'datascience'}, 3, ['satya', 'swapnil'], 'yaseen']"
      ]
     },
     "execution_count": 704,
     "metadata": {},
     "output_type": "execute_result"
    }
   ],
   "source": [
    "l2[1:6]"
   ]
  },
  {
   "cell_type": "code",
   "execution_count": 710,
   "id": "e1000db0-96f0-4493-a344-549f89df178d",
   "metadata": {},
   "outputs": [
    {
     "data": {
      "text/plain": [
       "['stats',\n",
       " 10000,\n",
       " {'sub': 'datascience'},\n",
       " 3,\n",
       " ['satya', 'swapnil'],\n",
       " 'yaseen',\n",
       " 'stringvalue']"
      ]
     },
     "execution_count": 710,
     "metadata": {},
     "output_type": "execute_result"
    }
   ],
   "source": [
    "l2"
   ]
  },
  {
   "cell_type": "code",
   "execution_count": 712,
   "id": "042ddb6c-3732-4bcb-ad35-4045658ec985",
   "metadata": {},
   "outputs": [
    {
     "data": {
      "text/plain": [
       "['stringvalue',\n",
       " 'yaseen',\n",
       " ['satya', 'swapnil'],\n",
       " 3,\n",
       " {'sub': 'datascience'},\n",
       " 10000,\n",
       " 'stats']"
      ]
     },
     "execution_count": 712,
     "metadata": {},
     "output_type": "execute_result"
    }
   ],
   "source": [
    "l2[-1:-9:-1] #negative batch size will require negative start and end values"
   ]
  },
  {
   "cell_type": "code",
   "execution_count": 716,
   "id": "80ccf914-7525-44c2-9837-3ed244ed1aeb",
   "metadata": {},
   "outputs": [],
   "source": [
    "lis = [[1, 2, 3],[4, 5,6],[7, 8, 9]]"
   ]
  },
  {
   "cell_type": "code",
   "execution_count": 724,
   "id": "f0e9b7c9-8ea7-4e76-87a0-e9f61fb6ed9d",
   "metadata": {},
   "outputs": [
    {
     "data": {
      "text/plain": [
       "([1, 2, 3], [4, 5, 6], [7, 8, 9])"
      ]
     },
     "execution_count": 724,
     "metadata": {},
     "output_type": "execute_result"
    }
   ],
   "source": [
    "lis[0], lis[1], lis[-1]"
   ]
  },
  {
   "cell_type": "code",
   "execution_count": 732,
   "id": "aabbee09-d713-4b17-98d6-5d09080589a8",
   "metadata": {},
   "outputs": [
    {
     "data": {
      "text/plain": [
       "(1, 2, 9)"
      ]
     },
     "execution_count": 732,
     "metadata": {},
     "output_type": "execute_result"
    }
   ],
   "source": [
    "lis[0][0], lis[0][1], lis[2][2]"
   ]
  },
  {
   "cell_type": "code",
   "execution_count": 736,
   "id": "116fe16c-6076-4474-bb4f-bea59ae9ca22",
   "metadata": {},
   "outputs": [
    {
     "data": {
      "text/plain": [
       "(1, 9)"
      ]
     },
     "execution_count": 736,
     "metadata": {},
     "output_type": "execute_result"
    }
   ],
   "source": [
    "lis[-3][-3], lis[-1][-1]"
   ]
  },
  {
   "cell_type": "code",
   "execution_count": 742,
   "id": "14730da1-6b05-45a8-a567-f38aac852d84",
   "metadata": {},
   "outputs": [
    {
     "data": {
      "text/plain": [
       "([4, 5, 6], [1, 2, 3])"
      ]
     },
     "execution_count": 742,
     "metadata": {},
     "output_type": "execute_result"
    }
   ],
   "source": [
    "lis[-2], lis[-3]"
   ]
  },
  {
   "cell_type": "code",
   "execution_count": 748,
   "id": "e45f077e-41a7-45ac-ae4b-5622ef52031d",
   "metadata": {},
   "outputs": [
    {
     "data": {
      "text/plain": [
       "[[1, 2, 3], [4, 5, 6], [7, 8, 9]]"
      ]
     },
     "execution_count": 748,
     "metadata": {},
     "output_type": "execute_result"
    }
   ],
   "source": [
    "lis[0:3]"
   ]
  },
  {
   "cell_type": "code",
   "execution_count": 750,
   "id": "e1b191a8-e7bb-44e2-82ca-c0e487bc0d2c",
   "metadata": {},
   "outputs": [
    {
     "data": {
      "text/plain": [
       "[]"
      ]
     },
     "execution_count": 750,
     "metadata": {},
     "output_type": "execute_result"
    }
   ],
   "source": [
    "lis[-1:-4]"
   ]
  },
  {
   "cell_type": "code",
   "execution_count": 762,
   "id": "2bd22bc3-6410-4920-89a5-f67cd35ae888",
   "metadata": {},
   "outputs": [
    {
     "data": {
      "text/plain": [
       "[[1, 2, 3], [4, 5, 6], [7, 8, 9]]"
      ]
     },
     "execution_count": 762,
     "metadata": {},
     "output_type": "execute_result"
    }
   ],
   "source": [
    "lis[:]"
   ]
  },
  {
   "cell_type": "code",
   "execution_count": 760,
   "id": "7aec10db-d342-417e-8e83-fb78ba115919",
   "metadata": {},
   "outputs": [
    {
     "data": {
      "text/plain": [
       "[[1, 2, 3], [4, 5, 6], [7, 8, 9]]"
      ]
     },
     "execution_count": 760,
     "metadata": {},
     "output_type": "execute_result"
    }
   ],
   "source": [
    " lis[::]"
   ]
  },
  {
   "cell_type": "code",
   "execution_count": 772,
   "id": "e44ecac2-5f37-4055-b433-e5072d8f18ec",
   "metadata": {},
   "outputs": [
    {
     "data": {
      "text/plain": [
       "[[7, 8, 9]]"
      ]
     },
     "execution_count": 772,
     "metadata": {},
     "output_type": "execute_result"
    }
   ],
   "source": [
    "lis[-1::]"
   ]
  },
  {
   "cell_type": "code",
   "execution_count": 790,
   "id": "7f683acf-69e3-4ced-b418-610740298cb2",
   "metadata": {},
   "outputs": [
    {
     "data": {
      "text/plain": [
       "[[4, 5, 6], [7, 8, 9]]"
      ]
     },
     "execution_count": 790,
     "metadata": {},
     "output_type": "execute_result"
    }
   ],
   "source": [
    "lis[1:3:] "
   ]
  },
  {
   "cell_type": "code",
   "execution_count": 792,
   "id": "aa1fcd86-4891-4454-809b-4510914c3f6a",
   "metadata": {},
   "outputs": [
    {
     "data": {
      "text/plain": [
       "[1, 2, 3]"
      ]
     },
     "execution_count": 792,
     "metadata": {},
     "output_type": "execute_result"
    }
   ],
   "source": [
    "min(lis)"
   ]
  },
  {
   "cell_type": "code",
   "execution_count": 796,
   "id": "d2d60fe2-9394-415a-96a2-3ae0ccaf80bb",
   "metadata": {},
   "outputs": [
    {
     "data": {
      "text/plain": [
       "'yaseen'"
      ]
     },
     "execution_count": 796,
     "metadata": {},
     "output_type": "execute_result"
    }
   ],
   "source": [
    "max(l4)"
   ]
  },
  {
   "cell_type": "code",
   "execution_count": 798,
   "id": "a8a958f5-bd7c-4e05-a983-1e46b7016709",
   "metadata": {},
   "outputs": [
    {
     "data": {
      "text/plain": [
       "['swapnil', 'yaseen']"
      ]
     },
     "execution_count": 798,
     "metadata": {},
     "output_type": "execute_result"
    }
   ],
   "source": [
    "l4"
   ]
  },
  {
   "cell_type": "code",
   "execution_count": 800,
   "id": "c56d4832-2774-4bd3-9ed7-6537ff2c8f7b",
   "metadata": {},
   "outputs": [
    {
     "data": {
      "text/plain": [
       "7"
      ]
     },
     "execution_count": 800,
     "metadata": {},
     "output_type": "execute_result"
    }
   ],
   "source": [
    "len(l2)"
   ]
  },
  {
   "cell_type": "code",
   "execution_count": 802,
   "id": "673d9c0d-ca3e-4ed3-8615-b9f44f6e663c",
   "metadata": {},
   "outputs": [
    {
     "data": {
      "text/plain": [
       "['stats',\n",
       " 10000,\n",
       " {'sub': 'datascience'},\n",
       " 3,\n",
       " ['satya', 'swapnil'],\n",
       " 'yaseen',\n",
       " 'stringvalue']"
      ]
     },
     "execution_count": 802,
     "metadata": {},
     "output_type": "execute_result"
    }
   ],
   "source": [
    "l2"
   ]
  },
  {
   "cell_type": "markdown",
   "id": "a2ac1392-51de-455e-8822-f6a1d009740a",
   "metadata": {},
   "source": [
    "## Tuples"
   ]
  },
  {
   "cell_type": "code",
   "execution_count": 804,
   "id": "b3f4cb78-751e-43e2-9349-14312424fa6c",
   "metadata": {},
   "outputs": [],
   "source": [
    "t = ()"
   ]
  },
  {
   "cell_type": "code",
   "execution_count": 806,
   "id": "a15bb9df-dde7-48d6-a3fa-8f074eda4f13",
   "metadata": {},
   "outputs": [
    {
     "data": {
      "text/plain": [
       "tuple"
      ]
     },
     "execution_count": 806,
     "metadata": {},
     "output_type": "execute_result"
    }
   ],
   "source": [
    "type(t)"
   ]
  },
  {
   "cell_type": "code",
   "execution_count": 808,
   "id": "ef39c7a9-1fd7-4f49-aed7-d1b50a5be824",
   "metadata": {},
   "outputs": [
    {
     "data": {
      "text/plain": [
       "()"
      ]
     },
     "execution_count": 808,
     "metadata": {},
     "output_type": "execute_result"
    }
   ],
   "source": [
    "t1 = tuple()\n",
    "t1"
   ]
  },
  {
   "cell_type": "code",
   "execution_count": 810,
   "id": "4adbe3dc-f5ff-47b2-84e8-347651ef8295",
   "metadata": {},
   "outputs": [],
   "source": [
    "t = ('a', 'b', 'c', 'd')\n",
    "t1 = (1, 2, 3, 4)"
   ]
  },
  {
   "cell_type": "code",
   "execution_count": 812,
   "id": "98a5e8bd-c477-428a-b23f-7be2b3c55de2",
   "metadata": {},
   "outputs": [
    {
     "data": {
      "text/plain": [
       "('a', 'b', 'c', 'd', 1, 2, 3, 4)"
      ]
     },
     "execution_count": 812,
     "metadata": {},
     "output_type": "execute_result"
    }
   ],
   "source": [
    "t + t1"
   ]
  },
  {
   "cell_type": "code",
   "execution_count": 814,
   "id": "c700746c-c7a9-42f8-a26a-1299462e6b19",
   "metadata": {},
   "outputs": [
    {
     "data": {
      "text/plain": [
       "('a', 'b', 'c', 'd', 'a', 'b', 'c', 'd')"
      ]
     },
     "execution_count": 814,
     "metadata": {},
     "output_type": "execute_result"
    }
   ],
   "source": [
    "t *2"
   ]
  },
  {
   "cell_type": "code",
   "execution_count": 816,
   "id": "974b6ff3-d347-4ee2-a32c-aff009971696",
   "metadata": {},
   "outputs": [
    {
     "data": {
      "text/plain": [
       "4"
      ]
     },
     "execution_count": 816,
     "metadata": {},
     "output_type": "execute_result"
    }
   ],
   "source": [
    "len(t)"
   ]
  },
  {
   "cell_type": "code",
   "execution_count": 818,
   "id": "fa9b4749-8222-4cfd-af29-b9a2b8b10792",
   "metadata": {},
   "outputs": [
    {
     "data": {
      "text/plain": [
       "4"
      ]
     },
     "execution_count": 818,
     "metadata": {},
     "output_type": "execute_result"
    }
   ],
   "source": [
    "max(t1)"
   ]
  },
  {
   "cell_type": "code",
   "execution_count": 820,
   "id": "a9439001-3c33-41f6-a783-373897004a7f",
   "metadata": {},
   "outputs": [
    {
     "data": {
      "text/plain": [
       "'a'"
      ]
     },
     "execution_count": 820,
     "metadata": {},
     "output_type": "execute_result"
    }
   ],
   "source": [
    "min(t)"
   ]
  },
  {
   "cell_type": "code",
   "execution_count": 822,
   "id": "ec192b2d-4e30-4925-a2b3-a692643a409e",
   "metadata": {},
   "outputs": [
    {
     "data": {
      "text/plain": [
       "('stats', 'prob', 'genai')"
      ]
     },
     "execution_count": 822,
     "metadata": {},
     "output_type": "execute_result"
    }
   ],
   "source": [
    "l = ['stats', 'prob', 'genai']\n",
    "t2 = tuple(l)\n",
    "t2"
   ]
  },
  {
   "cell_type": "code",
   "execution_count": 854,
   "id": "d1569f7e-360c-4bef-ae5d-921d105b2a51",
   "metadata": {},
   "outputs": [
    {
     "data": {
      "text/plain": [
       "('stats', 'prob', 'genai')"
      ]
     },
     "execution_count": 854,
     "metadata": {},
     "output_type": "execute_result"
    }
   ],
   "source": [
    "t2"
   ]
  },
  {
   "cell_type": "code",
   "execution_count": 856,
   "id": "d7a94506-293c-4656-8600-cc9eba58cd66",
   "metadata": {},
   "outputs": [
    {
     "data": {
      "text/plain": [
       "1"
      ]
     },
     "execution_count": 856,
     "metadata": {},
     "output_type": "execute_result"
    }
   ],
   "source": [
    "t2.index('prob')"
   ]
  },
  {
   "cell_type": "code",
   "execution_count": 824,
   "id": "455948c5-3970-4693-9037-5ff9a88cd6b7",
   "metadata": {},
   "outputs": [
    {
     "data": {
      "text/plain": [
       "'stats'"
      ]
     },
     "execution_count": 824,
     "metadata": {},
     "output_type": "execute_result"
    }
   ],
   "source": [
    "t2[0]"
   ]
  },
  {
   "cell_type": "code",
   "execution_count": 826,
   "id": "35599c7a-7291-4c50-910d-4a48963953f4",
   "metadata": {},
   "outputs": [
    {
     "data": {
      "text/plain": [
       "'prob'"
      ]
     },
     "execution_count": 826,
     "metadata": {},
     "output_type": "execute_result"
    }
   ],
   "source": [
    "t2[1]"
   ]
  },
  {
   "cell_type": "code",
   "execution_count": 828,
   "id": "c68267d1-ad5e-46d9-90a1-3ed081a8cef7",
   "metadata": {},
   "outputs": [
    {
     "data": {
      "text/plain": [
       "'d'"
      ]
     },
     "execution_count": 828,
     "metadata": {},
     "output_type": "execute_result"
    }
   ],
   "source": [
    "t[-1]"
   ]
  },
  {
   "cell_type": "code",
   "execution_count": 830,
   "id": "4bd59c6a-c782-4943-9895-5e9507fea746",
   "metadata": {},
   "outputs": [
    {
     "data": {
      "text/plain": [
       "('d', 'c', 'b', 'a')"
      ]
     },
     "execution_count": 830,
     "metadata": {},
     "output_type": "execute_result"
    }
   ],
   "source": [
    "t[::-1]"
   ]
  },
  {
   "cell_type": "code",
   "execution_count": 832,
   "id": "90b1e1a3-d65c-4801-afcd-e3e3706c021d",
   "metadata": {},
   "outputs": [
    {
     "data": {
      "text/plain": [
       "['__add__',\n",
       " '__class__',\n",
       " '__class_getitem__',\n",
       " '__contains__',\n",
       " '__delattr__',\n",
       " '__dir__',\n",
       " '__doc__',\n",
       " '__eq__',\n",
       " '__format__',\n",
       " '__ge__',\n",
       " '__getattribute__',\n",
       " '__getitem__',\n",
       " '__getnewargs__',\n",
       " '__getstate__',\n",
       " '__gt__',\n",
       " '__hash__',\n",
       " '__init__',\n",
       " '__init_subclass__',\n",
       " '__iter__',\n",
       " '__le__',\n",
       " '__len__',\n",
       " '__lt__',\n",
       " '__mul__',\n",
       " '__ne__',\n",
       " '__new__',\n",
       " '__reduce__',\n",
       " '__reduce_ex__',\n",
       " '__repr__',\n",
       " '__rmul__',\n",
       " '__setattr__',\n",
       " '__sizeof__',\n",
       " '__str__',\n",
       " '__subclasshook__',\n",
       " 'count',\n",
       " 'index']"
      ]
     },
     "execution_count": 832,
     "metadata": {},
     "output_type": "execute_result"
    }
   ],
   "source": [
    "dir(t)"
   ]
  },
  {
   "cell_type": "code",
   "execution_count": 834,
   "id": "b99b1f20-2ba1-4b2c-9796-a9649b17ece9",
   "metadata": {},
   "outputs": [
    {
     "data": {
      "text/plain": [
       "1"
      ]
     },
     "execution_count": 834,
     "metadata": {},
     "output_type": "execute_result"
    }
   ],
   "source": [
    "t.count('b')"
   ]
  },
  {
   "cell_type": "code",
   "execution_count": 836,
   "id": "e86bb4d2-2cbf-4d65-86c6-881f3362fee0",
   "metadata": {},
   "outputs": [
    {
     "data": {
      "text/plain": [
       "2"
      ]
     },
     "execution_count": 836,
     "metadata": {},
     "output_type": "execute_result"
    }
   ],
   "source": [
    "t.index('c')"
   ]
  },
  {
   "cell_type": "code",
   "execution_count": 838,
   "id": "6589b353-b798-47c1-80f1-bc871d7c310e",
   "metadata": {},
   "outputs": [
    {
     "data": {
      "text/plain": [
       "(('a', 'b', 'c', 'd'), (1, 2, 3, 4))"
      ]
     },
     "execution_count": 838,
     "metadata": {},
     "output_type": "execute_result"
    }
   ],
   "source": [
    "t, t1"
   ]
  },
  {
   "cell_type": "code",
   "execution_count": 842,
   "id": "f6abc556-43a6-4264-a68b-147b6699b194",
   "metadata": {},
   "outputs": [
    {
     "data": {
      "text/plain": [
       "False"
      ]
     },
     "execution_count": 842,
     "metadata": {},
     "output_type": "execute_result"
    }
   ],
   "source": [
    "t == t1"
   ]
  },
  {
   "cell_type": "code",
   "execution_count": 844,
   "id": "067a786b-6287-44b4-ac93-2c8230032c78",
   "metadata": {},
   "outputs": [
    {
     "data": {
      "text/plain": [
       "True"
      ]
     },
     "execution_count": 844,
     "metadata": {},
     "output_type": "execute_result"
    }
   ],
   "source": [
    "t > ('a', 'b')"
   ]
  },
  {
   "cell_type": "code",
   "execution_count": 848,
   "id": "8fde2f9d-86b0-40e3-aac1-53241e90a5cd",
   "metadata": {},
   "outputs": [
    {
     "data": {
      "text/plain": [
       "('a', 'b', 'c', 'd')"
      ]
     },
     "execution_count": 848,
     "metadata": {},
     "output_type": "execute_result"
    }
   ],
   "source": [
    "t"
   ]
  },
  {
   "cell_type": "code",
   "execution_count": 846,
   "id": "8ad5929f-9fd5-4ac5-acd6-ea9f7cec0960",
   "metadata": {},
   "outputs": [
    {
     "ename": "TypeError",
     "evalue": "'tuple' object does not support item deletion",
     "output_type": "error",
     "traceback": [
      "\u001b[1;31m---------------------------------------------------------------------------\u001b[0m",
      "\u001b[1;31mTypeError\u001b[0m                                 Traceback (most recent call last)",
      "Cell \u001b[1;32mIn[846], line 1\u001b[0m\n\u001b[1;32m----> 1\u001b[0m \u001b[38;5;28;01mdel\u001b[39;00m t[\u001b[38;5;124m'\u001b[39m\u001b[38;5;124ma\u001b[39m\u001b[38;5;124m'\u001b[39m]\n",
      "\u001b[1;31mTypeError\u001b[0m: 'tuple' object does not support item deletion"
     ]
    }
   ],
   "source": [
    "del t['a']"
   ]
  },
  {
   "cell_type": "code",
   "execution_count": 850,
   "id": "a048b42e-a20a-41f8-b71c-aa0257c71b62",
   "metadata": {},
   "outputs": [],
   "source": [
    "del t"
   ]
  },
  {
   "cell_type": "code",
   "execution_count": 852,
   "id": "61326cbd-8049-4053-9a58-b8a15d99214f",
   "metadata": {},
   "outputs": [
    {
     "ename": "NameError",
     "evalue": "name 't' is not defined",
     "output_type": "error",
     "traceback": [
      "\u001b[1;31m---------------------------------------------------------------------------\u001b[0m",
      "\u001b[1;31mNameError\u001b[0m                                 Traceback (most recent call last)",
      "Cell \u001b[1;32mIn[852], line 1\u001b[0m\n\u001b[1;32m----> 1\u001b[0m t\n",
      "\u001b[1;31mNameError\u001b[0m: name 't' is not defined"
     ]
    }
   ],
   "source": [
    "t"
   ]
  },
  {
   "cell_type": "code",
   "execution_count": null,
   "id": "a9ace40a-fb67-4857-80b1-411706c95b11",
   "metadata": {},
   "outputs": [],
   "source": []
  },
  {
   "cell_type": "markdown",
   "id": "2bd37b98-5a58-4499-827c-a3beeab63176",
   "metadata": {},
   "source": [
    "## Dictionary"
   ]
  },
  {
   "cell_type": "code",
   "execution_count": 858,
   "id": "16bbb90d-53b2-4016-ab1d-d7e0015e25c5",
   "metadata": {},
   "outputs": [
    {
     "data": {
      "text/plain": [
       "dict"
      ]
     },
     "execution_count": 858,
     "metadata": {},
     "output_type": "execute_result"
    }
   ],
   "source": [
    "d = {}\n",
    "type(d)"
   ]
  },
  {
   "cell_type": "code",
   "execution_count": 860,
   "id": "9710ac06-033a-4b0e-bc98-dc61e41ab990",
   "metadata": {},
   "outputs": [
    {
     "data": {
      "text/plain": [
       "dict"
      ]
     },
     "execution_count": 860,
     "metadata": {},
     "output_type": "execute_result"
    }
   ],
   "source": [
    "d1 = dict()\n",
    "type(d1)"
   ]
  },
  {
   "cell_type": "code",
   "execution_count": 864,
   "id": "f8480a92-0687-4444-bd9b-cf5774c4aa5e",
   "metadata": {},
   "outputs": [],
   "source": [
    "d2 = {'language' : 'python'}"
   ]
  },
  {
   "cell_type": "code",
   "execution_count": 866,
   "id": "6f6d1f8e-612f-4f81-9271-929216a0115d",
   "metadata": {},
   "outputs": [
    {
     "data": {
      "text/plain": [
       "{'language': 'python'}"
      ]
     },
     "execution_count": 866,
     "metadata": {},
     "output_type": "execute_result"
    }
   ],
   "source": [
    "d2"
   ]
  },
  {
   "cell_type": "code",
   "execution_count": 868,
   "id": "f41f0e1e-1905-44f4-85db-3c3dc2a79202",
   "metadata": {},
   "outputs": [
    {
     "data": {
      "text/plain": [
       "{'lang': 'SQL'}"
      ]
     },
     "execution_count": 868,
     "metadata": {},
     "output_type": "execute_result"
    }
   ],
   "source": [
    "d3 = dict(lang = 'SQL')\n",
    "d3"
   ]
  },
  {
   "cell_type": "code",
   "execution_count": 870,
   "id": "318a6872-5092-45f5-8a2d-a94b2e24ab3c",
   "metadata": {},
   "outputs": [
    {
     "data": {
      "text/plain": [
       "{'lang': 'mySQL'}"
      ]
     },
     "execution_count": 870,
     "metadata": {},
     "output_type": "execute_result"
    }
   ],
   "source": [
    "d4 = dict([('lang', 'mySQL')])\n",
    "d4"
   ]
  },
  {
   "cell_type": "code",
   "execution_count": 872,
   "id": "3451c983-b168-40d3-b344-5fa4e9adaead",
   "metadata": {},
   "outputs": [
    {
     "data": {
      "text/plain": [
       "['__class__',\n",
       " '__class_getitem__',\n",
       " '__contains__',\n",
       " '__delattr__',\n",
       " '__delitem__',\n",
       " '__dir__',\n",
       " '__doc__',\n",
       " '__eq__',\n",
       " '__format__',\n",
       " '__ge__',\n",
       " '__getattribute__',\n",
       " '__getitem__',\n",
       " '__getstate__',\n",
       " '__gt__',\n",
       " '__hash__',\n",
       " '__init__',\n",
       " '__init_subclass__',\n",
       " '__ior__',\n",
       " '__iter__',\n",
       " '__le__',\n",
       " '__len__',\n",
       " '__lt__',\n",
       " '__ne__',\n",
       " '__new__',\n",
       " '__or__',\n",
       " '__reduce__',\n",
       " '__reduce_ex__',\n",
       " '__repr__',\n",
       " '__reversed__',\n",
       " '__ror__',\n",
       " '__setattr__',\n",
       " '__setitem__',\n",
       " '__sizeof__',\n",
       " '__str__',\n",
       " '__subclasshook__',\n",
       " 'clear',\n",
       " 'copy',\n",
       " 'fromkeys',\n",
       " 'get',\n",
       " 'items',\n",
       " 'keys',\n",
       " 'pop',\n",
       " 'popitem',\n",
       " 'setdefault',\n",
       " 'update',\n",
       " 'values']"
      ]
     },
     "execution_count": 872,
     "metadata": {},
     "output_type": "execute_result"
    }
   ],
   "source": [
    "dir(d)"
   ]
  },
  {
   "cell_type": "code",
   "execution_count": 874,
   "id": "028a6f84-c8a6-4e71-8570-2f8f27391eb8",
   "metadata": {},
   "outputs": [
    {
     "data": {
      "text/plain": [
       "{'lang': 'mySQL'}"
      ]
     },
     "execution_count": 874,
     "metadata": {},
     "output_type": "execute_result"
    }
   ],
   "source": [
    "dict_copy = d4.copy()\n",
    "dict_copy"
   ]
  },
  {
   "cell_type": "code",
   "execution_count": 876,
   "id": "e4e0c03f-ea33-44b3-b06d-0c8cea50c559",
   "metadata": {},
   "outputs": [],
   "source": [
    "d4.clear()"
   ]
  },
  {
   "cell_type": "code",
   "execution_count": 878,
   "id": "b3cae702-743c-4edf-a3c7-88e91761a53c",
   "metadata": {},
   "outputs": [
    {
     "data": {
      "text/plain": [
       "{}"
      ]
     },
     "execution_count": 878,
     "metadata": {},
     "output_type": "execute_result"
    }
   ],
   "source": [
    "d4"
   ]
  },
  {
   "cell_type": "code",
   "execution_count": 880,
   "id": "d239c136-a8b0-4db2-b0d9-480a57c3b32d",
   "metadata": {},
   "outputs": [
    {
     "data": {
      "text/plain": [
       "{1: None, 2: None, 3: None, 4: None, 5: None}"
      ]
     },
     "execution_count": 880,
     "metadata": {},
     "output_type": "execute_result"
    }
   ],
   "source": [
    "dict_copy.fromkeys([1, 2, 3, 4,5])"
   ]
  },
  {
   "cell_type": "code",
   "execution_count": 882,
   "id": "c3c9dbb4-007b-4fd1-8ff8-97ebaa85fd76",
   "metadata": {},
   "outputs": [
    {
     "data": {
      "text/plain": [
       "{'s': None, 't': None, 'r': None, 'i': None, 'n': None, 'g': None}"
      ]
     },
     "execution_count": 882,
     "metadata": {},
     "output_type": "execute_result"
    }
   ],
   "source": [
    "dict_copy.fromkeys('string')"
   ]
  },
  {
   "cell_type": "code",
   "execution_count": 884,
   "id": "162ed34c-4546-4a76-be85-915571838f71",
   "metadata": {},
   "outputs": [
    {
     "data": {
      "text/plain": [
       "{'s': None, 'a': None, 'd': None, 'i': None, 'q': None}"
      ]
     },
     "execution_count": 884,
     "metadata": {},
     "output_type": "execute_result"
    }
   ],
   "source": [
    "dict_copy.fromkeys(('sadiq'))"
   ]
  },
  {
   "cell_type": "code",
   "execution_count": 886,
   "id": "5b0c9a4a-d161-4ce8-a498-f82f1e8238e2",
   "metadata": {},
   "outputs": [
    {
     "data": {
      "text/plain": [
       "{'lang': 'SQL'}"
      ]
     },
     "execution_count": 886,
     "metadata": {},
     "output_type": "execute_result"
    }
   ],
   "source": [
    "d3"
   ]
  },
  {
   "cell_type": "code",
   "execution_count": 888,
   "id": "256ba63a-129e-43c0-ab81-f20a8c2eb373",
   "metadata": {},
   "outputs": [
    {
     "data": {
      "text/plain": [
       "dict_keys(['lang'])"
      ]
     },
     "execution_count": 888,
     "metadata": {},
     "output_type": "execute_result"
    }
   ],
   "source": [
    "d3.keys()"
   ]
  },
  {
   "cell_type": "code",
   "execution_count": 890,
   "id": "f0d9b4d4-c323-4403-998e-d6d87621ce16",
   "metadata": {},
   "outputs": [
    {
     "data": {
      "text/plain": [
       "dict_values(['SQL'])"
      ]
     },
     "execution_count": 890,
     "metadata": {},
     "output_type": "execute_result"
    }
   ],
   "source": [
    "d3.values()"
   ]
  },
  {
   "cell_type": "code",
   "execution_count": 892,
   "id": "c9b1e39e-7fd6-4451-a3f2-c7e0b4142b99",
   "metadata": {},
   "outputs": [
    {
     "data": {
      "text/plain": [
       "dict_items([('lang', 'SQL')])"
      ]
     },
     "execution_count": 892,
     "metadata": {},
     "output_type": "execute_result"
    }
   ],
   "source": [
    "d3.items()"
   ]
  },
  {
   "cell_type": "code",
   "execution_count": 894,
   "id": "7b8ec1ce-ec6d-43c0-b954-2de73f04e394",
   "metadata": {},
   "outputs": [
    {
     "ename": "TypeError",
     "evalue": "unsupported operand type(s) for +: 'dict' and 'dict'",
     "output_type": "error",
     "traceback": [
      "\u001b[1;31m---------------------------------------------------------------------------\u001b[0m",
      "\u001b[1;31mTypeError\u001b[0m                                 Traceback (most recent call last)",
      "Cell \u001b[1;32mIn[894], line 1\u001b[0m\n\u001b[1;32m----> 1\u001b[0m d3 \u001b[38;5;241m+\u001b[39m d2\n",
      "\u001b[1;31mTypeError\u001b[0m: unsupported operand type(s) for +: 'dict' and 'dict'"
     ]
    }
   ],
   "source": [
    "d3 + d2 #Doesnt support addition of dicts"
   ]
  },
  {
   "cell_type": "code",
   "execution_count": 896,
   "id": "59f5e7d2-d506-4555-9cac-e1ec57b6f922",
   "metadata": {},
   "outputs": [],
   "source": [
    "d3.update(d2)"
   ]
  },
  {
   "cell_type": "code",
   "execution_count": 898,
   "id": "a6703bf4-45b6-43cc-8aab-e45d0cfe8bec",
   "metadata": {},
   "outputs": [
    {
     "data": {
      "text/plain": [
       "{'lang': 'SQL', 'language': 'python'}"
      ]
     },
     "execution_count": 898,
     "metadata": {},
     "output_type": "execute_result"
    }
   ],
   "source": [
    "d3"
   ]
  },
  {
   "cell_type": "code",
   "execution_count": 900,
   "id": "714119c9-716a-4741-807a-92b630405cf2",
   "metadata": {},
   "outputs": [
    {
     "data": {
      "text/plain": [
       "dict_keys(['lang', 'language'])"
      ]
     },
     "execution_count": 900,
     "metadata": {},
     "output_type": "execute_result"
    }
   ],
   "source": [
    "d3.keys()"
   ]
  },
  {
   "cell_type": "code",
   "execution_count": 906,
   "id": "ac8640c1-40b1-4195-b5e3-2a400fe31108",
   "metadata": {},
   "outputs": [],
   "source": [
    "d3['lang2'] = 'mySQL'"
   ]
  },
  {
   "cell_type": "code",
   "execution_count": 908,
   "id": "c8f0596a-e140-4fa5-8b63-773e20f4d64a",
   "metadata": {},
   "outputs": [
    {
     "data": {
      "text/plain": [
       "{'lang': 'SQL', 'language': 'python', 'lang2': 'mySQL'}"
      ]
     },
     "execution_count": 908,
     "metadata": {},
     "output_type": "execute_result"
    }
   ],
   "source": [
    "d3"
   ]
  },
  {
   "cell_type": "code",
   "execution_count": 912,
   "id": "ad0e1df7-bec1-4640-a4bf-7652c27577a2",
   "metadata": {},
   "outputs": [],
   "source": [
    "for key in d3.keys():\n",
    "    if key == 'lang3':\n",
    "        print('found')"
   ]
  },
  {
   "cell_type": "code",
   "execution_count": 914,
   "id": "32b8240e-6916-4e98-85bb-e8cb11629de2",
   "metadata": {},
   "outputs": [
    {
     "ename": "KeyError",
     "evalue": "'lang3'",
     "output_type": "error",
     "traceback": [
      "\u001b[1;31m---------------------------------------------------------------------------\u001b[0m",
      "\u001b[1;31mKeyError\u001b[0m                                  Traceback (most recent call last)",
      "Cell \u001b[1;32mIn[914], line 1\u001b[0m\n\u001b[1;32m----> 1\u001b[0m d3[\u001b[38;5;124m'\u001b[39m\u001b[38;5;124mlang3\u001b[39m\u001b[38;5;124m'\u001b[39m]\n",
      "\u001b[1;31mKeyError\u001b[0m: 'lang3'"
     ]
    }
   ],
   "source": [
    "d3['lang3']"
   ]
  },
  {
   "cell_type": "code",
   "execution_count": 916,
   "id": "9ef508b0-9137-467c-8e96-b3faf0cbd5de",
   "metadata": {},
   "outputs": [],
   "source": [
    "d3.get('lang3')"
   ]
  },
  {
   "cell_type": "code",
   "execution_count": 918,
   "id": "99d2331f-ddb7-4071-b147-d4c982c51bec",
   "metadata": {},
   "outputs": [
    {
     "data": {
      "text/plain": [
       "'mySQL'"
      ]
     },
     "execution_count": 918,
     "metadata": {},
     "output_type": "execute_result"
    }
   ],
   "source": [
    "d3.get('lang2')"
   ]
  },
  {
   "cell_type": "code",
   "execution_count": 922,
   "id": "b94b3ccb-d0e1-4230-bdf8-b5678a612a3a",
   "metadata": {},
   "outputs": [
    {
     "data": {
      "text/plain": [
       "['stats', 'prob', 'genai']"
      ]
     },
     "execution_count": 922,
     "metadata": {},
     "output_type": "execute_result"
    }
   ],
   "source": [
    "l"
   ]
  },
  {
   "cell_type": "code",
   "execution_count": 924,
   "id": "f4d317d2-0280-40f4-8a21-1f107c9df252",
   "metadata": {},
   "outputs": [
    {
     "data": {
      "text/plain": [
       "'genai'"
      ]
     },
     "execution_count": 924,
     "metadata": {},
     "output_type": "execute_result"
    }
   ],
   "source": [
    "l.pop()"
   ]
  },
  {
   "cell_type": "code",
   "execution_count": 920,
   "id": "423f2853-1c70-4cfa-ab1e-494d2e4c01f4",
   "metadata": {},
   "outputs": [
    {
     "ename": "TypeError",
     "evalue": "pop expected at least 1 argument, got 0",
     "output_type": "error",
     "traceback": [
      "\u001b[1;31m---------------------------------------------------------------------------\u001b[0m",
      "\u001b[1;31mTypeError\u001b[0m                                 Traceback (most recent call last)",
      "Cell \u001b[1;32mIn[920], line 1\u001b[0m\n\u001b[1;32m----> 1\u001b[0m d3\u001b[38;5;241m.\u001b[39mpop()\n",
      "\u001b[1;31mTypeError\u001b[0m: pop expected at least 1 argument, got 0"
     ]
    }
   ],
   "source": [
    "d3.pop()"
   ]
  },
  {
   "cell_type": "code",
   "execution_count": 928,
   "id": "2fbcf090-61ee-4344-b281-3dcd04b44c8e",
   "metadata": {},
   "outputs": [
    {
     "data": {
      "text/plain": [
       "'mySQL'"
      ]
     },
     "execution_count": 928,
     "metadata": {},
     "output_type": "execute_result"
    }
   ],
   "source": [
    "d3.pop('lang2') #remove method for list"
   ]
  },
  {
   "cell_type": "code",
   "execution_count": 930,
   "id": "b70d4448-b0cb-45ff-bb96-737035bc4e6f",
   "metadata": {},
   "outputs": [
    {
     "data": {
      "text/plain": [
       "{'lang': 'SQL', 'language': 'python'}"
      ]
     },
     "execution_count": 930,
     "metadata": {},
     "output_type": "execute_result"
    }
   ],
   "source": [
    "d3"
   ]
  },
  {
   "cell_type": "code",
   "execution_count": 938,
   "id": "24dc7f8a-7ecf-47f2-988c-e82d544ef139",
   "metadata": {},
   "outputs": [
    {
     "data": {
      "text/plain": [
       "('language', 'python')"
      ]
     },
     "execution_count": 938,
     "metadata": {},
     "output_type": "execute_result"
    }
   ],
   "source": [
    "d3.popitem() #same as pop for list"
   ]
  },
  {
   "cell_type": "code",
   "execution_count": 940,
   "id": "f9417c7e-0006-417c-8131-0515a903b84b",
   "metadata": {},
   "outputs": [
    {
     "data": {
      "text/plain": [
       "{'lang': 'SQL'}"
      ]
     },
     "execution_count": 940,
     "metadata": {},
     "output_type": "execute_result"
    }
   ],
   "source": [
    "d3"
   ]
  },
  {
   "cell_type": "code",
   "execution_count": 942,
   "id": "9d687bb5-5044-472c-96fe-064cc9a66da4",
   "metadata": {},
   "outputs": [],
   "source": [
    "d3.setdefault('lang2') #fromkeys & setdefault "
   ]
  },
  {
   "cell_type": "code",
   "execution_count": 944,
   "id": "eb914892-c3d4-485b-af30-d89c45c64346",
   "metadata": {},
   "outputs": [
    {
     "data": {
      "text/plain": [
       "{'lang': 'SQL', 'lang2': None}"
      ]
     },
     "execution_count": 944,
     "metadata": {},
     "output_type": "execute_result"
    }
   ],
   "source": [
    "d3"
   ]
  },
  {
   "cell_type": "code",
   "execution_count": 946,
   "id": "14931006-ad77-4f81-af0d-0bf85f1c18e0",
   "metadata": {},
   "outputs": [],
   "source": [
    "d3['lang2'] = 'perl'"
   ]
  },
  {
   "cell_type": "code",
   "execution_count": 948,
   "id": "68bb2124-f941-47cd-ab77-2481bcc2a413",
   "metadata": {},
   "outputs": [
    {
     "data": {
      "text/plain": [
       "{'lang': 'SQL', 'lang2': 'perl'}"
      ]
     },
     "execution_count": 948,
     "metadata": {},
     "output_type": "execute_result"
    }
   ],
   "source": [
    "d3"
   ]
  },
  {
   "cell_type": "code",
   "execution_count": 950,
   "id": "519f9461-d280-42df-ade0-9d52e0d64259",
   "metadata": {},
   "outputs": [
    {
     "ename": "SyntaxError",
     "evalue": "expression cannot contain assignment, perhaps you meant \"==\"? (2127276904.py, line 1)",
     "output_type": "error",
     "traceback": [
      "\u001b[1;36m  Cell \u001b[1;32mIn[950], line 1\u001b[1;36m\u001b[0m\n\u001b[1;33m    d3.setdefault('lang3'='R')\u001b[0m\n\u001b[1;37m                  ^\u001b[0m\n\u001b[1;31mSyntaxError\u001b[0m\u001b[1;31m:\u001b[0m expression cannot contain assignment, perhaps you meant \"==\"?\n"
     ]
    }
   ],
   "source": [
    "d3.setdefault('lang3'='R')"
   ]
  },
  {
   "cell_type": "code",
   "execution_count": 952,
   "id": "1da4d9d6-b5d5-4a20-858f-3c9801a22a0f",
   "metadata": {},
   "outputs": [],
   "source": [
    "d3.setdefault('lang3')"
   ]
  },
  {
   "cell_type": "code",
   "execution_count": 954,
   "id": "cceee32d-7c83-4040-aef6-80a240bbdc37",
   "metadata": {},
   "outputs": [
    {
     "data": {
      "text/plain": [
       "{'lang': 'SQL', 'lang2': 'perl', 'lang3': None}"
      ]
     },
     "execution_count": 954,
     "metadata": {},
     "output_type": "execute_result"
    }
   ],
   "source": [
    "d3"
   ]
  },
  {
   "cell_type": "code",
   "execution_count": 956,
   "id": "3315ad18-e5ef-428e-a2ca-fb9aa81c9181",
   "metadata": {},
   "outputs": [
    {
     "data": {
      "text/plain": [
       "'perl'"
      ]
     },
     "execution_count": 956,
     "metadata": {},
     "output_type": "execute_result"
    }
   ],
   "source": [
    "d3.setdefault('lang2')"
   ]
  },
  {
   "cell_type": "code",
   "execution_count": 958,
   "id": "f338b4cf-8c77-44f7-9d04-dcad1d508dc1",
   "metadata": {},
   "outputs": [
    {
     "data": {
      "text/plain": [
       "3"
      ]
     },
     "execution_count": 958,
     "metadata": {},
     "output_type": "execute_result"
    }
   ],
   "source": [
    "len(d3)"
   ]
  },
  {
   "cell_type": "code",
   "execution_count": 960,
   "id": "fe5e6bd7-897a-4d27-92c8-900716c1d2f3",
   "metadata": {},
   "outputs": [
    {
     "data": {
      "text/plain": [
       "'lang3'"
      ]
     },
     "execution_count": 960,
     "metadata": {},
     "output_type": "execute_result"
    }
   ],
   "source": [
    "max(d3)"
   ]
  },
  {
   "cell_type": "code",
   "execution_count": 962,
   "id": "408219ea-79a0-40b1-953a-154b89d8aeac",
   "metadata": {},
   "outputs": [
    {
     "data": {
      "text/plain": [
       "'lang'"
      ]
     },
     "execution_count": 962,
     "metadata": {},
     "output_type": "execute_result"
    }
   ],
   "source": [
    "min(d3)"
   ]
  },
  {
   "cell_type": "code",
   "execution_count": 3,
   "id": "1e5c6e7c-f97a-4661-98f0-23fdbe54434d",
   "metadata": {},
   "outputs": [],
   "source": []
  },
  {
   "cell_type": "code",
   "execution_count": 7,
   "id": "26b35387-efbf-45b7-9baa-aea95acf4958",
   "metadata": {},
   "outputs": [
    {
     "ename": "AttributeError",
     "evalue": "'dict' object has no attribute 'Byteswap'",
     "output_type": "error",
     "traceback": [
      "\u001b[1;31m---------------------------------------------------------------------------\u001b[0m",
      "\u001b[1;31mAttributeError\u001b[0m                            Traceback (most recent call last)",
      "Cell \u001b[1;32mIn[7], line 1\u001b[0m\n\u001b[1;32m----> 1\u001b[0m dictionary\u001b[38;5;241m.\u001b[39mByteswap()\n",
      "\u001b[1;31mAttributeError\u001b[0m: 'dict' object has no attribute 'Byteswap'"
     ]
    }
   ],
   "source": [
    "dictionary.item"
   ]
  },
  {
   "cell_type": "markdown",
   "id": "3d70efa4-02db-49fb-bff9-8001c57fc6ea",
   "metadata": {},
   "source": [
    "### Python Keywords"
   ]
  },
  {
   "cell_type": "code",
   "execution_count": 967,
   "id": "9fe824d9-0a71-4ae1-9c40-10f16dc599bf",
   "metadata": {},
   "outputs": [],
   "source": [
    "key10 = 'Good Morning'"
   ]
  },
  {
   "cell_type": "code",
   "execution_count": 969,
   "id": "6fb66504-4f39-4988-aca1-777408257754",
   "metadata": {},
   "outputs": [
    {
     "ename": "SyntaxError",
     "evalue": "invalid syntax (2334352588.py, line 1)",
     "output_type": "error",
     "traceback": [
      "\u001b[1;36m  Cell \u001b[1;32mIn[969], line 1\u001b[1;36m\u001b[0m\n\u001b[1;33m    class = 'datascience'\u001b[0m\n\u001b[1;37m          ^\u001b[0m\n\u001b[1;31mSyntaxError\u001b[0m\u001b[1;31m:\u001b[0m invalid syntax\n"
     ]
    }
   ],
   "source": [
    "class = 'datascience'"
   ]
  },
  {
   "cell_type": "code",
   "execution_count": 973,
   "id": "a6182ab1-071a-4481-b139-522af83476ad",
   "metadata": {},
   "outputs": [
    {
     "data": {
      "text/plain": [
       "['False',\n",
       " 'None',\n",
       " 'True',\n",
       " 'and',\n",
       " 'as',\n",
       " 'assert',\n",
       " 'async',\n",
       " 'await',\n",
       " 'break',\n",
       " 'class',\n",
       " 'continue',\n",
       " 'def',\n",
       " 'del',\n",
       " 'elif',\n",
       " 'else',\n",
       " 'except',\n",
       " 'finally',\n",
       " 'for',\n",
       " 'from',\n",
       " 'global',\n",
       " 'if',\n",
       " 'import',\n",
       " 'in',\n",
       " 'is',\n",
       " 'lambda',\n",
       " 'nonlocal',\n",
       " 'not',\n",
       " 'or',\n",
       " 'pass',\n",
       " 'raise',\n",
       " 'return',\n",
       " 'try',\n",
       " 'while',\n",
       " 'with',\n",
       " 'yield']"
      ]
     },
     "execution_count": 973,
     "metadata": {},
     "output_type": "execute_result"
    }
   ],
   "source": [
    "import keyword\n",
    "keyword.kwlist"
   ]
  },
  {
   "cell_type": "code",
   "execution_count": 975,
   "id": "39768836-05d4-4817-8551-ba59b7842ff0",
   "metadata": {},
   "outputs": [
    {
     "data": {
      "text/plain": [
       "35"
      ]
     },
     "execution_count": 975,
     "metadata": {},
     "output_type": "execute_result"
    }
   ],
   "source": [
    "len(keyword.kwlist)"
   ]
  },
  {
   "cell_type": "code",
   "execution_count": 979,
   "id": "ce0d0735-58d8-4569-a06c-01d93769de78",
   "metadata": {},
   "outputs": [
    {
     "data": {
      "text/plain": [
       "{'lang': 'mySQL'}"
      ]
     },
     "execution_count": 979,
     "metadata": {},
     "output_type": "execute_result"
    }
   ],
   "source": [
    "dict_copy"
   ]
  },
  {
   "cell_type": "code",
   "execution_count": 981,
   "id": "3ee2b4d8-77e6-44fd-98eb-9bfb49de1566",
   "metadata": {},
   "outputs": [
    {
     "data": {
      "text/plain": [
       "True"
      ]
     },
     "execution_count": 981,
     "metadata": {},
     "output_type": "execute_result"
    }
   ],
   "source": [
    "'lang' in dict_copy"
   ]
  },
  {
   "cell_type": "code",
   "execution_count": null,
   "id": "14c46cc5-5f91-48bc-9c16-45ad255a8220",
   "metadata": {},
   "outputs": [],
   "source": []
  },
  {
   "cell_type": "code",
   "execution_count": null,
   "id": "ae2aa3cf-f2bf-4c6e-9e9c-5796ee9b1773",
   "metadata": {},
   "outputs": [],
   "source": []
  },
  {
   "cell_type": "code",
   "execution_count": null,
   "id": "9484c251-e1bf-40dc-896a-b4eb8f7cffe1",
   "metadata": {},
   "outputs": [],
   "source": []
  },
  {
   "cell_type": "code",
   "execution_count": null,
   "id": "fecd63fb-e2cb-4e7e-ad4f-656a79d148be",
   "metadata": {},
   "outputs": [],
   "source": []
  },
  {
   "cell_type": "code",
   "execution_count": null,
   "id": "41412379-824c-415b-a21a-c12b9ea3fe1c",
   "metadata": {},
   "outputs": [],
   "source": []
  },
  {
   "cell_type": "code",
   "execution_count": null,
   "id": "de698b35-a831-4db4-8955-05097a6029dd",
   "metadata": {},
   "outputs": [],
   "source": []
  },
  {
   "cell_type": "code",
   "execution_count": null,
   "id": "4b9a401a-51d4-468d-9bf7-c8028197d3e6",
   "metadata": {},
   "outputs": [],
   "source": []
  }
 ],
 "metadata": {
  "kernelspec": {
   "display_name": "Python 3 (ipykernel)",
   "language": "python",
   "name": "python3"
  },
  "language_info": {
   "codemirror_mode": {
    "name": "ipython",
    "version": 3
   },
   "file_extension": ".py",
   "mimetype": "text/x-python",
   "name": "python",
   "nbconvert_exporter": "python",
   "pygments_lexer": "ipython3",
   "version": "3.11.5"
  }
 },
 "nbformat": 4,
 "nbformat_minor": 5
}
