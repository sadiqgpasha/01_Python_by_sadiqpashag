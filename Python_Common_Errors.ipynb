{
 "cells": [
  {
   "cell_type": "markdown",
   "id": "2900697b-4419-4451-99da-e50a75351a51",
   "metadata": {},
   "source": [
    "# 15 Common Errors in Python and How to Fix Them"
   ]
  },
  {
   "cell_type": "markdown",
   "id": "04beae52-9e32-4d73-b861-4ec57a2f924c",
   "metadata": {},
   "source": [
    "1. SyntaxError\n",
    "2. IndentationError\n",
    "3. NameError\n",
    "4. ValueError\n",
    "5. UnboundLocalError\n",
    "6. TypeError\n",
    "7. UnicodeError\n",
    "8. ZeroDivisionError\n",
    "9. FileNotFoundError\n",
    "10. ModuleNotFoundError\n",
    "11. MemoryError\n",
    "12. PermissionError\n",
    "13. IndexError\n",
    "14. KeyError\n",
    "15. AttributeError"
   ]
  },
  {
   "cell_type": "markdown",
   "id": "60a10cf7-235b-4faf-933a-116e1e06f62e",
   "metadata": {},
   "source": [
    "### 1. SyntaxError\n",
    "SyntaxError is a common error that occurs when the Python interpreter parses your code and finds incorrect code that does not conform to the syntax rules. Some common causes of SyntaxError include:\n",
    "\n",
    "    Unclosed strings\n",
    "    Indentation issues\n",
    "    Misusing the assignment operator (=)\n",
    "    Misspelling Python keywords\n",
    "    Missing brackets, parentheses, or braces\n",
    "    Using newer Python syntax on an old version of Python."
   ]
  },
  {
   "cell_type": "code",
   "execution_count": 1,
   "id": "39b998be-b0bd-4955-bd7b-ae8c8295f64b",
   "metadata": {},
   "outputs": [
    {
     "ename": "SyntaxError",
     "evalue": "invalid syntax. Perhaps you forgot a comma? (495952735.py, line 1)",
     "output_type": "error",
     "traceback": [
      "  \u001b[36mCell\u001b[39m\u001b[36m \u001b[39m\u001b[32mIn[1]\u001b[39m\u001b[32m, line 1\u001b[39m\n\u001b[31m    \u001b[39m\u001b[31memployees = {\"pam\" 30,\u001b[39m\n                 ^\n\u001b[31mSyntaxError\u001b[39m\u001b[31m:\u001b[39m invalid syntax. Perhaps you forgot a comma?\n"
     ]
    }
   ],
   "source": [
    "employees = {\"pam\" 30,\n",
    "             \"jim\": 28}\n",
    "\n",
    "for name, age in employees.items():\n",
    "    print(f\"{name.capitalize()} is {age} years old.\")"
   ]
  },
  {
   "cell_type": "markdown",
   "id": "46bddbbd-00d9-4e9c-b09f-e20e24fbcfb5",
   "metadata": {},
   "source": [
    "To address this issue, carefully consider the following information in the traceback:\n",
    "\n",
    "    File name\n",
    "    Line number\n",
    "    Location indicated by the caret (^)\n",
    "    Error message, which can offer insights into the nature of the problem.\n",
    "    The question added at the end of the error message provides valuable context.\n"
   ]
  },
  {
   "cell_type": "code",
   "execution_count": 10,
   "id": "4f0271a9-5061-4ae6-9af1-aaf6f3fa2e08",
   "metadata": {},
   "outputs": [
    {
     "name": "stdout",
     "output_type": "stream",
     "text": [
      "Pam is 30 years old.\n",
      "Jim is 28 years old.\n"
     ]
    }
   ],
   "source": [
    "#Fixed:\n",
    "\n",
    "employees = {\"pam\" : 30,\n",
    "             \"jim\": 28}\n",
    "\n",
    "for name, age in employees.items():\n",
    "    print(f\"{name.capitalize()} is {age} years old.\")"
   ]
  },
  {
   "cell_type": "markdown",
   "id": "be845a25-4fae-4272-a1a7-f4416e1022f2",
   "metadata": {},
   "source": [
    "### 2. IndentationError\n",
    "\n",
    "The IndentationError occurs in Python when there's an indentation issue in your code. Common causes include mixing tabs with spaces, incorrect spacing, incorrectly nested blocks, or whitespace at the beginning of a statement or file."
   ]
  },
  {
   "cell_type": "code",
   "execution_count": 2,
   "id": "61b58f94-d065-4003-b490-fbde125e0d68",
   "metadata": {},
   "outputs": [
    {
     "ename": "IndentationError",
     "evalue": "expected an indented block after 'if' statement on line 1 (2839449906.py, line 2)",
     "output_type": "error",
     "traceback": [
      "  \u001b[36mCell\u001b[39m\u001b[36m \u001b[39m\u001b[32mIn[2]\u001b[39m\u001b[32m, line 2\u001b[39m\n\u001b[31m    \u001b[39m\u001b[31mprint(\"Incorrectly indented\")\u001b[39m\n    ^\n\u001b[31mIndentationError\u001b[39m\u001b[31m:\u001b[39m expected an indented block after 'if' statement on line 1\n"
     ]
    }
   ],
   "source": [
    "if True:\n",
    "print(\"Incorrectly indented\")"
   ]
  },
  {
   "cell_type": "code",
   "execution_count": 11,
   "id": "ba579478-a928-4fc6-a2ae-76264cd34f40",
   "metadata": {},
   "outputs": [
    {
     "name": "stdout",
     "output_type": "stream",
     "text": [
      "Incorrectly indented\n"
     ]
    }
   ],
   "source": [
    "#Fixed:\n",
    "\n",
    "if True:\n",
    "    print(\"Incorrectly indented\")"
   ]
  },
  {
   "cell_type": "markdown",
   "id": "6ac51796-1577-4df4-921e-8f2acd6b2ffd",
   "metadata": {},
   "source": [
    "### 3. NameError\n",
    "   \n",
    "Python raises a NameError if you attempt to use an identifier that hasn't been defined or might be out of scope. Other potential causes of a NameError include referencing a variable before its assignment or misspelling an identifier:"
   ]
  },
  {
   "cell_type": "code",
   "execution_count": 3,
   "id": "a12e40c1-e99c-486f-9dbc-47c9c52d59a8",
   "metadata": {},
   "outputs": [
    {
     "ename": "NameError",
     "evalue": "name 'name' is not defined",
     "output_type": "error",
     "traceback": [
      "\u001b[31m---------------------------------------------------------------------------\u001b[39m",
      "\u001b[31mNameError\u001b[39m                                 Traceback (most recent call last)",
      "\u001b[36mCell\u001b[39m\u001b[36m \u001b[39m\u001b[32mIn[3]\u001b[39m\u001b[32m, line 1\u001b[39m\n\u001b[32m----> \u001b[39m\u001b[32m1\u001b[39m \u001b[38;5;28mprint\u001b[39m(\u001b[43mname\u001b[49m)\n",
      "\u001b[31mNameError\u001b[39m: name 'name' is not defined"
     ]
    }
   ],
   "source": [
    "print(name)"
   ]
  },
  {
   "cell_type": "code",
   "execution_count": 12,
   "id": "949e28fc-77ec-415c-99a6-1ce47eeaf181",
   "metadata": {},
   "outputs": [
    {
     "name": "stdout",
     "output_type": "stream",
     "text": [
      "sadiq\n"
     ]
    }
   ],
   "source": [
    "name = 'sadiq'\n",
    "print(name)"
   ]
  },
  {
   "cell_type": "markdown",
   "id": "cddd5a8e-ff41-453a-89ae-c611ae0875f4",
   "metadata": {},
   "source": [
    "To fix this problem, ensure that the variable or function name you want to use has been defined. Check for spelling errors and ensure that the variable you want to use is within the scope where it is being accessed."
   ]
  },
  {
   "cell_type": "markdown",
   "id": "eecbb7a1-ea3e-493a-90d4-950100175e71",
   "metadata": {},
   "source": [
    "### 4. ValueError\n",
    "The ValueError exception indicates that a function received an argument of the correct data type; however, the value itself is invalid. For example, the int() method accepts only integer string like \"42\", and passing something like \"forty-two\" will yield a ValueError:"
   ]
  },
  {
   "cell_type": "code",
   "execution_count": 4,
   "id": "88d7f230-b2ad-4be8-9ac6-b9e8bdcfaa3d",
   "metadata": {},
   "outputs": [
    {
     "ename": "ValueError",
     "evalue": "invalid literal for int() with base 10: 'forty-two'",
     "output_type": "error",
     "traceback": [
      "\u001b[31m---------------------------------------------------------------------------\u001b[39m",
      "\u001b[31mValueError\u001b[39m                                Traceback (most recent call last)",
      "\u001b[36mCell\u001b[39m\u001b[36m \u001b[39m\u001b[32mIn[4]\u001b[39m\u001b[32m, line 1\u001b[39m\n\u001b[32m----> \u001b[39m\u001b[32m1\u001b[39m num = \u001b[38;5;28;43mint\u001b[39;49m\u001b[43m(\u001b[49m\u001b[33;43m\"\u001b[39;49m\u001b[33;43mforty-two\u001b[39;49m\u001b[33;43m\"\u001b[39;49m\u001b[43m)\u001b[49m\n",
      "\u001b[31mValueError\u001b[39m: invalid literal for int() with base 10: 'forty-two'"
     ]
    }
   ],
   "source": [
    "num = int(\"forty-two\")"
   ]
  },
  {
   "cell_type": "code",
   "execution_count": 16,
   "id": "58a460b4-ac81-4c5a-adab-cc06e34672ce",
   "metadata": {},
   "outputs": [
    {
     "name": "stdout",
     "output_type": "stream",
     "text": [
      "42\n"
     ]
    }
   ],
   "source": [
    "#Fixed: \n",
    "num = int(\"42\")\n",
    "print(num)"
   ]
  },
  {
   "cell_type": "markdown",
   "id": "b5edcc1d-a79c-4bee-86f9-98aa86537647",
   "metadata": {},
   "source": [
    "Another common cause is passing an empty iterable to the max() or min() built-in functions, e.g., max([])."
   ]
  },
  {
   "cell_type": "code",
   "execution_count": 5,
   "id": "93318960-ce33-4ab5-9dce-37e775d4522f",
   "metadata": {},
   "outputs": [
    {
     "ename": "ValueError",
     "evalue": "max() arg is an empty sequence",
     "output_type": "error",
     "traceback": [
      "\u001b[31m---------------------------------------------------------------------------\u001b[39m",
      "\u001b[31mValueError\u001b[39m                                Traceback (most recent call last)",
      "\u001b[36mCell\u001b[39m\u001b[36m \u001b[39m\u001b[32mIn[5]\u001b[39m\u001b[32m, line 1\u001b[39m\n\u001b[32m----> \u001b[39m\u001b[32m1\u001b[39m \u001b[38;5;28;43mmax\u001b[39;49m\u001b[43m(\u001b[49m\u001b[43m[\u001b[49m\u001b[43m]\u001b[49m\u001b[43m)\u001b[49m\n",
      "\u001b[31mValueError\u001b[39m: max() arg is an empty sequence"
     ]
    }
   ],
   "source": [
    "max([])"
   ]
  },
  {
   "cell_type": "markdown",
   "id": "fd19e4c7-51c3-4b7a-b5fe-cc7175ebdcae",
   "metadata": {},
   "source": [
    "To resolve this issue, provide the correct data type and value as an argument to the built-in functions. Check the documentation for the specific function you're using to ensure compliance with expected input formats.\n",
    "\n",
    "If applicable, consider using try-except blocks, to gracefully manage potential user input errors and prevent ValueError occurrences that bring down your entire program."
   ]
  },
  {
   "cell_type": "markdown",
   "id": "90f8c973-cafc-4508-8f2a-af69dc5a9ced",
   "metadata": {},
   "source": [
    "### 5. UnboundLocalError\n",
    "The UnboundLocalError often occurs when you use a local variable within a function or method before assigning a value to it. For example, referencing the name variable before setting its value:"
   ]
  },
  {
   "cell_type": "code",
   "execution_count": 6,
   "id": "a4ab72c9-977f-44a1-b3a2-a798d4c45cf0",
   "metadata": {},
   "outputs": [
    {
     "ename": "UnboundLocalError",
     "evalue": "cannot access local variable 'name' where it is not associated with a value",
     "output_type": "error",
     "traceback": [
      "\u001b[31m---------------------------------------------------------------------------\u001b[39m",
      "\u001b[31mUnboundLocalError\u001b[39m                         Traceback (most recent call last)",
      "\u001b[36mCell\u001b[39m\u001b[36m \u001b[39m\u001b[32mIn[6]\u001b[39m\u001b[32m, line 5\u001b[39m\n\u001b[32m      2\u001b[39m     \u001b[38;5;28mprint\u001b[39m(name)\n\u001b[32m      3\u001b[39m     name = \u001b[33m\"\u001b[39m\u001b[33mJohn\u001b[39m\u001b[33m\"\u001b[39m\n\u001b[32m----> \u001b[39m\u001b[32m5\u001b[39m \u001b[43mdisplay_name\u001b[49m\u001b[43m(\u001b[49m\u001b[43m)\u001b[49m\n",
      "\u001b[36mCell\u001b[39m\u001b[36m \u001b[39m\u001b[32mIn[6]\u001b[39m\u001b[32m, line 2\u001b[39m, in \u001b[36mdisplay_name\u001b[39m\u001b[34m()\u001b[39m\n\u001b[32m      1\u001b[39m \u001b[38;5;28;01mdef\u001b[39;00m\u001b[38;5;250m \u001b[39m\u001b[34mdisplay_name\u001b[39m():\n\u001b[32m----> \u001b[39m\u001b[32m2\u001b[39m     \u001b[38;5;28mprint\u001b[39m(\u001b[43mname\u001b[49m)\n\u001b[32m      3\u001b[39m     name = \u001b[33m\"\u001b[39m\u001b[33mJohn\u001b[39m\u001b[33m\"\u001b[39m\n",
      "\u001b[31mUnboundLocalError\u001b[39m: cannot access local variable 'name' where it is not associated with a value"
     ]
    }
   ],
   "source": [
    "def display_name():\n",
    "    print(name)\n",
    "    name = \"John\"\n",
    "\n",
    "display_name()"
   ]
  },
  {
   "cell_type": "markdown",
   "id": "2c806f04-3b71-49f6-97a7-3ef450558266",
   "metadata": {},
   "source": [
    "Other common causes for this error include:\n",
    "\n",
    "- A local variable in a function having the same name as a global variable (https://en.wikipedia.org/wiki/Variable_shadowing#:~:text=In%20computer%20programming%2C%20variable%20shadowing,is%20known%20as%20name%20masking), known as shadowing a global variable.\n",
    "- Using the del operator on a local variable that you referenced later."
   ]
  },
  {
   "cell_type": "markdown",
   "id": "ddb5c2c7-1ca9-4cea-a0f2-ab59518659a7",
   "metadata": {},
   "source": [
    "To fix UnboundLocalError:\n",
    "\n",
    "- Assign values to local variables before referencing them.\n",
    "- If caused by shadowing a global variable, use a name different from the global variable.\n",
    "- Avoid using the del operator on variables you will reference later."
   ]
  },
  {
   "cell_type": "code",
   "execution_count": 17,
   "id": "b26b9d31-aa92-4125-adb6-e73fda01f100",
   "metadata": {},
   "outputs": [
    {
     "name": "stdout",
     "output_type": "stream",
     "text": [
      "John\n"
     ]
    }
   ],
   "source": [
    "#Fixed:\n",
    "\n",
    "def display_name():\n",
    "    name = \"John\"\n",
    "    print(name)\n",
    "\n",
    "display_name()"
   ]
  },
  {
   "cell_type": "markdown",
   "id": "da659e05-677b-4ea6-9eab-552592c575b4",
   "metadata": {},
   "source": [
    "### 6. TypeError\n",
    "A TypeError exception in Python indicates that you are performing an operation that is not supported or appropriate for the object data type. For example, trying to divide a string with an integer:"
   ]
  },
  {
   "cell_type": "markdown",
   "id": "a917566b-35d3-4eb9-9470-bf52bb7cdc25",
   "metadata": {},
   "source": [
    "This exception can also occur in situations like trying to loop over a non-iterable (such as a float or integer) or using incorrect argument types for built-in methods (like passing an integer to len(), which expects an iterable). Furthermore, calling a function with fewer arguments than required or comparing different data types can also lead to a TypeError.\n",
    "\n",
    "To avoid these errors, ensure the following:\n",
    "\n",
    "- Only iterate through iterable sequences.\n",
    "- Use arguments that match the expected types in built-in functions.\n",
    "- Supply the correct number of arguments when calling a function.\n",
    "- Compare or convert to a common type when dealing with different data types.\n"
   ]
  },
  {
   "cell_type": "code",
   "execution_count": 7,
   "id": "b04d9997-aeca-46ea-98a2-a55795436015",
   "metadata": {},
   "outputs": [
    {
     "ename": "TypeError",
     "evalue": "unsupported operand type(s) for /: 'str' and 'int'",
     "output_type": "error",
     "traceback": [
      "\u001b[31m---------------------------------------------------------------------------\u001b[39m",
      "\u001b[31mTypeError\u001b[39m                                 Traceback (most recent call last)",
      "\u001b[36mCell\u001b[39m\u001b[36m \u001b[39m\u001b[32mIn[7]\u001b[39m\u001b[32m, line 1\u001b[39m\n\u001b[32m----> \u001b[39m\u001b[32m1\u001b[39m \u001b[38;5;28mprint\u001b[39m(\u001b[33;43m\"\u001b[39;49m\u001b[33;43mhello\u001b[39;49m\u001b[33;43m\"\u001b[39;49m\u001b[43m \u001b[49m\u001b[43m/\u001b[49m\u001b[43m \u001b[49m\u001b[32;43m3\u001b[39;49m)\n",
      "\u001b[31mTypeError\u001b[39m: unsupported operand type(s) for /: 'str' and 'int'"
     ]
    }
   ],
   "source": [
    "print(\"hello\" / 3)"
   ]
  },
  {
   "cell_type": "code",
   "execution_count": 18,
   "id": "3cafe388-a208-419c-b68b-105245eec24e",
   "metadata": {},
   "outputs": [
    {
     "name": "stdout",
     "output_type": "stream",
     "text": [
      "2.6666666666666665\n"
     ]
    }
   ],
   "source": [
    "#Fixed:\n",
    "\n",
    "print(8 / 3)"
   ]
  },
  {
   "cell_type": "markdown",
   "id": "aeeecd34-0515-42ae-9b0f-993a94bfc151",
   "metadata": {},
   "source": [
    "### 7. UnicodeError\n",
    "A UnicodeError exception is raised when Python encounters encoding or decoding issues. The reasons for this error include:\n",
    "\n",
    "- Conflicts due to mixed encoding in the text.\n",
    "- Incorrect byte order marks (BOM) leading to decoding errors.\n",
    "- Use of unsupported or mismatched encoding schemes.\n",
    "- Conflicts arising from different Unicode standards.\n",
    "- Problems with surrogate pairs in UTF-16.\n",
    "- Corrupted or incomplete byte sequences.\n"
   ]
  },
  {
   "cell_type": "code",
   "execution_count": 8,
   "id": "08540024-c904-4b65-a46b-017d18c581ed",
   "metadata": {},
   "outputs": [
    {
     "ename": "UnicodeDecodeError",
     "evalue": "'ascii' codec can't decode byte 0xe1 in position 0: ordinal not in range(128)",
     "output_type": "error",
     "traceback": [
      "\u001b[31m---------------------------------------------------------------------------\u001b[39m",
      "\u001b[31mUnicodeDecodeError\u001b[39m                        Traceback (most recent call last)",
      "\u001b[36mCell\u001b[39m\u001b[36m \u001b[39m\u001b[32mIn[8]\u001b[39m\u001b[32m, line 3\u001b[39m\n\u001b[32m      1\u001b[39m unicode_str = \u001b[33m\"\u001b[39m\u001b[38;5;130;01m\\u1234\u001b[39;00m\u001b[38;5;130;01m\\u5678\u001b[39;00m\u001b[38;5;130;01m\\u90AB\u001b[39;00m\u001b[33m\"\u001b[39m\n\u001b[32m      2\u001b[39m decoded_str = unicode_str.encode(\u001b[33m'\u001b[39m\u001b[33mutf-8\u001b[39m\u001b[33m'\u001b[39m)\n\u001b[32m----> \u001b[39m\u001b[32m3\u001b[39m \u001b[38;5;28mprint\u001b[39m(\u001b[43mdecoded_str\u001b[49m\u001b[43m.\u001b[49m\u001b[43mdecode\u001b[49m\u001b[43m(\u001b[49m\u001b[33;43m'\u001b[39;49m\u001b[33;43mascii\u001b[39;49m\u001b[33;43m'\u001b[39;49m\u001b[43m)\u001b[49m)\n",
      "\u001b[31mUnicodeDecodeError\u001b[39m: 'ascii' codec can't decode byte 0xe1 in position 0: ordinal not in range(128)"
     ]
    }
   ],
   "source": [
    "unicode_str = \"\\u1234\\u5678\\u90AB\"\n",
    "decoded_str = unicode_str.encode('utf-8')\n",
    "print(decoded_str.decode('ascii'))"
   ]
  },
  {
   "cell_type": "code",
   "execution_count": 20,
   "id": "60403908-5c1a-400d-8fc9-c6bfb5c21b22",
   "metadata": {},
   "outputs": [
    {
     "name": "stdout",
     "output_type": "stream",
     "text": [
      "ሴ噸邫\n"
     ]
    }
   ],
   "source": [
    "#Fixed:\n",
    "\n",
    "unicode_str = \"\\u1234\\u5678\\u90AB\"\n",
    "decoded_str = unicode_str.encode('utf-8')\n",
    "print(decoded_str.decode('utf-8'))  # Correct codec used here"
   ]
  },
  {
   "cell_type": "markdown",
   "id": "d0a73a19-e8fa-4773-9dd6-6043cf9c7158",
   "metadata": {},
   "source": [
    "To mitigate such issues, use a reliable encoding like UTF-8 and ensure strings are valid Unicode. Implementing error-handling strategies like try-except blocks can also help manage encoding errors. Additionally, pay attention to Byte Order Marks when working with files or data streams, and inspect the encoding and character standards of external data sources."
   ]
  },
  {
   "cell_type": "markdown",
   "id": "88e60136-074c-4f82-9e26-05c5c658f8b4",
   "metadata": {},
   "source": [
    "### 8. ZeroDivisionError\n",
    "Python raises the ZeroDivisionError exception when you attempt to divide a number by zero:"
   ]
  },
  {
   "cell_type": "code",
   "execution_count": 21,
   "id": "de630e8b-75cf-446b-a38b-13fce91a7e26",
   "metadata": {},
   "outputs": [
    {
     "ename": "ZeroDivisionError",
     "evalue": "division by zero",
     "output_type": "error",
     "traceback": [
      "\u001b[31m---------------------------------------------------------------------------\u001b[39m",
      "\u001b[31mZeroDivisionError\u001b[39m                         Traceback (most recent call last)",
      "\u001b[36mCell\u001b[39m\u001b[36m \u001b[39m\u001b[32mIn[21]\u001b[39m\u001b[32m, line 1\u001b[39m\n\u001b[32m----> \u001b[39m\u001b[32m1\u001b[39m result = \u001b[32;43m5\u001b[39;49m\u001b[43m \u001b[49m\u001b[43m/\u001b[49m\u001b[43m \u001b[49m\u001b[32;43m0\u001b[39;49m\n\u001b[32m      2\u001b[39m \u001b[38;5;28mprint\u001b[39m(result)\n",
      "\u001b[31mZeroDivisionError\u001b[39m: division by zero"
     ]
    }
   ],
   "source": [
    "result = 5 / 0\n",
    "print(result)"
   ]
  },
  {
   "cell_type": "code",
   "execution_count": 22,
   "id": "1cdd1ef2-06eb-46be-b868-66a7eaba2c56",
   "metadata": {},
   "outputs": [
    {
     "name": "stdout",
     "output_type": "stream",
     "text": [
      "Division by zero avoided.\n"
     ]
    }
   ],
   "source": [
    "numerator = 5\n",
    "denominator = 0\n",
    "\n",
    "if denominator != 0:\n",
    "    result = numerator / denominator\n",
    "else:\n",
    "    print(\"Division by zero avoided.\")"
   ]
  },
  {
   "cell_type": "markdown",
   "id": "80dd4b5d-9d26-455c-8632-4a49ae91b263",
   "metadata": {},
   "source": [
    "This way, you can prevent the ZeroDivisionError by ensuring that the denominator is not zero before performing the division.\n",
    "\n"
   ]
  },
  {
   "cell_type": "markdown",
   "id": "b0714cd5-e364-4876-88f2-799b73a66ebc",
   "metadata": {},
   "source": [
    "### 9. FileNotFoundError\n",
    "Python throws this exception when it attempts to perform file-related operations, such as reading, writing, or deleting a file that does not exist in the given location:\n",
    "\n"
   ]
  },
  {
   "cell_type": "code",
   "execution_count": 24,
   "id": "55268a60-05c1-4ea1-a750-c987cebc84e8",
   "metadata": {},
   "outputs": [
    {
     "ename": "FileNotFoundError",
     "evalue": "[Errno 2] No such file or directory: 'file_does_not_exist.txt'",
     "output_type": "error",
     "traceback": [
      "\u001b[31m---------------------------------------------------------------------------\u001b[39m",
      "\u001b[31mFileNotFoundError\u001b[39m                         Traceback (most recent call last)",
      "\u001b[36mCell\u001b[39m\u001b[36m \u001b[39m\u001b[32mIn[24]\u001b[39m\u001b[32m, line 4\u001b[39m\n\u001b[32m      1\u001b[39m file_path = \u001b[33m'\u001b[39m\u001b[33mfile_does_not_exist.txt\u001b[39m\u001b[33m'\u001b[39m\n\u001b[32m----> \u001b[39m\u001b[32m4\u001b[39m \u001b[38;5;28;01mwith\u001b[39;00m \u001b[38;5;28;43mopen\u001b[39;49m\u001b[43m(\u001b[49m\u001b[43mfile_path\u001b[49m\u001b[43m,\u001b[49m\u001b[43m \u001b[49m\u001b[33;43m'\u001b[39;49m\u001b[33;43mr\u001b[39;49m\u001b[33;43m'\u001b[39;49m\u001b[43m)\u001b[49m \u001b[38;5;28;01mas\u001b[39;00m file:\n\u001b[32m      5\u001b[39m     content = file.read()\n",
      "\u001b[36mFile \u001b[39m\u001b[32m~\\anaconda3\\envs\\guvi\\Lib\\site-packages\\IPython\\core\\interactiveshell.py:343\u001b[39m, in \u001b[36m_modified_open\u001b[39m\u001b[34m(file, *args, **kwargs)\u001b[39m\n\u001b[32m    336\u001b[39m \u001b[38;5;28;01mif\u001b[39;00m file \u001b[38;5;129;01min\u001b[39;00m {\u001b[32m0\u001b[39m, \u001b[32m1\u001b[39m, \u001b[32m2\u001b[39m}:\n\u001b[32m    337\u001b[39m     \u001b[38;5;28;01mraise\u001b[39;00m \u001b[38;5;167;01mValueError\u001b[39;00m(\n\u001b[32m    338\u001b[39m         \u001b[33mf\u001b[39m\u001b[33m\"\u001b[39m\u001b[33mIPython won\u001b[39m\u001b[33m'\u001b[39m\u001b[33mt let you open fd=\u001b[39m\u001b[38;5;132;01m{\u001b[39;00mfile\u001b[38;5;132;01m}\u001b[39;00m\u001b[33m by default \u001b[39m\u001b[33m\"\u001b[39m\n\u001b[32m    339\u001b[39m         \u001b[33m\"\u001b[39m\u001b[33mas it is likely to crash IPython. If you know what you are doing, \u001b[39m\u001b[33m\"\u001b[39m\n\u001b[32m    340\u001b[39m         \u001b[33m\"\u001b[39m\u001b[33myou can use builtins\u001b[39m\u001b[33m'\u001b[39m\u001b[33m open.\u001b[39m\u001b[33m\"\u001b[39m\n\u001b[32m    341\u001b[39m     )\n\u001b[32m--> \u001b[39m\u001b[32m343\u001b[39m \u001b[38;5;28;01mreturn\u001b[39;00m \u001b[43mio_open\u001b[49m\u001b[43m(\u001b[49m\u001b[43mfile\u001b[49m\u001b[43m,\u001b[49m\u001b[43m \u001b[49m\u001b[43m*\u001b[49m\u001b[43margs\u001b[49m\u001b[43m,\u001b[49m\u001b[43m \u001b[49m\u001b[43m*\u001b[49m\u001b[43m*\u001b[49m\u001b[43mkwargs\u001b[49m\u001b[43m)\u001b[49m\n",
      "\u001b[31mFileNotFoundError\u001b[39m: [Errno 2] No such file or directory: 'file_does_not_exist.txt'"
     ]
    }
   ],
   "source": [
    "file_path = 'file_does_not_exist.txt'\n",
    "\n",
    "\n",
    "with open(file_path, 'r') as file:\n",
    "    content = file.read()\n"
   ]
  },
  {
   "cell_type": "markdown",
   "id": "d6630e58-d18f-4306-a890-a91d56ea0ac3",
   "metadata": {},
   "source": [
    "To fix this, ensure that the file exists at the given location. Also, double-check the file path, file extension, and take into account relative or absolute paths to the file.\n",
    "\n",
    "Often, the program might receive incorrect file paths from users, which is beyond your control. A good solution is to use a try-except block to handle the FileNotFoundError so that the program doesn't crash:\n",
    "\n",
    " "
   ]
  },
  {
   "cell_type": "code",
   "execution_count": 23,
   "id": "5f0de0a8-c1ab-411a-b5be-f2ecce57a37c",
   "metadata": {},
   "outputs": [
    {
     "name": "stdout",
     "output_type": "stream",
     "text": [
      "The file 'file_does_not_exist.txt' does not exist.\n"
     ]
    }
   ],
   "source": [
    "#Fixed\n",
    "\n",
    "file_path = 'file_does_not_exist.txt'\n",
    "\n",
    "try:\n",
    "    with open(file_path, 'r') as file:\n",
    "        content = file.read()\n",
    "    # Additional file processing code can go here\n",
    "except FileNotFoundError:\n",
    "    print(f\"The file '{file_path}' does not exist.\")\n",
    "except Exception as e:\n",
    "    print(f\"An unexpected error occurred: {e}\")"
   ]
  },
  {
   "cell_type": "markdown",
   "id": "d83aee5e-4288-4692-a921-f4cd1c568309",
   "metadata": {},
   "source": [
    "### 10. ModuleNotFoundError\n",
    "Python raises the ModuleNotFoundError when it can't import a module. This issue may arise if the module isn't installed on your system or in the virtual environment. Sometimes, the error could be due to an incorrect module path or name. Additionally, this error occurs when importing from a package that lacks a __init__.py file."
   ]
  },
  {
   "cell_type": "code",
   "execution_count": 29,
   "id": "a212aa84-9c7c-4907-aa86-4ac9ac15de6b",
   "metadata": {},
   "outputs": [
    {
     "ename": "ModuleNotFoundError",
     "evalue": "No module named 'pillow'",
     "output_type": "error",
     "traceback": [
      "\u001b[31m---------------------------------------------------------------------------\u001b[39m",
      "\u001b[31mModuleNotFoundError\u001b[39m                       Traceback (most recent call last)",
      "\u001b[36mCell\u001b[39m\u001b[36m \u001b[39m\u001b[32mIn[29]\u001b[39m\u001b[32m, line 1\u001b[39m\n\u001b[32m----> \u001b[39m\u001b[32m1\u001b[39m \u001b[38;5;28;01mimport\u001b[39;00m\u001b[38;5;250m \u001b[39m\u001b[34;01mpillow\u001b[39;00m\n",
      "\u001b[31mModuleNotFoundError\u001b[39m: No module named 'pillow'"
     ]
    }
   ],
   "source": [
    "import pillow"
   ]
  },
  {
   "cell_type": "markdown",
   "id": "2e209dc4-622b-4a5f-a994-d75fabdee1a8",
   "metadata": {},
   "source": [
    "Ref: https://pyarma.sourceforge.io/"
   ]
  },
  {
   "cell_type": "code",
   "execution_count": 28,
   "id": "bae36d82-d0ea-4097-a447-10b54eaa8a2b",
   "metadata": {
    "scrolled": true
   },
   "outputs": [
    {
     "name": "stdout",
     "output_type": "stream",
     "text": [
      "Collecting pyarma\n",
      "  Using cached pyarma-0.500.0.tar.gz (12.7 MB)\n",
      "  Installing build dependencies: started\n",
      "  Installing build dependencies: finished with status 'done'\n",
      "  Getting requirements to build wheel: started\n",
      "  Getting requirements to build wheel: finished with status 'done'\n",
      "  Preparing metadata (pyproject.toml): started\n",
      "  Preparing metadata (pyproject.toml): finished with status 'done'\n",
      "Building wheels for collected packages: pyarma\n",
      "  Building wheel for pyarma (pyproject.toml): started\n",
      "  Building wheel for pyarma (pyproject.toml): finished with status 'error'\n",
      "Failed to build pyarma\n",
      "Note: you may need to restart the kernel to use updated packages.\n"
     ]
    },
    {
     "name": "stderr",
     "output_type": "stream",
     "text": [
      "  error: subprocess-exited-with-error\n",
      "  \n",
      "  Building wheel for pyarma (pyproject.toml) did not run successfully.\n",
      "  exit code: 1\n",
      "  \n",
      "  [607 lines of output]\n",
      "  C:\\Users\\sadiq\\AppData\\Local\\Temp\\pip-build-env-e1r0i30c\\overlay\\Lib\\site-packages\\setuptools\\dist.py:759: SetuptoolsDeprecationWarning: License classifiers are deprecated.\n",
      "  !!\n",
      "  \n",
      "          ********************************************************************************\n",
      "          Please consider removing the following classifiers in favor of a SPDX license expression:\n",
      "  \n",
      "          License :: OSI Approved :: Apache Software License\n",
      "  \n",
      "          See https://packaging.python.org/en/latest/guides/writing-pyproject-toml/#license for details.\n",
      "          ********************************************************************************\n",
      "  \n",
      "  !!\n",
      "    self._finalize_license_expression()\n",
      "  C:\\Users\\sadiq\\AppData\\Local\\Temp\\pip-build-env-e1r0i30c\\overlay\\Lib\\site-packages\\skbuild\\setuptools_wrap.py:611: _DeprecatedInstaller: setuptools.installer and fetch_build_eggs are deprecated.\n",
      "  !!\n",
      "  \n",
      "          ********************************************************************************\n",
      "          Requirements should be satisfied by a PEP 517 installer.\n",
      "          If you are using pip, you can try `pip install --use-pep517`.\n",
      "  \n",
      "          By 2025-Oct-31, you need to update your project and remove deprecated calls\n",
      "          or your builds will no longer be supported.\n",
      "          ********************************************************************************\n",
      "  \n",
      "  !!\n",
      "    dist.fetch_build_eggs(setup_requires)\n",
      "  \n",
      "  \n",
      "  --------------------------------------------------------------------------------\n",
      "  -- Trying 'Ninja (Visual Studio 17 2022 x64 v144)' generator\n",
      "  --------------------------------\n",
      "  ---------------------------\n",
      "  ----------------------\n",
      "  -----------------\n",
      "  ------------\n",
      "  -------\n",
      "  --\n",
      "  Not searching for unused variables given on the command line.\n",
      "  \u001b[0mCMake Deprecation Warning at CMakeLists.txt:1 (cmake_minimum_required):\n",
      "    Compatibility with CMake < 3.10 will be removed from a future version of\n",
      "    CMake.\n",
      "  \n",
      "    Update the VERSION argument <min> value.  Or, use the <min>...<max> syntax\n",
      "    to tell CMake that the project requires at least <min> but has been updated\n",
      "    to work with policies introduced by <max> or earlier.\n",
      "  \n",
      "  \u001b[0m\n",
      "  -- The C compiler identification is MSVC 19.44.35207.1\n",
      "  -- Detecting C compiler ABI info\n",
      "  -- Detecting C compiler ABI info - failed\n",
      "  -- Check for working C compiler: C:/Program Files/Microsoft Visual Studio/2022/Community/VC/Tools/MSVC/14.44.35207/bin/Hostx86/x64/cl.exe\n",
      "  -- Check for working C compiler: C:/Program Files/Microsoft Visual Studio/2022/Community/VC/Tools/MSVC/14.44.35207/bin/Hostx86/x64/cl.exe - broken\n",
      "  \u001b[31mCMake Error at C:/Users/sadiq/AppData/Local/Temp/pip-build-env-e1r0i30c/overlay/Lib/site-packages/cmake/data/share/cmake-4.1/Modules/CMakeTestCCompiler.cmake:67 (message):\n",
      "    The C compiler\n",
      "  \n",
      "      \"C:/Program Files/Microsoft Visual Studio/2022/Community/VC/Tools/MSVC/14.44.35207/bin/Hostx86/x64/cl.exe\"\n",
      "  \n",
      "    is not able to compile a simple test program.\n",
      "  \n",
      "    It fails with the following output:\n",
      "  \n",
      "      Change Dir: 'C:/Users/sadiq/AppData/Local/Temp/pip-install-wb2sqbpz/pyarma_f448c08b46a642a69e688b5d72f907dd/_cmake_test_compile/build/CMakeFiles/CMakeScratch/TryCompile-tp3ag7'\n",
      "  \n",
      "      Run Build Command(s): ninja -v cmTC_cccda\n",
      "      [1/2] C:\\PROGRA~1\\MIB055~1\\2022\\COMMUN~1\\VC\\Tools\\MSVC\\1444~1.352\\bin\\Hostx86\\x64\\cl.exe  /nologo   /DWIN32 /D_WINDOWS /W3  /MDd /Zi /Ob0 /Od /RTC1 /showIncludes /FoCMakeFiles\\cmTC_cccda.dir\\testCCompiler.c.obj /FdCMakeFiles\\cmTC_cccda.dir\\ /FS -c C:\\Users\\sadiq\\AppData\\Local\\Temp\\pip-install-wb2sqbpz\\pyarma_f448c08b46a642a69e688b5d72f907dd\\_cmake_test_compile\\build\\CMakeFiles\\CMakeScratch\\TryCompile-tp3ag7\\testCCompiler.c\n",
      "      [2/2] C:\\WINDOWS\\system32\\cmd.exe /C \"cd . && C:\\Users\\sadiq\\AppData\\Local\\Temp\\pip-build-env-e1r0i30c\\overlay\\Lib\\site-packages\\cmake\\data\\bin\\cmake.exe -E vs_link_exe --msvc-ver=1944 --intdir=CMakeFiles\\cmTC_cccda.dir --rc=rc --mt=CMAKE_MT-NOTFOUND --manifests  -- C:\\PROGRA~1\\MIB055~1\\2022\\COMMUN~1\\VC\\Tools\\MSVC\\1444~1.352\\bin\\Hostx86\\x64\\link.exe /nologo CMakeFiles\\cmTC_cccda.dir\\testCCompiler.c.obj  /out:cmTC_cccda.exe /implib:cmTC_cccda.lib /pdb:cmTC_cccda.pdb /version:0.0 /machine:x64  /debug /INCREMENTAL /subsystem:console  kernel32.lib user32.lib gdi32.lib winspool.lib shell32.lib ole32.lib oleaut32.lib uuid.lib comdlg32.lib advapi32.lib && cd .\"\n",
      "      \u001b[31mFAILED: [code=4294967295] \u001b[0mcmTC_cccda.exe\n",
      "      C:\\WINDOWS\\system32\\cmd.exe /C \"cd . && C:\\Users\\sadiq\\AppData\\Local\\Temp\\pip-build-env-e1r0i30c\\overlay\\Lib\\site-packages\\cmake\\data\\bin\\cmake.exe -E vs_link_exe --msvc-ver=1944 --intdir=CMakeFiles\\cmTC_cccda.dir --rc=rc --mt=CMAKE_MT-NOTFOUND --manifests  -- C:\\PROGRA~1\\MIB055~1\\2022\\COMMUN~1\\VC\\Tools\\MSVC\\1444~1.352\\bin\\Hostx86\\x64\\link.exe /nologo CMakeFiles\\cmTC_cccda.dir\\testCCompiler.c.obj  /out:cmTC_cccda.exe /implib:cmTC_cccda.lib /pdb:cmTC_cccda.pdb /version:0.0 /machine:x64  /debug /INCREMENTAL /subsystem:console  kernel32.lib user32.lib gdi32.lib winspool.lib shell32.lib ole32.lib oleaut32.lib uuid.lib comdlg32.lib advapi32.lib && cd .\"\n",
      "      RC Pass 1: command \"rc /fo CMakeFiles\\cmTC_cccda.dir/manifest.res CMakeFiles\\cmTC_cccda.dir/manifest.rc\" failed (exit code 0) with the following output:\n",
      "      no such file or directory\n",
      "      ninja: build stopped: subcommand failed.\n",
      "  \n",
      "  \n",
      "  \n",
      "  \n",
      "  \n",
      "    CMake will not be able to correctly generate this project.\n",
      "  Call Stack (most recent call first):\n",
      "    CMakeLists.txt:3 (ENABLE_LANGUAGE)\n",
      "  \n",
      "  \u001b[0m\n",
      "  -- Configuring incomplete, errors occurred!\n",
      "  --\n",
      "  -------\n",
      "  ------------\n",
      "  -----------------\n",
      "  ----------------------\n",
      "  ---------------------------\n",
      "  --------------------------------\n",
      "  -- Trying 'Ninja (Visual Studio 17 2022 x64 v144)' generator - failure\n",
      "  --------------------------------------------------------------------------------\n",
      "  \n",
      "  \n",
      "  \n",
      "  --------------------------------------------------------------------------------\n",
      "  -- Trying 'Visual Studio 17 2022 x64 v144' generator\n",
      "  --------------------------------\n",
      "  ---------------------------\n",
      "  ----------------------\n",
      "  -----------------\n",
      "  ------------\n",
      "  -------\n",
      "  --\n",
      "  Not searching for unused variables given on the command line.\n",
      "  \u001b[0mCMake Deprecation Warning at CMakeLists.txt:1 (cmake_minimum_required):\n",
      "    Compatibility with CMake < 3.10 will be removed from a future version of\n",
      "    CMake.\n",
      "  \n",
      "    Update the VERSION argument <min> value.  Or, use the <min>...<max> syntax\n",
      "    to tell CMake that the project requires at least <min> but has been updated\n",
      "    to work with policies introduced by <max> or earlier.\n",
      "  \n",
      "  \u001b[0m\n",
      "  \u001b[31mCMake Error at CMakeLists.txt:2 (PROJECT):\n",
      "    Failed to run MSBuild command:\n",
      "  \n",
      "      C:/Program Files/Microsoft Visual Studio/2022/Community/MSBuild/Current/Bin/amd64/MSBuild.exe\n",
      "  \n",
      "    to get the value of VCTargetsPath:\n",
      "  \n",
      "      MSBuild version 17.14.8+a7a4d5af0 for .NET Framework\n",
      "      Build started 13-09-2025 19:50:52.\n",
      "  \n",
      "      Project \"C:\\Users\\sadiq\\AppData\\Local\\Temp\\pip-install-wb2sqbpz\\pyarma_f448c08b46a642a69e688b5d72f907dd\\_cmake_test_compile\\build\\CMakeFiles\\4.1.0\\VCTargetsPath.vcxproj\" on node 1 (default targets).\n",
      "      C:\\Program Files\\Microsoft Visual Studio\\2022\\Community\\MSBuild\\Microsoft\\VC\\v170\\Microsoft.CppBuild.targets(463,5): error MSB8020: The build tools for v144 (Platform Toolset = 'v144') cannot be found. To build using the v144 build tools, please install v144 build tools.  Alternatively, you may upgrade to the current Visual Studio tools by selecting the Project menu or right-click the solution, and then selecting \"Retarget solution\". [C:\\Users\\sadiq\\AppData\\Local\\Temp\\pip-install-wb2sqbpz\\pyarma_f448c08b46a642a69e688b5d72f907dd\\_cmake_test_compile\\build\\CMakeFiles\\4.1.0\\VCTargetsPath.vcxproj]\n",
      "      Done Building Project \"C:\\Users\\sadiq\\AppData\\Local\\Temp\\pip-install-wb2sqbpz\\pyarma_f448c08b46a642a69e688b5d72f907dd\\_cmake_test_compile\\build\\CMakeFiles\\4.1.0\\VCTargetsPath.vcxproj\" (default targets) -- FAILED.\n",
      "  \n",
      "      Build FAILED.\n",
      "  \n",
      "      \"C:\\Users\\sadiq\\AppData\\Local\\Temp\\pip-install-wb2sqbpz\\pyarma_f448c08b46a642a69e688b5d72f907dd\\_cmake_test_compile\\build\\CMakeFiles\\4.1.0\\VCTargetsPath.vcxproj\" (default target) (1) ->\n",
      "      (PrepareForBuild target) ->\n",
      "        C:\\Program Files\\Microsoft Visual Studio\\2022\\Community\\MSBuild\\Microsoft\\VC\\v170\\Microsoft.CppBuild.targets(463,5): error MSB8020: The build tools for v144 (Platform Toolset = 'v144') cannot be found. To build using the v144 build tools, please install v144 build tools.  Alternatively, you may upgrade to the current Visual Studio tools by selecting the Project menu or right-click the solution, and then selecting \"Retarget solution\". [C:\\Users\\sadiq\\AppData\\Local\\Temp\\pip-install-wb2sqbpz\\pyarma_f448c08b46a642a69e688b5d72f907dd\\_cmake_test_compile\\build\\CMakeFiles\\4.1.0\\VCTargetsPath.vcxproj]\n",
      "  \n",
      "          0 Warning(s)\n",
      "          1 Error(s)\n",
      "  \n",
      "      Time Elapsed 00:00:00.10\n",
      "  \n",
      "  \n",
      "    Exit code: 1\n",
      "  \n",
      "  \n",
      "  \u001b[0m\n",
      "  -- Configuring incomplete, errors occurred!\n",
      "  --\n",
      "  -------\n",
      "  ------------\n",
      "  -----------------\n",
      "  ----------------------\n",
      "  ---------------------------\n",
      "  --------------------------------\n",
      "  -- Trying 'Visual Studio 17 2022 x64 v144' generator - failure\n",
      "  --------------------------------------------------------------------------------\n",
      "  \n",
      "  \n",
      "  \n",
      "  --------------------------------------------------------------------------------\n",
      "  -- Trying 'Ninja (Visual Studio 17 2022 x64 v143)' generator\n",
      "  --------------------------------\n",
      "  ---------------------------\n",
      "  ----------------------\n",
      "  -----------------\n",
      "  ------------\n",
      "  -------\n",
      "  --\n",
      "  Not searching for unused variables given on the command line.\n",
      "  \u001b[0mCMake Deprecation Warning at CMakeLists.txt:1 (cmake_minimum_required):\n",
      "    Compatibility with CMake < 3.10 will be removed from a future version of\n",
      "    CMake.\n",
      "  \n",
      "    Update the VERSION argument <min> value.  Or, use the <min>...<max> syntax\n",
      "    to tell CMake that the project requires at least <min> but has been updated\n",
      "    to work with policies introduced by <max> or earlier.\n",
      "  \n",
      "  \u001b[0m\n",
      "  -- The C compiler identification is unknown\n",
      "  \u001b[31mCMake Error at CMakeLists.txt:3 (ENABLE_LANGUAGE):\n",
      "    No CMAKE_C_COMPILER could be found.\n",
      "  \n",
      "    Tell CMake where to find the compiler by setting either the environment\n",
      "    variable \"CC\" or the CMake cache entry CMAKE_C_COMPILER to the full path to\n",
      "    the compiler, or to the compiler name if it is in the PATH.\n",
      "  \n",
      "  \u001b[0m\n",
      "  -- Configuring incomplete, errors occurred!\n",
      "  --\n",
      "  -------\n",
      "  ------------\n",
      "  -----------------\n",
      "  ----------------------\n",
      "  ---------------------------\n",
      "  --------------------------------\n",
      "  -- Trying 'Ninja (Visual Studio 17 2022 x64 v143)' generator - failure\n",
      "  --------------------------------------------------------------------------------\n",
      "  \n",
      "  \n",
      "  \n",
      "  --------------------------------------------------------------------------------\n",
      "  -- Trying 'Visual Studio 17 2022 x64 v143' generator\n",
      "  --------------------------------\n",
      "  ---------------------------\n",
      "  ----------------------\n",
      "  -----------------\n",
      "  ------------\n",
      "  -------\n",
      "  --\n",
      "  Not searching for unused variables given on the command line.\n",
      "  \u001b[0mCMake Deprecation Warning at CMakeLists.txt:1 (cmake_minimum_required):\n",
      "    Compatibility with CMake < 3.10 will be removed from a future version of\n",
      "    CMake.\n",
      "  \n",
      "    Update the VERSION argument <min> value.  Or, use the <min>...<max> syntax\n",
      "    to tell CMake that the project requires at least <min> but has been updated\n",
      "    to work with policies introduced by <max> or earlier.\n",
      "  \n",
      "  \u001b[0m\n",
      "  -- The C compiler identification is unknown\n",
      "  \u001b[31mCMake Error at CMakeLists.txt:3 (ENABLE_LANGUAGE):\n",
      "    No CMAKE_C_COMPILER could be found.\n",
      "  \n",
      "  \n",
      "  \u001b[0m\n",
      "  -- Configuring incomplete, errors occurred!\n",
      "  --\n",
      "  -------\n",
      "  ------------\n",
      "  -----------------\n",
      "  ----------------------\n",
      "  ---------------------------\n",
      "  --------------------------------\n",
      "  -- Trying 'Visual Studio 17 2022 x64 v143' generator - failure\n",
      "  --------------------------------------------------------------------------------\n",
      "  \n",
      "  \n",
      "  \n",
      "  --------------------------------------------------------------------------------\n",
      "  -- Trying 'Ninja (Visual Studio 16 2019 x64 v142)' generator\n",
      "  --------------------------------\n",
      "  ---------------------------\n",
      "  ----------------------\n",
      "  -----------------\n",
      "  ------------\n",
      "  -------\n",
      "  --\n",
      "  Not searching for unused variables given on the command line.\n",
      "  \u001b[0mCMake Deprecation Warning at CMakeLists.txt:1 (cmake_minimum_required):\n",
      "    Compatibility with CMake < 3.10 will be removed from a future version of\n",
      "    CMake.\n",
      "  \n",
      "    Update the VERSION argument <min> value.  Or, use the <min>...<max> syntax\n",
      "    to tell CMake that the project requires at least <min> but has been updated\n",
      "    to work with policies introduced by <max> or earlier.\n",
      "  \n",
      "  \u001b[0m\n",
      "  -- The C compiler identification is unknown\n",
      "  \u001b[31mCMake Error at CMakeLists.txt:3 (ENABLE_LANGUAGE):\n",
      "    No CMAKE_C_COMPILER could be found.\n",
      "  \n",
      "    Tell CMake where to find the compiler by setting either the environment\n",
      "    variable \"CC\" or the CMake cache entry CMAKE_C_COMPILER to the full path to\n",
      "    the compiler, or to the compiler name if it is in the PATH.\n",
      "  \n",
      "  \u001b[0m\n",
      "  -- Configuring incomplete, errors occurred!\n",
      "  --\n",
      "  -------\n",
      "  ------------\n",
      "  -----------------\n",
      "  ----------------------\n",
      "  ---------------------------\n",
      "  --------------------------------\n",
      "  -- Trying 'Ninja (Visual Studio 16 2019 x64 v142)' generator - failure\n",
      "  --------------------------------------------------------------------------------\n",
      "  \n",
      "  \n",
      "  \n",
      "  --------------------------------------------------------------------------------\n",
      "  -- Trying 'Visual Studio 16 2019 x64 v142' generator\n",
      "  --------------------------------\n",
      "  ---------------------------\n",
      "  ----------------------\n",
      "  -----------------\n",
      "  ------------\n",
      "  -------\n",
      "  --\n",
      "  Not searching for unused variables given on the command line.\n",
      "  \u001b[0mCMake Deprecation Warning at CMakeLists.txt:1 (cmake_minimum_required):\n",
      "    Compatibility with CMake < 3.10 will be removed from a future version of\n",
      "    CMake.\n",
      "  \n",
      "    Update the VERSION argument <min> value.  Or, use the <min>...<max> syntax\n",
      "    to tell CMake that the project requires at least <min> but has been updated\n",
      "    to work with policies introduced by <max> or earlier.\n",
      "  \n",
      "  \u001b[0m\n",
      "  \u001b[31mCMake Error at CMakeLists.txt:2 (PROJECT):\n",
      "    Generator\n",
      "  \n",
      "      Visual Studio 16 2019\n",
      "  \n",
      "    could not find any instance of Visual Studio.\n",
      "  \n",
      "  \n",
      "  \u001b[0m\n",
      "  -- Configuring incomplete, errors occurred!\n",
      "  --\n",
      "  -------\n",
      "  ------------\n",
      "  -----------------\n",
      "  ----------------------\n",
      "  ---------------------------\n",
      "  --------------------------------\n",
      "  -- Trying 'Visual Studio 16 2019 x64 v142' generator - failure\n",
      "  --------------------------------------------------------------------------------\n",
      "  \n",
      "  \n",
      "  \n",
      "  --------------------------------------------------------------------------------\n",
      "  -- Trying 'Ninja (Visual Studio 15 2017 x64 v141)' generator\n",
      "  --------------------------------\n",
      "  ---------------------------\n",
      "  ----------------------\n",
      "  -----------------\n",
      "  ------------\n",
      "  -------\n",
      "  --\n",
      "  Not searching for unused variables given on the command line.\n",
      "  \u001b[0mCMake Deprecation Warning at CMakeLists.txt:1 (cmake_minimum_required):\n",
      "    Compatibility with CMake < 3.10 will be removed from a future version of\n",
      "    CMake.\n",
      "  \n",
      "    Update the VERSION argument <min> value.  Or, use the <min>...<max> syntax\n",
      "    to tell CMake that the project requires at least <min> but has been updated\n",
      "    to work with policies introduced by <max> or earlier.\n",
      "  \n",
      "  \u001b[0m\n",
      "  -- The C compiler identification is unknown\n",
      "  \u001b[31mCMake Error at CMakeLists.txt:3 (ENABLE_LANGUAGE):\n",
      "    No CMAKE_C_COMPILER could be found.\n",
      "  \n",
      "    Tell CMake where to find the compiler by setting either the environment\n",
      "    variable \"CC\" or the CMake cache entry CMAKE_C_COMPILER to the full path to\n",
      "    the compiler, or to the compiler name if it is in the PATH.\n",
      "  \n",
      "  \u001b[0m\n",
      "  -- Configuring incomplete, errors occurred!\n",
      "  --\n",
      "  -------\n",
      "  ------------\n",
      "  -----------------\n",
      "  ----------------------\n",
      "  ---------------------------\n",
      "  --------------------------------\n",
      "  -- Trying 'Ninja (Visual Studio 15 2017 x64 v141)' generator - failure\n",
      "  --------------------------------------------------------------------------------\n",
      "  \n",
      "  \n",
      "  \n",
      "  --------------------------------------------------------------------------------\n",
      "  -- Trying 'Visual Studio 15 2017 x64 v141' generator\n",
      "  --------------------------------\n",
      "  ---------------------------\n",
      "  ----------------------\n",
      "  -----------------\n",
      "  ------------\n",
      "  -------\n",
      "  --\n",
      "  Not searching for unused variables given on the command line.\n",
      "  \u001b[0mCMake Deprecation Warning at CMakeLists.txt:1 (cmake_minimum_required):\n",
      "    Compatibility with CMake < 3.10 will be removed from a future version of\n",
      "    CMake.\n",
      "  \n",
      "    Update the VERSION argument <min> value.  Or, use the <min>...<max> syntax\n",
      "    to tell CMake that the project requires at least <min> but has been updated\n",
      "    to work with policies introduced by <max> or earlier.\n",
      "  \n",
      "  \u001b[0m\n",
      "  \u001b[31mCMake Error at CMakeLists.txt:2 (PROJECT):\n",
      "    Generator\n",
      "  \n",
      "      Visual Studio 15 2017\n",
      "  \n",
      "    could not find any instance of Visual Studio.\n",
      "  \n",
      "  \n",
      "  \u001b[0m\n",
      "  -- Configuring incomplete, errors occurred!\n",
      "  --\n",
      "  -------\n",
      "  ------------\n",
      "  -----------------\n",
      "  ----------------------\n",
      "  ---------------------------\n",
      "  --------------------------------\n",
      "  -- Trying 'Visual Studio 15 2017 x64 v141' generator - failure\n",
      "  --------------------------------------------------------------------------------\n",
      "  \n",
      "  \n",
      "  \n",
      "  --------------------------------------------------------------------------------\n",
      "  -- Trying 'NMake Makefiles (Visual Studio 17 2022 x64 v144)' generator\n",
      "  --------------------------------\n",
      "  ---------------------------\n",
      "  ----------------------\n",
      "  -----------------\n",
      "  ------------\n",
      "  -------\n",
      "  --\n",
      "  Not searching for unused variables given on the command line.\n",
      "  \u001b[0mCMake Deprecation Warning at CMakeLists.txt:1 (cmake_minimum_required):\n",
      "    Compatibility with CMake < 3.10 will be removed from a future version of\n",
      "    CMake.\n",
      "  \n",
      "    Update the VERSION argument <min> value.  Or, use the <min>...<max> syntax\n",
      "    to tell CMake that the project requires at least <min> but has been updated\n",
      "    to work with policies introduced by <max> or earlier.\n",
      "  \n",
      "  \u001b[0m\n",
      "  -- The C compiler identification is MSVC 19.44.35207.1\n",
      "  -- Detecting C compiler ABI info\n",
      "  -- Detecting C compiler ABI info - failed\n",
      "  -- Check for working C compiler: C:/Program Files/Microsoft Visual Studio/2022/Community/VC/Tools/MSVC/14.44.35207/bin/Hostx86/x64/cl.exe\n",
      "  -- Check for working C compiler: C:/Program Files/Microsoft Visual Studio/2022/Community/VC/Tools/MSVC/14.44.35207/bin/Hostx86/x64/cl.exe - broken\n",
      "  \u001b[31mCMake Error at C:/Users/sadiq/AppData/Local/Temp/pip-build-env-e1r0i30c/overlay/Lib/site-packages/cmake/data/share/cmake-4.1/Modules/CMakeTestCCompiler.cmake:67 (message):\n",
      "    The C compiler\n",
      "  \n",
      "      \"C:/Program Files/Microsoft Visual Studio/2022/Community/VC/Tools/MSVC/14.44.35207/bin/Hostx86/x64/cl.exe\"\n",
      "  \n",
      "    is not able to compile a simple test program.\n",
      "  \n",
      "    It fails with the following output:\n",
      "  \n",
      "      Change Dir: 'C:/Users/sadiq/AppData/Local/Temp/pip-install-wb2sqbpz/pyarma_f448c08b46a642a69e688b5d72f907dd/_cmake_test_compile/build/CMakeFiles/CMakeScratch/TryCompile-9ed4rm'\n",
      "  \n",
      "      Run Build Command(s): C:/Users/sadiq/AppData/Local/Temp/pip-build-env-e1r0i30c/overlay/Lib/site-packages/cmake/data/bin/cmake.exe -E env VERBOSE=1 nmake -f Makefile /nologo cmTC_32f4a\\fast\n",
      "          \"C:\\Program Files\\Microsoft Visual Studio\\2022\\Community\\VC\\Tools\\MSVC\\14.44.35207\\bin\\HostX86\\x64\\nmake.exe\"  -f CMakeFiles\\cmTC_32f4a.dir\\build.make /nologo -L                  CMakeFiles\\cmTC_32f4a.dir\\build\n",
      "      \u001b[0mBuilding C object CMakeFiles/cmTC_32f4a.dir/testCCompiler.c.obj\u001b[0m\n",
      "          C:\\Users\\sadiq\\AppData\\Local\\Temp\\pip-build-env-e1r0i30c\\overlay\\Lib\\site-packages\\cmake\\data\\bin\\cmake.exe -E cmake_cl_compile_depends --dep-file=CMakeFiles\\cmTC_32f4a.dir\\testCCompiler.c.obj.d --working-dir=C:\\Users\\sadiq\\AppData\\Local\\Temp\\pip-install-wb2sqbpz\\pyarma_f448c08b46a642a69e688b5d72f907dd\\_cmake_test_compile\\build\\CMakeFiles\\CMakeScratch\\TryCompile-9ed4rm --filter-prefix=\"Note: including file: \" -- C:\\PROGRA~1\\MIB055~1\\2022\\COMMUN~1\\VC\\Tools\\MSVC\\1444~1.352\\bin\\Hostx86\\x64\\cl.exe @C:\\Users\\sadiq\\AppData\\Local\\Temp\\nm9B27.tmp\n",
      "      testCCompiler.c\n",
      "      \u001b[0mLinking C executable cmTC_32f4a.exe\u001b[0m\n",
      "          C:\\Users\\sadiq\\AppData\\Local\\Temp\\pip-build-env-e1r0i30c\\overlay\\Lib\\site-packages\\cmake\\data\\bin\\cmake.exe -E vs_link_exe --msvc-ver=1944 --intdir=CMakeFiles\\cmTC_32f4a.dir --rc=rc --mt=CMAKE_MT-NOTFOUND --manifests -- C:\\PROGRA~1\\MIB055~1\\2022\\COMMUN~1\\VC\\Tools\\MSVC\\1444~1.352\\bin\\Hostx86\\x64\\link.exe /nologo @CMakeFiles\\cmTC_32f4a.dir\\objects1.rsp @C:\\Users\\sadiq\\AppData\\Local\\Temp\\nm9B76.tmp\n",
      "      Visual Studio Incremental Link with embedded manifests\n",
      "      Create CMakeFiles\\cmTC_32f4a.dir/manifest.rc\n",
      "      Create empty: CMakeFiles\\cmTC_32f4a.dir/embed.manifest\n",
      "      RC Pass 1:\n",
      "      rc /fo CMakeFiles\\cmTC_32f4a.dir/manifest.res CMakeFiles\\cmTC_32f4a.dir/manifest.rc\n",
      "      RC Pass 1: command \"rc /fo CMakeFiles\\cmTC_32f4a.dir/manifest.res CMakeFiles\\cmTC_32f4a.dir/manifest.rc\" failed (exit code 0) with the following output:\n",
      "      no such file or directoryNMAKE : fatal error U1077: 'C:\\Users\\sadiq\\AppData\\Local\\Temp\\pip-build-env-e1r0i30c\\overlay\\Lib\\site-packages\\cmake\\data\\bin\\cmake.exe -E vs_link_exe --msvc-ver=1944 --intdir=CMakeFiles\\cmTC_32f4a.dir --rc=rc --mt=CMAKE_MT-NOTFOUND --manifests -- C:\\PROGRA~1\\MIB055~1\\2022\\COMMUN~1\\VC\\Tools\\MSVC\\1444~1.352\\bin\\Hostx86\\x64\\link.exe /nologo @CMakeFiles\\cmTC_32f4a.dir\\objects1.rsp @C:\\Users\\sadiq\\AppData\\Local\\Temp\\nm9B76.tmp' : return code '0xffffffff'\n",
      "      Stop.\n",
      "      NMAKE : fatal error U1077: '\"C:\\Program Files\\Microsoft Visual Studio\\2022\\Community\\VC\\Tools\\MSVC\\14.44.35207\\bin\\HostX86\\x64\\nmake.exe\"  -f CMakeFiles\\cmTC_32f4a.dir\\build.make /nologo -L                  CMakeFiles\\cmTC_32f4a.dir\\build' : return code '0x2'\n",
      "      Stop.\n",
      "  \n",
      "  \n",
      "  \n",
      "  \n",
      "  \n",
      "    CMake will not be able to correctly generate this project.\n",
      "  Call Stack (most recent call first):\n",
      "    CMakeLists.txt:3 (ENABLE_LANGUAGE)\n",
      "  \n",
      "  \u001b[0m\n",
      "  -- Configuring incomplete, errors occurred!\n",
      "  --\n",
      "  -------\n",
      "  ------------\n",
      "  -----------------\n",
      "  ----------------------\n",
      "  ---------------------------\n",
      "  --------------------------------\n",
      "  -- Trying 'NMake Makefiles (Visual Studio 17 2022 x64 v144)' generator - failure\n",
      "  --------------------------------------------------------------------------------\n",
      "  \n",
      "  \n",
      "  \n",
      "  --------------------------------------------------------------------------------\n",
      "  -- Trying 'NMake Makefiles (Visual Studio 17 2022 x64 v143)' generator\n",
      "  --------------------------------\n",
      "  ---------------------------\n",
      "  ----------------------\n",
      "  -----------------\n",
      "  ------------\n",
      "  -------\n",
      "  --\n",
      "  Not searching for unused variables given on the command line.\n",
      "  \u001b[0mCMake Deprecation Warning at CMakeLists.txt:1 (cmake_minimum_required):\n",
      "    Compatibility with CMake < 3.10 will be removed from a future version of\n",
      "    CMake.\n",
      "  \n",
      "    Update the VERSION argument <min> value.  Or, use the <min>...<max> syntax\n",
      "    to tell CMake that the project requires at least <min> but has been updated\n",
      "    to work with policies introduced by <max> or earlier.\n",
      "  \n",
      "  \u001b[0m\n",
      "  \u001b[31mCMake Error at CMakeLists.txt:2 (PROJECT):\n",
      "    Running\n",
      "  \n",
      "     'nmake' '-?'\n",
      "  \n",
      "    failed with:\n",
      "  \n",
      "     no such file or directory\n",
      "  \n",
      "  \u001b[0m\n",
      "  -- Configuring incomplete, errors occurred!\n",
      "  --\n",
      "  -------\n",
      "  ------------\n",
      "  -----------------\n",
      "  ----------------------\n",
      "  ---------------------------\n",
      "  --------------------------------\n",
      "  -- Trying 'NMake Makefiles (Visual Studio 17 2022 x64 v143)' generator - failure\n",
      "  --------------------------------------------------------------------------------\n",
      "  \n",
      "  \n",
      "  \n",
      "  --------------------------------------------------------------------------------\n",
      "  -- Trying 'NMake Makefiles (Visual Studio 16 2019 x64 v142)' generator\n",
      "  --------------------------------\n",
      "  ---------------------------\n",
      "  ----------------------\n",
      "  -----------------\n",
      "  ------------\n",
      "  -------\n",
      "  --\n",
      "  Not searching for unused variables given on the command line.\n",
      "  \u001b[0mCMake Deprecation Warning at CMakeLists.txt:1 (cmake_minimum_required):\n",
      "    Compatibility with CMake < 3.10 will be removed from a future version of\n",
      "    CMake.\n",
      "  \n",
      "    Update the VERSION argument <min> value.  Or, use the <min>...<max> syntax\n",
      "    to tell CMake that the project requires at least <min> but has been updated\n",
      "    to work with policies introduced by <max> or earlier.\n",
      "  \n",
      "  \u001b[0m\n",
      "  \u001b[31mCMake Error at CMakeLists.txt:2 (PROJECT):\n",
      "    Running\n",
      "  \n",
      "     'nmake' '-?'\n",
      "  \n",
      "    failed with:\n",
      "  \n",
      "     no such file or directory\n",
      "  \n",
      "  \u001b[0m\n",
      "  -- Configuring incomplete, errors occurred!\n",
      "  --\n",
      "  -------\n",
      "  ------------\n",
      "  -----------------\n",
      "  ----------------------\n",
      "  ---------------------------\n",
      "  --------------------------------\n",
      "  -- Trying 'NMake Makefiles (Visual Studio 16 2019 x64 v142)' generator - failure\n",
      "  --------------------------------------------------------------------------------\n",
      "  \n",
      "  \n",
      "  \n",
      "  --------------------------------------------------------------------------------\n",
      "  -- Trying 'NMake Makefiles (Visual Studio 15 2017 x64 v141)' generator\n",
      "  --------------------------------\n",
      "  ---------------------------\n",
      "  ----------------------\n",
      "  -----------------\n",
      "  ------------\n",
      "  -------\n",
      "  --\n",
      "  Not searching for unused variables given on the command line.\n",
      "  \u001b[0mCMake Deprecation Warning at CMakeLists.txt:1 (cmake_minimum_required):\n",
      "    Compatibility with CMake < 3.10 will be removed from a future version of\n",
      "    CMake.\n",
      "  \n",
      "    Update the VERSION argument <min> value.  Or, use the <min>...<max> syntax\n",
      "    to tell CMake that the project requires at least <min> but has been updated\n",
      "    to work with policies introduced by <max> or earlier.\n",
      "  \n",
      "  \u001b[0m\n",
      "  \u001b[31mCMake Error at CMakeLists.txt:2 (PROJECT):\n",
      "    Running\n",
      "  \n",
      "     'nmake' '-?'\n",
      "  \n",
      "    failed with:\n",
      "  \n",
      "     no such file or directory\n",
      "  \n",
      "  \u001b[0m\n",
      "  -- Configuring incomplete, errors occurred!\n",
      "  --\n",
      "  -------\n",
      "  ------------\n",
      "  -----------------\n",
      "  ----------------------\n",
      "  ---------------------------\n",
      "  --------------------------------\n",
      "  -- Trying 'NMake Makefiles (Visual Studio 15 2017 x64 v141)' generator - failure\n",
      "  --------------------------------------------------------------------------------\n",
      "  \n",
      "                  ********************************************************************************\n",
      "                  scikit-build could not get a working generator for your system. Aborting build.\n",
      "  \n",
      "                  Building windows wheels requires Microsoft Visual Studio.\n",
      "              Get it from:\n",
      "  n\n",
      "               https://visualstudio.microsoft.com/vs/\n",
      "  \n",
      "                  ********************************************************************************\n",
      "  [end of output]\n",
      "  \n",
      "  note: This error originates from a subprocess, and is likely not a problem with pip.\n",
      "  ERROR: Failed building wheel for pyarma\n",
      "ERROR: Failed to build installable wheels for some pyproject.toml based projects (pyarma)\n"
     ]
    }
   ],
   "source": [
    "!pip install --user pillow"
   ]
  },
  {
   "cell_type": "markdown",
   "id": "0c02e94e-723d-458b-afc1-c954b56b567f",
   "metadata": {},
   "source": [
    "To resolve this, first check if the module is installed, using pip for third-party modules. Secondly, verify the accuracy of the module name and file path, as errors here can lead to this issue. Lastly, ensure that Python packages contain a __init__.py file, necessary for Python to recognize them as valid packages."
   ]
  },
  {
   "cell_type": "markdown",
   "id": "a417c454-b9e2-4a8e-b6d3-a9d09c62da47",
   "metadata": {},
   "source": [
    "### 11. MemoryError\n",
    "A MemoryError in Python occurs when the system runs out of memory. This is often caused by memory leaks where memory is continuously consumed without being released, or by loading large files entirely instead of in smaller chunks."
   ]
  },
  {
   "cell_type": "code",
   "execution_count": 31,
   "id": "92c28596-686e-44d4-8bff-434731b00da9",
   "metadata": {},
   "outputs": [
    {
     "ename": "MemoryError",
     "evalue": "",
     "output_type": "error",
     "traceback": [
      "\u001b[31m---------------------------------------------------------------------------\u001b[39m",
      "\u001b[31mMemoryError\u001b[39m                               Traceback (most recent call last)",
      "\u001b[36mCell\u001b[39m\u001b[36m \u001b[39m\u001b[32mIn[31]\u001b[39m\u001b[32m, line 1\u001b[39m\n\u001b[32m----> \u001b[39m\u001b[32m1\u001b[39m large_list = \u001b[43m[\u001b[49m\u001b[32;43m0\u001b[39;49m\u001b[43m]\u001b[49m\u001b[43m \u001b[49m\u001b[43m*\u001b[49m\u001b[43m \u001b[49m\u001b[43m(\u001b[49m\u001b[32;43m10\u001b[39;49m\u001b[43m*\u001b[49m\u001b[43m*\u001b[49m\u001b[32;43m12\u001b[39;49m\u001b[43m)\u001b[49m  \u001b[38;5;66;03m# Attempting to create a list with more than a billion elements\u001b[39;00m\n",
      "\u001b[31mMemoryError\u001b[39m: "
     ]
    }
   ],
   "source": [
    "large_list = [0] * (10**12)  # Attempting to create a list with more than a billion elements"
   ]
  },
  {
   "cell_type": "code",
   "execution_count": 32,
   "id": "a45a57f6-82ca-4fa0-bef6-5cfee6911d63",
   "metadata": {},
   "outputs": [],
   "source": [
    "del large_list"
   ]
  },
  {
   "cell_type": "markdown",
   "id": "cffd8d6a-e849-4bf0-b832-449a50be855e",
   "metadata": {},
   "source": [
    "To handle this, use memory profiling tools like Scalene to pinpoint the memory-intensive parts of your program.\n",
    "\n",
    "For Python servers, an interim fix could be setting up an auto-restart mechanism that activates when memory usage crosses a certain limit. This approach can temporarily alleviate memory leaks by periodically freeing up memory.\n",
    "\n",
    "For large file operations, read files in smaller chunks. If the file is line-based, iterate over discrete lines:"
   ]
  },
  {
   "cell_type": "code",
   "execution_count": 51,
   "id": "1e296651-0557-4576-aca9-e4ef93c81c4f",
   "metadata": {
    "scrolled": true
   },
   "outputs": [
    {
     "name": "stdout",
     "output_type": "stream",
     "text": [
      "Requirement already satisfied: memory-profiler in c:\\users\\sadiq\\anaconda3\\envs\\guvi\\lib\\site-packages (0.61.0)\n",
      "Requirement already satisfied: psutil in c:\\users\\sadiq\\anaconda3\\envs\\guvi\\lib\\site-packages (from memory-profiler) (7.0.0)\n"
     ]
    }
   ],
   "source": [
    "!pip install memory-profiler"
   ]
  },
  {
   "cell_type": "code",
   "execution_count": 59,
   "id": "0f3250cb-3a37-40e1-9ce5-b086f8632627",
   "metadata": {},
   "outputs": [],
   "source": [
    "from memory_profiler import profile\n",
    "\n",
    "@profile\n",
    "def create_large_list():\n",
    "    large_list = [0] * (10**9)\n",
    "    return sum(large_list)\n",
    "\n",
    "#create_large_list()"
   ]
  },
  {
   "cell_type": "code",
   "execution_count": 57,
   "id": "52b10cc7-3fca-4627-b0af-5a83bd74585e",
   "metadata": {},
   "outputs": [
    {
     "name": "stdout",
     "output_type": "stream",
     "text": [
      "Filename: large_text.py\n",
      "\n",
      "Line #    Mem usage    Increment  Occurrences   Line Contents\n",
      "=============================================================\n",
      "     3     53.1 MiB     53.1 MiB           1   @profile\n",
      "     4                                         def create_large_list():\n",
      "     5   7682.4 MiB   7629.4 MiB           1       large_list = [0] * (10**9)\n",
      "     6   7682.4 MiB      0.0 MiB           1       return sum(large_list)\n",
      "\n",
      "\n"
     ]
    }
   ],
   "source": [
    "!python -m memory_profiler large_text.py"
   ]
  },
  {
   "cell_type": "code",
   "execution_count": 60,
   "id": "94d02a2d-2439-4dc5-9853-16b579980109",
   "metadata": {},
   "outputs": [
    {
     "name": "stdout",
     "output_type": "stream",
     "text": [
      "               0 COPY_FREE_VARS           3\n",
      "\n",
      "1185           2 RESUME                   0\n",
      "\n",
      "1187           4 PUSH_NULL\n",
      "               6 LOAD_DEREF               5 (get_prof)\n",
      "               8 PRECALL                  0\n",
      "              12 CALL                     0\n",
      "              22 STORE_FAST               2 (prof)\n",
      "\n",
      "1188          24 PUSH_NULL\n",
      "              26 PUSH_NULL\n",
      "              28 LOAD_FAST                2 (prof)\n",
      "              30 LOAD_DEREF               4 (func)\n",
      "              32 PRECALL                  1\n",
      "              36 CALL                     1\n",
      "              46 LOAD_FAST                0 (args)\n",
      "              48 BUILD_MAP                0\n",
      "              50 LOAD_FAST                1 (kwargs)\n",
      "              52 DICT_MERGE               1\n",
      "              54 CALL_FUNCTION_EX         1\n",
      "              56 STORE_FAST               3 (val)\n",
      "\n",
      "1189          58 PUSH_NULL\n",
      "              60 LOAD_DEREF               6 (show_results_bound)\n",
      "              62 LOAD_FAST                2 (prof)\n",
      "              64 PRECALL                  1\n",
      "              68 CALL                     1\n",
      "              78 POP_TOP\n",
      "\n",
      "1190          80 LOAD_FAST                3 (val)\n",
      "              82 RETURN_VALUE\n"
     ]
    }
   ],
   "source": [
    "import dis\n",
    "\n",
    "dis.dis(create_large_list)"
   ]
  },
  {
   "cell_type": "markdown",
   "id": "31a954f7-fc81-49d9-a31a-3a1fc33789fe",
   "metadata": {},
   "source": [
    "### 12. PermissionError\n",
    "Python raises a PermissionError when it tries to execute an operation without the required privileges, such as accessing or modifying restricted files or directories. This error can also occur if a file is currently in use by another program."
   ]
  },
  {
   "cell_type": "code",
   "execution_count": 43,
   "id": "ba17674c-377b-4919-95f6-a2f410f432de",
   "metadata": {},
   "outputs": [],
   "source": [
    "import os\n",
    "\n",
    "os.mkdir(\"C:/ProgramData/new_dir\")"
   ]
  },
  {
   "cell_type": "markdown",
   "id": "52b7f6d1-0abc-42f8-a674-819ef7ad33f9",
   "metadata": {},
   "source": [
    "To address a PermissionError, consider running your script with elevated privileges using sudo, but be cautious as it can be risky.\n",
    "\n",
    "Other solutions include modifying file or directory permissions with os.chmod(), adjusting ACLs(https://www.redhat.com/sysadmin/linux-access-control-lists) using setfacl, or moving the file/directory to a location with write permissions using shutil.move(). The right solution here depends on your specific needs and security considerations.\n",
    "\n"
   ]
  },
  {
   "cell_type": "markdown",
   "id": "7e44c215-8059-4fdd-9f9e-9e45ba68fa82",
   "metadata": {},
   "source": [
    "### 13. IndexError\n",
    "An IndexError is often encountered when you attempt to access an index in a sequence, such as a list, tuple, or string, and it is outside the valid range. For instance, trying to access index 4 in a list with only three elements:"
   ]
  },
  {
   "cell_type": "code",
   "execution_count": 44,
   "id": "7d733604-022e-4f90-acb8-8e368a685ccf",
   "metadata": {},
   "outputs": [
    {
     "ename": "IndexError",
     "evalue": "list index out of range",
     "output_type": "error",
     "traceback": [
      "\u001b[31m---------------------------------------------------------------------------\u001b[39m",
      "\u001b[31mIndexError\u001b[39m                                Traceback (most recent call last)",
      "\u001b[36mCell\u001b[39m\u001b[36m \u001b[39m\u001b[32mIn[44]\u001b[39m\u001b[32m, line 2\u001b[39m\n\u001b[32m      1\u001b[39m numbers = [\u001b[32m10\u001b[39m, \u001b[32m20\u001b[39m, \u001b[32m30\u001b[39m]\n\u001b[32m----> \u001b[39m\u001b[32m2\u001b[39m \u001b[43mnumbers\u001b[49m\u001b[43m[\u001b[49m\u001b[32;43m4\u001b[39;49m\u001b[43m]\u001b[49m\n",
      "\u001b[31mIndexError\u001b[39m: list index out of range"
     ]
    }
   ],
   "source": [
    "numbers = [10, 20, 30]\n",
    "numbers[4]"
   ]
  },
  {
   "cell_type": "code",
   "execution_count": 45,
   "id": "f2b86543-6bb6-46bd-bfea-243fb8e69acc",
   "metadata": {},
   "outputs": [],
   "source": [
    "numbers = [10, 20, 30]\n",
    "\n",
    "# Ensure the index is within the range of the list\n",
    "index = 4\n",
    "if index < len(numbers):\n",
    "    print(numbers[index])"
   ]
  },
  {
   "cell_type": "markdown",
   "id": "58995639-a645-4f18-b11a-d5a626968908",
   "metadata": {},
   "source": [
    "To prevent IndexError, ensure that the index you're accessing falls within the sequence's valid range. This can be checked by comparing the index with the sequence's length, obtainable using the len() method.\n",
    "\n"
   ]
  },
  {
   "cell_type": "markdown",
   "id": "8e71f983-fadc-4052-b078-a8c065c0a472",
   "metadata": {},
   "source": [
    "### 14. KeyError\n",
    "A KeyError in Python is raised when an attempt is made to access a dictionary value using a key that doesn't exist. This error can occur if the key is missing, if there's a typographical error, or if the dictionary is empty:"
   ]
  },
  {
   "cell_type": "code",
   "execution_count": 46,
   "id": "70c872a3-e035-4fea-bfc8-29c33bb8043a",
   "metadata": {},
   "outputs": [
    {
     "ename": "KeyError",
     "evalue": "'location'",
     "output_type": "error",
     "traceback": [
      "\u001b[31m---------------------------------------------------------------------------\u001b[39m",
      "\u001b[31mKeyError\u001b[39m                                  Traceback (most recent call last)",
      "\u001b[36mCell\u001b[39m\u001b[36m \u001b[39m\u001b[32mIn[46]\u001b[39m\u001b[32m, line 2\u001b[39m\n\u001b[32m      1\u001b[39m my_dict = {\u001b[33m'\u001b[39m\u001b[33mname\u001b[39m\u001b[33m'\u001b[39m: \u001b[33m'\u001b[39m\u001b[33mJohn\u001b[39m\u001b[33m'\u001b[39m, \u001b[33m'\u001b[39m\u001b[33mage\u001b[39m\u001b[33m'\u001b[39m: \u001b[32m25\u001b[39m}\n\u001b[32m----> \u001b[39m\u001b[32m2\u001b[39m \u001b[38;5;28mprint\u001b[39m(\u001b[43mmy_dict\u001b[49m\u001b[43m[\u001b[49m\u001b[33;43m'\u001b[39;49m\u001b[33;43mlocation\u001b[39;49m\u001b[33;43m'\u001b[39;49m\u001b[43m]\u001b[49m)  \u001b[38;5;66;03m# the 'location' key does not exist\u001b[39;00m\n",
      "\u001b[31mKeyError\u001b[39m: 'location'"
     ]
    }
   ],
   "source": [
    "my_dict = {'name': 'John', 'age': 25}\n",
    "print(my_dict['location'])  # the 'location' key does not exist"
   ]
  },
  {
   "cell_type": "code",
   "execution_count": 48,
   "id": "9796f154-8a6a-4900-9d35-2e120884145d",
   "metadata": {},
   "outputs": [
    {
     "name": "stdout",
     "output_type": "stream",
     "text": [
      "Location key not found in the dictionary.\n"
     ]
    }
   ],
   "source": [
    "my_dict = {'name': 'John', 'age': 25}\n",
    "\n",
    "location = my_dict.get('location')\n",
    "\n",
    "if location is not None:\n",
    "    print(\"Location:\", location)\n",
    "else:\n",
    "    print(\"Location key not found in the dictionary.\")"
   ]
  },
  {
   "cell_type": "markdown",
   "id": "dc68ad2d-115f-4897-8cb9-f5b59557ea8a",
   "metadata": {},
   "source": [
    "### 15. AttributeError\n",
    "An AttributeError in Python is raised when there's an attempt to access or utilize an attribute that an object or class doesn't possess. For instance, since a list lacks the lower() method:"
   ]
  },
  {
   "cell_type": "code",
   "execution_count": 49,
   "id": "ea33e34e-98c5-494a-a8c0-2b946e33eca3",
   "metadata": {},
   "outputs": [
    {
     "ename": "AttributeError",
     "evalue": "'list' object has no attribute 'lower'",
     "output_type": "error",
     "traceback": [
      "\u001b[31m---------------------------------------------------------------------------\u001b[39m",
      "\u001b[31mAttributeError\u001b[39m                            Traceback (most recent call last)",
      "\u001b[36mCell\u001b[39m\u001b[36m \u001b[39m\u001b[32mIn[49]\u001b[39m\u001b[32m, line 2\u001b[39m\n\u001b[32m      1\u001b[39m my_list = [\u001b[32m1\u001b[39m, \u001b[32m2\u001b[39m, \u001b[32m3\u001b[39m]\n\u001b[32m----> \u001b[39m\u001b[32m2\u001b[39m \u001b[38;5;28mprint\u001b[39m(\u001b[43mmy_list\u001b[49m\u001b[43m.\u001b[49m\u001b[43mlower\u001b[49m())\n",
      "\u001b[31mAttributeError\u001b[39m: 'list' object has no attribute 'lower'"
     ]
    }
   ],
   "source": [
    "my_list = [1, 2, 3]\n",
    "print(my_list.lower())"
   ]
  },
  {
   "cell_type": "markdown",
   "id": "99da9e60-f393-4c6e-aa74-ba0134018097",
   "metadata": {},
   "source": [
    "To prevent this error, ensure that you're using attributes and methods that are actually available for the given object. This can be confirmed by consulting the object's documentation. Additionally, verify the correct spelling of the attribute names.\n",
    "\n"
   ]
  },
  {
   "cell_type": "code",
   "execution_count": 50,
   "id": "3e7e769a-89e3-4fb7-af4c-b5c939a3173f",
   "metadata": {},
   "outputs": [
    {
     "data": {
      "text/plain": [
       "['__add__',\n",
       " '__class__',\n",
       " '__class_getitem__',\n",
       " '__contains__',\n",
       " '__delattr__',\n",
       " '__delitem__',\n",
       " '__dir__',\n",
       " '__doc__',\n",
       " '__eq__',\n",
       " '__format__',\n",
       " '__ge__',\n",
       " '__getattribute__',\n",
       " '__getitem__',\n",
       " '__getstate__',\n",
       " '__gt__',\n",
       " '__hash__',\n",
       " '__iadd__',\n",
       " '__imul__',\n",
       " '__init__',\n",
       " '__init_subclass__',\n",
       " '__iter__',\n",
       " '__le__',\n",
       " '__len__',\n",
       " '__lt__',\n",
       " '__mul__',\n",
       " '__ne__',\n",
       " '__new__',\n",
       " '__reduce__',\n",
       " '__reduce_ex__',\n",
       " '__repr__',\n",
       " '__reversed__',\n",
       " '__rmul__',\n",
       " '__setattr__',\n",
       " '__setitem__',\n",
       " '__sizeof__',\n",
       " '__str__',\n",
       " '__subclasshook__',\n",
       " 'append',\n",
       " 'clear',\n",
       " 'copy',\n",
       " 'count',\n",
       " 'extend',\n",
       " 'index',\n",
       " 'insert',\n",
       " 'pop',\n",
       " 'remove',\n",
       " 'reverse',\n",
       " 'sort']"
      ]
     },
     "execution_count": 50,
     "metadata": {},
     "output_type": "execute_result"
    }
   ],
   "source": [
    "dir(my_list)"
   ]
  },
  {
   "cell_type": "code",
   "execution_count": null,
   "id": "ca19a1b5-9dd0-455e-b3b0-782dcfd4ade7",
   "metadata": {},
   "outputs": [],
   "source": []
  }
 ],
 "metadata": {
  "kernelspec": {
   "display_name": "Python 3 (ipykernel)",
   "language": "python",
   "name": "python3"
  },
  "language_info": {
   "codemirror_mode": {
    "name": "ipython",
    "version": 3
   },
   "file_extension": ".py",
   "mimetype": "text/x-python",
   "name": "python",
   "nbconvert_exporter": "python",
   "pygments_lexer": "ipython3",
   "version": "3.11.13"
  }
 },
 "nbformat": 4,
 "nbformat_minor": 5
}
