{
 "cells": [
  {
   "cell_type": "markdown",
   "id": "69508c0d-081a-42e1-928b-915235855bc0",
   "metadata": {},
   "source": [
    "### Python PIP"
   ]
  },
  {
   "cell_type": "markdown",
   "id": "31099574-0ce1-49ac-85c5-6396d90afdf8",
   "metadata": {},
   "source": [
    "1. What Is pip and Why It Matters\n",
    "   \n",
    "pip stands for \"Pip Installs Packages\". It’s Python’s default package manager, allowing you to install libraries from the Python Package Index (PyPI). When you install Python via the official installer, pip is included automatically. You can verify its presence with:\n",
    "\n",
    "    pip --version\n",
    "    or\n",
    "    python -m pip --version\n",
    "\n",
    "\n",
    "This confirms pip is linked to your Python interpreter. If you're using multiple Python versions (like Python 2 and 3), you might also see pip2 and pip3.\n",
    "\n",
    " 2. Installing, Upgrading, and Uninstalling Packages\n",
    "Install a package:\n",
    "\n",
    "    pip install numpy\n",
    "\n",
    "\n",
    "Upgrade a package:\n",
    "\n",
    "    pip install --upgrade pandas\n",
    "\n",
    "\n",
    "Uninstall a package:\n",
    "    \n",
    "    pip uninstall matplotlib\n",
    "\n",
    "\n",
    "You can also install specific versions:\n",
    "\n",
    "    pip install scikit-learn==1.3.0\n",
    "\n",
    "\n",
    "And install multiple packages at once:\n",
    "\n",
    "    pip install requests flask beautifulsoup4"
   ]
  },
  {
   "cell_type": "code",
   "execution_count": 1,
   "id": "04141799-95a5-4623-89b4-f138f2045e0c",
   "metadata": {},
   "outputs": [
    {
     "name": "stdout",
     "output_type": "stream",
     "text": [
      "pip 25.1 from C:\\Users\\sadiq\\anaconda3\\envs\\guvi\\Lib\\site-packages\\pip (python 3.11)\n",
      "\n"
     ]
    }
   ],
   "source": [
    "!pip --version"
   ]
  },
  {
   "cell_type": "code",
   "execution_count": 2,
   "id": "01a624ef-c2dd-4a47-9375-38c247673511",
   "metadata": {},
   "outputs": [
    {
     "name": "stdout",
     "output_type": "stream",
     "text": [
      "pip 25.1 from C:\\Users\\sadiq\\anaconda3\\envs\\guvi\\Lib\\site-packages\\pip (python 3.11)\n",
      "\n"
     ]
    }
   ],
   "source": [
    "!python -m pip --version"
   ]
  },
  {
   "cell_type": "code",
   "execution_count": 4,
   "id": "cd475001-a306-4769-8edf-c08c92fe2455",
   "metadata": {
    "scrolled": true
   },
   "outputs": [
    {
     "name": "stdout",
     "output_type": "stream",
     "text": [
      "Collecting pandas\n",
      "  Downloading pandas-2.3.2-cp311-cp311-win_amd64.whl.metadata (19 kB)\n",
      "Requirement already satisfied: numpy>=1.23.2 in c:\\users\\sadiq\\anaconda3\\envs\\guvi\\lib\\site-packages (from pandas) (2.3.3)\n",
      "Requirement already satisfied: python-dateutil>=2.8.2 in c:\\users\\sadiq\\anaconda3\\envs\\guvi\\lib\\site-packages (from pandas) (2.9.0.post0)\n",
      "Collecting pytz>=2020.1 (from pandas)\n",
      "  Using cached pytz-2025.2-py2.py3-none-any.whl.metadata (22 kB)\n",
      "Collecting tzdata>=2022.7 (from pandas)\n",
      "  Using cached tzdata-2025.2-py2.py3-none-any.whl.metadata (1.4 kB)\n",
      "Requirement already satisfied: six>=1.5 in c:\\users\\sadiq\\anaconda3\\envs\\guvi\\lib\\site-packages (from python-dateutil>=2.8.2->pandas) (1.17.0)\n",
      "Downloading pandas-2.3.2-cp311-cp311-win_amd64.whl (11.3 MB)\n",
      "   ---------------------------------------- 0.0/11.3 MB ? eta -:--:--\n",
      "   ------ --------------------------------- 1.8/11.3 MB 16.7 MB/s eta 0:00:01\n",
      "   ---------------------- ----------------- 6.3/11.3 MB 20.3 MB/s eta 0:00:01\n",
      "   ---------------------------------------- 11.3/11.3 MB 22.8 MB/s eta 0:00:00\n",
      "Using cached pytz-2025.2-py2.py3-none-any.whl (509 kB)\n",
      "Using cached tzdata-2025.2-py2.py3-none-any.whl (347 kB)\n",
      "Installing collected packages: pytz, tzdata, pandas\n",
      "\n",
      "   ---------------------------------------- 0/3 [pytz]\n",
      "   ------------- -------------------------- 1/3 [tzdata]\n",
      "   -------------------------- ------------- 2/3 [pandas]\n",
      "   -------------------------- ------------- 2/3 [pandas]\n",
      "   -------------------------- ------------- 2/3 [pandas]\n",
      "   -------------------------- ------------- 2/3 [pandas]\n",
      "   -------------------------- ------------- 2/3 [pandas]\n",
      "   -------------------------- ------------- 2/3 [pandas]\n",
      "   -------------------------- ------------- 2/3 [pandas]\n",
      "   -------------------------- ------------- 2/3 [pandas]\n",
      "   -------------------------- ------------- 2/3 [pandas]\n",
      "   -------------------------- ------------- 2/3 [pandas]\n",
      "   -------------------------- ------------- 2/3 [pandas]\n",
      "   -------------------------- ------------- 2/3 [pandas]\n",
      "   -------------------------- ------------- 2/3 [pandas]\n",
      "   -------------------------- ------------- 2/3 [pandas]\n",
      "   -------------------------- ------------- 2/3 [pandas]\n",
      "   -------------------------- ------------- 2/3 [pandas]\n",
      "   -------------------------- ------------- 2/3 [pandas]\n",
      "   -------------------------- ------------- 2/3 [pandas]\n",
      "   -------------------------- ------------- 2/3 [pandas]\n",
      "   -------------------------- ------------- 2/3 [pandas]\n",
      "   -------------------------- ------------- 2/3 [pandas]\n",
      "   -------------------------- ------------- 2/3 [pandas]\n",
      "   -------------------------- ------------- 2/3 [pandas]\n",
      "   -------------------------- ------------- 2/3 [pandas]\n",
      "   -------------------------- ------------- 2/3 [pandas]\n",
      "   -------------------------- ------------- 2/3 [pandas]\n",
      "   -------------------------- ------------- 2/3 [pandas]\n",
      "   -------------------------- ------------- 2/3 [pandas]\n",
      "   -------------------------- ------------- 2/3 [pandas]\n",
      "   -------------------------- ------------- 2/3 [pandas]\n",
      "   -------------------------- ------------- 2/3 [pandas]\n",
      "   -------------------------- ------------- 2/3 [pandas]\n",
      "   -------------------------- ------------- 2/3 [pandas]\n",
      "   -------------------------- ------------- 2/3 [pandas]\n",
      "   -------------------------- ------------- 2/3 [pandas]\n",
      "   -------------------------- ------------- 2/3 [pandas]\n",
      "   -------------------------- ------------- 2/3 [pandas]\n",
      "   -------------------------- ------------- 2/3 [pandas]\n",
      "   -------------------------- ------------- 2/3 [pandas]\n",
      "   -------------------------- ------------- 2/3 [pandas]\n",
      "   -------------------------- ------------- 2/3 [pandas]\n",
      "   -------------------------- ------------- 2/3 [pandas]\n",
      "   -------------------------- ------------- 2/3 [pandas]\n",
      "   -------------------------- ------------- 2/3 [pandas]\n",
      "   -------------------------- ------------- 2/3 [pandas]\n",
      "   -------------------------- ------------- 2/3 [pandas]\n",
      "   -------------------------- ------------- 2/3 [pandas]\n",
      "   -------------------------- ------------- 2/3 [pandas]\n",
      "   -------------------------- ------------- 2/3 [pandas]\n",
      "   -------------------------- ------------- 2/3 [pandas]\n",
      "   -------------------------- ------------- 2/3 [pandas]\n",
      "   -------------------------- ------------- 2/3 [pandas]\n",
      "   -------------------------- ------------- 2/3 [pandas]\n",
      "   -------------------------- ------------- 2/3 [pandas]\n",
      "   -------------------------- ------------- 2/3 [pandas]\n",
      "   -------------------------- ------------- 2/3 [pandas]\n",
      "   -------------------------- ------------- 2/3 [pandas]\n",
      "   -------------------------- ------------- 2/3 [pandas]\n",
      "   -------------------------- ------------- 2/3 [pandas]\n",
      "   -------------------------- ------------- 2/3 [pandas]\n",
      "   -------------------------- ------------- 2/3 [pandas]\n",
      "   -------------------------- ------------- 2/3 [pandas]\n",
      "   -------------------------- ------------- 2/3 [pandas]\n",
      "   -------------------------- ------------- 2/3 [pandas]\n",
      "   -------------------------- ------------- 2/3 [pandas]\n",
      "   -------------------------- ------------- 2/3 [pandas]\n",
      "   -------------------------- ------------- 2/3 [pandas]\n",
      "   ---------------------------------------- 3/3 [pandas]\n",
      "\n",
      "Successfully installed pandas-2.3.2 pytz-2025.2 tzdata-2025.2\n"
     ]
    }
   ],
   "source": [
    "!pip install pandas"
   ]
  },
  {
   "cell_type": "markdown",
   "id": "170c1591-092a-4e32-852d-173a4d73dbfc",
   "metadata": {},
   "source": [
    "3. Working with Requirements Files\n",
    "For reproducible environments, use a requirements.txt file:\n",
    "\n",
    "    numpy==1.24.0\n",
    "    pandas>=1.5.0\n",
    "    scikit-learn\n",
    "\n",
    "\n",
    "Install all listed packages with:\n",
    "\n",
    "    pip install -r requirements.txt\n",
    "\n",
    "\n",
    "Generate this file from your current environment:\n",
    "\n",
    "    pip freeze > requirements.txt\n",
    "\n",
    "\n",
    "This is especially useful for deploying ML apps or sharing your setup with collaborators."
   ]
  },
  {
   "cell_type": "markdown",
   "id": "e4df5ffc-0149-4b8f-a79d-f0e14913ad87",
   "metadata": {},
   "source": [
    "4. Inspecting and Managing Installed Packages\n",
    "List installed packages:\n",
    "\n",
    "    pip list\n",
    "\n",
    "\n",
    "Show details of a package:\n",
    "\n",
    "    pip show requests\n",
    "\n",
    "\n",
    "Check outdated packages:\n",
    "\n",
    "    pip list --outdated\n",
    "\n",
    "\n",
    "Clean up unused packages:\n",
    "\n",
    "    pip uninstall <package-name>\n",
    "\n",
    "\n",
    "These commands help you maintain a lean, efficient environment—critical when working with memory-sensitive ML models."
   ]
  },
  {
   "cell_type": "markdown",
   "id": "73c71c76-45e2-420d-983a-72cc289d6806",
   "metadata": {},
   "source": [
    "5. Advanced Usage and Best Practices:\n",
    "   \n",
    "- Use --user to install packages locally:\n",
    "\n",
    "    pip install --user seaborn\n",
    "\n",
    "- Install from a GitHub repo:\n",
    "\n",
    "    pip install git+https://github.com/user/repo.git\n",
    "\n",
    "- Use virtual environments to isolate dependencies:\n",
    "\n",
    "    python -m venv myenv\n",
    "    source myenv/bin/activate  # Linux/macOS\n",
    "    myenv\\Scripts\\activate     # Windows\n",
    "    pip install -r requirements.txt\n",
    "\n",
    "\n",
    "This ensures your projects don’t conflict and keeps your system clean.\n"
   ]
  },
  {
   "cell_type": "code",
   "execution_count": null,
   "id": "c6865b3d-aec3-4be8-b448-63085b03164a",
   "metadata": {},
   "outputs": [],
   "source": [
    "#Also can add https://github.com/explosion/spacy-models/releases/download/en_core_web_sm-3.0.0/en_core_web_sm-3.0.0-py3-none-any.whl\n"
   ]
  }
 ],
 "metadata": {
  "kernelspec": {
   "display_name": "Python 3 (ipykernel)",
   "language": "python",
   "name": "python3"
  },
  "language_info": {
   "codemirror_mode": {
    "name": "ipython",
    "version": 3
   },
   "file_extension": ".py",
   "mimetype": "text/x-python",
   "name": "python",
   "nbconvert_exporter": "python",
   "pygments_lexer": "ipython3",
   "version": "3.11.13"
  }
 },
 "nbformat": 4,
 "nbformat_minor": 5
}
