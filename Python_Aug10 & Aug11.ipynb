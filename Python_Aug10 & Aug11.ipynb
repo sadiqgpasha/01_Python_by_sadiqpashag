{
 "cells": [
  {
   "cell_type": "raw",
   "id": "d325cc52-8d6c-422c-b95b-4842f64617a3",
   "metadata": {},
   "source": [
    "Topics:\n",
    "\n",
    "Working with Files\n",
    "Regex\n",
    "Errors and Exception handling"
   ]
  },
  {
   "cell_type": "markdown",
   "id": "abab12e0-7373-47f5-8399-ca89701fa931",
   "metadata": {},
   "source": [
    "#### File handling"
   ]
  },
  {
   "cell_type": "raw",
   "id": "ea3612a2-0864-44c1-b56b-2a0f200a1375",
   "metadata": {},
   "source": [
    "open() -> close()\n",
    "with open()  # Recommended way"
   ]
  },
  {
   "cell_type": "raw",
   "id": "a6acc60a-abef-4a25-81e3-18b929cf1652",
   "metadata": {},
   "source": [
    "with open(<path & name of the file>, 'mode of the file') as f:\n",
    "    f.read()\n",
    "    f.write()"
   ]
  },
  {
   "cell_type": "code",
   "execution_count": 15,
   "id": "14894d68-48f0-43e2-9156-5f2d7944fc83",
   "metadata": {},
   "outputs": [
    {
     "name": "stdout",
     "output_type": "stream",
     "text": [
      "Hello students!\n",
      "how are you?\n"
     ]
    }
   ],
   "source": [
    "with open('./some_file.txt', 'r') as f:\n",
    "    var = f.read()\n",
    "    print(var)"
   ]
  },
  {
   "cell_type": "markdown",
   "id": "bef3f0c8-8c58-49cb-9533-5e4b09913278",
   "metadata": {},
   "source": [
    "File Modes:\n",
    "\n",
    "    'r' - reading mode - default mode\n",
    "    'w' - write to a file, create a new file if it doesnt exist, delete and create with new content if already exists\n",
    "    'a' - append mode. It writes to the end of the file. Does not erase anything.\n",
    "    \n",
    "    'r+' - reading mode + writing mode (r+w) -> overwriting mode\n",
    "    'w+' - writing and reading mode.(w+r) exactly same as r+ but if file does not exist, a new one is created\n",
    "    'a+' - appending to existing file, will create new one if does not exist\n",
    "\n",
    "    'rb' - \n",
    "    'wb'\n",
    "    'ab'\n",
    "\n",
    "    'rb+'\n",
    "    'wb+'\n",
    "    'ab+'\n",
    "\n",
    "    'x' -> exclusive creation -> file should not exist\n",
    "    'x+' -> reading and writing \n",
    "    'xb' -> creation of binary file \n",
    "    'xb+' -> creation and reading + writing"
   ]
  },
  {
   "cell_type": "code",
   "execution_count": 17,
   "id": "a5bfe2ea-8aed-484b-bfd7-c73bf351ae78",
   "metadata": {},
   "outputs": [
    {
     "name": "stdout",
     "output_type": "stream",
     "text": [
      "Hello students!\n",
      "how are you?\n"
     ]
    }
   ],
   "source": [
    "with open('./some_file.txt') as f:\n",
    "    var = f.read()\n",
    "    print(var)"
   ]
  },
  {
   "cell_type": "code",
   "execution_count": 21,
   "id": "1e08bbcf-180b-4697-b3ab-e0a3a1c5d813",
   "metadata": {},
   "outputs": [],
   "source": [
    "with open('./some_file.txt', 'w') as f:\n",
    "    f.write('Good morning students')"
   ]
  },
  {
   "cell_type": "code",
   "execution_count": 26,
   "id": "9197996e-f503-43f5-9a16-ada84c0f62df",
   "metadata": {},
   "outputs": [],
   "source": [
    "with open('./new_file.txt', 'w') as f:\n",
    "    f.write('Good morning students')"
   ]
  },
  {
   "cell_type": "code",
   "execution_count": 29,
   "id": "0baf49ee-fc98-438e-ab03-dc4b8ac35ff9",
   "metadata": {},
   "outputs": [],
   "source": [
    "with open('./new_file.txt', 'a') as f:\n",
    "    f.write('Exams are tomorrow')"
   ]
  },
  {
   "cell_type": "code",
   "execution_count": 32,
   "id": "5c4d9496-1278-4164-9a4d-6d5d8bb55b41",
   "metadata": {},
   "outputs": [],
   "source": [
    "with open('./file.txt', 'a') as f:\n",
    "    f.write('Exams are tomorrow')"
   ]
  },
  {
   "cell_type": "code",
   "execution_count": 36,
   "id": "edf0bb9a-2c1d-498f-b190-c526936521fc",
   "metadata": {},
   "outputs": [],
   "source": [
    "with open('./file.txt', 'r+') as f:\n",
    "    f.write('Food is tasty')\n"
   ]
  },
  {
   "cell_type": "code",
   "execution_count": 40,
   "id": "9b571546-35dd-4143-8781-aef94142a075",
   "metadata": {},
   "outputs": [
    {
     "ename": "FileNotFoundError",
     "evalue": "[Errno 2] No such file or directory: './justafile.txt'",
     "output_type": "error",
     "traceback": [
      "\u001b[1;31m---------------------------------------------------------------------------\u001b[0m",
      "\u001b[1;31mFileNotFoundError\u001b[0m                         Traceback (most recent call last)",
      "Cell \u001b[1;32mIn[40], line 1\u001b[0m\n\u001b[1;32m----> 1\u001b[0m \u001b[38;5;28;01mwith\u001b[39;00m \u001b[38;5;28mopen\u001b[39m(\u001b[38;5;124m'\u001b[39m\u001b[38;5;124m./justafile.txt\u001b[39m\u001b[38;5;124m'\u001b[39m, \u001b[38;5;124m'\u001b[39m\u001b[38;5;124mr+\u001b[39m\u001b[38;5;124m'\u001b[39m) \u001b[38;5;28;01mas\u001b[39;00m f:\n\u001b[0;32m      2\u001b[0m     f\u001b[38;5;241m.\u001b[39mwrite(\u001b[38;5;124m'\u001b[39m\u001b[38;5;124mFood is tasty\u001b[39m\u001b[38;5;124m'\u001b[39m)\n",
      "File \u001b[1;32m~\\anaconda3\\Lib\\site-packages\\IPython\\core\\interactiveshell.py:286\u001b[0m, in \u001b[0;36m_modified_open\u001b[1;34m(file, *args, **kwargs)\u001b[0m\n\u001b[0;32m    279\u001b[0m \u001b[38;5;28;01mif\u001b[39;00m file \u001b[38;5;129;01min\u001b[39;00m {\u001b[38;5;241m0\u001b[39m, \u001b[38;5;241m1\u001b[39m, \u001b[38;5;241m2\u001b[39m}:\n\u001b[0;32m    280\u001b[0m     \u001b[38;5;28;01mraise\u001b[39;00m \u001b[38;5;167;01mValueError\u001b[39;00m(\n\u001b[0;32m    281\u001b[0m         \u001b[38;5;124mf\u001b[39m\u001b[38;5;124m\"\u001b[39m\u001b[38;5;124mIPython won\u001b[39m\u001b[38;5;124m'\u001b[39m\u001b[38;5;124mt let you open fd=\u001b[39m\u001b[38;5;132;01m{\u001b[39;00mfile\u001b[38;5;132;01m}\u001b[39;00m\u001b[38;5;124m by default \u001b[39m\u001b[38;5;124m\"\u001b[39m\n\u001b[0;32m    282\u001b[0m         \u001b[38;5;124m\"\u001b[39m\u001b[38;5;124mas it is likely to crash IPython. If you know what you are doing, \u001b[39m\u001b[38;5;124m\"\u001b[39m\n\u001b[0;32m    283\u001b[0m         \u001b[38;5;124m\"\u001b[39m\u001b[38;5;124myou can use builtins\u001b[39m\u001b[38;5;124m'\u001b[39m\u001b[38;5;124m open.\u001b[39m\u001b[38;5;124m\"\u001b[39m\n\u001b[0;32m    284\u001b[0m     )\n\u001b[1;32m--> 286\u001b[0m \u001b[38;5;28;01mreturn\u001b[39;00m io_open(file, \u001b[38;5;241m*\u001b[39margs, \u001b[38;5;241m*\u001b[39m\u001b[38;5;241m*\u001b[39mkwargs)\n",
      "\u001b[1;31mFileNotFoundError\u001b[0m: [Errno 2] No such file or directory: './justafile.txt'"
     ]
    }
   ],
   "source": [
    "with open('./justafile.txt', 'r+') as f:\n",
    "    f.write('Food is tasty')"
   ]
  },
  {
   "cell_type": "code",
   "execution_count": 42,
   "id": "0333e095-8b69-4acb-84f0-c90836e6fcf2",
   "metadata": {},
   "outputs": [],
   "source": [
    "with open('./justafile.txt', 'w+') as f:\n",
    "    f.write('Food is tasty. But I have exams')"
   ]
  },
  {
   "cell_type": "code",
   "execution_count": 45,
   "id": "243f4b23-ed96-494b-8920-fb827bc926a4",
   "metadata": {},
   "outputs": [],
   "source": [
    "with open('./justafile.txt', 'w+') as f:\n",
    "    f.write('Good mornign students. But I have exams')"
   ]
  },
  {
   "cell_type": "code",
   "execution_count": 48,
   "id": "0c416759-b65d-443a-8b6b-044b96c181cd",
   "metadata": {},
   "outputs": [
    {
     "data": {
      "text/plain": [
       "31"
      ]
     },
     "execution_count": 48,
     "metadata": {},
     "output_type": "execute_result"
    }
   ],
   "source": [
    "len('Food is tasty. But I have exams')"
   ]
  },
  {
   "cell_type": "code",
   "execution_count": 50,
   "id": "7aae1429-e321-414a-b83f-3306363f7c3f",
   "metadata": {},
   "outputs": [
    {
     "data": {
      "text/plain": [
       "39"
      ]
     },
     "execution_count": 50,
     "metadata": {},
     "output_type": "execute_result"
    }
   ],
   "source": [
    "len('Good mornign students. But I have exams')"
   ]
  },
  {
   "cell_type": "code",
   "execution_count": 54,
   "id": "69492a13-4be3-4b9c-8cab-9bf4e9e3016d",
   "metadata": {},
   "outputs": [],
   "source": [
    "with open('./justafile.txt', 'a') as f:\n",
    "    f.write(' I have not studied')"
   ]
  },
  {
   "cell_type": "code",
   "execution_count": 57,
   "id": "d7116417-ac96-4ba0-b5c7-202405d357dc",
   "metadata": {},
   "outputs": [],
   "source": [
    "with open('./justafile.txt', 'a+') as f:\n",
    "    f.write(' I will study tomorrow')"
   ]
  },
  {
   "cell_type": "code",
   "execution_count": 61,
   "id": "be710300-a4d8-4e28-9973-861fd953f26e",
   "metadata": {},
   "outputs": [],
   "source": [
    "with open('./newerfile.txt', 'a+') as f:\n",
    "    f.write(' I will study tomorrow')"
   ]
  },
  {
   "cell_type": "code",
   "execution_count": null,
   "id": "2671dcd6-94e3-435a-a2e4-08c9d06bc751",
   "metadata": {},
   "outputs": [],
   "source": []
  },
  {
   "cell_type": "code",
   "execution_count": 77,
   "id": "bb83329e-98b7-4eb7-9737-c1a9216d9894",
   "metadata": {},
   "outputs": [
    {
     "ename": "FileExistsError",
     "evalue": "[Errno 17] File exists: './newerfile.txt'",
     "output_type": "error",
     "traceback": [
      "\u001b[1;31m---------------------------------------------------------------------------\u001b[0m",
      "\u001b[1;31mFileExistsError\u001b[0m                           Traceback (most recent call last)",
      "Cell \u001b[1;32mIn[77], line 1\u001b[0m\n\u001b[1;32m----> 1\u001b[0m \u001b[38;5;28;01mwith\u001b[39;00m \u001b[38;5;28mopen\u001b[39m(\u001b[38;5;124m'\u001b[39m\u001b[38;5;124m./newerfile.txt\u001b[39m\u001b[38;5;124m'\u001b[39m, \u001b[38;5;124m'\u001b[39m\u001b[38;5;124mx\u001b[39m\u001b[38;5;124m'\u001b[39m) \u001b[38;5;28;01mas\u001b[39;00m f:\n\u001b[0;32m      2\u001b[0m     f\u001b[38;5;241m.\u001b[39mwrite(\u001b[38;5;124m'\u001b[39m\u001b[38;5;124m I will study tomorrow\u001b[39m\u001b[38;5;124m'\u001b[39m)\n",
      "File \u001b[1;32m~\\anaconda3\\Lib\\site-packages\\IPython\\core\\interactiveshell.py:286\u001b[0m, in \u001b[0;36m_modified_open\u001b[1;34m(file, *args, **kwargs)\u001b[0m\n\u001b[0;32m    279\u001b[0m \u001b[38;5;28;01mif\u001b[39;00m file \u001b[38;5;129;01min\u001b[39;00m {\u001b[38;5;241m0\u001b[39m, \u001b[38;5;241m1\u001b[39m, \u001b[38;5;241m2\u001b[39m}:\n\u001b[0;32m    280\u001b[0m     \u001b[38;5;28;01mraise\u001b[39;00m \u001b[38;5;167;01mValueError\u001b[39;00m(\n\u001b[0;32m    281\u001b[0m         \u001b[38;5;124mf\u001b[39m\u001b[38;5;124m\"\u001b[39m\u001b[38;5;124mIPython won\u001b[39m\u001b[38;5;124m'\u001b[39m\u001b[38;5;124mt let you open fd=\u001b[39m\u001b[38;5;132;01m{\u001b[39;00mfile\u001b[38;5;132;01m}\u001b[39;00m\u001b[38;5;124m by default \u001b[39m\u001b[38;5;124m\"\u001b[39m\n\u001b[0;32m    282\u001b[0m         \u001b[38;5;124m\"\u001b[39m\u001b[38;5;124mas it is likely to crash IPython. If you know what you are doing, \u001b[39m\u001b[38;5;124m\"\u001b[39m\n\u001b[0;32m    283\u001b[0m         \u001b[38;5;124m\"\u001b[39m\u001b[38;5;124myou can use builtins\u001b[39m\u001b[38;5;124m'\u001b[39m\u001b[38;5;124m open.\u001b[39m\u001b[38;5;124m\"\u001b[39m\n\u001b[0;32m    284\u001b[0m     )\n\u001b[1;32m--> 286\u001b[0m \u001b[38;5;28;01mreturn\u001b[39;00m io_open(file, \u001b[38;5;241m*\u001b[39margs, \u001b[38;5;241m*\u001b[39m\u001b[38;5;241m*\u001b[39mkwargs)\n",
      "\u001b[1;31mFileExistsError\u001b[0m: [Errno 17] File exists: './newerfile.txt'"
     ]
    }
   ],
   "source": [
    "with open('./newerfile.txt', 'x') as f:\n",
    "    f.write(' I will study tomorrow')"
   ]
  },
  {
   "cell_type": "code",
   "execution_count": 79,
   "id": "28f3a760-0ae1-4edd-979f-841112d7f467",
   "metadata": {},
   "outputs": [
    {
     "data": {
      "text/plain": [
       "['_CHUNK_SIZE',\n",
       " '__class__',\n",
       " '__del__',\n",
       " '__delattr__',\n",
       " '__dict__',\n",
       " '__dir__',\n",
       " '__doc__',\n",
       " '__enter__',\n",
       " '__eq__',\n",
       " '__exit__',\n",
       " '__format__',\n",
       " '__ge__',\n",
       " '__getattribute__',\n",
       " '__getstate__',\n",
       " '__gt__',\n",
       " '__hash__',\n",
       " '__init__',\n",
       " '__init_subclass__',\n",
       " '__iter__',\n",
       " '__le__',\n",
       " '__lt__',\n",
       " '__ne__',\n",
       " '__new__',\n",
       " '__next__',\n",
       " '__reduce__',\n",
       " '__reduce_ex__',\n",
       " '__repr__',\n",
       " '__setattr__',\n",
       " '__sizeof__',\n",
       " '__str__',\n",
       " '__subclasshook__',\n",
       " '_checkClosed',\n",
       " '_checkReadable',\n",
       " '_checkSeekable',\n",
       " '_checkWritable',\n",
       " '_finalizing',\n",
       " 'buffer',\n",
       " 'close',\n",
       " 'closed',\n",
       " 'detach',\n",
       " 'encoding',\n",
       " 'errors',\n",
       " 'fileno',\n",
       " 'flush',\n",
       " 'isatty',\n",
       " 'line_buffering',\n",
       " 'mode',\n",
       " 'name',\n",
       " 'newlines',\n",
       " 'read',\n",
       " 'readable',\n",
       " 'readline',\n",
       " 'readlines',\n",
       " 'reconfigure',\n",
       " 'seek',\n",
       " 'seekable',\n",
       " 'tell',\n",
       " 'truncate',\n",
       " 'writable',\n",
       " 'write',\n",
       " 'write_through',\n",
       " 'writelines']"
      ]
     },
     "execution_count": 79,
     "metadata": {},
     "output_type": "execute_result"
    }
   ],
   "source": [
    "dir(f)"
   ]
  },
  {
   "cell_type": "code",
   "execution_count": 81,
   "id": "47ac173d-96b8-448d-9c5d-a892ee0a55a6",
   "metadata": {},
   "outputs": [],
   "source": [
    "var = open('file.txt', 'r')"
   ]
  },
  {
   "cell_type": "code",
   "execution_count": 83,
   "id": "4150a42d-8461-4ada-8fa7-098321cf59f8",
   "metadata": {},
   "outputs": [
    {
     "name": "stdout",
     "output_type": "stream",
     "text": [
      "<_io.TextIOWrapper name='file.txt' mode='r' encoding='cp1252'>\n"
     ]
    }
   ],
   "source": [
    "print(var)"
   ]
  },
  {
   "cell_type": "code",
   "execution_count": 85,
   "id": "178722e5-e0d9-4bda-bb21-844416d9988b",
   "metadata": {},
   "outputs": [
    {
     "name": "stdout",
     "output_type": "stream",
     "text": [
      "Food is tastyorrow\n"
     ]
    }
   ],
   "source": [
    "for i in var:\n",
    "    print(i)"
   ]
  },
  {
   "cell_type": "code",
   "execution_count": 87,
   "id": "6b7f6a25-6ca5-4fae-9633-9e91221eb841",
   "metadata": {},
   "outputs": [],
   "source": [
    "var.close()"
   ]
  },
  {
   "cell_type": "code",
   "execution_count": 91,
   "id": "930ece24-7030-4f92-93b6-e15f3c8ab683",
   "metadata": {},
   "outputs": [
    {
     "data": {
      "text/plain": [
       "True"
      ]
     },
     "execution_count": 91,
     "metadata": {},
     "output_type": "execute_result"
    }
   ],
   "source": [
    "var.closed"
   ]
  },
  {
   "cell_type": "code",
   "execution_count": 101,
   "id": "ba91e17b-f6d2-4dde-9b7a-d3e545b1331d",
   "metadata": {},
   "outputs": [],
   "source": [
    "with open('./testfile.txt', 'a+') as f:\n",
    "    f.write('Hopefully tomorrow it will not rain')"
   ]
  },
  {
   "cell_type": "code",
   "execution_count": 106,
   "id": "b077a728-9894-41bf-b8d4-aff800b75c1c",
   "metadata": {},
   "outputs": [
    {
     "data": {
      "text/plain": [
       "'a+'"
      ]
     },
     "execution_count": 106,
     "metadata": {},
     "output_type": "execute_result"
    }
   ],
   "source": [
    "f.mode"
   ]
  },
  {
   "cell_type": "code",
   "execution_count": 108,
   "id": "e3982cfa-74d3-4568-8c7d-1cd76d703ed5",
   "metadata": {},
   "outputs": [
    {
     "ename": "ValueError",
     "evalue": "I/O operation on closed file",
     "output_type": "error",
     "traceback": [
      "\u001b[1;31m---------------------------------------------------------------------------\u001b[0m",
      "\u001b[1;31mValueError\u001b[0m                                Traceback (most recent call last)",
      "Cell \u001b[1;32mIn[108], line 1\u001b[0m\n\u001b[1;32m----> 1\u001b[0m f\u001b[38;5;241m.\u001b[39mreadable()\n",
      "\u001b[1;31mValueError\u001b[0m: I/O operation on closed file"
     ]
    }
   ],
   "source": [
    "f.readable()"
   ]
  },
  {
   "cell_type": "code",
   "execution_count": 124,
   "id": "c32ef8c9-e4c5-431b-8e22-55630c535e59",
   "metadata": {},
   "outputs": [],
   "source": [
    "var = open('./testfile.txt', 'w')\n",
    "var.readable()\n",
    "\n",
    "var.writable()\n",
    "var.close()"
   ]
  },
  {
   "cell_type": "code",
   "execution_count": 128,
   "id": "e8a67438-c8ad-4041-af8c-7e24dc55b82d",
   "metadata": {},
   "outputs": [
    {
     "ename": "ValueError",
     "evalue": "I/O operation on closed file.",
     "output_type": "error",
     "traceback": [
      "\u001b[1;31m---------------------------------------------------------------------------\u001b[0m",
      "\u001b[1;31mValueError\u001b[0m                                Traceback (most recent call last)",
      "Cell \u001b[1;32mIn[128], line 1\u001b[0m\n\u001b[1;32m----> 1\u001b[0m \u001b[38;5;28;01mfor\u001b[39;00m i \u001b[38;5;129;01min\u001b[39;00m var:\n\u001b[0;32m      2\u001b[0m     \u001b[38;5;28mprint\u001b[39m(i)\n",
      "\u001b[1;31mValueError\u001b[0m: I/O operation on closed file."
     ]
    }
   ],
   "source": [
    "for i in var:\n",
    "    print(i)"
   ]
  },
  {
   "cell_type": "code",
   "execution_count": 138,
   "id": "22cdc31b-163a-4e02-aed2-e9b4aefc9796",
   "metadata": {},
   "outputs": [
    {
     "data": {
      "text/plain": [
       "True"
      ]
     },
     "execution_count": 138,
     "metadata": {},
     "output_type": "execute_result"
    }
   ],
   "source": [
    "var = open('./testfile.txt', 'w+')\n",
    "var.readable()\n",
    "var.writable()\n"
   ]
  },
  {
   "cell_type": "code",
   "execution_count": 140,
   "id": "77eefbd0-3993-4308-a7a0-35a5f03c300c",
   "metadata": {},
   "outputs": [
    {
     "data": {
      "text/plain": [
       "15"
      ]
     },
     "execution_count": 140,
     "metadata": {},
     "output_type": "execute_result"
    }
   ],
   "source": [
    "var.write(\"\\njust appending\")"
   ]
  },
  {
   "cell_type": "code",
   "execution_count": 142,
   "id": "05526481-6cdb-4bb3-9f22-004c2e4eb2df",
   "metadata": {},
   "outputs": [
    {
     "name": "stdout",
     "output_type": "stream",
     "text": [
      "\n",
      "\n",
      "just appending\n"
     ]
    }
   ],
   "source": [
    "for i in var:\n",
    "    print(i)"
   ]
  },
  {
   "cell_type": "code",
   "execution_count": 145,
   "id": "9ef457bd-fa0f-46b9-8af0-ec1c1483d0a8",
   "metadata": {},
   "outputs": [
    {
     "data": {
      "text/plain": [
       "''"
      ]
     },
     "execution_count": 145,
     "metadata": {},
     "output_type": "execute_result"
    }
   ],
   "source": [
    "var.read()"
   ]
  },
  {
   "cell_type": "code",
   "execution_count": 147,
   "id": "9fe54475-fbe5-43e4-a1de-3b88945e3280",
   "metadata": {},
   "outputs": [
    {
     "data": {
      "text/plain": [
       "5"
      ]
     },
     "execution_count": 147,
     "metadata": {},
     "output_type": "execute_result"
    }
   ],
   "source": [
    "var.seek(5)"
   ]
  },
  {
   "cell_type": "code",
   "execution_count": 149,
   "id": "a0c844ba-85ed-46b7-8e2d-e1465d148259",
   "metadata": {},
   "outputs": [
    {
     "data": {
      "text/plain": [
       "'t appending\\njust appending'"
      ]
     },
     "execution_count": 149,
     "metadata": {},
     "output_type": "execute_result"
    }
   ],
   "source": [
    "var.read()"
   ]
  },
  {
   "cell_type": "code",
   "execution_count": 153,
   "id": "92cacabe-fff5-41be-a84b-9b91ffac0149",
   "metadata": {},
   "outputs": [
    {
     "data": {
      "text/plain": [
       "0"
      ]
     },
     "execution_count": 153,
     "metadata": {},
     "output_type": "execute_result"
    }
   ],
   "source": [
    "var.seek(0)"
   ]
  },
  {
   "cell_type": "code",
   "execution_count": 155,
   "id": "5478107b-e333-41cd-8109-51450c1c0afd",
   "metadata": {},
   "outputs": [
    {
     "data": {
      "text/plain": [
       "'\\njust appending\\njust appending'"
      ]
     },
     "execution_count": 155,
     "metadata": {},
     "output_type": "execute_result"
    }
   ],
   "source": [
    "var.read()"
   ]
  },
  {
   "cell_type": "code",
   "execution_count": 157,
   "id": "234beba6-5d48-4d56-b331-88f358e59516",
   "metadata": {},
   "outputs": [
    {
     "data": {
      "text/plain": [
       "5"
      ]
     },
     "execution_count": 157,
     "metadata": {},
     "output_type": "execute_result"
    }
   ],
   "source": [
    "var.write('hello')"
   ]
  },
  {
   "cell_type": "code",
   "execution_count": 161,
   "id": "2ac64773-cad5-4afc-8cb9-e876c72a0191",
   "metadata": {},
   "outputs": [
    {
     "data": {
      "text/plain": [
       "'t appending\\njust appendinghello'"
      ]
     },
     "execution_count": 161,
     "metadata": {},
     "output_type": "execute_result"
    }
   ],
   "source": [
    "var.seek(0)\n",
    "var.write('hello')\n",
    "var.read()"
   ]
  },
  {
   "cell_type": "code",
   "execution_count": 165,
   "id": "47d90660-a7ba-43c9-86f1-5126b23be48c",
   "metadata": {},
   "outputs": [
    {
     "data": {
      "text/plain": [
       "'hellot appending\\njust appendinghello'"
      ]
     },
     "execution_count": 165,
     "metadata": {},
     "output_type": "execute_result"
    }
   ],
   "source": [
    "var.seek(0)\n",
    "var.read()"
   ]
  },
  {
   "cell_type": "code",
   "execution_count": 167,
   "id": "729330b7-406a-4d03-8ccd-82dfc40e082f",
   "metadata": {},
   "outputs": [
    {
     "data": {
      "text/plain": [
       "True"
      ]
     },
     "execution_count": 167,
     "metadata": {},
     "output_type": "execute_result"
    }
   ],
   "source": [
    "var.seekable()"
   ]
  },
  {
   "cell_type": "code",
   "execution_count": 169,
   "id": "c6c4bdf5-3486-4415-9743-53358c1c8ec2",
   "metadata": {},
   "outputs": [
    {
     "data": {
      "text/plain": [
       "True"
      ]
     },
     "execution_count": 169,
     "metadata": {},
     "output_type": "execute_result"
    }
   ],
   "source": [
    "var.seek(0)\n",
    "var.seekable()"
   ]
  },
  {
   "cell_type": "code",
   "execution_count": 173,
   "id": "be1eefb7-7fb6-4e74-8ccb-87181d11b803",
   "metadata": {},
   "outputs": [
    {
     "data": {
      "text/plain": [
       "10"
      ]
     },
     "execution_count": 173,
     "metadata": {},
     "output_type": "execute_result"
    }
   ],
   "source": [
    "var.seek(10)"
   ]
  },
  {
   "cell_type": "code",
   "execution_count": 175,
   "id": "924f2f15-d0cc-41f4-b2af-d427eace58fd",
   "metadata": {},
   "outputs": [
    {
     "data": {
      "text/plain": [
       "10"
      ]
     },
     "execution_count": 175,
     "metadata": {},
     "output_type": "execute_result"
    }
   ],
   "source": [
    "var.tell()"
   ]
  },
  {
   "cell_type": "code",
   "execution_count": 177,
   "id": "5e92a050-6614-432b-89e7-705e2037f405",
   "metadata": {},
   "outputs": [
    {
     "data": {
      "text/plain": [
       "30"
      ]
     },
     "execution_count": 177,
     "metadata": {},
     "output_type": "execute_result"
    }
   ],
   "source": [
    "var.seek(20)\n",
    "var.read(10)\n",
    "var.tell()"
   ]
  },
  {
   "cell_type": "code",
   "execution_count": 179,
   "id": "0a527456-1868-4eb8-8054-d3590690a652",
   "metadata": {},
   "outputs": [
    {
     "data": {
      "text/plain": [
       "'nghello'"
      ]
     },
     "execution_count": 179,
     "metadata": {},
     "output_type": "execute_result"
    }
   ],
   "source": [
    "var.read()"
   ]
  },
  {
   "cell_type": "code",
   "execution_count": 182,
   "id": "a1e0940e-0483-4199-a15d-9be60725263c",
   "metadata": {},
   "outputs": [
    {
     "data": {
      "text/plain": [
       "0"
      ]
     },
     "execution_count": 182,
     "metadata": {},
     "output_type": "execute_result"
    }
   ],
   "source": [
    "var.seek(0)"
   ]
  },
  {
   "cell_type": "code",
   "execution_count": 185,
   "id": "38ec49d5-75e0-48af-8d38-205fdc6d1ccc",
   "metadata": {},
   "outputs": [
    {
     "name": "stdout",
     "output_type": "stream",
     "text": [
      "hellot appending\n",
      "\n",
      "just appendinghello\n"
     ]
    }
   ],
   "source": [
    "for word in var:\n",
    "    print(word)"
   ]
  },
  {
   "cell_type": "code",
   "execution_count": 188,
   "id": "b0659971-16ed-4724-9e83-8f941d5bce85",
   "metadata": {},
   "outputs": [],
   "source": [
    "var.close()"
   ]
  },
  {
   "cell_type": "code",
   "execution_count": 190,
   "id": "50ad0c81-4041-44f6-a32f-d7b1b38873f9",
   "metadata": {},
   "outputs": [
    {
     "name": "stdout",
     "output_type": "stream",
     "text": [
      "hellot appending\n",
      "\n"
     ]
    }
   ],
   "source": [
    "with open('testfile.txt', 'r') as fp:\n",
    "    print(fp.readline())"
   ]
  },
  {
   "cell_type": "code",
   "execution_count": 192,
   "id": "8a188fb7-8ebf-43e5-96cd-163d2f90d7c8",
   "metadata": {},
   "outputs": [
    {
     "ename": "ValueError",
     "evalue": "I/O operation on closed file.",
     "output_type": "error",
     "traceback": [
      "\u001b[1;31m---------------------------------------------------------------------------\u001b[0m",
      "\u001b[1;31mValueError\u001b[0m                                Traceback (most recent call last)",
      "Cell \u001b[1;32mIn[192], line 1\u001b[0m\n\u001b[1;32m----> 1\u001b[0m fp\u001b[38;5;241m.\u001b[39mreadline()\n",
      "\u001b[1;31mValueError\u001b[0m: I/O operation on closed file."
     ]
    }
   ],
   "source": [
    "fp.readline()"
   ]
  },
  {
   "cell_type": "code",
   "execution_count": 194,
   "id": "5081af89-0f91-465d-9f4c-e8cf4709d1e5",
   "metadata": {},
   "outputs": [
    {
     "name": "stdout",
     "output_type": "stream",
     "text": [
      "hellot appending\n",
      "\n",
      "just appendinghello\n"
     ]
    }
   ],
   "source": [
    "with open('testfile.txt', 'r') as fp:\n",
    "    print(fp.readline())\n",
    "    print(fp.readline())"
   ]
  },
  {
   "cell_type": "code",
   "execution_count": 196,
   "id": "1d49f2e2-889f-4314-bd44-a7b62acaef27",
   "metadata": {},
   "outputs": [
    {
     "name": "stdout",
     "output_type": "stream",
     "text": [
      "hellot appending\n",
      "just appendinghello\n"
     ]
    }
   ],
   "source": [
    "with open('testfile.txt', 'r') as fp:\n",
    "    print(fp.read())"
   ]
  },
  {
   "cell_type": "code",
   "execution_count": 198,
   "id": "afe89a62-c39a-4b32-9f15-07bbf2e65a3d",
   "metadata": {},
   "outputs": [
    {
     "name": "stdout",
     "output_type": "stream",
     "text": [
      "['hellot appending\\n', 'just appendinghello']\n"
     ]
    }
   ],
   "source": [
    "with open('testfile.txt', 'r') as fp:\n",
    "    print(fp.readlines())"
   ]
  },
  {
   "cell_type": "code",
   "execution_count": 212,
   "id": "c88f557c-a74a-4002-b767-f1bd0e353439",
   "metadata": {},
   "outputs": [],
   "source": [
    "with open('testfile.txt', 'a+') as fp:\n",
    "    fp.writelines('\\nI have written')"
   ]
  },
  {
   "cell_type": "code",
   "execution_count": 218,
   "id": "f7b05dc0-8efe-49a7-9917-f48c7271dcf3",
   "metadata": {},
   "outputs": [],
   "source": [
    "with open('testfile.txt', 'a+') as fp:\n",
    "    fp.truncate(20)"
   ]
  },
  {
   "cell_type": "code",
   "execution_count": 223,
   "id": "e9df14ae-7150-44e2-b582-de8e7b50be27",
   "metadata": {},
   "outputs": [
    {
     "name": "stdout",
     "output_type": "stream",
     "text": [
      "False\n"
     ]
    }
   ],
   "source": [
    "with open('testfile.txt', 'a+') as fp:\n",
    "    print(fp.isatty())"
   ]
  },
  {
   "cell_type": "code",
   "execution_count": 234,
   "id": "3e4e0f8b-6939-4438-9537-dda16a007bd4",
   "metadata": {},
   "outputs": [
    {
     "name": "stdout",
     "output_type": "stream",
     "text": [
      "<_io.BufferedRandom name='testfile.txt'>\n"
     ]
    }
   ],
   "source": [
    "with open('testfile.txt', 'a+') as fp:\n",
    "    print(fp.buffer)"
   ]
  },
  {
   "cell_type": "code",
   "execution_count": 236,
   "id": "6c4256cb-f564-4bca-9ed8-b24156d8876d",
   "metadata": {},
   "outputs": [
    {
     "name": "stdout",
     "output_type": "stream",
     "text": [
      "<_io.BufferedRandom name='testfile.txt'>\n"
     ]
    },
    {
     "ename": "ValueError",
     "evalue": "underlying buffer has been detached",
     "output_type": "error",
     "traceback": [
      "\u001b[1;31m---------------------------------------------------------------------------\u001b[0m",
      "\u001b[1;31mValueError\u001b[0m                                Traceback (most recent call last)",
      "Cell \u001b[1;32mIn[236], line 1\u001b[0m\n\u001b[1;32m----> 1\u001b[0m \u001b[38;5;28;01mwith\u001b[39;00m \u001b[38;5;28mopen\u001b[39m(\u001b[38;5;124m'\u001b[39m\u001b[38;5;124mtestfile.txt\u001b[39m\u001b[38;5;124m'\u001b[39m, \u001b[38;5;124m'\u001b[39m\u001b[38;5;124ma+\u001b[39m\u001b[38;5;124m'\u001b[39m) \u001b[38;5;28;01mas\u001b[39;00m fp:\n\u001b[0;32m      2\u001b[0m     \u001b[38;5;28mprint\u001b[39m(fp\u001b[38;5;241m.\u001b[39mdetach())\n",
      "\u001b[1;31mValueError\u001b[0m: underlying buffer has been detached"
     ]
    }
   ],
   "source": [
    "with open('testfile.txt', 'a+') as fp:\n",
    "    print(fp.detach())"
   ]
  },
  {
   "cell_type": "code",
   "execution_count": 240,
   "id": "1d175694-6fde-4159-86c2-0345b4f20087",
   "metadata": {},
   "outputs": [
    {
     "name": "stdout",
     "output_type": "stream",
     "text": [
      "3\n"
     ]
    }
   ],
   "source": [
    "with open('testfile.txt', 'a+') as fp:\n",
    "    print(fp.fileno())"
   ]
  },
  {
   "cell_type": "code",
   "execution_count": 247,
   "id": "246c4c83-771b-43df-8bc5-fdce8f559fef",
   "metadata": {},
   "outputs": [
    {
     "name": "stdout",
     "output_type": "stream",
     "text": [
      "None\n"
     ]
    }
   ],
   "source": [
    "with open('testfile.txt', 'a+') as fp:\n",
    "    print(fp.newlines)"
   ]
  },
  {
   "cell_type": "code",
   "execution_count": 262,
   "id": "76377f8f-b82b-4bd2-8980-58c28dda1a62",
   "metadata": {},
   "outputs": [
    {
     "name": "stdout",
     "output_type": "stream",
     "text": [
      "\n",
      "value\n"
     ]
    }
   ],
   "source": [
    "with open('testfile.json', 'w+') as fp:\n",
    "    fp.write('\\nvalue')\n",
    "    fp.seek(0)\n",
    "    print(fp.read())"
   ]
  },
  {
   "cell_type": "raw",
   "id": "22c09acb-85fe-47d7-8f45-0ec493a7f3b4",
   "metadata": {},
   "source": [
    ".pkl, .joblib, .txt, .json, .yaml, .yml, .toml"
   ]
  },
  {
   "cell_type": "code",
   "execution_count": 264,
   "id": "55e9dce2-42ec-49db-b9da-33b6f0e65a6c",
   "metadata": {},
   "outputs": [
    {
     "ename": "SyntaxError",
     "evalue": "(unicode error) 'unicodeescape' codec can't decode bytes in position 2-3: truncated \\UXXXXXXXX escape (3167441835.py, line 1)",
     "output_type": "error",
     "traceback": [
      "\u001b[1;36m  Cell \u001b[1;32mIn[264], line 1\u001b[1;36m\u001b[0m\n\u001b[1;33m    with open(\"C:\\Users\\Sadiq\\Downloads\\OIP.jpeg\", 'w+') as fp:\u001b[0m\n\u001b[1;37m                                                 ^\u001b[0m\n\u001b[1;31mSyntaxError\u001b[0m\u001b[1;31m:\u001b[0m (unicode error) 'unicodeescape' codec can't decode bytes in position 2-3: truncated \\UXXXXXXXX escape\n"
     ]
    }
   ],
   "source": [
    "with open(\"C:\\Users\\Sadiq\\Downloads\\OIP.jpeg\", 'w+') as fp:\n",
    "    print(fp.read())"
   ]
  },
  {
   "cell_type": "raw",
   "id": "001b38b9-5cde-4856-9d61-6af76043bc33",
   "metadata": {},
   "source": [
    "PIL, opencv, scikit-image"
   ]
  },
  {
   "cell_type": "markdown",
   "id": "7d707508-e490-46bd-baeb-ec91939d4658",
   "metadata": {},
   "source": [
    "##### Regex"
   ]
  },
  {
   "cell_type": "code",
   "execution_count": null,
   "id": "8e26aa41-6de5-4006-a66e-f1cde456fc51",
   "metadata": {},
   "outputs": [],
   "source": [
    "metacharacters - [] . ^ $ * + ? {} () \\ |\n",
    "special sequences - \\A \\b \\B \\d \\D \\s \\S \\w \\W \\Z \n",
    "methods - findall, split, sub, subn, search, \n",
    "match.group , start, end, span, string, re"
   ]
  },
  {
   "cell_type": "code",
   "execution_count": null,
   "id": "2de9fc18-42aa-4861-a984-fbf69981d695",
   "metadata": {},
   "outputs": [],
   "source": [
    "Regex - Regular expressions - pattern matching"
   ]
  },
  {
   "cell_type": "code",
   "execution_count": 267,
   "id": "5d9412a2-2b33-4529-82ab-62e93e72d49f",
   "metadata": {},
   "outputs": [
    {
     "data": {
      "text/plain": [
       "['A',\n",
       " 'ASCII',\n",
       " 'DEBUG',\n",
       " 'DOTALL',\n",
       " 'I',\n",
       " 'IGNORECASE',\n",
       " 'L',\n",
       " 'LOCALE',\n",
       " 'M',\n",
       " 'MULTILINE',\n",
       " 'Match',\n",
       " 'NOFLAG',\n",
       " 'Pattern',\n",
       " 'RegexFlag',\n",
       " 'S',\n",
       " 'Scanner',\n",
       " 'T',\n",
       " 'TEMPLATE',\n",
       " 'U',\n",
       " 'UNICODE',\n",
       " 'VERBOSE',\n",
       " 'X',\n",
       " '_MAXCACHE',\n",
       " '__all__',\n",
       " '__builtins__',\n",
       " '__cached__',\n",
       " '__doc__',\n",
       " '__file__',\n",
       " '__loader__',\n",
       " '__name__',\n",
       " '__package__',\n",
       " '__path__',\n",
       " '__spec__',\n",
       " '__version__',\n",
       " '_cache',\n",
       " '_casefix',\n",
       " '_compile',\n",
       " '_compile_repl',\n",
       " '_compiler',\n",
       " '_constants',\n",
       " '_expand',\n",
       " '_parser',\n",
       " '_pickle',\n",
       " '_special_chars_map',\n",
       " '_subx',\n",
       " 'compile',\n",
       " 'copyreg',\n",
       " 'enum',\n",
       " 'error',\n",
       " 'escape',\n",
       " 'findall',\n",
       " 'finditer',\n",
       " 'fullmatch',\n",
       " 'functools',\n",
       " 'match',\n",
       " 'purge',\n",
       " 'search',\n",
       " 'split',\n",
       " 'sub',\n",
       " 'subn',\n",
       " 'template']"
      ]
     },
     "execution_count": 267,
     "metadata": {},
     "output_type": "execute_result"
    }
   ],
   "source": [
    "import re\n",
    "dir(re)"
   ]
  },
  {
   "cell_type": "code",
   "execution_count": null,
   "id": "34483756-de90-4b20-936e-8d3d0f9d9378",
   "metadata": {},
   "outputs": [],
   "source": [
    "a...s"
   ]
  },
  {
   "cell_type": "code",
   "execution_count": 287,
   "id": "e4008910-100f-4492-9ef7-4079f6584096",
   "metadata": {},
   "outputs": [
    {
     "name": "stdout",
     "output_type": "stream",
     "text": [
      "<re.Match object; span=(0, 5), match='abyss'>\n"
     ]
    }
   ],
   "source": [
    "import re\n",
    "\n",
    "pattern = \"a...s\"\n",
    "test_string = \"abyss\"\n",
    "res = re.match(pattern, test_string)\n",
    "print(res)"
   ]
  },
  {
   "cell_type": "code",
   "execution_count": 289,
   "id": "ab245aa8-b742-4a04-a0b5-c9224b513c28",
   "metadata": {},
   "outputs": [
    {
     "name": "stdout",
     "output_type": "stream",
     "text": [
      "None\n"
     ]
    }
   ],
   "source": [
    "import re\n",
    "\n",
    "pattern = \"a...s\"\n",
    "test_string = \"the world is an abyss\"\n",
    "res = re.match(pattern, test_string)\n",
    "print(res)"
   ]
  },
  {
   "cell_type": "code",
   "execution_count": 293,
   "id": "3bd018ac-b795-4606-9092-06c4543c14aa",
   "metadata": {},
   "outputs": [
    {
     "name": "stdout",
     "output_type": "stream",
     "text": [
      "['abyss']\n"
     ]
    }
   ],
   "source": [
    "pattern = \"a...s\"\n",
    "test_string = \"the world is an abyss\"\n",
    "res = re.findall(pattern, test_string)\n",
    "print(res)"
   ]
  },
  {
   "cell_type": "code",
   "execution_count": 297,
   "id": "d36f7d4d-eb98-4653-8bda-f8d5f0276473",
   "metadata": {},
   "outputs": [
    {
     "name": "stdout",
     "output_type": "stream",
     "text": [
      "[]\n"
     ]
    }
   ],
   "source": [
    "pattern = \"a...s\"\n",
    "test_string = \"the world is an aeroplanes\"\n",
    "res = re.findall(pattern, test_string)\n",
    "print(res)"
   ]
  },
  {
   "cell_type": "code",
   "execution_count": 311,
   "id": "0e6ac8be-aa05-449c-8be8-28885dc8dff9",
   "metadata": {},
   "outputs": [
    {
     "name": "stdout",
     "output_type": "stream",
     "text": [
      "['aer planes', 'aeroplanes']\n"
     ]
    }
   ],
   "source": [
    "pattern = \"a........s\"\n",
    "test_string = \"the world is an aer planes aeroplanes\"\n",
    "res = re.findall(pattern, test_string)\n",
    "print(res)"
   ]
  },
  {
   "cell_type": "code",
   "execution_count": 333,
   "id": "dbac906c-29fe-4a64-a1ce-4e8a935f4bd5",
   "metadata": {},
   "outputs": [
    {
     "name": "stdout",
     "output_type": "stream",
     "text": [
      "['e', 'o', 'i', 'a', 'a', 'e', 'a', 'e', 'a', 'e', 'o', 'a', 'e']\n"
     ]
    }
   ],
   "source": [
    "pattern = \"[aeiou]\"\n",
    "res = re.findall(pattern, test_string)\n",
    "print(res)"
   ]
  },
  {
   "cell_type": "code",
   "execution_count": 349,
   "id": "0db8634b-ad1b-4d8e-ba9b-b99f0f35c225",
   "metadata": {},
   "outputs": [
    {
     "data": {
      "text/plain": [
       "'e'"
      ]
     },
     "execution_count": 349,
     "metadata": {},
     "output_type": "execute_result"
    }
   ],
   "source": [
    "re.search(pattern, test_string)"
   ]
  },
  {
   "cell_type": "code",
   "execution_count": 313,
   "id": "d51ee00d-6ff4-4172-9471-0c9b9e8ee27e",
   "metadata": {},
   "outputs": [],
   "source": [
    "str2 = \"google aedghisueysf9834 asgfhj dsfhjghfjbndsf\""
   ]
  },
  {
   "cell_type": "code",
   "execution_count": 355,
   "id": "871c8f09-f4d7-45bf-bace-4a5db1edd64b",
   "metadata": {},
   "outputs": [
    {
     "name": "stdout",
     "output_type": "stream",
     "text": [
      "['google']\n"
     ]
    }
   ],
   "source": [
    "pattern = \"^google\"\n",
    "res = re.findall(pattern, str2)\n",
    "print(res)"
   ]
  },
  {
   "cell_type": "code",
   "execution_count": 357,
   "id": "f5a7f431-0bee-4f82-bf1a-e6527480bfa7",
   "metadata": {},
   "outputs": [
    {
     "name": "stdout",
     "output_type": "stream",
     "text": [
      "['0']\n"
     ]
    }
   ],
   "source": [
    "pattern = \"^\\d\"\n",
    "str2 = \"00google aedghisueysf9834 asgfhj dsfhjghfjbndsf\"\n",
    "res = re.findall(pattern, str2)\n",
    "print(res)"
   ]
  },
  {
   "cell_type": "code",
   "execution_count": 359,
   "id": "46a942cd-0ec0-42c9-b1de-a1286c8b4e71",
   "metadata": {},
   "outputs": [
    {
     "data": {
      "text/plain": [
       "True"
      ]
     },
     "execution_count": 359,
     "metadata": {},
     "output_type": "execute_result"
    }
   ],
   "source": [
    "str2.startswith(\"00\")"
   ]
  },
  {
   "cell_type": "code",
   "execution_count": 361,
   "id": "820a9631-24e7-40fc-a7de-d3d25070b5c4",
   "metadata": {},
   "outputs": [
    {
     "name": "stdout",
     "output_type": "stream",
     "text": [
      "['apis.com']\n"
     ]
    }
   ],
   "source": [
    "pattern = \"apis.com$\"\n",
    "str2 = \"00google aedghisueysf9834 asgfhj.apis.com\"\n",
    "res = re.findall(pattern, str2)\n",
    "print(res)"
   ]
  },
  {
   "cell_type": "code",
   "execution_count": 363,
   "id": "b4dcd45f-70b6-4db2-b1ea-f20f951d2b34",
   "metadata": {},
   "outputs": [
    {
     "name": "stdout",
     "output_type": "stream",
     "text": [
      "<re.Match object; span=(33, 41), match='apis.com'>\n"
     ]
    }
   ],
   "source": [
    "pattern = \"apis.com$\"\n",
    "str2 = \"00google aedghisueysf9834 asgfhj.apis.com\"\n",
    "res = re.search(pattern, str2)\n",
    "print(res)"
   ]
  },
  {
   "cell_type": "code",
   "execution_count": 365,
   "id": "a422dc46-79bd-47ba-bccb-30a01ba19415",
   "metadata": {},
   "outputs": [
    {
     "data": {
      "text/plain": [
       "True"
      ]
     },
     "execution_count": 365,
     "metadata": {},
     "output_type": "execute_result"
    }
   ],
   "source": [
    "str2.endswith(\"apis.com\")"
   ]
  },
  {
   "cell_type": "code",
   "execution_count": 367,
   "id": "47957cd8-3005-45c0-b508-fbc2aec725c0",
   "metadata": {},
   "outputs": [
    {
     "name": "stdout",
     "output_type": "stream",
     "text": [
      "<re.Match object; span=(0, 9), match='maaaaaaan'>\n"
     ]
    }
   ],
   "source": [
    "pattern = \"ma*n\" #repeated preceeding letter multiple times\n",
    "str2 = \"maaaaaaan\"\n",
    "res = re.search(pattern, str2)\n",
    "print(res)"
   ]
  },
  {
   "cell_type": "code",
   "execution_count": 369,
   "id": "73704ea0-c1a6-469e-9919-203ba61f1941",
   "metadata": {},
   "outputs": [
    {
     "name": "stdout",
     "output_type": "stream",
     "text": [
      "['maaaaaaan']\n"
     ]
    }
   ],
   "source": [
    "pattern = \"ma*n\" #repeated preceeding letter 0 to multiple times\n",
    "str2 = \"maaaaaaan\"\n",
    "res = re.findall(pattern, str2)\n",
    "print(res)"
   ]
  },
  {
   "cell_type": "code",
   "execution_count": 377,
   "id": "4900aa00-7ea0-46b0-bcdf-2c8945cb9793",
   "metadata": {},
   "outputs": [
    {
     "name": "stdout",
     "output_type": "stream",
     "text": [
      "['mn']\n"
     ]
    }
   ],
   "source": [
    "pattern = \"ma*n\" #repeated preceeding letter 0 to multiple times\n",
    "str2 = \"mn\"\n",
    "res = re.findall(pattern, str2)\n",
    "print(res)"
   ]
  },
  {
   "cell_type": "code",
   "execution_count": 371,
   "id": "8932f817-af52-4f6f-8e0f-09d1b39dd9c4",
   "metadata": {},
   "outputs": [
    {
     "data": {
      "text/plain": [
       "7"
      ]
     },
     "execution_count": 371,
     "metadata": {},
     "output_type": "execute_result"
    }
   ],
   "source": [
    "str2.count('a')"
   ]
  },
  {
   "cell_type": "code",
   "execution_count": 373,
   "id": "f2ecf9bf-524b-48ee-988c-0f49d12bb282",
   "metadata": {},
   "outputs": [
    {
     "name": "stdout",
     "output_type": "stream",
     "text": [
      "['maaaaaaan']\n"
     ]
    }
   ],
   "source": [
    "pattern = \"ma+n\"\n",
    "str2 = \"maaaaaaan\"\n",
    "res = re.findall(pattern, str2)\n",
    "print(res)"
   ]
  },
  {
   "cell_type": "code",
   "execution_count": 375,
   "id": "eb5ccc32-622f-42a5-91ca-3e9d57352d94",
   "metadata": {},
   "outputs": [
    {
     "name": "stdout",
     "output_type": "stream",
     "text": [
      "['man']\n"
     ]
    }
   ],
   "source": [
    "pattern = \"ma+n\" #repeated preceeding letter 1 to multiple times\n",
    "str2 = \"woman\"\n",
    "res = re.findall(pattern, str2)\n",
    "print(res)"
   ]
  },
  {
   "cell_type": "code",
   "execution_count": 379,
   "id": "dd8c17fb-166e-4007-ac33-e62c98ddd727",
   "metadata": {},
   "outputs": [
    {
     "name": "stdout",
     "output_type": "stream",
     "text": [
      "[]\n"
     ]
    }
   ],
   "source": [
    "pattern = \"ma+n\" #repeated preceeding letter 1 to multiple times\n",
    "str2 = \"wmn\"\n",
    "res = re.findall(pattern, str2)\n",
    "print(res)"
   ]
  },
  {
   "cell_type": "raw",
   "id": "11bdf8d9-aa6d-4719-b6e7-63e38c17eb4a",
   "metadata": {},
   "source": [
    "? -> 0 to 1 matches\n",
    "* -> 0 to n matches repeated\n",
    "+ -> 1 to n natches repeated"
   ]
  },
  {
   "cell_type": "code",
   "execution_count": 381,
   "id": "ef41ac0d-72e6-489c-95b2-26aecb3f47be",
   "metadata": {},
   "outputs": [
    {
     "name": "stdout",
     "output_type": "stream",
     "text": [
      "['man']\n"
     ]
    }
   ],
   "source": [
    "pattern = \"ma?n\" #repeated preceeding letter 0 to 1 left of pattern\n",
    "str2 = \"woman\"\n",
    "res = re.findall(pattern, str2)\n",
    "print(res)"
   ]
  },
  {
   "cell_type": "code",
   "execution_count": 383,
   "id": "8edd7a42-4de6-430d-83c8-6b1b5f8d75ff",
   "metadata": {},
   "outputs": [
    {
     "name": "stdout",
     "output_type": "stream",
     "text": [
      "[]\n"
     ]
    }
   ],
   "source": [
    "str2 = \"maaaan\"\n",
    "res = re.findall(pattern, str2)\n",
    "print(res)"
   ]
  },
  {
   "cell_type": "code",
   "execution_count": 385,
   "id": "e87c6304-bacd-4779-9da4-748601e5a5d5",
   "metadata": {},
   "outputs": [
    {
     "name": "stdout",
     "output_type": "stream",
     "text": [
      "['mn']\n"
     ]
    }
   ],
   "source": [
    "str2 = \"womn\"\n",
    "res = re.findall(pattern, str2)\n",
    "print(res)"
   ]
  },
  {
   "cell_type": "code",
   "execution_count": 387,
   "id": "40be1dcf-9374-46cb-a483-e9988e4d65bf",
   "metadata": {},
   "outputs": [
    {
     "name": "stdout",
     "output_type": "stream",
     "text": [
      "[]\n"
     ]
    }
   ],
   "source": [
    "pattern=\"a{2, 3}\"\n",
    "str2 = \"maaaan\"\n",
    "res = re.findall(pattern, str2)\n",
    "print(res)\n"
   ]
  },
  {
   "cell_type": "code",
   "execution_count": 397,
   "id": "1f3f454e-cb8a-48dc-ba03-cd3394df56b0",
   "metadata": {},
   "outputs": [
    {
     "name": "stdout",
     "output_type": "stream",
     "text": [
      "['aa', 'aaa', 'aaa']\n"
     ]
    }
   ],
   "source": [
    "pattern=\"a{2,3}\" \n",
    "str2 = \"aabc daaaaaat\"\n",
    "res = re.findall(pattern, str2)\n",
    "print(res)"
   ]
  },
  {
   "cell_type": "code",
   "execution_count": 405,
   "id": "a355dad1-d4ec-4905-91cd-6b775a6fa12b",
   "metadata": {},
   "outputs": [
    {
     "name": "stdout",
     "output_type": "stream",
     "text": [
      "None\n"
     ]
    }
   ],
   "source": [
    "pattern=\"a{2,3}\" \n",
    "str2 = \"hello aabc daaaaaat\"\n",
    "res = re.match(pattern, str2)\n",
    "print(res)"
   ]
  },
  {
   "cell_type": "code",
   "execution_count": 415,
   "id": "426f5b68-3404-4c3f-853f-222c982dedb8",
   "metadata": {},
   "outputs": [
    {
     "name": "stdout",
     "output_type": "stream",
     "text": [
      "['aaa', 'aa']\n"
     ]
    }
   ],
   "source": [
    "pattern=\"a{2,3}\" \n",
    "str2 = \"maaan womaan\"\n",
    "res = re.findall(pattern, str2)\n",
    "print(res)"
   ]
  },
  {
   "cell_type": "code",
   "execution_count": 417,
   "id": "ea5bc4a3-d146-48a6-9fb0-15e879367d42",
   "metadata": {},
   "outputs": [
    {
     "name": "stdout",
     "output_type": "stream",
     "text": [
      "['alpha', 'beta']\n"
     ]
    }
   ],
   "source": [
    "pattern = \"alpha|beta\"\n",
    "str = \"alpha beta gamma delta\"\n",
    "res = re.findall(pattern, str)\n",
    "print(res)"
   ]
  },
  {
   "cell_type": "code",
   "execution_count": 419,
   "id": "dfd89ca7-8e8b-4c6f-8232-c90467463494",
   "metadata": {},
   "outputs": [
    {
     "name": "stdout",
     "output_type": "stream",
     "text": [
      "['beta']\n"
     ]
    }
   ],
   "source": [
    "pattern = \"alpha|beta\"\n",
    "str = \"beta gamma delta\"\n",
    "res = re.findall(pattern, str)\n",
    "print(res)"
   ]
  },
  {
   "cell_type": "code",
   "execution_count": 423,
   "id": "584539a9-8709-439d-bf86-f84e019f9de9",
   "metadata": {},
   "outputs": [
    {
     "name": "stdout",
     "output_type": "stream",
     "text": [
      "['alpha']\n"
     ]
    }
   ],
   "source": [
    "pattern = \"alpha|beta\"\n",
    "str = \"alpha gamma delta\"\n",
    "res = re.findall(pattern, str)\n",
    "print(res)"
   ]
  },
  {
   "cell_type": "code",
   "execution_count": 425,
   "id": "732af84b-ad54-49da-acee-dd2d5922d437",
   "metadata": {},
   "outputs": [
    {
     "name": "stdout",
     "output_type": "stream",
     "text": [
      "['alpha']\n"
     ]
    }
   ],
   "source": [
    "pattern = \"alpha|beta\"  # or \n",
    "str = \"alphagamma delta\"\n",
    "res = re.findall(pattern, str)\n",
    "print(res)"
   ]
  },
  {
   "cell_type": "code",
   "execution_count": 427,
   "id": "656970de-f7e7-4166-ab6e-8264372aa704",
   "metadata": {},
   "outputs": [
    {
     "name": "stdout",
     "output_type": "stream",
     "text": [
      "['apple', 'orange']\n"
     ]
    }
   ],
   "source": [
    "pattern = \"(apple|orange)\" #word / token level matching\n",
    "str = \"apple and orange are good for health\"\n",
    "res = re.findall(pattern, str)\n",
    "print(res)"
   ]
  },
  {
   "cell_type": "code",
   "execution_count": 429,
   "id": "301c8953-3d2e-4840-9426-4eca89b8f990",
   "metadata": {},
   "outputs": [
    {
     "name": "stdout",
     "output_type": "stream",
     "text": [
      "['a', 'p', 'p', 'l', 'e', 'a', 'n', 'o', 'r', 'a', 'n', 'g', 'e', 'a', 'r', 'e', 'g', 'o', 'o', 'o', 'r', 'e', 'a', 'l']\n"
     ]
    }
   ],
   "source": [
    "pattern = \"[apple|orange]\"  # letter /character level matching\n",
    "str = \"apple and orange are good for health\"\n",
    "res = re.findall(pattern, str)\n",
    "print(res)"
   ]
  },
  {
   "cell_type": "raw",
   "id": "66bc01cb-3fff-4fd1-967d-704b9c26e5c9",
   "metadata": {},
   "source": [
    "with open('somelogfile.log', 'w+') as f:\n",
    "    for i in f:\n",
    "        if i=='(apple|orange)':\n",
    "            print(f.read([f.tell()]))"
   ]
  },
  {
   "cell_type": "markdown",
   "id": "2a36b8b5-5b58-453a-a63a-b6a66b9cf1c1",
   "metadata": {},
   "source": [
    "Special Sequences\n",
    "\n",
    "Special sequences make commonly used patterns easier to write.\n",
    "\n",
    "    \\A - Matches if the specified characters are at the start of a string\n",
    "    \\B - Opposite of \\b. Matches if the specified characters are not at the beginning or end of a word.\n",
    "    \\d - Matches any decimal digit. Equivalent to [0-9]\n",
    "    \\D - Matches any non-decimal digit. Equivalent to [^0-9]\n",
    "    \\s - Matches where a string contains any whitespace character. Equivalent to [ \\t\\n\\r\\f\\v].\n",
    "    \\S - Matches where a string contains any non-whitespace character. Equivalent to [^ \\t\\n\\r\\f\\v].\n",
    "    \\w - Matches any alphanumeric character (digits and alphabets). Equivalent to [a-zA-Z0-9_]. By the way, underscore _ is also considered an alphanumeric character.\n",
    "    \\W - Matches any non-alphanumeric character. Equivalent to [^a-zA-Z0-9_]\n",
    "    \\Z - Matches if the specified characters are at the end of a string."
   ]
  },
  {
   "cell_type": "markdown",
   "id": "a20a92bb-2b6c-4862-a9c1-864536342c09",
   "metadata": {},
   "source": [
    "RegEx tester tools such as https://regex101.com/"
   ]
  },
  {
   "cell_type": "code",
   "execution_count": 436,
   "id": "13a2845d-8b11-460c-96d5-1e7a8d753ec8",
   "metadata": {},
   "outputs": [
    {
     "data": {
      "text/plain": [
       "['the']"
      ]
     },
     "execution_count": 436,
     "metadata": {},
     "output_type": "execute_result"
    }
   ],
   "source": [
    "test_string = \"the sun\"\n",
    "pattern = \"\\Athe\"\n",
    "re.findall(pattern, test_string)"
   ]
  },
  {
   "cell_type": "code",
   "execution_count": 438,
   "id": "418f1b5a-e820-4616-8b3f-0be30152e20b",
   "metadata": {},
   "outputs": [
    {
     "data": {
      "text/plain": [
       "['the']"
      ]
     },
     "execution_count": 438,
     "metadata": {},
     "output_type": "execute_result"
    }
   ],
   "source": [
    "test_string = \"the sun\"\n",
    "pattern = \"^the\"\n",
    "re.findall(pattern, test_string)"
   ]
  },
  {
   "cell_type": "code",
   "execution_count": 440,
   "id": "3709d013-bb89-4144-aa79-b4f4461445d8",
   "metadata": {},
   "outputs": [
    {
     "data": {
      "text/plain": [
       "[]"
      ]
     },
     "execution_count": 440,
     "metadata": {},
     "output_type": "execute_result"
    }
   ],
   "source": [
    "test_string = \"In the sun\"\n",
    "pattern = \"\\Athe\"\n",
    "re.findall(pattern, test_string)"
   ]
  },
  {
   "cell_type": "code",
   "execution_count": 488,
   "id": "2fd24c41-80a5-4b11-a3e6-9b8b99d6be94",
   "metadata": {},
   "outputs": [
    {
     "name": "stdout",
     "output_type": "stream",
     "text": [
      "['artifact']\n"
     ]
    }
   ],
   "source": [
    "test_string1 = \"artifactory.googleapis.com\"\n",
    "pattern = \"artifact\\B\"\n",
    "print(re.findall(pattern, test_string1))"
   ]
  },
  {
   "cell_type": "code",
   "execution_count": 476,
   "id": "b871e50f-de74-425f-a65c-877084ec2ae9",
   "metadata": {},
   "outputs": [
    {
     "name": "stdout",
     "output_type": "stream",
     "text": [
      "[]\n"
     ]
    }
   ],
   "source": [
    "test_string1 = \"a foot ball\"\n",
    "pattern = \"\\Bfoo\"\n",
    "print(re.findall(pattern, test_string1))"
   ]
  },
  {
   "cell_type": "code",
   "execution_count": 496,
   "id": "e5991bad-8e0f-4ec6-8078-ba71f06a331e",
   "metadata": {},
   "outputs": [
    {
     "data": {
      "text/plain": [
       "['256', '15']"
      ]
     },
     "execution_count": 496,
     "metadata": {},
     "output_type": "execute_result"
    }
   ],
   "source": [
    "test_string = \"My address is house no 256, manhattan city, block no 15, greater new yourk, new york city\"\n",
    "pattern = \"\\d+\"\n",
    "re.findall(pattern, test_string)"
   ]
  },
  {
   "cell_type": "code",
   "execution_count": 500,
   "id": "d60975dd-dffa-4a37-9f23-93a41c49c1cf",
   "metadata": {},
   "outputs": [
    {
     "data": {
      "text/plain": [
       "['My address is house no ',\n",
       " ', manhattan city, block no ',\n",
       " ', greater new yourk, new york city']"
      ]
     },
     "execution_count": 500,
     "metadata": {},
     "output_type": "execute_result"
    }
   ],
   "source": [
    "test_string = \"My address is house no 256, manhattan city, block no 15, greater new yourk, new york city\"\n",
    "pattern = \"\\D+\"\n",
    "re.findall(pattern, test_string)"
   ]
  },
  {
   "cell_type": "code",
   "execution_count": 504,
   "id": "abfc7633-fe6c-4a44-9b8b-ad2935a12cfe",
   "metadata": {},
   "outputs": [
    {
     "data": {
      "text/plain": [
       "[' ',\n",
       " ' ',\n",
       " ' ',\n",
       " ' ',\n",
       " ' ',\n",
       " ' ',\n",
       " ' ',\n",
       " ' ',\n",
       " ' ',\n",
       " ' ',\n",
       " ' ',\n",
       " ' ',\n",
       " ' ',\n",
       " ' ',\n",
       " ' ',\n",
       " ' ']"
      ]
     },
     "execution_count": 504,
     "metadata": {},
     "output_type": "execute_result"
    }
   ],
   "source": [
    "test_string = \"My address is house no 256, manhattan city, block no 15, greater new yourk, new york city\"\n",
    "pattern = \"\\s\"\n",
    "re.findall(pattern, test_string)"
   ]
  },
  {
   "cell_type": "code",
   "execution_count": 520,
   "id": "ba2873a0-c98d-4106-9901-59fd43210209",
   "metadata": {},
   "outputs": [
    {
     "data": {
      "text/plain": [
       "['My',\n",
       " 'address',\n",
       " 'is',\n",
       " 'house',\n",
       " 'no',\n",
       " '256,',\n",
       " 'manhattan',\n",
       " 'city,',\n",
       " 'block',\n",
       " 'no',\n",
       " '15,',\n",
       " 'greater',\n",
       " 'new',\n",
       " 'yourk,',\n",
       " 'new',\n",
       " 'york',\n",
       " 'city',\n",
       " '_',\n",
       " '$',\n",
       " '_']"
      ]
     },
     "execution_count": 520,
     "metadata": {},
     "output_type": "execute_result"
    }
   ],
   "source": [
    "test_string = \"My address is house no 256, manhattan city, block no 15, greater new yourk, new york city _ $ _ \"\n",
    "pattern = \"\\S+\"\n",
    "re.findall(pattern, test_string)"
   ]
  },
  {
   "cell_type": "code",
   "execution_count": 518,
   "id": "376e668d-ae1f-4e54-9096-0422800759b5",
   "metadata": {},
   "outputs": [
    {
     "data": {
      "text/plain": [
       "['My',\n",
       " 'address',\n",
       " 'is',\n",
       " 'house',\n",
       " 'no',\n",
       " '256',\n",
       " 'manhattan',\n",
       " 'city',\n",
       " 'block',\n",
       " 'no',\n",
       " '15',\n",
       " 'greater',\n",
       " 'new',\n",
       " 'yourk',\n",
       " 'new',\n",
       " 'york',\n",
       " 'city',\n",
       " '_',\n",
       " '_']"
      ]
     },
     "execution_count": 518,
     "metadata": {},
     "output_type": "execute_result"
    }
   ],
   "source": [
    "test_string = \"My address is house no 256, manhattan city, block no 15, greater new york, new york city _ $ _ \"\n",
    "pattern = \"\\w+\"\n",
    "re.findall(pattern, test_string)"
   ]
  },
  {
   "cell_type": "code",
   "execution_count": 524,
   "id": "7b58b4c6-5740-48ad-887d-97f88ac3991e",
   "metadata": {},
   "outputs": [
    {
     "data": {
      "text/plain": [
       "[' ',\n",
       " ' ',\n",
       " ' ',\n",
       " ' ',\n",
       " ' ',\n",
       " ', ',\n",
       " ' ',\n",
       " ', ',\n",
       " ' ',\n",
       " ' ',\n",
       " ', ',\n",
       " ' ',\n",
       " ' ',\n",
       " ', ',\n",
       " ' ',\n",
       " ' ',\n",
       " ' !@#$%^&*()',\n",
       " '+ ']"
      ]
     },
     "execution_count": 524,
     "metadata": {},
     "output_type": "execute_result"
    }
   ],
   "source": [
    "test_string = \"My address is house no 256, manhattan city, block no 15, greater new york, new york city !@#$%^&*()_+ \"\n",
    "pattern = \"\\W+\"\n",
    "re.findall(pattern, test_string)"
   ]
  },
  {
   "cell_type": "code",
   "execution_count": 534,
   "id": "3289d51b-7b98-494c-b135-84562e82c36f",
   "metadata": {},
   "outputs": [
    {
     "data": {
      "text/plain": [
       "['city']"
      ]
     },
     "execution_count": 534,
     "metadata": {},
     "output_type": "execute_result"
    }
   ],
   "source": [
    "test_string = \"My address is house no 256, manhattan city, block no 15, greater new york, newyork city\"\n",
    "pattern = \"city$\"\n",
    "re.findall(pattern, test_string)"
   ]
  },
  {
   "cell_type": "code",
   "execution_count": 532,
   "id": "eac10cbe-fa5b-4362-973d-ae4047cea51b",
   "metadata": {},
   "outputs": [
    {
     "data": {
      "text/plain": [
       "True"
      ]
     },
     "execution_count": 532,
     "metadata": {},
     "output_type": "execute_result"
    }
   ],
   "source": [
    "test_string.endswith('city')"
   ]
  },
  {
   "cell_type": "markdown",
   "id": "12cbab29-4cea-416f-a258-c9e32e7ac039",
   "metadata": {},
   "source": [
    "#### Regex methods"
   ]
  },
  {
   "cell_type": "code",
   "execution_count": 540,
   "id": "742027ac-550f-4618-89ba-16ac6d0f7958",
   "metadata": {},
   "outputs": [
    {
     "data": {
      "text/plain": [
       "['256', '15', '9876543210']"
      ]
     },
     "execution_count": 540,
     "metadata": {},
     "output_type": "execute_result"
    }
   ],
   "source": [
    "test_string = \"My address is house no 256, manhattan city, block no 15, greater new york, newyork city 9876543210\"\n",
    "pattern = \"\\d+\"\n",
    "re.findall(pattern, test_string)"
   ]
  },
  {
   "cell_type": "code",
   "execution_count": 566,
   "id": "e21553bf-32a3-4f4c-8522-7eec93a72d5d",
   "metadata": {},
   "outputs": [
    {
     "data": {
      "text/plain": [
       "['Eight: ', ' thirty:', ' ', ' 90 ']"
      ]
     },
     "execution_count": 566,
     "metadata": {},
     "output_type": "execute_result"
    }
   ],
   "source": [
    "test_string = \"Eight: 8 thirty:30 78 90 \"\n",
    "pattern = \"\\d+\"\n",
    "re.split(pattern, test_string, 3) # maxvalue"
   ]
  },
  {
   "cell_type": "code",
   "execution_count": 552,
   "id": "d1a14501-a547-4cd4-8deb-331d6149717b",
   "metadata": {},
   "outputs": [
    {
     "data": {
      "text/plain": [
       "['Eight: 8 ', 'thirty:30']"
      ]
     },
     "execution_count": 552,
     "metadata": {},
     "output_type": "execute_result"
    }
   ],
   "source": [
    "\"Eight: 8 \\d+thirty:30\".split('\\d+')"
   ]
  },
  {
   "cell_type": "code",
   "execution_count": 564,
   "id": "e7540a20-5b45-4132-bf98-039f2d0d5550",
   "metadata": {},
   "outputs": [
    {
     "data": {
      "text/plain": [
       "['Eight:', '8', 'thirty:30', '78', '90', '']"
      ]
     },
     "execution_count": 564,
     "metadata": {},
     "output_type": "execute_result"
    }
   ],
   "source": [
    "\"Eight: 8 thirty:30 78 90 \".rsplit(' ')"
   ]
  },
  {
   "cell_type": "code",
   "execution_count": 574,
   "id": "aa3d92dc-e8d8-4dcc-83ad-3a64d4b1d09c",
   "metadata": {},
   "outputs": [
    {
     "data": {
      "text/plain": [
       "'My address is house no +++, manhattan city, block no ++, greater new york, newyork city ++++++++++'"
      ]
     },
     "execution_count": 574,
     "metadata": {},
     "output_type": "execute_result"
    }
   ],
   "source": [
    "test_string = \"My address is house no 256, manhattan city, block no 15, greater new york, newyork city 9876543210\"\n",
    "pattern = \"\\d\"\n",
    "replace_value = '+'\n",
    "re.sub(pattern, replace_value, test_string)"
   ]
  },
  {
   "cell_type": "code",
   "execution_count": 584,
   "id": "4032f59b-0a7d-4d7f-bcae-cf71847e2973",
   "metadata": {},
   "outputs": [
    {
     "data": {
      "text/plain": [
       "('My address is house no +++, manhattan city, block no ++, greater new york, newyork city ++++++++++',\n",
       " 15)"
      ]
     },
     "execution_count": 584,
     "metadata": {},
     "output_type": "execute_result"
    }
   ],
   "source": [
    "test_string = \"My address is house no 256, manhattan city, block no 15, greater new york, newyork city 9876543210\"\n",
    "pattern = \"\\d\"\n",
    "replace_value = '+'\n",
    "re.subn(pattern, replace_value, test_string)"
   ]
  },
  {
   "cell_type": "code",
   "execution_count": 606,
   "id": "96cc7f92-b73d-4a75-aaa6-8959d2f9adbd",
   "metadata": {},
   "outputs": [
    {
     "data": {
      "text/plain": [
       "<re.Match object; span=(23, 26), match='256'>"
      ]
     },
     "execution_count": 606,
     "metadata": {},
     "output_type": "execute_result"
    }
   ],
   "source": [
    "test_string = \"My address is house no 256, manhattan city, block no 15, greater new york, newyork city 9876543210\"\n",
    "pattern = \"\\d+\"\n",
    "re.search(pattern, test_string)  # first single occurence"
   ]
  },
  {
   "cell_type": "code",
   "execution_count": 594,
   "id": "f10e7a15-8906-443a-8869-6d8d9629b42a",
   "metadata": {},
   "outputs": [
    {
     "data": {
      "text/plain": [
       "['256', '15', '9876543210']"
      ]
     },
     "execution_count": 594,
     "metadata": {},
     "output_type": "execute_result"
    }
   ],
   "source": [
    "test_string = \"My address is house no 256, manhattan city, block no 15, greater new york, newyork city 9876543210\"\n",
    "pattern = \"\\d+\"\n",
    "re.findall(pattern, test_string)"
   ]
  },
  {
   "cell_type": "code",
   "execution_count": 676,
   "id": "81a858c5-3093-401a-b3af-5a0b236700fb",
   "metadata": {},
   "outputs": [],
   "source": [
    "test_string = \"My address is house no 256, manhattan city, block no 15, greater new york, newyork city 9876543210\"\n",
    "pattern = \"(\\w{5})\" #no of digits\n",
    "match = re.search(pattern, test_string)  # first single occurence"
   ]
  },
  {
   "cell_type": "code",
   "execution_count": 678,
   "id": "61933699-d35f-43cd-a7bd-a1dd18e5adcc",
   "metadata": {},
   "outputs": [
    {
     "data": {
      "text/plain": [
       "'addre'"
      ]
     },
     "execution_count": 678,
     "metadata": {},
     "output_type": "execute_result"
    }
   ],
   "source": [
    "match.group() #Return subgroup(s) of the match by indices or names"
   ]
  },
  {
   "cell_type": "code",
   "execution_count": 680,
   "id": "a8acb3bc-f654-4fff-9124-0105008747fa",
   "metadata": {},
   "outputs": [
    {
     "data": {
      "text/plain": [
       "('addre',)"
      ]
     },
     "execution_count": 680,
     "metadata": {},
     "output_type": "execute_result"
    }
   ],
   "source": [
    "match.groups() #Return a tuple containing all the subgroups of the match, from 1"
   ]
  },
  {
   "cell_type": "code",
   "execution_count": 682,
   "id": "139b241e-ef7b-475c-a66e-20678dcd5385",
   "metadata": {},
   "outputs": [
    {
     "data": {
      "text/plain": [
       "'addre'"
      ]
     },
     "execution_count": 682,
     "metadata": {},
     "output_type": "execute_result"
    }
   ],
   "source": [
    "match.group(1)"
   ]
  },
  {
   "cell_type": "code",
   "execution_count": 684,
   "id": "7dd2fffd-4d6f-4acd-baf8-f41514cede75",
   "metadata": {},
   "outputs": [
    {
     "ename": "IndexError",
     "evalue": "no such group",
     "output_type": "error",
     "traceback": [
      "\u001b[1;31m---------------------------------------------------------------------------\u001b[0m",
      "\u001b[1;31mIndexError\u001b[0m                                Traceback (most recent call last)",
      "Cell \u001b[1;32mIn[684], line 1\u001b[0m\n\u001b[1;32m----> 1\u001b[0m \u001b[38;5;28;01mmatch\u001b[39;00m\u001b[38;5;241m.\u001b[39mgroup(\u001b[38;5;241m2\u001b[39m)\n",
      "\u001b[1;31mIndexError\u001b[0m: no such group"
     ]
    }
   ],
   "source": [
    "match.group(2)"
   ]
  },
  {
   "cell_type": "code",
   "execution_count": 686,
   "id": "6583e8b6-628b-4cea-b8d6-71742187fd60",
   "metadata": {},
   "outputs": [
    {
     "data": {
      "text/plain": [
       "3"
      ]
     },
     "execution_count": 686,
     "metadata": {},
     "output_type": "execute_result"
    }
   ],
   "source": [
    "match.start() #returns starting index"
   ]
  },
  {
   "cell_type": "code",
   "execution_count": 688,
   "id": "4b4b653b-6543-4ab5-acf5-771915b5b333",
   "metadata": {},
   "outputs": [
    {
     "data": {
      "text/plain": [
       "8"
      ]
     },
     "execution_count": 688,
     "metadata": {},
     "output_type": "execute_result"
    }
   ],
   "source": [
    "match.end() #returns ending index"
   ]
  },
  {
   "cell_type": "code",
   "execution_count": 690,
   "id": "1336f05b-a935-4913-a0fc-f6673d445b57",
   "metadata": {},
   "outputs": [
    {
     "data": {
      "text/plain": [
       "(3, 8)"
      ]
     },
     "execution_count": 690,
     "metadata": {},
     "output_type": "execute_result"
    }
   ],
   "source": [
    "match.span()"
   ]
  },
  {
   "cell_type": "code",
   "execution_count": 694,
   "id": "5f739c7a-d624-45ef-84a7-9c9c40c692ad",
   "metadata": {},
   "outputs": [
    {
     "data": {
      "text/plain": [
       "re.compile(r'(\\w{5})', re.UNICODE)"
      ]
     },
     "execution_count": 694,
     "metadata": {},
     "output_type": "execute_result"
    }
   ],
   "source": [
    "match.re"
   ]
  },
  {
   "cell_type": "code",
   "execution_count": 711,
   "id": "5ce10f1e-eb3f-474d-b005-b8c76b9d2260",
   "metadata": {},
   "outputs": [],
   "source": [
    "var = re.compile('\\d+')"
   ]
  },
  {
   "cell_type": "code",
   "execution_count": 702,
   "id": "2306b8b7-0896-481e-b2fd-6976c4b61090",
   "metadata": {},
   "outputs": [
    {
     "data": {
      "text/plain": [
       "'3688984'"
      ]
     },
     "execution_count": 702,
     "metadata": {},
     "output_type": "execute_result"
    }
   ],
   "source": [
    "var.match(\"3688984 78998745 8845\")[0]"
   ]
  },
  {
   "cell_type": "code",
   "execution_count": 722,
   "id": "3f24c86b-ba66-4784-8398-59754ed71e83",
   "metadata": {},
   "outputs": [
    {
     "name": "stdout",
     "output_type": "stream",
     "text": [
      "<re.Match object; span=(0, 6), match='345243'>\n",
      "<re.Match object; span=(0, 2), match='54'>\n",
      "<re.Match object; span=(0, 2), match='35'>\n",
      "<re.Match object; span=(0, 5), match='43634'>\n",
      "<re.Match object; span=(0, 1), match='5'>\n",
      "<re.Match object; span=(0, 4), match='3465'>\n"
     ]
    }
   ],
   "source": [
    "var = re.compile('\\d+')\n",
    "\n",
    "with open(\"some_file.txt\", \"r\") as f:\n",
    "    for i in f:\n",
    "        print(var.match(i))"
   ]
  },
  {
   "cell_type": "code",
   "execution_count": 730,
   "id": "5876ef83-0373-4578-828c-42d607356a5f",
   "metadata": {},
   "outputs": [
    {
     "data": {
      "text/plain": [
       "<callable_iterator at 0x26539736980>"
      ]
     },
     "execution_count": 730,
     "metadata": {},
     "output_type": "execute_result"
    }
   ],
   "source": [
    "s = \"python 3.0 was released in 2008\"\n",
    "pattern = \"\\d\\d\"\n",
    "matches = re.finditer(pattern, s)\n",
    "matches"
   ]
  },
  {
   "cell_type": "code",
   "execution_count": 732,
   "id": "889c7808-e1f5-4aa3-826a-6e9fcc24cfa4",
   "metadata": {},
   "outputs": [
    {
     "name": "stdout",
     "output_type": "stream",
     "text": [
      "20\n",
      "08\n"
     ]
    }
   ],
   "source": [
    "for match in matches:\n",
    "    print(match.group())"
   ]
  },
  {
   "cell_type": "code",
   "execution_count": 728,
   "id": "423bcaaa-decb-4d6e-bbe3-9bfcd9b26851",
   "metadata": {},
   "outputs": [
    {
     "data": {
      "text/plain": [
       "['20', '08']"
      ]
     },
     "execution_count": 728,
     "metadata": {},
     "output_type": "execute_result"
    }
   ],
   "source": [
    "s = \"python 3.0 was released in 2008\"\n",
    "pattern = \"\\d\\d\"\n",
    "matches = re.findall(pattern, s)\n",
    "matches"
   ]
  },
  {
   "cell_type": "code",
   "execution_count": 752,
   "id": "bcfcd371-9749-44ae-b129-041c596111ab",
   "metadata": {},
   "outputs": [
    {
     "name": "stdout",
     "output_type": "stream",
     "text": [
      "<re.Match object; span=(0, 16), match='_sadiq@gmail.com'>\n"
     ]
    }
   ],
   "source": [
    "test_string = \"_sadiq@gmail.com pasha@outlook.com\"\n",
    "pattern = \"[\\w]+@[\\w]+.(com)\" #no of digits\n",
    "print(re.match(pattern, test_string) )"
   ]
  },
  {
   "cell_type": "code",
   "execution_count": 768,
   "id": "3b7dfcc2-1cb7-418f-a50a-bfc4d575f3b2",
   "metadata": {},
   "outputs": [],
   "source": [
    "test_string = \"sadiq@gmail.com pasha@outlook.com\"\n",
    "pattern = \"[\\w]+@[\\w]+.(com)\"\n",
    "re.fullmatch(pattern, test_string) #full match is same exactly match"
   ]
  },
  {
   "cell_type": "code",
   "execution_count": 758,
   "id": "ac24f0d3-fa9b-4331-9726-b0ca575fd0b1",
   "metadata": {},
   "outputs": [
    {
     "data": {
      "text/plain": [
       "<re.Match object; span=(0, 5), match='abcde'>"
      ]
     },
     "execution_count": 758,
     "metadata": {},
     "output_type": "execute_result"
    }
   ],
   "source": [
    "re.match( \"\\w+\",\"abcde$\")"
   ]
  },
  {
   "cell_type": "code",
   "execution_count": 762,
   "id": "bed8a9cc-5da6-4dbd-ba4b-270035c1b429",
   "metadata": {},
   "outputs": [
    {
     "data": {
      "text/plain": [
       "<re.Match object; span=(0, 5), match='abcde'>"
      ]
     },
     "execution_count": 762,
     "metadata": {},
     "output_type": "execute_result"
    }
   ],
   "source": [
    "re.fullmatch( \"\\w+\",\"abcde\")"
   ]
  },
  {
   "cell_type": "markdown",
   "id": "e5b23a6a-d892-4bb1-bad7-40c9be2f74fb",
   "metadata": {},
   "source": [
    "### Exception handling"
   ]
  },
  {
   "cell_type": "code",
   "execution_count": 776,
   "id": "2448c2d5-8ea1-4980-ba90-cb400dd1f2c4",
   "metadata": {},
   "outputs": [
    {
     "ename": "ZeroDivisionError",
     "evalue": "division by zero",
     "output_type": "error",
     "traceback": [
      "\u001b[1;31m---------------------------------------------------------------------------\u001b[0m",
      "\u001b[1;31mZeroDivisionError\u001b[0m                         Traceback (most recent call last)",
      "Cell \u001b[1;32mIn[776], line 1\u001b[0m\n\u001b[1;32m----> 1\u001b[0m \u001b[38;5;241m7\u001b[39m \u001b[38;5;241m/\u001b[39m \u001b[38;5;241m0\u001b[39m\n",
      "\u001b[1;31mZeroDivisionError\u001b[0m: division by zero"
     ]
    }
   ],
   "source": [
    "7 / 0"
   ]
  },
  {
   "cell_type": "code",
   "execution_count": 778,
   "id": "d0c6d806-80ef-4ce1-a531-d7aa7dceb6a0",
   "metadata": {},
   "outputs": [
    {
     "ename": "FileNotFoundError",
     "evalue": "[Errno 2] No such file or directory: 'doesnotexist.txt'",
     "output_type": "error",
     "traceback": [
      "\u001b[1;31m---------------------------------------------------------------------------\u001b[0m",
      "\u001b[1;31mFileNotFoundError\u001b[0m                         Traceback (most recent call last)",
      "Cell \u001b[1;32mIn[778], line 1\u001b[0m\n\u001b[1;32m----> 1\u001b[0m \u001b[38;5;28;01mwith\u001b[39;00m \u001b[38;5;28mopen\u001b[39m(\u001b[38;5;124m'\u001b[39m\u001b[38;5;124mdoesnotexist.txt\u001b[39m\u001b[38;5;124m'\u001b[39m, \u001b[38;5;124m'\u001b[39m\u001b[38;5;124mr\u001b[39m\u001b[38;5;124m'\u001b[39m) \u001b[38;5;28;01mas\u001b[39;00m f:\n\u001b[0;32m      2\u001b[0m     f\u001b[38;5;241m.\u001b[39mopen()\n",
      "File \u001b[1;32m~\\anaconda3\\Lib\\site-packages\\IPython\\core\\interactiveshell.py:286\u001b[0m, in \u001b[0;36m_modified_open\u001b[1;34m(file, *args, **kwargs)\u001b[0m\n\u001b[0;32m    279\u001b[0m \u001b[38;5;28;01mif\u001b[39;00m file \u001b[38;5;129;01min\u001b[39;00m {\u001b[38;5;241m0\u001b[39m, \u001b[38;5;241m1\u001b[39m, \u001b[38;5;241m2\u001b[39m}:\n\u001b[0;32m    280\u001b[0m     \u001b[38;5;28;01mraise\u001b[39;00m \u001b[38;5;167;01mValueError\u001b[39;00m(\n\u001b[0;32m    281\u001b[0m         \u001b[38;5;124mf\u001b[39m\u001b[38;5;124m\"\u001b[39m\u001b[38;5;124mIPython won\u001b[39m\u001b[38;5;124m'\u001b[39m\u001b[38;5;124mt let you open fd=\u001b[39m\u001b[38;5;132;01m{\u001b[39;00mfile\u001b[38;5;132;01m}\u001b[39;00m\u001b[38;5;124m by default \u001b[39m\u001b[38;5;124m\"\u001b[39m\n\u001b[0;32m    282\u001b[0m         \u001b[38;5;124m\"\u001b[39m\u001b[38;5;124mas it is likely to crash IPython. If you know what you are doing, \u001b[39m\u001b[38;5;124m\"\u001b[39m\n\u001b[0;32m    283\u001b[0m         \u001b[38;5;124m\"\u001b[39m\u001b[38;5;124myou can use builtins\u001b[39m\u001b[38;5;124m'\u001b[39m\u001b[38;5;124m open.\u001b[39m\u001b[38;5;124m\"\u001b[39m\n\u001b[0;32m    284\u001b[0m     )\n\u001b[1;32m--> 286\u001b[0m \u001b[38;5;28;01mreturn\u001b[39;00m io_open(file, \u001b[38;5;241m*\u001b[39margs, \u001b[38;5;241m*\u001b[39m\u001b[38;5;241m*\u001b[39mkwargs)\n",
      "\u001b[1;31mFileNotFoundError\u001b[0m: [Errno 2] No such file or directory: 'doesnotexist.txt'"
     ]
    }
   ],
   "source": [
    "with open('doesnotexist.txt', 'r') as f:\n",
    "    f.open()"
   ]
  },
  {
   "cell_type": "code",
   "execution_count": 780,
   "id": "f138b67e-80b3-4469-ad77-b3cf5646de85",
   "metadata": {},
   "outputs": [
    {
     "ename": "ModuleNotFoundError",
     "evalue": "No module named 'pyarma'",
     "output_type": "error",
     "traceback": [
      "\u001b[1;31m---------------------------------------------------------------------------\u001b[0m",
      "\u001b[1;31mModuleNotFoundError\u001b[0m                       Traceback (most recent call last)",
      "Cell \u001b[1;32mIn[780], line 1\u001b[0m\n\u001b[1;32m----> 1\u001b[0m \u001b[38;5;28;01mimport\u001b[39;00m \u001b[38;5;21;01mpyarma\u001b[39;00m\n",
      "\u001b[1;31mModuleNotFoundError\u001b[0m: No module named 'pyarma'"
     ]
    }
   ],
   "source": [
    "import pyarma"
   ]
  },
  {
   "cell_type": "code",
   "execution_count": 782,
   "id": "0d5594ff-cbb9-42ee-bc83-70c956fbc4ea",
   "metadata": {},
   "outputs": [
    {
     "data": {
      "text/plain": [
       "['ArithmeticError',\n",
       " 'AssertionError',\n",
       " 'AttributeError',\n",
       " 'BaseException',\n",
       " 'BaseExceptionGroup',\n",
       " 'BlockingIOError',\n",
       " 'BrokenPipeError',\n",
       " 'BufferError',\n",
       " 'BytesWarning',\n",
       " 'ChildProcessError',\n",
       " 'ConnectionAbortedError',\n",
       " 'ConnectionError',\n",
       " 'ConnectionRefusedError',\n",
       " 'ConnectionResetError',\n",
       " 'DeprecationWarning',\n",
       " 'EOFError',\n",
       " 'Ellipsis',\n",
       " 'EncodingWarning',\n",
       " 'EnvironmentError',\n",
       " 'Exception',\n",
       " 'ExceptionGroup',\n",
       " 'False',\n",
       " 'FileExistsError',\n",
       " 'FileNotFoundError',\n",
       " 'FloatingPointError',\n",
       " 'FutureWarning',\n",
       " 'GeneratorExit',\n",
       " 'IOError',\n",
       " 'ImportError',\n",
       " 'ImportWarning',\n",
       " 'IndentationError',\n",
       " 'IndexError',\n",
       " 'InterruptedError',\n",
       " 'IsADirectoryError',\n",
       " 'KeyError',\n",
       " 'KeyboardInterrupt',\n",
       " 'LookupError',\n",
       " 'MemoryError',\n",
       " 'ModuleNotFoundError',\n",
       " 'NameError',\n",
       " 'None',\n",
       " 'NotADirectoryError',\n",
       " 'NotImplemented',\n",
       " 'NotImplementedError',\n",
       " 'OSError',\n",
       " 'OverflowError',\n",
       " 'PendingDeprecationWarning',\n",
       " 'PermissionError',\n",
       " 'ProcessLookupError',\n",
       " 'RecursionError',\n",
       " 'ReferenceError',\n",
       " 'ResourceWarning',\n",
       " 'RuntimeError',\n",
       " 'RuntimeWarning',\n",
       " 'StopAsyncIteration',\n",
       " 'StopIteration',\n",
       " 'SyntaxError',\n",
       " 'SyntaxWarning',\n",
       " 'SystemError',\n",
       " 'SystemExit',\n",
       " 'TabError',\n",
       " 'TimeoutError',\n",
       " 'True',\n",
       " 'TypeError',\n",
       " 'UnboundLocalError',\n",
       " 'UnicodeDecodeError',\n",
       " 'UnicodeEncodeError',\n",
       " 'UnicodeError',\n",
       " 'UnicodeTranslateError',\n",
       " 'UnicodeWarning',\n",
       " 'UserWarning',\n",
       " 'ValueError',\n",
       " 'Warning',\n",
       " 'WindowsError',\n",
       " 'ZeroDivisionError',\n",
       " '__IPYTHON__',\n",
       " '__build_class__',\n",
       " '__debug__',\n",
       " '__doc__',\n",
       " '__import__',\n",
       " '__loader__',\n",
       " '__name__',\n",
       " '__package__',\n",
       " '__spec__',\n",
       " 'abs',\n",
       " 'aiter',\n",
       " 'all',\n",
       " 'anext',\n",
       " 'any',\n",
       " 'ascii',\n",
       " 'bin',\n",
       " 'bool',\n",
       " 'breakpoint',\n",
       " 'bytearray',\n",
       " 'bytes',\n",
       " 'callable',\n",
       " 'chr',\n",
       " 'classmethod',\n",
       " 'compile',\n",
       " 'complex',\n",
       " 'copyright',\n",
       " 'credits',\n",
       " 'delattr',\n",
       " 'dict',\n",
       " 'dir',\n",
       " 'display',\n",
       " 'divmod',\n",
       " 'enumerate',\n",
       " 'eval',\n",
       " 'exec',\n",
       " 'execfile',\n",
       " 'filter',\n",
       " 'float',\n",
       " 'format',\n",
       " 'frozenset',\n",
       " 'get_ipython',\n",
       " 'getattr',\n",
       " 'globals',\n",
       " 'hasattr',\n",
       " 'hash',\n",
       " 'help',\n",
       " 'hex',\n",
       " 'id',\n",
       " 'input',\n",
       " 'int',\n",
       " 'isinstance',\n",
       " 'issubclass',\n",
       " 'iter',\n",
       " 'len',\n",
       " 'license',\n",
       " 'list',\n",
       " 'locals',\n",
       " 'map',\n",
       " 'max',\n",
       " 'memoryview',\n",
       " 'min',\n",
       " 'next',\n",
       " 'object',\n",
       " 'oct',\n",
       " 'open',\n",
       " 'ord',\n",
       " 'pow',\n",
       " 'print',\n",
       " 'property',\n",
       " 'range',\n",
       " 'repr',\n",
       " 'reversed',\n",
       " 'round',\n",
       " 'runfile',\n",
       " 'set',\n",
       " 'setattr',\n",
       " 'slice',\n",
       " 'sorted',\n",
       " 'staticmethod',\n",
       " 'str',\n",
       " 'sum',\n",
       " 'super',\n",
       " 'tuple',\n",
       " 'type',\n",
       " 'vars',\n",
       " 'zip']"
      ]
     },
     "execution_count": 782,
     "metadata": {},
     "output_type": "execute_result"
    }
   ],
   "source": [
    "dir(__builtins__)"
   ]
  },
  {
   "cell_type": "code",
   "execution_count": 796,
   "id": "c6940c03-eee5-4f24-934d-f956964af340",
   "metadata": {},
   "outputs": [
    {
     "name": "stdout",
     "output_type": "stream",
     "text": [
      "Denominator must be non-zero number\n"
     ]
    }
   ],
   "source": [
    "try:\n",
    "    print(7 / 0)\n",
    "except: \n",
    "    print(\"Denominator must be non-zero number\")"
   ]
  },
  {
   "cell_type": "code",
   "execution_count": 794,
   "id": "678b7793-faa1-48c3-892e-bba25d02676b",
   "metadata": {},
   "outputs": [
    {
     "name": "stdout",
     "output_type": "stream",
     "text": [
      "Denominator must be non-zero number\n"
     ]
    }
   ],
   "source": [
    "try:\n",
    "    print(7 / 0)\n",
    "except ZeroDivisionError: \n",
    "    print(\"Denominator must be non-zero number\")"
   ]
  },
  {
   "cell_type": "code",
   "execution_count": 802,
   "id": "ae6a4e0d-69a0-4973-97dd-0a5600c6342d",
   "metadata": {},
   "outputs": [
    {
     "name": "stdout",
     "output_type": "stream",
     "text": [
      "3.5\n",
      "denominator changed to 1\n"
     ]
    }
   ],
   "source": [
    "num = 7\n",
    "den = 2\n",
    "\n",
    "try:\n",
    "    print(num / den)\n",
    "except: \n",
    "    print(\"Denominator must be non-zero number\")\n",
    "else:\n",
    "    den = den+1\n",
    "    print(\"denominator changed to 1\")"
   ]
  },
  {
   "cell_type": "code",
   "execution_count": 808,
   "id": "604a0f91-8d69-4c17-85f5-9399e4abb1b3",
   "metadata": {},
   "outputs": [
    {
     "name": "stdin",
     "output_type": "stream",
     "text": [
      "ENter a number:  0\n"
     ]
    },
    {
     "name": "stdout",
     "output_type": "stream",
     "text": [
      "Even number\n",
      "num cant be zero\n"
     ]
    }
   ],
   "source": [
    "try: \n",
    "    num = int(input(\"ENter a number: \"))\n",
    "    if num % 2 == 0:\n",
    "        print(\"Even number\")\n",
    "except:\n",
    "    print(\"not an even number: \")\n",
    "\n",
    "else: \n",
    "    try:\n",
    "        reciprocal = 1/num\n",
    "        print(reciprocal)\n",
    "    except:\n",
    "        print(\"num cant be zero\")"
   ]
  },
  {
   "cell_type": "raw",
   "id": "83b0edf5-515c-447c-a04a-46bf78922372",
   "metadata": {},
   "source": [
    "try and except\n",
    "\n",
    "basic syntax to handle errors in python are try and except statements. Code which can cause exeption to occur is put in try block and handling of the exception is then implemented in except block of code.\n",
    "\n",
    "try:\n",
    "    you do operations..\n",
    "    \n",
    "except Exception1:\n",
    "    if there is exception1, then execute this block\n",
    "\n",
    "except Exception2:\n",
    "    if there is exception2, then execute this block\n",
    "    \n",
    "else:\n",
    "    if there is no exeption then execute this block\n",
    "    \n",
    "we can also just check for any exception with just using except:"
   ]
  },
  {
   "cell_type": "raw",
   "id": "3b9ad3bc-2c2c-4a6e-b1bc-0aa7eac18274",
   "metadata": {},
   "source": [
    "\n",
    "finally: block of code will always be run regardless if there was an exception in the try code block.\n",
    "\n",
    "syntax is:\n",
    "\n",
    "try:\n",
    "    code block here\n",
    "    ...\n",
    "    \n",
    "finally:\n",
    "This code block would always be executed"
   ]
  },
  {
   "cell_type": "code",
   "execution_count": 810,
   "id": "44fd004b-4cac-4e1a-96f7-f025d79bf704",
   "metadata": {},
   "outputs": [
    {
     "name": "stdout",
     "output_type": "stream",
     "text": [
      "Den cant be zero\n",
      "End of execution\n"
     ]
    }
   ],
   "source": [
    "try:\n",
    "    num = 10\n",
    "    den = 0\n",
    "    res = num / den\n",
    "    print(res)\n",
    "except:\n",
    "    print(\"Den cant be zero\")\n",
    "\n",
    "finally:\n",
    "    print(\"End of execution\")"
   ]
  },
  {
   "cell_type": "code",
   "execution_count": 818,
   "id": "8894a1aa-278b-41aa-ab69-e5d049826f8f",
   "metadata": {},
   "outputs": [
    {
     "data": {
      "text/plain": [
       "['__cause__',\n",
       " '__class__',\n",
       " '__context__',\n",
       " '__delattr__',\n",
       " '__dict__',\n",
       " '__dir__',\n",
       " '__doc__',\n",
       " '__eq__',\n",
       " '__format__',\n",
       " '__ge__',\n",
       " '__getattribute__',\n",
       " '__getstate__',\n",
       " '__gt__',\n",
       " '__hash__',\n",
       " '__init__',\n",
       " '__init_subclass__',\n",
       " '__le__',\n",
       " '__lt__',\n",
       " '__ne__',\n",
       " '__new__',\n",
       " '__reduce__',\n",
       " '__reduce_ex__',\n",
       " '__repr__',\n",
       " '__setattr__',\n",
       " '__setstate__',\n",
       " '__sizeof__',\n",
       " '__str__',\n",
       " '__subclasshook__',\n",
       " '__suppress_context__',\n",
       " '__traceback__',\n",
       " 'add_note',\n",
       " 'args',\n",
       " 'with_traceback']"
      ]
     },
     "execution_count": 818,
     "metadata": {},
     "output_type": "execute_result"
    }
   ],
   "source": [
    "dir(Exception)"
   ]
  },
  {
   "cell_type": "code",
   "execution_count": 820,
   "id": "d8b7a552-f2c1-44ca-961d-fe2d26a3992c",
   "metadata": {},
   "outputs": [],
   "source": [
    "class check_if_inf(Exception):\n",
    "    pass\n",
    "\n",
    "den = math.inf"
   ]
  },
  {
   "cell_type": "code",
   "execution_count": 822,
   "id": "a554a941-655e-49ae-b873-20a0628c792b",
   "metadata": {},
   "outputs": [
    {
     "name": "stdout",
     "output_type": "stream",
     "text": [
      "Den cant be zero or infinity\n",
      "End of execution\n"
     ]
    }
   ],
   "source": [
    "import math\n",
    "\n",
    "try:\n",
    "    num = 10\n",
    "    if den == math.inf:\n",
    "        raise check_if_inf\n",
    "        \n",
    "except check_if_inf:\n",
    "    print(\"Den cant be zero or infinity\")\n",
    "\n",
    "finally:\n",
    "    print(\"End of execution\")"
   ]
  },
  {
   "cell_type": "code",
   "execution_count": 828,
   "id": "92f8ecd9-5fd3-44ec-b2a1-7269a282b5cd",
   "metadata": {},
   "outputs": [
    {
     "data": {
      "text/plain": [
       "inf"
      ]
     },
     "execution_count": 828,
     "metadata": {},
     "output_type": "execute_result"
    }
   ],
   "source": [
    "den"
   ]
  },
  {
   "cell_type": "code",
   "execution_count": 830,
   "id": "68faab58-b01c-4705-935a-1d1324f14cba",
   "metadata": {},
   "outputs": [
    {
     "name": "stdout",
     "output_type": "stream",
     "text": [
      "Den cant be infinity\n",
      "End of execution\n"
     ]
    }
   ],
   "source": [
    "import math\n",
    "\n",
    "try:\n",
    "    num = 10\n",
    "    if den == math.inf:\n",
    "        raise check_if_inf\n",
    "    \n",
    "except check_if_inf:\n",
    "    print(\"Den cant be infinity\")\n",
    "\n",
    "except:\n",
    "    print(\"Den cant be zero\")\n",
    "\n",
    "finally:\n",
    "    print(\"End of execution\")"
   ]
  },
  {
   "cell_type": "code",
   "execution_count": 841,
   "id": "b61ec2ac-e5aa-4e49-a701-5e93a2f0d3e6",
   "metadata": {},
   "outputs": [
    {
     "ename": "SyntaxError",
     "evalue": "invalid syntax (479314746.py, line 1)",
     "output_type": "error",
     "traceback": [
      "\u001b[1;36m  Cell \u001b[1;32mIn[841], line 1\u001b[1;36m\u001b[0m\n\u001b[1;33m    dir(assert)\u001b[0m\n\u001b[1;37m        ^\u001b[0m\n\u001b[1;31mSyntaxError\u001b[0m\u001b[1;31m:\u001b[0m invalid syntax\n"
     ]
    }
   ],
   "source": [
    "Assert -> assertion error "
   ]
  },
  {
   "cell_type": "code",
   "execution_count": 845,
   "id": "397dea5a-67c5-4487-990f-808a25ef0096",
   "metadata": {},
   "outputs": [
    {
     "ename": "AssertionError",
     "evalue": "Colder than asolute zero!",
     "output_type": "error",
     "traceback": [
      "\u001b[1;31m---------------------------------------------------------------------------\u001b[0m",
      "\u001b[1;31mAssertionError\u001b[0m                            Traceback (most recent call last)",
      "Cell \u001b[1;32mIn[845], line 6\u001b[0m\n\u001b[0;32m      3\u001b[0m     \u001b[38;5;28;01mreturn\u001b[39;00m (temp\u001b[38;5;241m-\u001b[39m\u001b[38;5;241m273.35\u001b[39m)\u001b[38;5;241m*\u001b[39m\u001b[38;5;241m1.8\u001b[39m \u001b[38;5;241m+\u001b[39m \u001b[38;5;241m32\u001b[39m\n\u001b[0;32m      5\u001b[0m KtoF(\u001b[38;5;241m273.35\u001b[39m)\n\u001b[1;32m----> 6\u001b[0m KtoF(\u001b[38;5;241m-\u001b[39m\u001b[38;5;241m1\u001b[39m)\n",
      "Cell \u001b[1;32mIn[845], line 2\u001b[0m, in \u001b[0;36mKtoF\u001b[1;34m(temp)\u001b[0m\n\u001b[0;32m      1\u001b[0m \u001b[38;5;28;01mdef\u001b[39;00m \u001b[38;5;21mKtoF\u001b[39m(temp):\n\u001b[1;32m----> 2\u001b[0m     \u001b[38;5;28;01massert\u001b[39;00m (temp \u001b[38;5;241m>\u001b[39m\u001b[38;5;241m=\u001b[39m\u001b[38;5;241m0\u001b[39m), \u001b[38;5;124m\"\u001b[39m\u001b[38;5;124mColder than asolute zero!\u001b[39m\u001b[38;5;124m\"\u001b[39m\n\u001b[0;32m      3\u001b[0m     \u001b[38;5;28;01mreturn\u001b[39;00m (temp\u001b[38;5;241m-\u001b[39m\u001b[38;5;241m273.35\u001b[39m)\u001b[38;5;241m*\u001b[39m\u001b[38;5;241m1.8\u001b[39m \u001b[38;5;241m+\u001b[39m \u001b[38;5;241m32\u001b[39m\n",
      "\u001b[1;31mAssertionError\u001b[0m: Colder than asolute zero!"
     ]
    }
   ],
   "source": [
    "def KtoF(temp):\n",
    "    assert (temp >=0), \"Colder than asolute zero!\"\n",
    "    return (temp-273.35)*1.8 + 32\n",
    "\n",
    "KtoF(273.35)\n",
    "KtoF(-1)"
   ]
  },
  {
   "cell_type": "code",
   "execution_count": 849,
   "id": "2b13612e-6202-4065-8ce7-f1186901a1f5",
   "metadata": {},
   "outputs": [
    {
     "ename": "AssertionError",
     "evalue": "you cant use diff project ID",
     "output_type": "error",
     "traceback": [
      "\u001b[1;31m---------------------------------------------------------------------------\u001b[0m",
      "\u001b[1;31mAssertionError\u001b[0m                            Traceback (most recent call last)",
      "Cell \u001b[1;32mIn[849], line 2\u001b[0m\n\u001b[0;32m      1\u001b[0m project_id \u001b[38;5;241m=\u001b[39m \u001b[38;5;124m\"\u001b[39m\u001b[38;5;124msadiq-pasha-1877\u001b[39m\u001b[38;5;124m\"\u001b[39m\n\u001b[1;32m----> 2\u001b[0m \u001b[38;5;28;01massert\u001b[39;00m project_id\u001b[38;5;241m==\u001b[39m\u001b[38;5;124m\"\u001b[39m\u001b[38;5;124mhello\u001b[39m\u001b[38;5;124m\"\u001b[39m, \u001b[38;5;124m\"\u001b[39m\u001b[38;5;124myou cant use diff project ID\u001b[39m\u001b[38;5;124m\"\u001b[39m\n",
      "\u001b[1;31mAssertionError\u001b[0m: you cant use diff project ID"
     ]
    }
   ],
   "source": [
    "project_id = \"sadiq-pasha-1877\"\n",
    "assert project_id==\"hello\", \"you cant use diff project ID\""
   ]
  },
  {
   "cell_type": "code",
   "execution_count": 853,
   "id": "0d7b169c-615b-44d1-a72b-040ac87474f3",
   "metadata": {},
   "outputs": [
    {
     "ename": "Exception",
     "evalue": "x should not exceed 5",
     "output_type": "error",
     "traceback": [
      "\u001b[1;31m---------------------------------------------------------------------------\u001b[0m",
      "\u001b[1;31mException\u001b[0m                                 Traceback (most recent call last)",
      "Cell \u001b[1;32mIn[853], line 3\u001b[0m\n\u001b[0;32m      1\u001b[0m x \u001b[38;5;241m=\u001b[39m \u001b[38;5;241m10\u001b[39m\n\u001b[0;32m      2\u001b[0m \u001b[38;5;28;01mif\u001b[39;00m x \u001b[38;5;241m>\u001b[39m \u001b[38;5;241m5\u001b[39m:\n\u001b[1;32m----> 3\u001b[0m     \u001b[38;5;28;01mraise\u001b[39;00m \u001b[38;5;167;01mException\u001b[39;00m (\u001b[38;5;124m\"\u001b[39m\u001b[38;5;124mx should not exceed 5\u001b[39m\u001b[38;5;124m\"\u001b[39m)\n",
      "\u001b[1;31mException\u001b[0m: x should not exceed 5"
     ]
    }
   ],
   "source": [
    "x = 10\n",
    "if x > 5:\n",
    "    raise Exception (\"x should not exceed 5\")"
   ]
  },
  {
   "cell_type": "code",
   "execution_count": null,
   "id": "a6b2e65e-3b36-4fd4-86d3-e72f0a391c74",
   "metadata": {},
   "outputs": [],
   "source": []
  },
  {
   "cell_type": "code",
   "execution_count": null,
   "id": "07b8b6fd-a9a7-4df3-8b53-b73a96b2b75a",
   "metadata": {},
   "outputs": [],
   "source": []
  },
  {
   "cell_type": "code",
   "execution_count": null,
   "id": "b7444d9b-03ca-40dd-842a-2ccce750fa8d",
   "metadata": {},
   "outputs": [],
   "source": []
  }
 ],
 "metadata": {
  "kernelspec": {
   "display_name": "Python 3 (ipykernel)",
   "language": "python",
   "name": "python3"
  },
  "language_info": {
   "codemirror_mode": {
    "name": "ipython",
    "version": 3
   },
   "file_extension": ".py",
   "mimetype": "text/x-python",
   "name": "python",
   "nbconvert_exporter": "python",
   "pygments_lexer": "ipython3",
   "version": "3.11.5"
  }
 },
 "nbformat": 4,
 "nbformat_minor": 5
}
