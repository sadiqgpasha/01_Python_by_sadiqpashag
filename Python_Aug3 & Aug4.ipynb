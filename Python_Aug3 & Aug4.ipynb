{
 "cells": [
  {
   "cell_type": "markdown",
   "id": "c44c2744-dec3-4da3-8f47-c31afaf9bd6b",
   "metadata": {},
   "source": [
    "#### Functions\n",
    "\n",
    "\n",
    "    Functions in Python provide organized, reusable and modular code to perform a set of specific actions. \n",
    "    Functions simplify the coding process, prevent redundant logic, and make the code easier to follow\n",
    "\n",
    "    Python has many built-in functions like print(), input(), len(). Besides built-ins you can also create your own\n",
    "    functions to do more specific jobs—these are called user-defined functions\n",
    "    \n",
    "    Using the def statement we define a function in python. single clause compound statement with the following syntax:\n",
    "    \n",
    "    def function_name(parameters):\n",
    "        statement(s)\n",
    "    \n",
    "    function_name is known as the identifier of the function"
   ]
  },
  {
   "cell_type": "raw",
   "id": "980ef67f-28bd-428b-ae9d-68e3be200e41",
   "metadata": {},
   "source": [
    "Functions\n",
    "variable scope\n",
    "function arguments\n",
    "Recursion\n",
    "closures\n",
    "Decorators\n"
   ]
  },
  {
   "cell_type": "code",
   "execution_count": 4,
   "id": "e0609c1c-ed17-44cb-b4d9-36208f1ce715",
   "metadata": {},
   "outputs": [
    {
     "name": "stdout",
     "output_type": "stream",
     "text": [
      "0\n",
      "1\n",
      "2\n",
      "3\n",
      "4\n",
      "5\n",
      "6\n",
      "7\n",
      "8\n",
      "9\n"
     ]
    }
   ],
   "source": [
    "for i in range(0,10):\n",
    "    print(i)"
   ]
  },
  {
   "cell_type": "code",
   "execution_count": 6,
   "id": "df4feaa2-6ec9-4c32-99a5-d405e9cc23e9",
   "metadata": {},
   "outputs": [
    {
     "name": "stdout",
     "output_type": "stream",
     "text": [
      "g\n",
      "o\n",
      "o\n",
      "d\n",
      " \n",
      "m\n",
      "o\n",
      "r\n",
      "n\n",
      "i\n",
      "n\n",
      "g\n"
     ]
    }
   ],
   "source": [
    "for i in \"good morning\":\n",
    "    print(i)"
   ]
  },
  {
   "cell_type": "code",
   "execution_count": 8,
   "id": "7fb0dfd3-8051-4b32-a349-e4c7033a1d38",
   "metadata": {},
   "outputs": [
    {
     "name": "stdout",
     "output_type": "stream",
     "text": [
      "0\n",
      "1\n",
      "2\n",
      "3\n",
      "4\n",
      "5\n",
      "6\n",
      "7\n",
      "8\n",
      "9\n"
     ]
    }
   ],
   "source": [
    "for i in list(range(0, 10)):\n",
    "    print(i)"
   ]
  },
  {
   "cell_type": "code",
   "execution_count": null,
   "id": "f11cfb56-fc1a-4d7d-b56a-1789b6839af7",
   "metadata": {},
   "outputs": [],
   "source": [
    "builtins - user defined functions\n",
    "\n",
    "print()\n",
    "ascii()\n",
    "dict()\n",
    "float()\n",
    "id()\n",
    "input()\n",
    "int()\n",
    "list()\n",
    "tuple()\n",
    "next()\n",
    "tuple()\n",
    "type()\n",
    "sum()\n",
    "set()\n",
    "range()\n",
    "reverse()"
   ]
  },
  {
   "cell_type": "code",
   "execution_count": 12,
   "id": "4ad3ce0f-6d2a-4242-92d6-ca18399fe74e",
   "metadata": {},
   "outputs": [
    {
     "data": {
      "text/plain": [
       "['False',\n",
       " 'None',\n",
       " 'True',\n",
       " 'and',\n",
       " 'as',\n",
       " 'assert',\n",
       " 'async',\n",
       " 'await',\n",
       " 'break',\n",
       " 'class',\n",
       " 'continue',\n",
       " 'def',\n",
       " 'del',\n",
       " 'elif',\n",
       " 'else',\n",
       " 'except',\n",
       " 'finally',\n",
       " 'for',\n",
       " 'from',\n",
       " 'global',\n",
       " 'if',\n",
       " 'import',\n",
       " 'in',\n",
       " 'is',\n",
       " 'lambda',\n",
       " 'nonlocal',\n",
       " 'not',\n",
       " 'or',\n",
       " 'pass',\n",
       " 'raise',\n",
       " 'return',\n",
       " 'try',\n",
       " 'while',\n",
       " 'with',\n",
       " 'yield']"
      ]
     },
     "execution_count": 12,
     "metadata": {},
     "output_type": "execute_result"
    }
   ],
   "source": [
    "import keyword\n",
    "keyword.kwlist"
   ]
  },
  {
   "cell_type": "code",
   "execution_count": 14,
   "id": "404c5c3f-2986-4626-9be1-0321cc1364ad",
   "metadata": {},
   "outputs": [],
   "source": [
    "def greet():\n",
    "    return \"good morning\""
   ]
  },
  {
   "cell_type": "code",
   "execution_count": 16,
   "id": "91f4edcc-6719-4848-b8c4-54cc2daa3835",
   "metadata": {},
   "outputs": [
    {
     "data": {
      "text/plain": [
       "'good morning'"
      ]
     },
     "execution_count": 16,
     "metadata": {},
     "output_type": "execute_result"
    }
   ],
   "source": [
    "greet()"
   ]
  },
  {
   "cell_type": "code",
   "execution_count": 26,
   "id": "bdff874d-4a74-437a-b643-a55eff95f2f8",
   "metadata": {},
   "outputs": [],
   "source": [
    "def greet(person):\n",
    "    return f\"good morning {person}\""
   ]
  },
  {
   "cell_type": "code",
   "execution_count": 40,
   "id": "7e009c9c-5680-4874-9e1c-0ce2f3790ec0",
   "metadata": {},
   "outputs": [
    {
     "data": {
      "text/plain": [
       "(5, 'statistics')"
      ]
     },
     "execution_count": 40,
     "metadata": {},
     "output_type": "execute_result"
    }
   ],
   "source": [
    "subject = \"statistics\"\n",
    "var = 5\n",
    "\n",
    "var, subject"
   ]
  },
  {
   "cell_type": "code",
   "execution_count": 42,
   "id": "213cdde1-faef-4216-b327-78605edd4738",
   "metadata": {},
   "outputs": [
    {
     "ename": "SyntaxError",
     "evalue": "cannot assign to literal here. Maybe you meant '==' instead of '='? (2968832325.py, line 1)",
     "output_type": "error",
     "traceback": [
      "\u001b[1;36m  Cell \u001b[1;32mIn[42], line 1\u001b[1;36m\u001b[0m\n\u001b[1;33m    'subject' = 'statistics'\u001b[0m\n\u001b[1;37m    ^\u001b[0m\n\u001b[1;31mSyntaxError\u001b[0m\u001b[1;31m:\u001b[0m cannot assign to literal here. Maybe you meant '==' instead of '='?\n"
     ]
    }
   ],
   "source": [
    "subject = 'statistics'"
   ]
  },
  {
   "cell_type": "code",
   "execution_count": 28,
   "id": "3ef5c6c4-7531-4d15-b171-b1bf772e743b",
   "metadata": {},
   "outputs": [
    {
     "data": {
      "text/plain": [
       "'good morning swapnil'"
      ]
     },
     "execution_count": 28,
     "metadata": {},
     "output_type": "execute_result"
    }
   ],
   "source": [
    "greet('swapnil')"
   ]
  },
  {
   "cell_type": "code",
   "execution_count": 30,
   "id": "a543c3ab-58e5-4110-a9f7-4f4dad216b3e",
   "metadata": {},
   "outputs": [
    {
     "data": {
      "text/plain": [
       "'good morning mufaris'"
      ]
     },
     "execution_count": 30,
     "metadata": {},
     "output_type": "execute_result"
    }
   ],
   "source": [
    "greet ('mufaris')"
   ]
  },
  {
   "cell_type": "code",
   "execution_count": 32,
   "id": "5f92c38c-ae91-4059-952c-14f9aed5715f",
   "metadata": {},
   "outputs": [
    {
     "data": {
      "text/plain": [
       "'good morning yaseen'"
      ]
     },
     "execution_count": 32,
     "metadata": {},
     "output_type": "execute_result"
    }
   ],
   "source": [
    "greet('yaseen')"
   ]
  },
  {
   "cell_type": "code",
   "execution_count": 34,
   "id": "655a2fa8-4890-4e2b-8dca-76a7bcb27dba",
   "metadata": {},
   "outputs": [
    {
     "data": {
      "text/plain": [
       "'good morning 2'"
      ]
     },
     "execution_count": 34,
     "metadata": {},
     "output_type": "execute_result"
    }
   ],
   "source": [
    "greet(2)"
   ]
  },
  {
   "cell_type": "code",
   "execution_count": 36,
   "id": "b96b7be3-d1a8-4883-a494-618d98392fa5",
   "metadata": {},
   "outputs": [
    {
     "data": {
      "text/plain": [
       "5"
      ]
     },
     "execution_count": 36,
     "metadata": {},
     "output_type": "execute_result"
    }
   ],
   "source": [
    "def addition(a, b): # individual parameters\n",
    "    return a+b\n",
    "\n",
    "addition(2, 3)"
   ]
  },
  {
   "cell_type": "code",
   "execution_count": 38,
   "id": "28c5a588-758c-4eae-8da0-c865906beac6",
   "metadata": {},
   "outputs": [
    {
     "ename": "TypeError",
     "evalue": "addition() takes 2 positional arguments but 3 were given",
     "output_type": "error",
     "traceback": [
      "\u001b[1;31m---------------------------------------------------------------------------\u001b[0m",
      "\u001b[1;31mTypeError\u001b[0m                                 Traceback (most recent call last)",
      "Cell \u001b[1;32mIn[38], line 1\u001b[0m\n\u001b[1;32m----> 1\u001b[0m addition(\u001b[38;5;241m3\u001b[39m, \u001b[38;5;241m5\u001b[39m, \u001b[38;5;241m6\u001b[39m)\n",
      "\u001b[1;31mTypeError\u001b[0m: addition() takes 2 positional arguments but 3 were given"
     ]
    }
   ],
   "source": [
    "addition(3, 5, 6)"
   ]
  },
  {
   "cell_type": "code",
   "execution_count": null,
   "id": "081d43c6-6d60-4b5d-894e-202e58121d2f",
   "metadata": {},
   "outputs": [],
   "source": [
    "for i in list(range(0, 10)):\n",
    "    print(i)"
   ]
  },
  {
   "cell_type": "code",
   "execution_count": 44,
   "id": "63892584-f231-4c01-9d87-2cad49a611fe",
   "metadata": {},
   "outputs": [],
   "source": [
    "def printer(iterable):\n",
    "    for i in iterable:\n",
    "        print(i)"
   ]
  },
  {
   "cell_type": "code",
   "execution_count": 46,
   "id": "11d07b20-284d-4828-9ea8-0a61029d0d89",
   "metadata": {},
   "outputs": [
    {
     "name": "stdout",
     "output_type": "stream",
     "text": [
      "g\n",
      "o\n",
      "o\n",
      "d\n",
      " \n",
      "m\n",
      "o\n",
      "r\n",
      "n\n",
      "i\n",
      "n\n",
      "g\n"
     ]
    }
   ],
   "source": [
    "printer('good morning')"
   ]
  },
  {
   "cell_type": "code",
   "execution_count": 48,
   "id": "8d9a7cc3-607f-4241-80e1-f0b3abf94c0c",
   "metadata": {},
   "outputs": [
    {
     "name": "stdout",
     "output_type": "stream",
     "text": [
      "0\n",
      "1\n",
      "2\n",
      "3\n",
      "4\n",
      "5\n",
      "6\n",
      "7\n",
      "8\n",
      "9\n"
     ]
    }
   ],
   "source": [
    "printer(list(range(10)))"
   ]
  },
  {
   "cell_type": "code",
   "execution_count": 50,
   "id": "174245be-fe50-48c7-a8a3-b9446f8b496d",
   "metadata": {},
   "outputs": [
    {
     "name": "stdout",
     "output_type": "stream",
     "text": [
      "0\n",
      "1\n",
      "2\n",
      "3\n",
      "4\n",
      "5\n",
      "6\n",
      "7\n",
      "8\n",
      "9\n"
     ]
    }
   ],
   "source": [
    "printer(range(10))"
   ]
  },
  {
   "cell_type": "code",
   "execution_count": 52,
   "id": "b3b9fc09-af7b-46a4-bfce-a214774e3386",
   "metadata": {},
   "outputs": [],
   "source": [
    "def addition(a, b):\n",
    "    return a+b"
   ]
  },
  {
   "cell_type": "code",
   "execution_count": 54,
   "id": "4b2f7aa5-3caf-4295-b8a8-c7662143d586",
   "metadata": {},
   "outputs": [
    {
     "data": {
      "text/plain": [
       "5"
      ]
     },
     "execution_count": 54,
     "metadata": {},
     "output_type": "execute_result"
    }
   ],
   "source": [
    "addition(2, 3)"
   ]
  },
  {
   "cell_type": "code",
   "execution_count": 56,
   "id": "2325fc72-6d6b-4ae1-a92c-6bf5dcba2090",
   "metadata": {},
   "outputs": [
    {
     "ename": "TypeError",
     "evalue": "addition() takes 2 positional arguments but 3 were given",
     "output_type": "error",
     "traceback": [
      "\u001b[1;31m---------------------------------------------------------------------------\u001b[0m",
      "\u001b[1;31mTypeError\u001b[0m                                 Traceback (most recent call last)",
      "Cell \u001b[1;32mIn[56], line 1\u001b[0m\n\u001b[1;32m----> 1\u001b[0m addition(\u001b[38;5;241m2\u001b[39m, \u001b[38;5;241m3\u001b[39m, \u001b[38;5;241m4\u001b[39m)\n",
      "\u001b[1;31mTypeError\u001b[0m: addition() takes 2 positional arguments but 3 were given"
     ]
    }
   ],
   "source": [
    "addition(2, 3, 4)"
   ]
  },
  {
   "cell_type": "code",
   "execution_count": 96,
   "id": "950c2245-899f-4b66-99f7-a5a86a7973bb",
   "metadata": {},
   "outputs": [],
   "source": [
    "def addition(*args):  #*args\n",
    "    total = 0\n",
    "    for num in args:\n",
    "        total += num\n",
    "    return total"
   ]
  },
  {
   "cell_type": "code",
   "execution_count": 98,
   "id": "4cec7f6b-36b7-4999-8770-5fafcb723a53",
   "metadata": {},
   "outputs": [
    {
     "data": {
      "text/plain": [
       "5"
      ]
     },
     "execution_count": 98,
     "metadata": {},
     "output_type": "execute_result"
    }
   ],
   "source": [
    "addition(2, 3)"
   ]
  },
  {
   "cell_type": "code",
   "execution_count": 100,
   "id": "767eab07-9c74-4e42-9489-14b2ec8eb76c",
   "metadata": {},
   "outputs": [
    {
     "data": {
      "text/plain": [
       "9"
      ]
     },
     "execution_count": 100,
     "metadata": {},
     "output_type": "execute_result"
    }
   ],
   "source": [
    "addition(2 3, 4)"
   ]
  },
  {
   "cell_type": "code",
   "execution_count": 102,
   "id": "5db0bfc1-4741-493b-9aff-37eccb471a3e",
   "metadata": {},
   "outputs": [
    {
     "data": {
      "text/plain": [
       "65"
      ]
     },
     "execution_count": 102,
     "metadata": {},
     "output_type": "execute_result"
    }
   ],
   "source": [
    "addition(2, 3, 4, 11, 14, 15, 16)"
   ]
  },
  {
   "cell_type": "code",
   "execution_count": 104,
   "id": "2855d053-fb03-4e28-b475-f5e905cbf633",
   "metadata": {},
   "outputs": [],
   "source": [
    "def addition(*args):  #*args\n",
    "    total = ''\n",
    "    for num in args:\n",
    "        total += num\n",
    "    return total"
   ]
  },
  {
   "cell_type": "code",
   "execution_count": 108,
   "id": "3cc80d4d-69c7-4d44-9426-87281d35e750",
   "metadata": {},
   "outputs": [
    {
     "data": {
      "text/plain": [
       "'goodmorning'"
      ]
     },
     "execution_count": 108,
     "metadata": {},
     "output_type": "execute_result"
    }
   ],
   "source": [
    "addition('good', 'morning')"
   ]
  },
  {
   "cell_type": "code",
   "execution_count": null,
   "id": "85b76e81-2605-486d-8e18-9ece9322863a",
   "metadata": {},
   "outputs": [],
   "source": []
  },
  {
   "cell_type": "code",
   "execution_count": 110,
   "id": "312a2b6a-0c47-4f96-be24-0cfb94835544",
   "metadata": {},
   "outputs": [],
   "source": [
    "def addition(*args):  #*args\n",
    "    total = 0\n",
    "    for num in args:\n",
    "        total += num\n",
    "    return total"
   ]
  },
  {
   "cell_type": "code",
   "execution_count": 114,
   "id": "6751ceb7-6257-46ee-987d-6346e53d2f2f",
   "metadata": {},
   "outputs": [
    {
     "data": {
      "text/plain": [
       "164"
      ]
     },
     "execution_count": 114,
     "metadata": {},
     "output_type": "execute_result"
    }
   ],
   "source": [
    "addition(1, 2, 43, 5, 7, 8, 98)"
   ]
  },
  {
   "cell_type": "code",
   "execution_count": null,
   "id": "79dd2631-6d23-45d9-b57b-b427a646f3e4",
   "metadata": {},
   "outputs": [],
   "source": [
    "#addition(**kwargs)  #keyword arguments - key:value pair"
   ]
  },
  {
   "cell_type": "code",
   "execution_count": 126,
   "id": "9bcc2875-4712-4bcd-aa6b-77eb77d49288",
   "metadata": {},
   "outputs": [],
   "source": [
    "def addition(**kwargs):  #*args\n",
    "    for j in kwargs.values():\n",
    "        print( j)"
   ]
  },
  {
   "cell_type": "code",
   "execution_count": 128,
   "id": "f82bfa83-e6e0-40d5-913f-01052b001011",
   "metadata": {},
   "outputs": [
    {
     "name": "stdout",
     "output_type": "stream",
     "text": [
      "2\n",
      "3\n",
      "4\n"
     ]
    }
   ],
   "source": [
    "addition(a=2, b=3, c=4)"
   ]
  },
  {
   "cell_type": "code",
   "execution_count": 134,
   "id": "5757c290-e265-46ca-80cc-c24ce7515834",
   "metadata": {},
   "outputs": [],
   "source": [
    "def addition(*args, **kwargs):  # if *args are provided then  **kwargs are optional\n",
    "    total = 0\n",
    "    for i in args:\n",
    "        total = total+i\n",
    "    for j in kwargs.values():\n",
    "        total = total+j\n",
    "    return total"
   ]
  },
  {
   "cell_type": "code",
   "execution_count": 144,
   "id": "f4baf03c-1bc3-4854-982c-e4ef95720659",
   "metadata": {},
   "outputs": [
    {
     "data": {
      "text/plain": [
       "14"
      ]
     },
     "execution_count": 144,
     "metadata": {},
     "output_type": "execute_result"
    }
   ],
   "source": [
    "addition(2, 3, 4, 5)"
   ]
  },
  {
   "cell_type": "code",
   "execution_count": 140,
   "id": "79b1ca86-6c55-47ba-95df-4ccebc798d45",
   "metadata": {},
   "outputs": [
    {
     "data": {
      "text/plain": [
       "2443"
      ]
     },
     "execution_count": 140,
     "metadata": {},
     "output_type": "execute_result"
    }
   ],
   "source": [
    "addition(2, 4, 65, 677,23, 443,55,76, 8 ,7 , 56, 46, 5, 876, 6, 86, 8 )"
   ]
  },
  {
   "cell_type": "code",
   "execution_count": 148,
   "id": "5b23bf39-bad0-4137-8c04-e0f549ce5ccd",
   "metadata": {},
   "outputs": [
    {
     "data": {
      "text/plain": [
       "3543"
      ]
     },
     "execution_count": 148,
     "metadata": {},
     "output_type": "execute_result"
    }
   ],
   "source": [
    "addition(2, 4, 65, 677,23, 443,55,76,8 ,7 ,56,46, 5,876, 6,86,8, a=100, b=200, c=300, d = 500 )"
   ]
  },
  {
   "cell_type": "code",
   "execution_count": 154,
   "id": "bc5bd7bb-d6d1-48d4-8bf7-387df98de2aa",
   "metadata": {},
   "outputs": [
    {
     "data": {
      "text/plain": [
       "3543"
      ]
     },
     "execution_count": 154,
     "metadata": {},
     "output_type": "execute_result"
    }
   ],
   "source": [
    "addition( 2, 4, 65, 677,23, 443,55,76,8 ,7 ,56,46, 5,876, 6,86,8, a=100, b=200, c=300, d = 500 )"
   ]
  },
  {
   "cell_type": "code",
   "execution_count": 168,
   "id": "1a93e6d6-11f7-4202-9726-aa2fd6ec72f3",
   "metadata": {},
   "outputs": [],
   "source": [
    "def simple_arg(*args):\n",
    "    print(args)"
   ]
  },
  {
   "cell_type": "code",
   "execution_count": 170,
   "id": "c3151db2-7866-4312-aede-6d2a1d0ec26a",
   "metadata": {},
   "outputs": [
    {
     "name": "stdout",
     "output_type": "stream",
     "text": [
      "(2, 3, 4, 5)\n"
     ]
    }
   ],
   "source": [
    "simple_arg(2, 3, 4, 5)"
   ]
  },
  {
   "cell_type": "code",
   "execution_count": 164,
   "id": "b322e7c5-aaa3-4fcb-a64a-0736e3650821",
   "metadata": {},
   "outputs": [],
   "source": [
    "def simple_arg(**args):  #kwargs  - PEP-8\n",
    "    print(args.items())"
   ]
  },
  {
   "cell_type": "code",
   "execution_count": 166,
   "id": "3bc1c23e-e538-44c9-9628-2596d13bfe65",
   "metadata": {},
   "outputs": [
    {
     "name": "stdout",
     "output_type": "stream",
     "text": [
      "dict_items([('a', 2), ('b', 3), ('c', 4), ('d', 5)])\n"
     ]
    }
   ],
   "source": [
    "simple_arg(a=2, b=3, c=4, d=5)"
   ]
  },
  {
   "cell_type": "markdown",
   "id": "64832ded-eb0f-4323-a78b-c51fb509494d",
   "metadata": {},
   "source": [
    "#### Variable scope"
   ]
  },
  {
   "cell_type": "raw",
   "id": "1236bf90-0bbc-4f8e-8c32-43b7ecdeffff",
   "metadata": {},
   "source": [
    "Rules - By default all variables defined outside functions and classes are global. no need to provide global keyword\n",
    "\n",
    "global, nonlocal"
   ]
  },
  {
   "cell_type": "code",
   "execution_count": 424,
   "id": "858d64db-e0a4-4d0b-9d78-8d84e1d74d6b",
   "metadata": {},
   "outputs": [],
   "source": [
    "x = 10  # By default x is global if defined outside function\n",
    "\n",
    "def function1():\n",
    "    Z = 7\n",
    "    print(x)\n",
    "    print(Z)\n",
    "\n",
    "def function2():\n",
    "    print(x)"
   ]
  },
  {
   "cell_type": "code",
   "execution_count": 426,
   "id": "c41828db-3f78-4c37-a19d-67ae96ae3fce",
   "metadata": {},
   "outputs": [
    {
     "name": "stdout",
     "output_type": "stream",
     "text": [
      "10\n",
      "7\n",
      "10\n"
     ]
    }
   ],
   "source": [
    "function1()\n",
    "function2()"
   ]
  },
  {
   "cell_type": "code",
   "execution_count": 428,
   "id": "9d241f89-34ed-43d5-827c-fd2651ee3b22",
   "metadata": {},
   "outputs": [
    {
     "ename": "NameError",
     "evalue": "name 'Z' is not defined",
     "output_type": "error",
     "traceback": [
      "\u001b[1;31m---------------------------------------------------------------------------\u001b[0m",
      "\u001b[1;31mNameError\u001b[0m                                 Traceback (most recent call last)",
      "Cell \u001b[1;32mIn[428], line 1\u001b[0m\n\u001b[1;32m----> 1\u001b[0m \u001b[38;5;28mprint\u001b[39m(Z)\n",
      "\u001b[1;31mNameError\u001b[0m: name 'Z' is not defined"
     ]
    }
   ],
   "source": [
    "print(Z)  # y is local to function1 hence cannot be accesses outside function"
   ]
  },
  {
   "cell_type": "code",
   "execution_count": 430,
   "id": "4812e5b1-4df1-4d47-94ef-72cc91824f40",
   "metadata": {},
   "outputs": [
    {
     "name": "stdout",
     "output_type": "stream",
     "text": [
      "10\n",
      "7\n"
     ]
    }
   ],
   "source": [
    "def function1():\n",
    "    global z\n",
    "    z = 7\n",
    "    print(x)\n",
    "    print(z)\n",
    "\n",
    "def function2():\n",
    "    print(x)\n",
    "\n",
    "function1()\n"
   ]
  },
  {
   "cell_type": "code",
   "execution_count": 432,
   "id": "ca67648e-1515-4c43-b444-efb7351ca331",
   "metadata": {},
   "outputs": [
    {
     "name": "stdout",
     "output_type": "stream",
     "text": [
      "7\n"
     ]
    }
   ],
   "source": [
    "print(z)"
   ]
  },
  {
   "cell_type": "code",
   "execution_count": 434,
   "id": "0a221b69-d101-4e31-bbf7-f7a965a1b70f",
   "metadata": {},
   "outputs": [
    {
     "name": "stdout",
     "output_type": "stream",
     "text": [
      "Python is fantastic\n"
     ]
    }
   ],
   "source": [
    "def myfunc():\n",
    "  global x\n",
    "  x = \"fantastic\"\n",
    "\n",
    "myfunc()\n",
    "\n",
    "print(\"Python is \" + x)"
   ]
  },
  {
   "cell_type": "markdown",
   "id": "e2c1ab32-fcd0-4b5d-b548-c08ef12f6fe8",
   "metadata": {},
   "source": [
    "##### nonlocal"
   ]
  },
  {
   "cell_type": "code",
   "execution_count": 479,
   "id": "7fd364c2-d94e-4126-8870-d2c7cd8a008a",
   "metadata": {},
   "outputs": [],
   "source": [
    "def myfunc1():\n",
    "    x = \"john\"\n",
    "    \n",
    "    def myfunc2():\n",
    "        nonlocal x\n",
    "        x = \"hello\"\n",
    "    myfunc2()\n",
    "    return x\n",
    "    "
   ]
  },
  {
   "cell_type": "code",
   "execution_count": 481,
   "id": "affcb76f-16ea-43e3-b75c-8710d0c9dbc1",
   "metadata": {},
   "outputs": [
    {
     "data": {
      "text/plain": [
       "'hello'"
      ]
     },
     "execution_count": 481,
     "metadata": {},
     "output_type": "execute_result"
    }
   ],
   "source": [
    "myfunc1()"
   ]
  },
  {
   "cell_type": "code",
   "execution_count": 441,
   "id": "b554996d-b90d-4223-b975-13ab4363be4d",
   "metadata": {},
   "outputs": [],
   "source": [
    "def add():\n",
    "    a = 2\n",
    "    return a+a"
   ]
  },
  {
   "cell_type": "code",
   "execution_count": 443,
   "id": "1764f0a3-5546-4c45-8e78-bbd81ccadc86",
   "metadata": {},
   "outputs": [
    {
     "data": {
      "text/plain": [
       "4"
      ]
     },
     "execution_count": 443,
     "metadata": {},
     "output_type": "execute_result"
    }
   ],
   "source": [
    "add()"
   ]
  },
  {
   "cell_type": "code",
   "execution_count": 451,
   "id": "c07bc1ab-1574-4643-9e7a-fe13bb5cc34d",
   "metadata": {},
   "outputs": [
    {
     "name": "stdout",
     "output_type": "stream",
     "text": [
      "2\n"
     ]
    },
    {
     "data": {
      "text/plain": [
       "4"
      ]
     },
     "execution_count": 451,
     "metadata": {},
     "output_type": "execute_result"
    }
   ],
   "source": [
    "def add():\n",
    "    a = 2\n",
    "    print(a)\n",
    "    \n",
    "    def addition():\n",
    "        a = 4\n",
    "        return a\n",
    "\n",
    "add()\n",
    "addition()"
   ]
  },
  {
   "cell_type": "code",
   "execution_count": 447,
   "id": "5dd29f2a-dc4f-473c-8dc7-8a763b7d46a0",
   "metadata": {},
   "outputs": [],
   "source": [
    "def addition():\n",
    "    a = 4\n",
    "    return a"
   ]
  },
  {
   "cell_type": "code",
   "execution_count": 449,
   "id": "0d8ed49e-8a02-4097-b026-285d6cd70ad3",
   "metadata": {},
   "outputs": [
    {
     "data": {
      "text/plain": [
       "4"
      ]
     },
     "execution_count": 449,
     "metadata": {},
     "output_type": "execute_result"
    }
   ],
   "source": [
    "addition()"
   ]
  },
  {
   "cell_type": "code",
   "execution_count": 487,
   "id": "4fb0af9a-ceba-4015-80f2-f3aac6e5d948",
   "metadata": {},
   "outputs": [],
   "source": [
    "def add(b=0):\n",
    "    b = 2\n",
    "    \n",
    "    def addition():\n",
    "        nonlocal b\n",
    "        b = 4\n",
    "    addition()\n",
    "    return b\n"
   ]
  },
  {
   "cell_type": "code",
   "execution_count": 489,
   "id": "054466de-98aa-4ca3-bfca-dfb06dc426e6",
   "metadata": {},
   "outputs": [
    {
     "data": {
      "text/plain": [
       "(4, 4)"
      ]
     },
     "execution_count": 489,
     "metadata": {},
     "output_type": "execute_result"
    }
   ],
   "source": [
    "add(), addition()"
   ]
  },
  {
   "cell_type": "code",
   "execution_count": null,
   "id": "2368b8df-0983-4148-ac1d-1ae6eb09c6ce",
   "metadata": {},
   "outputs": [],
   "source": [
    "def get_files():\n",
    "    count \n",
    "    with open(\".\\some_dir\\some_file.txt\", 'rb') as f:\n",
    "        count=0\n",
    "        pass\n",
    "        def replace_items():\n",
    "            pass\n",
    "            nonlocal count\n",
    "            return count\n",
    "    return count\n",
    "\n",
    "var = get_files()"
   ]
  },
  {
   "cell_type": "markdown",
   "id": "5bccf32d-9514-42cb-902c-ea10ba96898c",
   "metadata": {},
   "source": [
    "#### Decorator"
   ]
  },
  {
   "cell_type": "code",
   "execution_count": 532,
   "id": "2825ebf6-0ebd-4097-bc14-9cbbb5a9b2f1",
   "metadata": {},
   "outputs": [],
   "source": [
    "def divide(a, b):\n",
    "    return a/b"
   ]
  },
  {
   "cell_type": "code",
   "execution_count": 534,
   "id": "ae949c8d-37c2-4491-86be-6dd65aab4703",
   "metadata": {},
   "outputs": [
    {
     "data": {
      "text/plain": [
       "2.0"
      ]
     },
     "execution_count": 534,
     "metadata": {},
     "output_type": "execute_result"
    }
   ],
   "source": [
    "divide(4, 2)"
   ]
  },
  {
   "cell_type": "code",
   "execution_count": 536,
   "id": "b7d7e4dd-f4b3-42e9-b70e-0fbfb63234a4",
   "metadata": {},
   "outputs": [
    {
     "ename": "ZeroDivisionError",
     "evalue": "division by zero",
     "output_type": "error",
     "traceback": [
      "\u001b[1;31m---------------------------------------------------------------------------\u001b[0m",
      "\u001b[1;31mZeroDivisionError\u001b[0m                         Traceback (most recent call last)",
      "Cell \u001b[1;32mIn[536], line 1\u001b[0m\n\u001b[1;32m----> 1\u001b[0m divide(\u001b[38;5;241m4\u001b[39m, \u001b[38;5;241m0\u001b[39m)\n",
      "Cell \u001b[1;32mIn[532], line 2\u001b[0m, in \u001b[0;36mdivide\u001b[1;34m(a, b)\u001b[0m\n\u001b[0;32m      1\u001b[0m \u001b[38;5;28;01mdef\u001b[39;00m \u001b[38;5;21mdivide\u001b[39m(a, b):\n\u001b[1;32m----> 2\u001b[0m     \u001b[38;5;28;01mreturn\u001b[39;00m a\u001b[38;5;241m/\u001b[39mb\n",
      "\u001b[1;31mZeroDivisionError\u001b[0m: division by zero"
     ]
    }
   ],
   "source": [
    "divide(4, 0)"
   ]
  },
  {
   "cell_type": "code",
   "execution_count": 562,
   "id": "1c18e706-49eb-4e3a-8976-36b5b08b9cfd",
   "metadata": {},
   "outputs": [],
   "source": [
    "def smart_divide(func):\n",
    "    def inner(a, b):\n",
    "        if b == 0:\n",
    "            print(\" cannot divide by 0\")\n",
    "            return\n",
    "\n",
    "        return func(a, b)\n",
    "    return inner"
   ]
  },
  {
   "cell_type": "code",
   "execution_count": 564,
   "id": "25cf6f4d-a9eb-4a6d-a4da-96361a79d6d6",
   "metadata": {},
   "outputs": [],
   "source": [
    "@smart_divide\n",
    "def divide(a, b):\n",
    "    print(a/b)"
   ]
  },
  {
   "cell_type": "code",
   "execution_count": 566,
   "id": "6bbf2473-c4c1-43b7-8010-4be0c0885961",
   "metadata": {},
   "outputs": [
    {
     "name": "stdout",
     "output_type": "stream",
     "text": [
      "0.4\n"
     ]
    }
   ],
   "source": [
    "divide(2,5)"
   ]
  },
  {
   "cell_type": "code",
   "execution_count": 568,
   "id": "45d7c09e-0aae-449d-8985-b9eae23d5011",
   "metadata": {},
   "outputs": [
    {
     "name": "stdout",
     "output_type": "stream",
     "text": [
      " cannot divide by 0\n"
     ]
    }
   ],
   "source": [
    "divide(2,0)"
   ]
  },
  {
   "cell_type": "markdown",
   "id": "45484396-53ca-405c-91bb-b1e711def200",
   "metadata": {},
   "source": [
    "##### lambda function"
   ]
  },
  {
   "cell_type": "code",
   "execution_count": null,
   "id": "c73c38e7-e37c-4cad-a7aa-cb125b4180c0",
   "metadata": {},
   "outputs": [],
   "source": [
    "def add(*args):\n",
    "    total = 0\n",
    "    for num in args:\n",
    "        total += num\n",
    "        return total"
   ]
  },
  {
   "cell_type": "code",
   "execution_count": 573,
   "id": "4413ba96-0093-48b0-8b3f-a60bbc96d5ba",
   "metadata": {},
   "outputs": [],
   "source": [
    "def hello(person):\n",
    "    print(f\"hello {person}\")"
   ]
  },
  {
   "cell_type": "code",
   "execution_count": 575,
   "id": "11cc3225-6290-4da3-bc9d-b92e89713289",
   "metadata": {},
   "outputs": [
    {
     "name": "stdout",
     "output_type": "stream",
     "text": [
      "hello world\n"
     ]
    }
   ],
   "source": [
    "hello('Alice')"
   ]
  },
  {
   "cell_type": "code",
   "execution_count": 579,
   "id": "cae78abe-cffa-4b27-919a-e59d4b287f32",
   "metadata": {},
   "outputs": [],
   "source": [
    "var = lambda : print('hello world')"
   ]
  },
  {
   "cell_type": "code",
   "execution_count": 583,
   "id": "062a8054-d350-443f-84dd-677a7c21b216",
   "metadata": {},
   "outputs": [
    {
     "name": "stdout",
     "output_type": "stream",
     "text": [
      "hello world\n"
     ]
    }
   ],
   "source": [
    "var()"
   ]
  },
  {
   "cell_type": "code",
   "execution_count": 587,
   "id": "342af6c5-ac96-4120-b221-01742931134c",
   "metadata": {},
   "outputs": [
    {
     "name": "stdout",
     "output_type": "stream",
     "text": [
      "hello Alice\n"
     ]
    }
   ],
   "source": [
    "user = lambda name : print('hello', name)\n",
    "user('Alice')"
   ]
  },
  {
   "cell_type": "code",
   "execution_count": 591,
   "id": "66398aa8-3d4c-4088-b782-a22635e8d37e",
   "metadata": {},
   "outputs": [
    {
     "data": {
      "text/plain": [
       "['gg', 'oo', 'oo', 'dd', '  ', 'mm', 'oo', 'rr', 'nn', 'ii', 'nn', 'gg']"
      ]
     },
     "execution_count": 591,
     "metadata": {},
     "output_type": "execute_result"
    }
   ],
   "source": [
    "[i+i for i in \"good morning\"]"
   ]
  },
  {
   "cell_type": "code",
   "execution_count": 595,
   "id": "190a5706-d8d6-44ff-930d-4c6c5b178d93",
   "metadata": {},
   "outputs": [
    {
     "data": {
      "text/plain": [
       "[0, 2, 4, 6, 8]"
      ]
     },
     "execution_count": 595,
     "metadata": {},
     "output_type": "execute_result"
    }
   ],
   "source": [
    "[(lambda x: x+x) (x) for x in range(0,5)]"
   ]
  },
  {
   "cell_type": "code",
   "execution_count": 597,
   "id": "6bf0b073-26ae-45a9-b86a-20b0b1d5e55b",
   "metadata": {},
   "outputs": [
    {
     "data": {
      "text/plain": [
       "[0, 2, 4, 6, 8]"
      ]
     },
     "execution_count": 597,
     "metadata": {},
     "output_type": "execute_result"
    }
   ],
   "source": [
    "[x+x for x in range(0,5)]"
   ]
  },
  {
   "cell_type": "code",
   "execution_count": 601,
   "id": "6ae81169-d928-4a4d-8a72-938234610629",
   "metadata": {},
   "outputs": [],
   "source": [
    "var1 = lambda name, age : print('hello', name, age)"
   ]
  },
  {
   "cell_type": "code",
   "execution_count": 603,
   "id": "b5988790-0c6d-404e-af6e-b47d44165931",
   "metadata": {},
   "outputs": [
    {
     "name": "stdout",
     "output_type": "stream",
     "text": [
      "hello Alice 20\n"
     ]
    }
   ],
   "source": [
    "var1('Alice', 20)"
   ]
  },
  {
   "cell_type": "code",
   "execution_count": null,
   "id": "5a4f8210-889e-4776-b00b-712fedbc394c",
   "metadata": {},
   "outputs": [],
   "source": []
  },
  {
   "cell_type": "markdown",
   "id": "0ffa89a9-c5b5-491f-b20b-4344e68b48b9",
   "metadata": {},
   "source": [
    "##### Closures"
   ]
  },
  {
   "cell_type": "code",
   "execution_count": 605,
   "id": "997cf8ae-3353-478b-b73b-f2c0cf504217",
   "metadata": {},
   "outputs": [],
   "source": [
    "def multiply(n):\n",
    "    def multiplier(x):\n",
    "        return x * n\n",
    "    return multiplier"
   ]
  },
  {
   "cell_type": "code",
   "execution_count": 613,
   "id": "180884a1-ddef-45b1-8b9c-306cfd218a6d",
   "metadata": {},
   "outputs": [
    {
     "data": {
      "text/plain": [
       "<function __main__.multiply.<locals>.multiplier(x)>"
      ]
     },
     "execution_count": 613,
     "metadata": {},
     "output_type": "execute_result"
    }
   ],
   "source": [
    "multiply(3)"
   ]
  },
  {
   "cell_type": "code",
   "execution_count": 609,
   "id": "0cef0614-c7a1-462b-94f6-340dad00246e",
   "metadata": {},
   "outputs": [],
   "source": [
    "var3 = multiply(3)\n",
    "var5 = multiply(5)"
   ]
  },
  {
   "cell_type": "code",
   "execution_count": 611,
   "id": "9f5c57b4-fc29-411a-a5ef-180a79f3a6aa",
   "metadata": {},
   "outputs": [
    {
     "data": {
      "text/plain": [
       "27"
      ]
     },
     "execution_count": 611,
     "metadata": {},
     "output_type": "execute_result"
    }
   ],
   "source": [
    "var3(9)"
   ]
  },
  {
   "cell_type": "code",
   "execution_count": 615,
   "id": "d15755c0-80ea-4318-8626-1eaebb20ff75",
   "metadata": {},
   "outputs": [
    {
     "data": {
      "text/plain": [
       "10"
      ]
     },
     "execution_count": 615,
     "metadata": {},
     "output_type": "execute_result"
    }
   ],
   "source": [
    "var5(2)"
   ]
  },
  {
   "cell_type": "code",
   "execution_count": 617,
   "id": "cd740599-e667-4a2f-8040-354f768b2a8a",
   "metadata": {},
   "outputs": [
    {
     "data": {
      "text/plain": [
       "30"
      ]
     },
     "execution_count": 617,
     "metadata": {},
     "output_type": "execute_result"
    }
   ],
   "source": [
    "var5(var3(2))"
   ]
  },
  {
   "cell_type": "code",
   "execution_count": 619,
   "id": "936a4c29-5227-4534-96d1-a78361263f56",
   "metadata": {},
   "outputs": [
    {
     "data": {
      "text/plain": [
       "['__annotations__',\n",
       " '__builtins__',\n",
       " '__call__',\n",
       " '__class__',\n",
       " '__closure__',\n",
       " '__code__',\n",
       " '__defaults__',\n",
       " '__delattr__',\n",
       " '__dict__',\n",
       " '__dir__',\n",
       " '__doc__',\n",
       " '__eq__',\n",
       " '__format__',\n",
       " '__ge__',\n",
       " '__get__',\n",
       " '__getattribute__',\n",
       " '__getstate__',\n",
       " '__globals__',\n",
       " '__gt__',\n",
       " '__hash__',\n",
       " '__init__',\n",
       " '__init_subclass__',\n",
       " '__kwdefaults__',\n",
       " '__le__',\n",
       " '__lt__',\n",
       " '__module__',\n",
       " '__name__',\n",
       " '__ne__',\n",
       " '__new__',\n",
       " '__qualname__',\n",
       " '__reduce__',\n",
       " '__reduce_ex__',\n",
       " '__repr__',\n",
       " '__setattr__',\n",
       " '__sizeof__',\n",
       " '__str__',\n",
       " '__subclasshook__']"
      ]
     },
     "execution_count": 619,
     "metadata": {},
     "output_type": "execute_result"
    }
   ],
   "source": [
    "dir(var5)"
   ]
  },
  {
   "cell_type": "markdown",
   "id": "886a6c32-de3f-4f0f-bb1e-4e8d26332331",
   "metadata": {},
   "source": [
    "# Day 2"
   ]
  },
  {
   "cell_type": "code",
   "execution_count": null,
   "id": "5704f848-4e7a-45b2-9b8d-859637217b2a",
   "metadata": {},
   "outputs": [],
   "source": [
    "generators\n",
    "Classes\n",
    "Inheritance\n",
    "Polymorphism\n",
    "Special methods"
   ]
  },
  {
   "cell_type": "markdown",
   "id": "16577af5-3bf3-462b-bfcc-eab27b7e9051",
   "metadata": {},
   "source": [
    "#### Generators"
   ]
  },
  {
   "cell_type": "markdown",
   "id": "f357bf5f-3f1c-453f-8663-cea341e7d9f0",
   "metadata": {},
   "source": [
    "There are two terms involved when we discuss generators.\n",
    "\n",
    "Generator-Function : A generator-function is defined like a normal function, but whenever it needs to generate a value, it does so with the yield keyword rather than return. \n",
    "If the body of a def contains yield, the function automatically becomes a generator function. "
   ]
  },
  {
   "cell_type": "markdown",
   "id": "aa8f2f82-30fe-4fc3-8dc6-794a245e6b48",
   "metadata": {},
   "source": [
    "Generator-Object : Generator functions return a generator object. Generator objects are used either by calling the next method on the generator object or using the generator object in a “for in” loop"
   ]
  },
  {
   "cell_type": "code",
   "execution_count": null,
   "id": "d02f828e-f719-46f3-bde2-52ae4015e5b0",
   "metadata": {},
   "outputs": [],
   "source": [
    "def simpleGenerator(value):\n",
    "    yield value"
   ]
  },
  {
   "cell_type": "code",
   "execution_count": 641,
   "id": "90cc2899-6f17-4200-9346-fd82fec8a075",
   "metadata": {},
   "outputs": [],
   "source": [
    "var = (x for x in range(0, 5))"
   ]
  },
  {
   "cell_type": "code",
   "execution_count": 654,
   "id": "09b0f893-6eb6-485d-b2f0-4a52396db257",
   "metadata": {},
   "outputs": [
    {
     "ename": "StopIteration",
     "evalue": "",
     "output_type": "error",
     "traceback": [
      "\u001b[1;31m---------------------------------------------------------------------------\u001b[0m",
      "\u001b[1;31mStopIteration\u001b[0m                             Traceback (most recent call last)",
      "Cell \u001b[1;32mIn[654], line 1\u001b[0m\n\u001b[1;32m----> 1\u001b[0m var\u001b[38;5;241m.\u001b[39m\u001b[38;5;21m__next__\u001b[39m()\n",
      "\u001b[1;31mStopIteration\u001b[0m: "
     ]
    }
   ],
   "source": [
    "var.__next__()"
   ]
  },
  {
   "cell_type": "code",
   "execution_count": 656,
   "id": "028649ef-e72a-4fb9-a943-75582c7f16d6",
   "metadata": {},
   "outputs": [],
   "source": [
    "def simpleGenerator():\n",
    "    yield 1\n",
    "    yield 2\n",
    "    yield 3"
   ]
  },
  {
   "cell_type": "code",
   "execution_count": 658,
   "id": "faf92191-b961-490b-90bc-f590b1e85337",
   "metadata": {},
   "outputs": [
    {
     "name": "stdout",
     "output_type": "stream",
     "text": [
      "1\n",
      "2\n",
      "3\n"
     ]
    }
   ],
   "source": [
    "for value in simpleGenerator():\n",
    "    print(value)"
   ]
  },
  {
   "cell_type": "code",
   "execution_count": 660,
   "id": "f718faed-218a-45e8-912d-1a4ecba978a0",
   "metadata": {},
   "outputs": [],
   "source": [
    "def anyfunc(x):\n",
    "    yield x\n",
    "    yield x+1\n",
    "    yield x+2"
   ]
  },
  {
   "cell_type": "code",
   "execution_count": 662,
   "id": "7ee93329-643e-4625-ac1d-ac8b43c9cd6d",
   "metadata": {},
   "outputs": [],
   "source": [
    "var = anyfunc(5)"
   ]
  },
  {
   "cell_type": "code",
   "execution_count": 670,
   "id": "ed53b5e5-acf0-428e-bbb2-5033ba9c129f",
   "metadata": {},
   "outputs": [
    {
     "ename": "StopIteration",
     "evalue": "",
     "output_type": "error",
     "traceback": [
      "\u001b[1;31m---------------------------------------------------------------------------\u001b[0m",
      "\u001b[1;31mStopIteration\u001b[0m                             Traceback (most recent call last)",
      "Cell \u001b[1;32mIn[670], line 1\u001b[0m\n\u001b[1;32m----> 1\u001b[0m var\u001b[38;5;241m.\u001b[39m\u001b[38;5;21m__next__\u001b[39m()\n",
      "\u001b[1;31mStopIteration\u001b[0m: "
     ]
    }
   ],
   "source": [
    "var.__next__()"
   ]
  },
  {
   "cell_type": "code",
   "execution_count": null,
   "id": "51ab702f-80f2-478d-a10b-7519949c025e",
   "metadata": {},
   "outputs": [],
   "source": [
    "#fibonacci numbers - 0, 1, 1, 2, 3, 5, 8"
   ]
  },
  {
   "cell_type": "code",
   "execution_count": 684,
   "id": "a9ed33fa-199b-4fe7-ba46-023b86d36c80",
   "metadata": {},
   "outputs": [],
   "source": [
    "def fib(n):  #n is number of fib numbers to generated\n",
    "    a, b = 0, 1\n",
    "    while a < n:\n",
    "        yield a\n",
    "        a, b = b, a+b"
   ]
  },
  {
   "cell_type": "code",
   "execution_count": 702,
   "id": "138e9506-7c02-4d3c-a501-d95e33124dfd",
   "metadata": {},
   "outputs": [],
   "source": [
    "x = fib(20000000000000)"
   ]
  },
  {
   "cell_type": "code",
   "execution_count": 682,
   "id": "f23fd3de-d0b8-4d10-b30b-250fcde9bedb",
   "metadata": {},
   "outputs": [
    {
     "data": {
      "text/plain": [
       "2"
      ]
     },
     "execution_count": 682,
     "metadata": {},
     "output_type": "execute_result"
    }
   ],
   "source": [
    "x.__next__()"
   ]
  },
  {
   "cell_type": "code",
   "execution_count": 704,
   "id": "e6b285be-f4b2-4e90-a683-f2f3d3509238",
   "metadata": {},
   "outputs": [
    {
     "name": "stdout",
     "output_type": "stream",
     "text": [
      "0 1 1 2 3 5 8 13 21 34 55 89 144 233 377 610 987 1597 2584 4181 6765 10946 17711 28657 46368 75025 121393 196418 317811 514229 832040 1346269 2178309 3524578 5702887 9227465 14930352 24157817 39088169 63245986 102334155 165580141 267914296 433494437 701408733 1134903170 1836311903 2971215073 4807526976 7778742049 12586269025 20365011074 32951280099 53316291173 86267571272 139583862445 225851433717 365435296162 591286729879 956722026041 1548008755920 2504730781961 4052739537881 6557470319842 10610209857723 17167680177565 "
     ]
    }
   ],
   "source": [
    "for i in x:\n",
    "    print(i, end=' ')"
   ]
  },
  {
   "cell_type": "code",
   "execution_count": 706,
   "id": "3a6364b6-0a11-43dc-aaee-d2387e8fd616",
   "metadata": {},
   "outputs": [
    {
     "name": "stdout",
     "output_type": "stream",
     "text": [
      "  1           0 RETURN_GENERATOR\n",
      "              2 POP_TOP\n",
      "              4 RESUME                   0\n",
      "\n",
      "  2           6 LOAD_CONST               1 ((0, 1))\n",
      "              8 UNPACK_SEQUENCE          2\n",
      "             12 STORE_FAST               1 (a)\n",
      "             14 STORE_FAST               2 (b)\n",
      "\n",
      "  3          16 LOAD_FAST                1 (a)\n",
      "             18 LOAD_FAST                0 (n)\n",
      "             20 COMPARE_OP               0 (<)\n",
      "             26 POP_JUMP_FORWARD_IF_FALSE    19 (to 66)\n",
      "\n",
      "  4     >>   28 LOAD_FAST                1 (a)\n",
      "             30 YIELD_VALUE\n",
      "             32 RESUME                   1\n",
      "             34 POP_TOP\n",
      "\n",
      "  5          36 LOAD_FAST                2 (b)\n",
      "             38 LOAD_FAST                1 (a)\n",
      "             40 LOAD_FAST                2 (b)\n",
      "             42 BINARY_OP                0 (+)\n",
      "             46 STORE_FAST               2 (b)\n",
      "             48 STORE_FAST               1 (a)\n",
      "\n",
      "  3          50 LOAD_FAST                1 (a)\n",
      "             52 LOAD_FAST                0 (n)\n",
      "             54 COMPARE_OP               0 (<)\n",
      "             60 POP_JUMP_BACKWARD_IF_TRUE    17 (to 28)\n",
      "             62 LOAD_CONST               0 (None)\n",
      "             64 RETURN_VALUE\n",
      "        >>   66 LOAD_CONST               0 (None)\n",
      "             68 RETURN_VALUE\n"
     ]
    }
   ],
   "source": [
    "import dis  # disassembly module\n",
    "dis.dis(fib)"
   ]
  },
  {
   "cell_type": "code",
   "execution_count": null,
   "id": "b206bb22-a55c-4556-b521-b132add13dab",
   "metadata": {},
   "outputs": [],
   "source": []
  },
  {
   "cell_type": "code",
   "execution_count": null,
   "id": "38f50367-98da-4f47-bf77-293663c818ff",
   "metadata": {},
   "outputs": [],
   "source": []
  },
  {
   "cell_type": "markdown",
   "id": "42607503-fdd3-4a75-8dbe-283c09a2799b",
   "metadata": {},
   "source": [
    "#### Class"
   ]
  },
  {
   "cell_type": "raw",
   "id": "49673a85-9520-48d7-a12b-87cc385fb483",
   "metadata": {},
   "source": [
    "User created objects are created using class keyword. \n",
    "The class is a blueprint that defines nature of the future object.\n",
    "From classes we can construct instances. \n",
    "An instance is a specific object created from a particular class.\n",
    "\n",
    "ex. lst = [1, 2, 3]\n",
    "lst.count(2)\n",
    "\n",
    "here lst is an instance of a list object"
   ]
  },
  {
   "cell_type": "code",
   "execution_count": 708,
   "id": "7907a74a-be32-4452-a328-4099df57f619",
   "metadata": {},
   "outputs": [],
   "source": [
    "class Sample:\n",
    "    pass"
   ]
  },
  {
   "cell_type": "code",
   "execution_count": 710,
   "id": "98a8ae4e-b276-499d-9038-ed3ea3b16fb5",
   "metadata": {},
   "outputs": [],
   "source": [
    "x = Sample()"
   ]
  },
  {
   "cell_type": "code",
   "execution_count": 712,
   "id": "52c7586f-2c06-4015-b7e1-6d4735892400",
   "metadata": {},
   "outputs": [
    {
     "data": {
      "text/plain": [
       "__main__.Sample"
      ]
     },
     "execution_count": 712,
     "metadata": {},
     "output_type": "execute_result"
    }
   ],
   "source": [
    "type(x)"
   ]
  },
  {
   "cell_type": "code",
   "execution_count": 742,
   "id": "f70ad51d-fbd3-489d-adf0-c3ffea44c8c6",
   "metadata": {},
   "outputs": [],
   "source": [
    "class Dog:\n",
    "    def __init__(self, breed, name, age, color):  #Attributes\n",
    "        self.breed = breed\n",
    "        self.name = name\n",
    "        self.age = age\n",
    "        self.color = color"
   ]
  },
  {
   "cell_type": "code",
   "execution_count": 744,
   "id": "4e47120d-f7b5-49f7-9a60-6818bf9fb9d3",
   "metadata": {},
   "outputs": [],
   "source": [
    "Sam = Dog(breed='lab', name='tommie', age=3, color='white')\n",
    "Frank = Dog(breed= 'Huskie', name='puppy', age=1, color='brown')"
   ]
  },
  {
   "cell_type": "code",
   "execution_count": 746,
   "id": "49c7d886-295b-4a84-be16-42562f32e135",
   "metadata": {},
   "outputs": [
    {
     "data": {
      "text/plain": [
       "('lab', 'Huskie')"
      ]
     },
     "execution_count": 746,
     "metadata": {},
     "output_type": "execute_result"
    }
   ],
   "source": [
    "Sam.breed, Frank.breed"
   ]
  },
  {
   "cell_type": "code",
   "execution_count": 748,
   "id": "47ec47e3-1c54-4ebd-919a-8f5df690bc95",
   "metadata": {},
   "outputs": [
    {
     "data": {
      "text/plain": [
       "('tommie', 'puppy')"
      ]
     },
     "execution_count": 748,
     "metadata": {},
     "output_type": "execute_result"
    }
   ],
   "source": [
    "Sam.name, Frank.name"
   ]
  },
  {
   "cell_type": "code",
   "execution_count": 750,
   "id": "1bee311c-3308-4f22-bf87-4850fc29b90e",
   "metadata": {},
   "outputs": [
    {
     "data": {
      "text/plain": [
       "(3, 1)"
      ]
     },
     "execution_count": 750,
     "metadata": {},
     "output_type": "execute_result"
    }
   ],
   "source": [
    "Sam.age, Frank.age"
   ]
  },
  {
   "cell_type": "code",
   "execution_count": 752,
   "id": "1bdf7936-599d-4494-bb05-7ab48f89025a",
   "metadata": {},
   "outputs": [],
   "source": [
    "class Dog:\n",
    "    def __init__(self, breed, name, age, color):  #Attributes\n",
    "        self.breed = breed\n",
    "        self.name = name\n",
    "        self.age = age\n",
    "        self.color = color\n",
    "\n",
    "    def food(self, food):   #methods\n",
    "        print(f\"{self.name} eats {food}\")"
   ]
  },
  {
   "cell_type": "code",
   "execution_count": 754,
   "id": "e1b41a11-7a8c-47b3-aec4-38c21d6fe85e",
   "metadata": {},
   "outputs": [
    {
     "ename": "TypeError",
     "evalue": "Dog.__init__() missing 4 required positional arguments: 'breed', 'name', 'age', and 'color'",
     "output_type": "error",
     "traceback": [
      "\u001b[1;31m---------------------------------------------------------------------------\u001b[0m",
      "\u001b[1;31mTypeError\u001b[0m                                 Traceback (most recent call last)",
      "Cell \u001b[1;32mIn[754], line 1\u001b[0m\n\u001b[1;32m----> 1\u001b[0m Sam \u001b[38;5;241m=\u001b[39m Dog()\n",
      "\u001b[1;31mTypeError\u001b[0m: Dog.__init__() missing 4 required positional arguments: 'breed', 'name', 'age', and 'color'"
     ]
    }
   ],
   "source": [
    "Sam = Dog()"
   ]
  },
  {
   "cell_type": "code",
   "execution_count": 756,
   "id": "0038a662-19aa-452c-b29c-87bf9312f2c9",
   "metadata": {},
   "outputs": [],
   "source": [
    "Sam = Dog('lab', 'tommie', 3, 'black')"
   ]
  },
  {
   "cell_type": "code",
   "execution_count": 758,
   "id": "892fd151-1f2a-42d2-a5af-423bf44a3d50",
   "metadata": {},
   "outputs": [
    {
     "name": "stdout",
     "output_type": "stream",
     "text": [
      "tommie eats biscuits\n"
     ]
    }
   ],
   "source": [
    "Sam.food('biscuits')"
   ]
  },
  {
   "cell_type": "code",
   "execution_count": 784,
   "id": "4bc8cc2f-96cd-4673-9763-26e4bb4dae22",
   "metadata": {},
   "outputs": [],
   "source": [
    "class Circle:\n",
    "    \n",
    "    pi = 3.14159625   #Class object attribute\n",
    "    \n",
    "    def __init__(self, radius=1):\n",
    "        self.radius = radius\n",
    "        self.area = radius * radius * Circle.pi\n",
    "\n",
    "    def setRadius(self, new_radius):\n",
    "        self.radius = new_radius\n",
    "        self.area = new_radius * new_radius * Circle.pi\n",
    "\n",
    "    def getcircumference(self):\n",
    "        return 2 * Circle.pi * self.radius"
   ]
  },
  {
   "cell_type": "code",
   "execution_count": 786,
   "id": "d8b52b7d-a2c2-47aa-a2d9-2fc92e221d02",
   "metadata": {},
   "outputs": [],
   "source": [
    "c = Circle()"
   ]
  },
  {
   "cell_type": "code",
   "execution_count": 788,
   "id": "c68221f9-29db-4ddb-9e53-ed22e82f488e",
   "metadata": {},
   "outputs": [
    {
     "data": {
      "text/plain": [
       "(1, 3.14159625, 6.2831925)"
      ]
     },
     "execution_count": 788,
     "metadata": {},
     "output_type": "execute_result"
    }
   ],
   "source": [
    "c.radius, c.area, c.getcircumference()"
   ]
  },
  {
   "cell_type": "code",
   "execution_count": 790,
   "id": "5963505a-d82b-4305-8dea-0ddf230bad24",
   "metadata": {},
   "outputs": [],
   "source": [
    "c.setRadius(3)"
   ]
  },
  {
   "cell_type": "code",
   "execution_count": 792,
   "id": "0ab54631-4711-4d22-89cf-9a6b239afc34",
   "metadata": {},
   "outputs": [
    {
     "data": {
      "text/plain": [
       "(3, 28.27436625, 18.849577500000002)"
      ]
     },
     "execution_count": 792,
     "metadata": {},
     "output_type": "execute_result"
    }
   ],
   "source": [
    "c.radius, c.area, c.getcircumference()"
   ]
  },
  {
   "cell_type": "markdown",
   "id": "951adfd2-8eb3-418a-be5d-93241f6eb62d",
   "metadata": {},
   "source": [
    "## Inheritance\n",
    "\n",
    "Inheritance is a way to form new classes using classes that have already been defined. Newly formed classes are called derviced classes. The classes that we drive from are called base classes. Important benefits of inheritance are code reuse and reduction of complexity of a program. derived classes override or extend the functionality of a base class."
   ]
  },
  {
   "cell_type": "code",
   "execution_count": 833,
   "id": "d5828683-c891-45ed-8a1d-30dbc2be7e18",
   "metadata": {},
   "outputs": [],
   "source": [
    "class Animal:\n",
    "    def __init__(self):\n",
    "        #self.animal = animal\n",
    "        print(\"Animal created\")\n",
    "\n",
    "    def eat(self, food):\n",
    "        self.food = food\n",
    "        print(f\"Animal eats {food}\")"
   ]
  },
  {
   "cell_type": "code",
   "execution_count": 797,
   "id": "7271c108-c5f8-472d-89c0-6b9013f5d2d4",
   "metadata": {},
   "outputs": [],
   "source": [
    "class Dog:\n",
    "    def __init__(self):\n",
    "        print(\"Dog created\")\n",
    "\n",
    "    def bark(self):\n",
    "        print(\"Woof!\")"
   ]
  },
  {
   "cell_type": "code",
   "execution_count": 799,
   "id": "7cee4d5e-0af6-434b-8c3e-26b87246f60a",
   "metadata": {},
   "outputs": [
    {
     "name": "stdout",
     "output_type": "stream",
     "text": [
      "Animal created\n",
      "Cat eats milk\n"
     ]
    }
   ],
   "source": [
    "a = Animal('Cat')\n",
    "a.eat('milk')"
   ]
  },
  {
   "cell_type": "code",
   "execution_count": 801,
   "id": "6152bc68-598e-4b81-b3a9-977637056892",
   "metadata": {},
   "outputs": [
    {
     "name": "stdout",
     "output_type": "stream",
     "text": [
      "Dog created\n"
     ]
    }
   ],
   "source": [
    "d = Dog()"
   ]
  },
  {
   "cell_type": "code",
   "execution_count": 803,
   "id": "8bcab692-6d83-4efc-a6fa-8665b0f31374",
   "metadata": {},
   "outputs": [
    {
     "name": "stdout",
     "output_type": "stream",
     "text": [
      "Woof!\n"
     ]
    }
   ],
   "source": [
    "d.bark()"
   ]
  },
  {
   "cell_type": "code",
   "execution_count": 805,
   "id": "56d1e1ec-f3a9-45f0-8c1b-dfa3ba389fb0",
   "metadata": {},
   "outputs": [
    {
     "ename": "AttributeError",
     "evalue": "'Dog' object has no attribute 'eat'",
     "output_type": "error",
     "traceback": [
      "\u001b[1;31m---------------------------------------------------------------------------\u001b[0m",
      "\u001b[1;31mAttributeError\u001b[0m                            Traceback (most recent call last)",
      "Cell \u001b[1;32mIn[805], line 1\u001b[0m\n\u001b[1;32m----> 1\u001b[0m d\u001b[38;5;241m.\u001b[39meat()\n",
      "\u001b[1;31mAttributeError\u001b[0m: 'Dog' object has no attribute 'eat'"
     ]
    }
   ],
   "source": [
    "d.eat()"
   ]
  },
  {
   "cell_type": "code",
   "execution_count": 835,
   "id": "f47765d1-9e17-4f0d-bee7-6a54ddc7245e",
   "metadata": {},
   "outputs": [],
   "source": [
    "class Dog1(Animal):\n",
    "    def __init__(self):\n",
    "        Animal.__init__(self)\n",
    "        print(\"Dog created\")\n",
    "\n",
    "    def bark(self):\n",
    "        print(\"Woof!\")"
   ]
  },
  {
   "cell_type": "code",
   "execution_count": 839,
   "id": "65f257d3-8030-4284-a031-72184de649d1",
   "metadata": {},
   "outputs": [
    {
     "name": "stdout",
     "output_type": "stream",
     "text": [
      "Animal created\n",
      "Dog created\n"
     ]
    }
   ],
   "source": [
    "d1 = Dog1()"
   ]
  },
  {
   "cell_type": "code",
   "execution_count": 841,
   "id": "d639ab95-2f17-4a6c-9a0e-aaf9248e30b0",
   "metadata": {},
   "outputs": [
    {
     "name": "stdout",
     "output_type": "stream",
     "text": [
      "Woof!\n"
     ]
    }
   ],
   "source": [
    "d1.bark()"
   ]
  },
  {
   "cell_type": "code",
   "execution_count": 843,
   "id": "06489a09-d5e2-4200-b9b2-b7849eb4a526",
   "metadata": {},
   "outputs": [
    {
     "name": "stdout",
     "output_type": "stream",
     "text": [
      "Animal eats biscuits\n"
     ]
    }
   ],
   "source": [
    "d1.eat('biscuits')"
   ]
  },
  {
   "cell_type": "markdown",
   "id": "9df69d87-ddb4-43a0-82d1-44100de52510",
   "metadata": {},
   "source": [
    "#### Polymorphism"
   ]
  },
  {
   "cell_type": "markdown",
   "id": "bed4b9b9-84e6-4254-a56e-a6ebc444b382",
   "metadata": {},
   "source": [
    "It refers to the use of a single type entity (method, operator or object) to represent different types in different scenarios"
   ]
  },
  {
   "cell_type": "code",
   "execution_count": 846,
   "id": "c4527515-a694-47ac-969f-c4bdc401c5f6",
   "metadata": {},
   "outputs": [],
   "source": [
    "class Cat:\n",
    "    def __init__(self, name):\n",
    "        self.name = name\n",
    "\n",
    "    def eat(self, food):\n",
    "        self.food = food\n",
    "        print(f\"{self.name} eats {food}\")\n",
    "\n",
    "    def speak(self):\n",
    "        return self.name+' says meow!'"
   ]
  },
  {
   "cell_type": "code",
   "execution_count": 848,
   "id": "41058d48-769c-4ee0-baf8-b7b523754e72",
   "metadata": {},
   "outputs": [],
   "source": [
    "class Dog:\n",
    "    def __init__(self, name):\n",
    "        self.name = name\n",
    "\n",
    "    def eat(self, food):\n",
    "        self.food = food\n",
    "        print(f\"{self.name} eats {food}\")\n",
    "\n",
    "    def speak(self):\n",
    "        return self.name+' says Woof!'"
   ]
  },
  {
   "cell_type": "code",
   "execution_count": 850,
   "id": "de60b1c9-f2df-4413-9897-19bdd7845df7",
   "metadata": {},
   "outputs": [],
   "source": [
    "D = Dog('Niko')\n",
    "C = Cat('Felix')"
   ]
  },
  {
   "cell_type": "code",
   "execution_count": 852,
   "id": "d5381822-d187-44b8-9885-c4ef739bf097",
   "metadata": {},
   "outputs": [
    {
     "data": {
      "text/plain": [
       "('Niko says Woof!', 'Felix says meow!')"
      ]
     },
     "execution_count": 852,
     "metadata": {},
     "output_type": "execute_result"
    }
   ],
   "source": [
    "D.speak(), C.speak()"
   ]
  },
  {
   "cell_type": "code",
   "execution_count": 902,
   "id": "a89217be-def4-490a-822d-a7aba022a06a",
   "metadata": {},
   "outputs": [],
   "source": [
    "class Animal:\n",
    "    def __init__(self, name):\n",
    "        self.name = name\n",
    "\n",
    "    # def speak(self):\n",
    "    #     raise \"error occured in speak method of Animal class\"\n",
    "\n",
    "\n",
    "class Dog(Animal):\n",
    "    def speak(self):\n",
    "        return self.name + ' says Woof!'\n",
    "\n",
    "class Cat(Animal):\n",
    "    def speak(self):\n",
    "        return self.name + ' says meow!'\n"
   ]
  },
  {
   "cell_type": "code",
   "execution_count": 904,
   "id": "4a7dc3fc-ed4f-47fd-9e36-be5bee1df480",
   "metadata": {},
   "outputs": [],
   "source": [
    "C1 = Cat('Felix')\n",
    "D1 = Dog('Niko')"
   ]
  },
  {
   "cell_type": "code",
   "execution_count": 906,
   "id": "dcb54f82-dc1a-412a-a32e-f9dc34d02f95",
   "metadata": {},
   "outputs": [
    {
     "data": {
      "text/plain": [
       "'Felix says meow!'"
      ]
     },
     "execution_count": 906,
     "metadata": {},
     "output_type": "execute_result"
    }
   ],
   "source": [
    "C1.speak()"
   ]
  },
  {
   "cell_type": "code",
   "execution_count": 908,
   "id": "ad3bc76d-edb6-4525-8a69-4349d1f83ddc",
   "metadata": {},
   "outputs": [
    {
     "data": {
      "text/plain": [
       "'Niko says Woof!'"
      ]
     },
     "execution_count": 908,
     "metadata": {},
     "output_type": "execute_result"
    }
   ],
   "source": [
    "D1.speak()"
   ]
  },
  {
   "cell_type": "markdown",
   "id": "c8e3820e-9722-479b-a233-db9c23182765",
   "metadata": {},
   "source": [
    "#### Multiple Inheritance vs Multi-level Inheritance"
   ]
  },
  {
   "cell_type": "markdown",
   "id": "e8d7f3ea-2781-4604-a9ad-19eb5f59435e",
   "metadata": {},
   "source": [
    "\n",
    "There are 5 different types of inheritance in Python. They are:\n",
    "\n",
    "    Single Inheritance: a child class inherits from only one parent class.\n",
    "    Multiple Inheritance: a child class inherits from multiple parent classes.\n",
    "    Multilevel Inheritance: a child class inherits from its parent class, which is inheriting from its parent class.\n",
    "    Hierarchical Inheritance: more than one child class are created from a single parent class.\n",
    "    Hybrid Inheritance: combines more than one form of inheritance."
   ]
  },
  {
   "cell_type": "markdown",
   "id": "0ac2e753-af9f-470e-9a69-a9cecc3ec659",
   "metadata": {},
   "source": [
    "Uses of Inheritance\n",
    "\n",
    "    Code Reusability: Since a child class can inherit all the functionalities of the parent's class, this allows code reusability.\n",
    "    Efficient Development: Once a functionality is developed, we can simply inherit it which allows for cleaner code and easy maintenance.\n",
    "    Customization: Since we can also add our own functionalities in the child class, we can inherit only the useful functionalities and define other required features."
   ]
  },
  {
   "cell_type": "markdown",
   "id": "be26c085-e3e5-4a27-af1d-b38b43b41e59",
   "metadata": {},
   "source": [
    "##### Multiple inheritance"
   ]
  },
  {
   "cell_type": "markdown",
   "id": "657b07f5-bdd0-4984-b228-c2286e0a57e5",
   "metadata": {},
   "source": [
    "![Multipleinheritance](python-multiple-inheritance.png)"
   ]
  },
  {
   "cell_type": "markdown",
   "id": "4c7371a4-4716-4d4b-9ffd-723ec6385548",
   "metadata": {},
   "source": [
    "##### Multi-level inheritance"
   ]
  },
  {
   "cell_type": "markdown",
   "id": "1cb58031-1e2c-439d-951a-8a82346ef5bb",
   "metadata": {},
   "source": [
    "![Multilevel](python-multilevel-inheritance.png)"
   ]
  },
  {
   "cell_type": "code",
   "execution_count": 931,
   "id": "b1c4cdec-526e-4752-90c0-c870ff3f504b",
   "metadata": {},
   "outputs": [],
   "source": [
    "class Mammal:\n",
    "    def __init__(self):\n",
    "        pass\n",
    "        \n",
    "    def mammal_info(self):\n",
    "        print(\"mammals live in jungles\")\n",
    "\n",
    "class WingedAnimal:\n",
    "    def __init__(self):\n",
    "        pass\n",
    "        \n",
    "    def winged_animal_info(self):\n",
    "        print(\"bat is a winged animal\")\n",
    "\n",
    "\n",
    "class Bat(Mammal, WingedAnimal):\n",
    "    pass"
   ]
  },
  {
   "cell_type": "code",
   "execution_count": 933,
   "id": "1aaacbf3-4273-4b7b-898f-39e2ff46855d",
   "metadata": {},
   "outputs": [],
   "source": [
    "b = Bat()"
   ]
  },
  {
   "cell_type": "code",
   "execution_count": 935,
   "id": "99afc04c-378e-4f96-9ffe-2e558d3a647c",
   "metadata": {},
   "outputs": [
    {
     "name": "stdout",
     "output_type": "stream",
     "text": [
      "mammals live in jungles\n"
     ]
    }
   ],
   "source": [
    "b.mammal_info()"
   ]
  },
  {
   "cell_type": "code",
   "execution_count": 937,
   "id": "750b1bf5-0253-4656-90e4-a78dc02e62f5",
   "metadata": {},
   "outputs": [
    {
     "name": "stdout",
     "output_type": "stream",
     "text": [
      "bat is a winged animal\n"
     ]
    }
   ],
   "source": [
    "b.winged_animal_info()"
   ]
  },
  {
   "cell_type": "code",
   "execution_count": 955,
   "id": "64e46904-7e8f-4100-9e2c-d42526ef3743",
   "metadata": {},
   "outputs": [],
   "source": [
    "class Mammal:\n",
    "    def __init__(self):\n",
    "        pass\n",
    "        \n",
    "    def mammal_info(self):\n",
    "        print(\"mammals live in jungles\")\n",
    "\n",
    "class Lion(Mammal):\n",
    "    def lion_info(self):\n",
    "        print(\"Lion is king of jungle\")\n",
    "\n",
    "class Cub(Lion):\n",
    "    def cub_info(self):\n",
    "        print(\"A cub is lion's child\")"
   ]
  },
  {
   "cell_type": "code",
   "execution_count": 957,
   "id": "d0d1403c-df97-46b4-b027-e0c64461212f",
   "metadata": {},
   "outputs": [
    {
     "name": "stdout",
     "output_type": "stream",
     "text": [
      "mammals live in jungles\n"
     ]
    }
   ],
   "source": [
    "m = Mammal()\n",
    "m.mammal_info()"
   ]
  },
  {
   "cell_type": "code",
   "execution_count": 959,
   "id": "704bfc70-3787-47c9-873f-9fc1ff416c6b",
   "metadata": {},
   "outputs": [
    {
     "name": "stdout",
     "output_type": "stream",
     "text": [
      "Lion is king of jungle\n"
     ]
    }
   ],
   "source": [
    "l = Lion()\n",
    "l.lion_info()"
   ]
  },
  {
   "cell_type": "code",
   "execution_count": 961,
   "id": "415086bd-c15a-4f86-ac18-94a388e6244f",
   "metadata": {},
   "outputs": [
    {
     "name": "stdout",
     "output_type": "stream",
     "text": [
      "mammals live in jungles\n"
     ]
    }
   ],
   "source": [
    "l.mammal_info()"
   ]
  },
  {
   "cell_type": "code",
   "execution_count": 963,
   "id": "4eec10d9-b135-44c1-bec4-cf12557753c7",
   "metadata": {},
   "outputs": [
    {
     "name": "stdout",
     "output_type": "stream",
     "text": [
      "A cub is lion's child\n"
     ]
    }
   ],
   "source": [
    "c = Cub()\n",
    "c.cub_info()"
   ]
  },
  {
   "cell_type": "code",
   "execution_count": 965,
   "id": "6b881bd7-f54c-4bfb-96ba-01700f2ef5f7",
   "metadata": {},
   "outputs": [
    {
     "name": "stdout",
     "output_type": "stream",
     "text": [
      "Lion is king of jungle\n"
     ]
    }
   ],
   "source": [
    "c.lion_info()"
   ]
  },
  {
   "cell_type": "code",
   "execution_count": 967,
   "id": "61f99108-afc9-4292-b1c0-d9a01bb44adb",
   "metadata": {},
   "outputs": [
    {
     "name": "stdout",
     "output_type": "stream",
     "text": [
      "mammals live in jungles\n"
     ]
    }
   ],
   "source": [
    "c.mammal_info()"
   ]
  },
  {
   "cell_type": "code",
   "execution_count": null,
   "id": "f6231328-f774-4d5b-b876-039237a78333",
   "metadata": {},
   "outputs": [],
   "source": []
  },
  {
   "cell_type": "code",
   "execution_count": null,
   "id": "111e6e76-9e24-4e35-bdeb-4a43f31f1465",
   "metadata": {},
   "outputs": [],
   "source": []
  },
  {
   "cell_type": "code",
   "execution_count": null,
   "id": "e24fea04-08e6-42d5-806b-3326faf6c269",
   "metadata": {},
   "outputs": [],
   "source": []
  },
  {
   "cell_type": "code",
   "execution_count": null,
   "id": "55df1145-3f00-40ca-93e0-1e16cac1635d",
   "metadata": {},
   "outputs": [],
   "source": []
  },
  {
   "cell_type": "code",
   "execution_count": null,
   "id": "ca99c6bf-d07c-4283-b194-af0819ac1499",
   "metadata": {},
   "outputs": [],
   "source": []
  },
  {
   "cell_type": "code",
   "execution_count": null,
   "id": "d80457a0-d7da-43c6-891a-c462829fd022",
   "metadata": {},
   "outputs": [],
   "source": []
  },
  {
   "cell_type": "code",
   "execution_count": null,
   "id": "32165c99-d2c2-4c84-8d1b-8d2a35c7ee09",
   "metadata": {},
   "outputs": [],
   "source": []
  }
 ],
 "metadata": {
  "kernelspec": {
   "display_name": "Python 3 (ipykernel)",
   "language": "python",
   "name": "python3"
  },
  "language_info": {
   "codemirror_mode": {
    "name": "ipython",
    "version": 3
   },
   "file_extension": ".py",
   "mimetype": "text/x-python",
   "name": "python",
   "nbconvert_exporter": "python",
   "pygments_lexer": "ipython3",
   "version": "3.11.5"
  }
 },
 "nbformat": 4,
 "nbformat_minor": 5
}
