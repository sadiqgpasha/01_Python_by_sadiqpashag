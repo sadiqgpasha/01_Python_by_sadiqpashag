{
 "cells": [
  {
   "cell_type": "markdown",
   "id": "965a65e5-e469-4a7a-a7e2-3218787176e9",
   "metadata": {},
   "source": [
    "# Python - Week 2 - July 27 and July 28"
   ]
  },
  {
   "cell_type": "markdown",
   "id": "086ad6e6-e43d-42ff-b25c-fbc7454a39b1",
   "metadata": {},
   "source": [
    "Topics: \n",
    "\n",
    "    Python Operators\n",
    "    Conditionals\n",
    "    Loops & Nested Loops\n",
    "    Comprehensions"
   ]
  },
  {
   "cell_type": "markdown",
   "id": "b61cd738-bebc-4e54-a17c-e597a3157a7e",
   "metadata": {},
   "source": [
    "### Python Operators"
   ]
  },
  {
   "cell_type": "code",
   "execution_count": null,
   "id": "1a254a9f-6495-4010-909e-9ea0812f39fd",
   "metadata": {},
   "outputs": [],
   "source": [
    "\n",
    "Operator​\n",
    "\n",
    "Description​\n",
    "\n",
    "Syntax​\n",
    "\n",
    "+​\n",
    "\n",
    "Addition: adds two operands​\n",
    "\n",
    "x + y​\n",
    "\n",
    "–​\n",
    "------------------------------------------------\n",
    "Subtraction: subtracts two operands​\n",
    "\n",
    "x – y​\n",
    "\n",
    "*​\n",
    "\n",
    "Multiplication: multiplies two operands​\n",
    "------------------------------------------------\n",
    "x * y​\n",
    "\n",
    "/​\n",
    "\n",
    "Division (float): divides the first operand by the second​\n",
    "------------------------------------------------\n",
    "x / y​\n",
    "\n",
    "//​\n",
    "\n",
    "Division (floor): divides the first operand by the second​\n",
    "------------------------------------------------\n",
    "x // y​\n",
    "\n",
    "%​\n",
    "\n",
    "Modulus: returns the remainder when the first operand is divided by the second​\n",
    "-------------------------------------------------\n",
    "x % y​\n",
    "\n",
    "**​\n",
    "\n",
    "Power: Returns first raised to power second​\n",
    "\n",
    "x ** y​\n",
    "\n"
   ]
  },
  {
   "cell_type": "code",
   "execution_count": 19,
   "id": "e0bf5ce8-8756-437e-aaba-aad9f80ba7d6",
   "metadata": {},
   "outputs": [
    {
     "name": "stdout",
     "output_type": "stream",
     "text": [
      "2.81\n"
     ]
    },
    {
     "data": {
      "text/plain": [
       "5"
      ]
     },
     "execution_count": 19,
     "metadata": {},
     "output_type": "execute_result"
    }
   ],
   "source": [
    "5 + 6\n",
    "print(0.11 + 2.7)\n",
    "var = eval(\"2+3\")  # same as input() \n",
    "var"
   ]
  },
  {
   "cell_type": "code",
   "execution_count": 41,
   "id": "01ca1a5e-9f99-4dad-8c52-fdf6273e49a9",
   "metadata": {},
   "outputs": [
    {
     "data": {
      "text/plain": [
       "2"
      ]
     },
     "execution_count": 41,
     "metadata": {},
     "output_type": "execute_result"
    }
   ],
   "source": [
    "int(\"2\")"
   ]
  },
  {
   "cell_type": "code",
   "execution_count": 29,
   "id": "ff43987e-2c22-401a-9b10-7b8d61eed8ca",
   "metadata": {},
   "outputs": [
    {
     "data": {
      "text/plain": [
       "(22, 1904, 1.6470588235294117, 32, 1)"
      ]
     },
     "execution_count": 29,
     "metadata": {},
     "output_type": "execute_result"
    }
   ],
   "source": [
    "a = 56\n",
    "b = 34\n",
    "a-b, a*b, a/b, 2**5, a//b"
   ]
  },
  {
   "cell_type": "code",
   "execution_count": 31,
   "id": "76b7135c-a778-4422-9d18-4b9e1dd26895",
   "metadata": {},
   "outputs": [
    {
     "data": {
      "text/plain": [
       "(1.6470588235294117, 1)"
      ]
     },
     "execution_count": 31,
     "metadata": {},
     "output_type": "execute_result"
    }
   ],
   "source": [
    "a/b, a//b  #floor division"
   ]
  },
  {
   "cell_type": "code",
   "execution_count": 37,
   "id": "2bdb1d58-b7c8-4e4f-b001-e6fda1541f1b",
   "metadata": {},
   "outputs": [
    {
     "data": {
      "text/plain": [
       "(2, 1, 0)"
      ]
     },
     "execution_count": 37,
     "metadata": {},
     "output_type": "execute_result"
    }
   ],
   "source": [
    "2%3, 7%3, 2//3"
   ]
  },
  {
   "cell_type": "code",
   "execution_count": null,
   "id": "093537fc-8d04-4b16-bba0-2914fa43eb63",
   "metadata": {},
   "outputs": [],
   "source": [
    "#### COmparison Operators\n",
    "\n",
    "\n",
    "Operator​\n",
    "\n",
    "Description​\n",
    "\n",
    "Syntax​\n",
    "\n",
    ">​\n",
    "\n",
    "Greater than: True if the left operand is greater than the right​\n",
    "\n",
    "x > y​\n",
    "-------------------------\n",
    "<​\n",
    "\n",
    "Less than: True if the left operand is less than the right​\n",
    "\n",
    "x < y​\n",
    "-------------------------\n",
    "==​\n",
    "\n",
    "Equal to: True if both operands are equal​\n",
    "\n",
    "x == y​\n",
    "-------------------------\n",
    "!=​\n",
    "\n",
    "Not equal to – True if operands are not equal​\n",
    "\n",
    "x != y​\n",
    "-------------------------\n",
    ">=​\n",
    "\n",
    "Greater than or equal to True if the left operand is greater than or equal to the right​\n",
    "\n",
    "x >= y​\n",
    "-------------------------\n",
    "<=​\n",
    "\n",
    "Less than or equal to True if the left operand is less than or equal to the right​\n",
    "\n",
    "x <= y​\n",
    "\n"
   ]
  },
  {
   "cell_type": "code",
   "execution_count": 43,
   "id": "5e33a78e-a030-48bb-87ef-b154617a44f3",
   "metadata": {},
   "outputs": [
    {
     "data": {
      "text/plain": [
       "(140736287183688, 140736287183688)"
      ]
     },
     "execution_count": 43,
     "metadata": {},
     "output_type": "execute_result"
    }
   ],
   "source": [
    "a = 2\n",
    "b = 2\n",
    "\n",
    "id(a), id(b)"
   ]
  },
  {
   "cell_type": "code",
   "execution_count": 49,
   "id": "c7d9d4e8-1cb5-4e6e-8589-58a1f33fb682",
   "metadata": {},
   "outputs": [
    {
     "data": {
      "text/plain": [
       "2"
      ]
     },
     "execution_count": 49,
     "metadata": {},
     "output_type": "execute_result"
    }
   ],
   "source": [
    "a= a+2\n",
    "b"
   ]
  },
  {
   "cell_type": "code",
   "execution_count": 51,
   "id": "6c9949d3-28f9-4d38-8475-7c6bd8de8859",
   "metadata": {},
   "outputs": [
    {
     "data": {
      "text/plain": [
       "4"
      ]
     },
     "execution_count": 51,
     "metadata": {},
     "output_type": "execute_result"
    }
   ],
   "source": [
    "a"
   ]
  },
  {
   "cell_type": "code",
   "execution_count": 53,
   "id": "4535746b-30af-41db-979b-89793d4ea725",
   "metadata": {},
   "outputs": [
    {
     "data": {
      "text/plain": [
       "(140736287183752, 140736287183688)"
      ]
     },
     "execution_count": 53,
     "metadata": {},
     "output_type": "execute_result"
    }
   ],
   "source": [
    "id(a), id(b)"
   ]
  },
  {
   "cell_type": "code",
   "execution_count": 55,
   "id": "3610161f-e32c-46df-98b8-ac8d0b73a740",
   "metadata": {},
   "outputs": [
    {
     "data": {
      "text/plain": [
       "(140736287183688, 140736287183688)"
      ]
     },
     "execution_count": 55,
     "metadata": {},
     "output_type": "execute_result"
    }
   ],
   "source": [
    "a = a-2\n",
    "id(a), id(b)"
   ]
  },
  {
   "cell_type": "code",
   "execution_count": 57,
   "id": "f3e8a510-193f-485b-b66f-fe0d643c333c",
   "metadata": {},
   "outputs": [
    {
     "data": {
      "text/plain": [
       "True"
      ]
     },
     "execution_count": 57,
     "metadata": {},
     "output_type": "execute_result"
    }
   ],
   "source": [
    "a == b"
   ]
  },
  {
   "cell_type": "code",
   "execution_count": 59,
   "id": "9d708a25-3517-4815-8bda-dea251ddaa06",
   "metadata": {},
   "outputs": [
    {
     "data": {
      "text/plain": [
       "True"
      ]
     },
     "execution_count": 59,
     "metadata": {},
     "output_type": "execute_result"
    }
   ],
   "source": [
    "a is b"
   ]
  },
  {
   "cell_type": "code",
   "execution_count": 65,
   "id": "678f0fdc-41d8-46fa-9b81-1fb206876c53",
   "metadata": {},
   "outputs": [
    {
     "data": {
      "text/plain": [
       "2389197402432"
      ]
     },
     "execution_count": 65,
     "metadata": {},
     "output_type": "execute_result"
    }
   ],
   "source": [
    "b = {1, 3, 5}\n",
    "id(b)"
   ]
  },
  {
   "cell_type": "code",
   "execution_count": 69,
   "id": "70547fe6-1988-4d71-a71f-cc07bb0a5cdf",
   "metadata": {},
   "outputs": [
    {
     "data": {
      "text/plain": [
       "False"
      ]
     },
     "execution_count": 69,
     "metadata": {},
     "output_type": "execute_result"
    }
   ],
   "source": [
    "a = [3, 4, 5]\n",
    "b = [7, 4, 5]\n",
    "\n",
    "a > b"
   ]
  },
  {
   "cell_type": "code",
   "execution_count": 71,
   "id": "277cb391-529e-4f5a-a63e-1efd5c984ad1",
   "metadata": {},
   "outputs": [
    {
     "data": {
      "text/plain": [
       "True"
      ]
     },
     "execution_count": 71,
     "metadata": {},
     "output_type": "execute_result"
    }
   ],
   "source": [
    "b > a"
   ]
  },
  {
   "cell_type": "code",
   "execution_count": 73,
   "id": "074e4f71-994e-40db-a014-b31abf653d2d",
   "metadata": {},
   "outputs": [
    {
     "data": {
      "text/plain": [
       "True"
      ]
     },
     "execution_count": 73,
     "metadata": {},
     "output_type": "execute_result"
    }
   ],
   "source": [
    "'good morning' > 'good evening'"
   ]
  },
  {
   "cell_type": "code",
   "execution_count": 75,
   "id": "4f71a639-16d4-4fd4-adef-79337a125816",
   "metadata": {},
   "outputs": [
    {
     "data": {
      "text/plain": [
       "False"
      ]
     },
     "execution_count": 75,
     "metadata": {},
     "output_type": "execute_result"
    }
   ],
   "source": [
    "3.45 < 3.449999999999"
   ]
  },
  {
   "cell_type": "code",
   "execution_count": 77,
   "id": "e8a6a4ff-84b9-483b-83c4-134f5e6d2cc5",
   "metadata": {},
   "outputs": [
    {
     "data": {
      "text/plain": [
       "True"
      ]
     },
     "execution_count": 77,
     "metadata": {},
     "output_type": "execute_result"
    }
   ],
   "source": [
    "\"string\" != \"string.\""
   ]
  },
  {
   "cell_type": "code",
   "execution_count": 81,
   "id": "23bd2434-7120-4b5f-a427-4158af5384f4",
   "metadata": {},
   "outputs": [
    {
     "data": {
      "text/plain": [
       "(True, False)"
      ]
     },
     "execution_count": 81,
     "metadata": {},
     "output_type": "execute_result"
    }
   ],
   "source": [
    "130 <= 131, 130 >= 131"
   ]
  },
  {
   "cell_type": "raw",
   "id": "f94f5b80-0449-4434-84f4-a7ae3c94bf59",
   "metadata": {},
   "source": [
    "##### Logical Operator​\n",
    "\n",
    "Description​\n",
    "\n",
    "Syntax​\n",
    "\n",
    "and​\n",
    "\n",
    "Logical AND: True if both the operands are true​\n",
    "\n",
    "x and y​\n",
    "----------------------------\n",
    "or​\n",
    "\n",
    "Logical OR: True if either of the operands is true ​\n",
    "\n",
    "x or y​\n",
    "----------------------------\n",
    "not​\n",
    "\n",
    "Logical NOT: True if the operand is false ​\n",
    "\n",
    "not x​\n",
    "\n"
   ]
  },
  {
   "cell_type": "code",
   "execution_count": 83,
   "id": "1e0517b4-4625-461a-b071-ef7fab279037",
   "metadata": {},
   "outputs": [
    {
     "data": {
      "text/plain": [
       "78"
      ]
     },
     "execution_count": 83,
     "metadata": {},
     "output_type": "execute_result"
    }
   ],
   "source": [
    "15 and 78 # and returns bigger value for positive numbers and return smaller value for negative numbers"
   ]
  },
  {
   "cell_type": "code",
   "execution_count": 85,
   "id": "17bcadf6-3437-456c-9720-22298b2f0ec3",
   "metadata": {},
   "outputs": [
    {
     "data": {
      "text/plain": [
       "inf"
      ]
     },
     "execution_count": 85,
     "metadata": {},
     "output_type": "execute_result"
    }
   ],
   "source": [
    "import math\n",
    "math.inf"
   ]
  },
  {
   "cell_type": "code",
   "execution_count": 87,
   "id": "f8f76347-14f1-4148-83eb-e74398f0f4dc",
   "metadata": {},
   "outputs": [
    {
     "data": {
      "text/plain": [
       "-1"
      ]
     },
     "execution_count": 87,
     "metadata": {},
     "output_type": "execute_result"
    }
   ],
   "source": [
    "math.inf and -1"
   ]
  },
  {
   "cell_type": "code",
   "execution_count": 89,
   "id": "d900426a-024f-459b-9ea3-dea1938b2e3d",
   "metadata": {},
   "outputs": [
    {
     "data": {
      "text/plain": [
       "-2"
      ]
     },
     "execution_count": 89,
     "metadata": {},
     "output_type": "execute_result"
    }
   ],
   "source": [
    "-1 and -2"
   ]
  },
  {
   "cell_type": "code",
   "execution_count": 93,
   "id": "b71e1cf9-acbb-4817-a5b1-1d2c3b1b9eff",
   "metadata": {},
   "outputs": [
    {
     "name": "stdout",
     "output_type": "stream",
     "text": [
      "0\n"
     ]
    }
   ],
   "source": [
    "print(0 and -2)"
   ]
  },
  {
   "cell_type": "code",
   "execution_count": 95,
   "id": "41aa6477-4267-418a-890b-8d28d920f069",
   "metadata": {},
   "outputs": [
    {
     "data": {
      "text/plain": [
       "2"
      ]
     },
     "execution_count": 95,
     "metadata": {},
     "output_type": "execute_result"
    }
   ],
   "source": [
    "1 and 2"
   ]
  },
  {
   "cell_type": "code",
   "execution_count": 97,
   "id": "1e6410b3-25b2-41e4-a286-87d2421fd51d",
   "metadata": {},
   "outputs": [
    {
     "data": {
      "text/plain": [
       "-2"
      ]
     },
     "execution_count": 97,
     "metadata": {},
     "output_type": "execute_result"
    }
   ],
   "source": [
    "2 and -2"
   ]
  },
  {
   "cell_type": "code",
   "execution_count": 99,
   "id": "fce5489f-fd65-4033-8ead-636362b5d419",
   "metadata": {},
   "outputs": [
    {
     "data": {
      "text/plain": [
       "-2"
      ]
     },
     "execution_count": 99,
     "metadata": {},
     "output_type": "execute_result"
    }
   ],
   "source": [
    "-1 and -2"
   ]
  },
  {
   "cell_type": "code",
   "execution_count": 111,
   "id": "93a0030c-3311-41f7-9cbb-c5d631e4f7b0",
   "metadata": {},
   "outputs": [
    {
     "data": {
      "text/plain": [
       "140736287183560"
      ]
     },
     "execution_count": 111,
     "metadata": {},
     "output_type": "execute_result"
    }
   ],
   "source": [
    "id(-2)"
   ]
  },
  {
   "cell_type": "code",
   "execution_count": 101,
   "id": "9795dc9d-c9c4-4802-8193-db0a637b5cbd",
   "metadata": {},
   "outputs": [
    {
     "data": {
      "text/plain": [
       "-10"
      ]
     },
     "execution_count": 101,
     "metadata": {},
     "output_type": "execute_result"
    }
   ],
   "source": [
    "-2 and -10"
   ]
  },
  {
   "cell_type": "code",
   "execution_count": 103,
   "id": "12aad516-1310-444c-9223-0478ca371866",
   "metadata": {},
   "outputs": [
    {
     "data": {
      "text/plain": [
       "0"
      ]
     },
     "execution_count": 103,
     "metadata": {},
     "output_type": "execute_result"
    }
   ],
   "source": [
    "0 and math.inf"
   ]
  },
  {
   "cell_type": "code",
   "execution_count": 105,
   "id": "ddf09363-eae2-4bf0-9787-12cd14120456",
   "metadata": {},
   "outputs": [
    {
     "data": {
      "text/plain": [
       "()"
      ]
     },
     "execution_count": 105,
     "metadata": {},
     "output_type": "execute_result"
    }
   ],
   "source": [
    "() and 2"
   ]
  },
  {
   "cell_type": "code",
   "execution_count": 107,
   "id": "bf167fb3-894d-454a-99cc-a858c61e6420",
   "metadata": {},
   "outputs": [
    {
     "data": {
      "text/plain": [
       "''"
      ]
     },
     "execution_count": 107,
     "metadata": {},
     "output_type": "execute_result"
    }
   ],
   "source": [
    "'' and 200"
   ]
  },
  {
   "cell_type": "code",
   "execution_count": 109,
   "id": "55ac6c71-9345-4d9e-9d00-25ffbe8a549d",
   "metadata": {},
   "outputs": [
    {
     "data": {
      "text/plain": [
       "{}"
      ]
     },
     "execution_count": 109,
     "metadata": {},
     "output_type": "execute_result"
    }
   ],
   "source": [
    "{} and math.inf"
   ]
  },
  {
   "cell_type": "code",
   "execution_count": 113,
   "id": "66192cd4-00e3-4098-ae3b-d9c4db8d9481",
   "metadata": {},
   "outputs": [
    {
     "data": {
      "text/plain": [
       "200"
      ]
     },
     "execution_count": 113,
     "metadata": {},
     "output_type": "execute_result"
    }
   ],
   "source": [
    "{} or 200"
   ]
  },
  {
   "cell_type": "code",
   "execution_count": 115,
   "id": "0bfe7916-1cc7-4102-b54e-0d47a371e0fa",
   "metadata": {},
   "outputs": [
    {
     "data": {
      "text/plain": [
       "-1"
      ]
     },
     "execution_count": 115,
     "metadata": {},
     "output_type": "execute_result"
    }
   ],
   "source": [
    "-1 or -2"
   ]
  },
  {
   "cell_type": "code",
   "execution_count": 117,
   "id": "a37f4d18-a3f2-4147-b726-ee1b1e855a41",
   "metadata": {},
   "outputs": [
    {
     "data": {
      "text/plain": [
       "False"
      ]
     },
     "execution_count": 117,
     "metadata": {},
     "output_type": "execute_result"
    }
   ],
   "source": [
    "not 5"
   ]
  },
  {
   "cell_type": "code",
   "execution_count": 119,
   "id": "b4fd2719-2f76-46f2-8d8c-0ce2224b4491",
   "metadata": {},
   "outputs": [
    {
     "data": {
      "text/plain": [
       "True"
      ]
     },
     "execution_count": 119,
     "metadata": {},
     "output_type": "execute_result"
    }
   ],
   "source": [
    "not ()"
   ]
  },
  {
   "cell_type": "code",
   "execution_count": 121,
   "id": "26edfc22-9ca4-4486-a0e5-99c7cd4165b4",
   "metadata": {},
   "outputs": [
    {
     "data": {
      "text/plain": [
       "True"
      ]
     },
     "execution_count": 121,
     "metadata": {},
     "output_type": "execute_result"
    }
   ],
   "source": [
    "not ''"
   ]
  },
  {
   "cell_type": "code",
   "execution_count": 123,
   "id": "42a1832a-5bee-46e9-83d9-938112a15437",
   "metadata": {},
   "outputs": [
    {
     "data": {
      "text/plain": [
       "True"
      ]
     },
     "execution_count": 123,
     "metadata": {},
     "output_type": "execute_result"
    }
   ],
   "source": [
    "not []"
   ]
  },
  {
   "cell_type": "code",
   "execution_count": 125,
   "id": "34e0fbd1-acd6-48ac-af73-c54fbb17799e",
   "metadata": {},
   "outputs": [
    {
     "data": {
      "text/plain": [
       "True"
      ]
     },
     "execution_count": 125,
     "metadata": {},
     "output_type": "execute_result"
    }
   ],
   "source": [
    "not None"
   ]
  },
  {
   "cell_type": "code",
   "execution_count": 127,
   "id": "ddd5e747-13e8-44e1-878c-dc1f895b144b",
   "metadata": {},
   "outputs": [
    {
     "data": {
      "text/plain": [
       "False"
      ]
     },
     "execution_count": 127,
     "metadata": {},
     "output_type": "execute_result"
    }
   ],
   "source": [
    "not math.inf"
   ]
  },
  {
   "cell_type": "code",
   "execution_count": 129,
   "id": "161482bd-6663-41bb-82a7-8153cd34344a",
   "metadata": {},
   "outputs": [
    {
     "data": {
      "text/plain": [
       "False"
      ]
     },
     "execution_count": 129,
     "metadata": {},
     "output_type": "execute_result"
    }
   ],
   "source": [
    "not math.exp"
   ]
  },
  {
   "cell_type": "markdown",
   "id": "5a2c38ab-8bdb-4fe1-b424-bf1b0a548b25",
   "metadata": {},
   "source": [
    "##### identity operators :  is , is not"
   ]
  },
  {
   "cell_type": "code",
   "execution_count": 142,
   "id": "e4e9a71a-f359-46ee-a0f9-8043bbc74586",
   "metadata": {},
   "outputs": [
    {
     "data": {
      "text/plain": [
       "(140736287183784, 140736287183784)"
      ]
     },
     "execution_count": 142,
     "metadata": {},
     "output_type": "execute_result"
    }
   ],
   "source": [
    "a = 5 \n",
    "b = 3+2\n",
    "id(a), id(b)"
   ]
  },
  {
   "cell_type": "code",
   "execution_count": 144,
   "id": "eb092ede-01e8-48c5-a04c-cf186e5140d3",
   "metadata": {},
   "outputs": [
    {
     "data": {
      "text/plain": [
       "True"
      ]
     },
     "execution_count": 144,
     "metadata": {},
     "output_type": "execute_result"
    }
   ],
   "source": [
    "a is b"
   ]
  },
  {
   "cell_type": "code",
   "execution_count": 146,
   "id": "ebbc1d78-e377-4a07-bec7-11d16546ee87",
   "metadata": {},
   "outputs": [
    {
     "data": {
      "text/plain": [
       "True"
      ]
     },
     "execution_count": 146,
     "metadata": {},
     "output_type": "execute_result"
    }
   ],
   "source": [
    "a == b"
   ]
  },
  {
   "cell_type": "code",
   "execution_count": 148,
   "id": "52964468-86f1-448d-8227-543cdb8eebee",
   "metadata": {},
   "outputs": [
    {
     "data": {
      "text/plain": [
       "(5, 5)"
      ]
     },
     "execution_count": 148,
     "metadata": {},
     "output_type": "execute_result"
    }
   ],
   "source": [
    "a, b"
   ]
  },
  {
   "cell_type": "code",
   "execution_count": 150,
   "id": "d7e3e62a-3f37-4bf7-a6e4-34d58629cc11",
   "metadata": {},
   "outputs": [
    {
     "name": "stderr",
     "output_type": "stream",
     "text": [
      "<>:1: SyntaxWarning: \"is not\" with a literal. Did you mean \"!=\"?\n",
      "<>:1: SyntaxWarning: \"is not\" with a literal. Did you mean \"!=\"?\n",
      "C:\\Users\\Sadiq\\AppData\\Local\\Temp\\ipykernel_14244\\1442882811.py:1: SyntaxWarning: \"is not\" with a literal. Did you mean \"!=\"?\n",
      "  3 is not 2\n"
     ]
    },
    {
     "data": {
      "text/plain": [
       "True"
      ]
     },
     "execution_count": 150,
     "metadata": {},
     "output_type": "execute_result"
    }
   ],
   "source": [
    "3 is not 2"
   ]
  },
  {
   "cell_type": "code",
   "execution_count": 152,
   "id": "c537fe02-fb36-4341-9663-73399b025f5c",
   "metadata": {},
   "outputs": [
    {
     "data": {
      "text/plain": [
       "True"
      ]
     },
     "execution_count": 152,
     "metadata": {},
     "output_type": "execute_result"
    }
   ],
   "source": [
    "3 != 2"
   ]
  },
  {
   "cell_type": "markdown",
   "id": "1efcfcc0-a4a8-46eb-9deb-e48111a6089b",
   "metadata": {},
   "source": [
    "##### membership operators : in and not in"
   ]
  },
  {
   "cell_type": "code",
   "execution_count": 155,
   "id": "7b78939c-b17d-4589-baf1-4d0394878268",
   "metadata": {},
   "outputs": [
    {
     "data": {
      "text/plain": [
       "True"
      ]
     },
     "execution_count": 155,
     "metadata": {},
     "output_type": "execute_result"
    }
   ],
   "source": [
    "l = [\"stats\", 2, 3.14]\n",
    "3.14 in l"
   ]
  },
  {
   "cell_type": "code",
   "execution_count": 157,
   "id": "20eff673-39f1-4122-8c70-1add7bc72e95",
   "metadata": {},
   "outputs": [
    {
     "data": {
      "text/plain": [
       "False"
      ]
     },
     "execution_count": 157,
     "metadata": {},
     "output_type": "execute_result"
    }
   ],
   "source": [
    "\"py\" in l"
   ]
  },
  {
   "cell_type": "code",
   "execution_count": 159,
   "id": "8b4d6049-39c5-4ce3-a148-b8f0da1f3eca",
   "metadata": {},
   "outputs": [
    {
     "data": {
      "text/plain": [
       "True"
      ]
     },
     "execution_count": 159,
     "metadata": {},
     "output_type": "execute_result"
    }
   ],
   "source": [
    "\"py\" not in l"
   ]
  },
  {
   "cell_type": "code",
   "execution_count": 161,
   "id": "fb059d94-50e7-45b1-b877-3d422e1dbfd3",
   "metadata": {},
   "outputs": [
    {
     "data": {
      "text/plain": [
       "6"
      ]
     },
     "execution_count": 161,
     "metadata": {},
     "output_type": "execute_result"
    }
   ],
   "source": [
    "5 if 5 > 6 else 6"
   ]
  },
  {
   "cell_type": "code",
   "execution_count": 163,
   "id": "8b6ac7b2-aba9-4e6d-a0a4-0cd5c64733d1",
   "metadata": {},
   "outputs": [
    {
     "data": {
      "text/plain": [
       "'5 is minimum'"
      ]
     },
     "execution_count": 163,
     "metadata": {},
     "output_type": "execute_result"
    }
   ],
   "source": [
    "\"5 is minimum\" if 5 < 6 else \"6 is minimum\""
   ]
  },
  {
   "cell_type": "markdown",
   "id": "e4482bce-e4fe-420e-ad0d-216cfeba06b1",
   "metadata": {},
   "source": [
    "#### Bitwise Operators"
   ]
  },
  {
   "cell_type": "code",
   "execution_count": null,
   "id": "e12018e4-af3e-4f0d-8987-a0534f8be9cb",
   "metadata": {},
   "outputs": [],
   "source": [
    "\n",
    "Operator​\n",
    "\n",
    "Description​\n",
    "\n",
    "Syntax​\n",
    "\n",
    "&​\n",
    "\n",
    "Bitwise AND​\n",
    "\n",
    "x & y​\n",
    "--------------------------------\n",
    "|​\n",
    "\n",
    "Bitwise OR​\n",
    "\n",
    "x | y​\n",
    "--------------------------------\n",
    "~​\n",
    "\n",
    "Bitwise NOT​\n",
    "\n",
    "~x​\n",
    "--------------------------------\n",
    "^​\n",
    "\n",
    "Bitwise XOR​\n",
    "\n",
    "x ^ y​\n",
    "--------------------------------\n",
    ">>​\n",
    "\n",
    "Bitwise right shift​\n",
    "\n",
    "x>>​\n",
    "--------------------------------\n",
    "<<​\n",
    "\n",
    "Bitwise left shift​\n",
    "\n",
    "x<<​\n",
    "\n"
   ]
  },
  {
   "cell_type": "code",
   "execution_count": 166,
   "id": "00e368d6-def4-4cfd-a377-fd5bbb357b54",
   "metadata": {},
   "outputs": [
    {
     "data": {
      "text/plain": [
       "0"
      ]
     },
     "execution_count": 166,
     "metadata": {},
     "output_type": "execute_result"
    }
   ],
   "source": [
    "2 & 5\n",
    "\n",
    "# 010\n",
    "# 101\n",
    "# ----\n",
    "# 000"
   ]
  },
  {
   "cell_type": "code",
   "execution_count": 168,
   "id": "7b3072f3-5b0f-455d-96e4-6f7f402dd35d",
   "metadata": {},
   "outputs": [
    {
     "data": {
      "text/plain": [
       "7"
      ]
     },
     "execution_count": 168,
     "metadata": {},
     "output_type": "execute_result"
    }
   ],
   "source": [
    "2 | 5\n",
    "\n",
    "# 010\n",
    "# 101\n",
    "# ----\n",
    "# 111"
   ]
  },
  {
   "cell_type": "code",
   "execution_count": 170,
   "id": "f9c167ab-c55e-40a0-9c59-6fe4765b632f",
   "metadata": {},
   "outputs": [
    {
     "data": {
      "text/plain": [
       "-6"
      ]
     },
     "execution_count": 170,
     "metadata": {},
     "output_type": "execute_result"
    }
   ],
   "source": [
    "~ 5\n",
    "\n",
    "# 0000 0101\n",
    "# 1111 1010\n",
    "\n",
    "\n",
    "# (11111010)₂ = (1 × 2⁷) + (1 × 2⁶) + (1 × 2⁵) + (1 × 2⁴) + (1 × 2³) + (0 × 2²) + (1 × 2¹) + (0 × 2⁰) = (-6)₁₀"
   ]
  },
  {
   "cell_type": "code",
   "execution_count": 172,
   "id": "227bb39c-89fc-4527-966c-c39f1eed65e0",
   "metadata": {},
   "outputs": [
    {
     "data": {
      "text/plain": [
       "1"
      ]
     },
     "execution_count": 172,
     "metadata": {},
     "output_type": "execute_result"
    }
   ],
   "source": [
    "2 ^ 3   # same bit values -> 0 , diff bit values -> 1\n",
    "\n",
    "# 010  \n",
    "# 011\n",
    "-----\n",
    "# 001"
   ]
  },
  {
   "cell_type": "code",
   "execution_count": 174,
   "id": "d0d25e56-8cf4-4e28-a12b-d39cdb166d0b",
   "metadata": {},
   "outputs": [
    {
     "data": {
      "text/plain": [
       "1"
      ]
     },
     "execution_count": 174,
     "metadata": {},
     "output_type": "execute_result"
    }
   ],
   "source": [
    "5 >> 2  # right shift 5 by 2 places\n"
   ]
  },
  {
   "cell_type": "code",
   "execution_count": 176,
   "id": "8fb56c5b-c62b-480e-a013-5a86833a0225",
   "metadata": {},
   "outputs": [
    {
     "data": {
      "text/plain": [
       "56"
      ]
     },
     "execution_count": 176,
     "metadata": {},
     "output_type": "execute_result"
    }
   ],
   "source": [
    "7 << 3\n",
    "\n",
    "#(00111000)₂ = (0 × 2⁷) + (0 × 2⁶) + (1 × 2⁵) + (1 × 2⁴) + (1 × 2³) + (0 × 2²) + (0 × 2¹) + (0 × 2⁰) = (56)₁₀"
   ]
  },
  {
   "cell_type": "markdown",
   "id": "b4517a9b-372b-41f8-93e8-dd5a0808a75b",
   "metadata": {},
   "source": [
    "##### Assignment operators"
   ]
  },
  {
   "cell_type": "code",
   "execution_count": 182,
   "id": "c48c5cf5-2d74-490f-8bcd-5aa1417ebc8c",
   "metadata": {},
   "outputs": [
    {
     "data": {
      "text/plain": [
       "'statistics'"
      ]
     },
     "execution_count": 182,
     "metadata": {},
     "output_type": "execute_result"
    }
   ],
   "source": [
    "var = \"statistics\"\n",
    "var"
   ]
  },
  {
   "cell_type": "code",
   "execution_count": 188,
   "id": "3677da16-8262-4cfe-aa08-3e8f9bd24038",
   "metadata": {},
   "outputs": [
    {
     "data": {
      "text/plain": [
       "4"
      ]
     },
     "execution_count": 188,
     "metadata": {},
     "output_type": "execute_result"
    }
   ],
   "source": [
    "c = 2\n",
    "c += 2  #c = c + 2\n",
    "c"
   ]
  },
  {
   "cell_type": "code",
   "execution_count": 190,
   "id": "2114d252-139c-4e6f-8b7e-52a2d2ea3d59",
   "metadata": {},
   "outputs": [
    {
     "data": {
      "text/plain": [
       "2"
      ]
     },
     "execution_count": 190,
     "metadata": {},
     "output_type": "execute_result"
    }
   ],
   "source": [
    "c -= 2  # c=c-2\n",
    "c"
   ]
  },
  {
   "cell_type": "code",
   "execution_count": 192,
   "id": "8a88116b-8023-4bb3-83d8-8203898e981d",
   "metadata": {},
   "outputs": [
    {
     "data": {
      "text/plain": [
       "4"
      ]
     },
     "execution_count": 192,
     "metadata": {},
     "output_type": "execute_result"
    }
   ],
   "source": [
    "c *= 2 # c = c*2\n",
    "c"
   ]
  },
  {
   "cell_type": "code",
   "execution_count": 194,
   "id": "29967744-cd90-4412-95ba-fd4e7f951381",
   "metadata": {},
   "outputs": [
    {
     "data": {
      "text/plain": [
       "2.0"
      ]
     },
     "execution_count": 194,
     "metadata": {},
     "output_type": "execute_result"
    }
   ],
   "source": [
    "c /= 2 # c =c/2\n",
    "c"
   ]
  },
  {
   "cell_type": "code",
   "execution_count": 196,
   "id": "8f915bcc-721b-40eb-82cc-d893e9883a48",
   "metadata": {},
   "outputs": [
    {
     "data": {
      "text/plain": [
       "2.0"
      ]
     },
     "execution_count": 196,
     "metadata": {},
     "output_type": "execute_result"
    }
   ],
   "source": [
    "c %= 3 # c = c % 3\n",
    "c"
   ]
  },
  {
   "cell_type": "code",
   "execution_count": 198,
   "id": "09bffa15-55ed-4c1e-bc8b-b86d42ca8b98",
   "metadata": {},
   "outputs": [
    {
     "data": {
      "text/plain": [
       "(2.6, 2)"
      ]
     },
     "execution_count": 198,
     "metadata": {},
     "output_type": "execute_result"
    }
   ],
   "source": [
    "13/5, 13//5"
   ]
  },
  {
   "cell_type": "code",
   "execution_count": 208,
   "id": "9f4d770e-b5a6-4b6b-8504-38ccd0b5fdb1",
   "metadata": {},
   "outputs": [
    {
     "data": {
      "text/plain": [
       "0.0"
      ]
     },
     "execution_count": 208,
     "metadata": {},
     "output_type": "execute_result"
    }
   ],
   "source": [
    "c //= 5\n",
    "c"
   ]
  },
  {
   "cell_type": "code",
   "execution_count": 214,
   "id": "e87f2c78-dc45-4d69-a4a9-088682b0eea8",
   "metadata": {},
   "outputs": [],
   "source": [
    "c =2"
   ]
  },
  {
   "cell_type": "code",
   "execution_count": 216,
   "id": "1a90aa98-d66a-4057-9ba5-916769d76a41",
   "metadata": {},
   "outputs": [],
   "source": [
    "c **= 5 #c= c**5"
   ]
  },
  {
   "cell_type": "code",
   "execution_count": 218,
   "id": "9743ceb1-f138-48d8-9627-c9d15d7bab64",
   "metadata": {},
   "outputs": [
    {
     "data": {
      "text/plain": [
       "32"
      ]
     },
     "execution_count": 218,
     "metadata": {},
     "output_type": "execute_result"
    }
   ],
   "source": [
    "c"
   ]
  },
  {
   "cell_type": "code",
   "execution_count": 238,
   "id": "1820b0fe-673c-4cef-a8a0-8615a3ca8dfb",
   "metadata": {},
   "outputs": [],
   "source": [
    "d = 2"
   ]
  },
  {
   "cell_type": "code",
   "execution_count": 240,
   "id": "ad0354d1-7020-4ce3-b79f-b37c3497f99f",
   "metadata": {},
   "outputs": [
    {
     "data": {
      "text/plain": [
       "0"
      ]
     },
     "execution_count": 240,
     "metadata": {},
     "output_type": "execute_result"
    }
   ],
   "source": [
    "d &= 5  # d = d & 5\n",
    "d"
   ]
  },
  {
   "cell_type": "code",
   "execution_count": 242,
   "id": "8da0013b-e61f-4143-b3d2-522ffa3fa0ed",
   "metadata": {},
   "outputs": [
    {
     "data": {
      "text/plain": [
       "0"
      ]
     },
     "execution_count": 242,
     "metadata": {},
     "output_type": "execute_result"
    }
   ],
   "source": [
    "2 & 5"
   ]
  },
  {
   "cell_type": "code",
   "execution_count": 246,
   "id": "27bf94da-f9d6-4a40-be7e-e2052e71a031",
   "metadata": {},
   "outputs": [
    {
     "data": {
      "text/plain": [
       "5"
      ]
     },
     "execution_count": 246,
     "metadata": {},
     "output_type": "execute_result"
    }
   ],
   "source": [
    "d |= 5\n",
    "d\n",
    "\n",
    "# 010\n",
    "# 101\n",
    "# ----\n",
    "# 111"
   ]
  },
  {
   "cell_type": "code",
   "execution_count": 250,
   "id": "18082c18-164c-4bf6-9960-2479c6c1535c",
   "metadata": {},
   "outputs": [
    {
     "data": {
      "text/plain": [
       "0"
      ]
     },
     "execution_count": 250,
     "metadata": {},
     "output_type": "execute_result"
    }
   ],
   "source": [
    "e = 4;\n",
    "e ^= 4\n",
    "e"
   ]
  },
  {
   "cell_type": "code",
   "execution_count": 254,
   "id": "cdb6ec02-a93c-461e-bc53-93ecc3293e4e",
   "metadata": {},
   "outputs": [],
   "source": [
    "e = 4"
   ]
  },
  {
   "cell_type": "code",
   "execution_count": 256,
   "id": "8484c198-2446-4b46-bf5e-fbe6ed9de97c",
   "metadata": {},
   "outputs": [
    {
     "data": {
      "text/plain": [
       "1"
      ]
     },
     "execution_count": 256,
     "metadata": {},
     "output_type": "execute_result"
    }
   ],
   "source": [
    "e >>= 2\n",
    "e"
   ]
  },
  {
   "cell_type": "code",
   "execution_count": 258,
   "id": "90db7127-f383-475c-9505-88423b3bb144",
   "metadata": {},
   "outputs": [],
   "source": [
    "e <<= 2"
   ]
  },
  {
   "cell_type": "code",
   "execution_count": 260,
   "id": "4ed05b73-341a-46be-aa55-05a4d4ca0ab4",
   "metadata": {},
   "outputs": [
    {
     "data": {
      "text/plain": [
       "4"
      ]
     },
     "execution_count": 260,
     "metadata": {},
     "output_type": "execute_result"
    }
   ],
   "source": [
    "e"
   ]
  },
  {
   "cell_type": "code",
   "execution_count": 262,
   "id": "31a2623d-d297-476f-9e86-566bcc4ba77e",
   "metadata": {},
   "outputs": [
    {
     "data": {
      "text/plain": [
       "11.0"
      ]
     },
     "execution_count": 262,
     "metadata": {},
     "output_type": "execute_result"
    }
   ],
   "source": [
    "2*4+3-6/2//3**5"
   ]
  },
  {
   "cell_type": "code",
   "execution_count": 268,
   "id": "4ece8713-ab98-43b8-a607-3af285a94196",
   "metadata": {},
   "outputs": [
    {
     "data": {
      "text/plain": [
       "(5, 'string', [1, 2, 3, 4, 5, 6])"
      ]
     },
     "execution_count": 268,
     "metadata": {},
     "output_type": "execute_result"
    }
   ],
   "source": [
    "2 + 3, \"str\"+\"ing\", [1, 2, 3]+[4, 5, 6]"
   ]
  },
  {
   "cell_type": "markdown",
   "id": "1443ff05-89a3-4e3b-8446-fc4c8f2eca21",
   "metadata": {},
   "source": [
    "### Python Conditionals"
   ]
  },
  {
   "cell_type": "markdown",
   "id": "9ee8e2b4-6b12-4722-b8d5-f29043830bee",
   "metadata": {},
   "source": [
    "if elif else"
   ]
  },
  {
   "cell_type": "code",
   "execution_count": 272,
   "id": "666ff061-379a-49e5-a76a-857f3153b2f3",
   "metadata": {},
   "outputs": [
    {
     "name": "stdin",
     "output_type": "stream",
     "text": [
      "Enter an integer: 45\n"
     ]
    },
    {
     "data": {
      "text/plain": [
       "'45'"
      ]
     },
     "execution_count": 272,
     "metadata": {},
     "output_type": "execute_result"
    }
   ],
   "source": [
    "number = input(\"Enter an integer:\")\n",
    "number"
   ]
  },
  {
   "cell_type": "code",
   "execution_count": 280,
   "id": "a7c01655-253d-415d-8d5b-004c88f00804",
   "metadata": {},
   "outputs": [
    {
     "name": "stdin",
     "output_type": "stream",
     "text": [
      "Enter an integer: 50\n"
     ]
    },
    {
     "data": {
      "text/plain": [
       "50"
      ]
     },
     "execution_count": 280,
     "metadata": {},
     "output_type": "execute_result"
    }
   ],
   "source": [
    "number = int(input(\"Enter an integer:\"))\n",
    "number"
   ]
  },
  {
   "cell_type": "code",
   "execution_count": 282,
   "id": "8ddfc3d2-41e4-4980-9042-f15f334c1ebb",
   "metadata": {},
   "outputs": [
    {
     "name": "stdout",
     "output_type": "stream",
     "text": [
      "even\n"
     ]
    }
   ],
   "source": [
    "if number%2==0:\n",
    "    print(\"even\")\n",
    "else: \n",
    "    print(\"odd\")"
   ]
  },
  {
   "cell_type": "code",
   "execution_count": 322,
   "id": "c42a2243-c9d5-4ce1-9c92-e41eaf558431",
   "metadata": {},
   "outputs": [
    {
     "name": "stdout",
     "output_type": "stream",
     "text": [
      "not divisible\n"
     ]
    }
   ],
   "source": [
    "number = 1\n",
    "\n",
    "if number%2==0:\n",
    "    print(\"divisible 2\")\n",
    "elif number%3==0:\n",
    "    print(\"divisible by 3\")\n",
    "elif number%7==0:\n",
    "    print(\"divisible by 7\")         \n",
    "else:\n",
    "    print(\"not divisible\")"
   ]
  },
  {
   "cell_type": "code",
   "execution_count": 304,
   "id": "874d39db-6415-4173-92e5-e90a69a50865",
   "metadata": {},
   "outputs": [
    {
     "name": "stdout",
     "output_type": "stream",
     "text": [
      "not divisible\n"
     ]
    }
   ],
   "source": [
    "number = 5\n",
    "\n",
    "if number%2==0:\n",
    "    if number%3==0:\n",
    "        print(\"divisible by both 2 & 3\")\n",
    "else:\n",
    "    print(\"not divisible\")"
   ]
  },
  {
   "cell_type": "code",
   "execution_count": 310,
   "id": "96bc9fd8-fee4-4e6f-bafc-c079d1a5bad7",
   "metadata": {},
   "outputs": [
    {
     "name": "stdout",
     "output_type": "stream",
     "text": [
      "not divisible\n"
     ]
    }
   ],
   "source": [
    "number = 11\n",
    "\n",
    "if number%2==0:\n",
    "    if number%3==0:\n",
    "        print(\"divisible by both 2 & 3\")\n",
    "    elif number%5==0:\n",
    "        print(\"divisible by 2 and 5\")\n",
    "else:\n",
    "    print(\"not divisible\")"
   ]
  },
  {
   "cell_type": "markdown",
   "id": "4c93fadf-dcab-4de2-af86-d7e6f9eb93d8",
   "metadata": {},
   "source": [
    "### Python Loops & Nested Loops"
   ]
  },
  {
   "cell_type": "raw",
   "id": "df2a51b0-b659-41b3-aa55-58ccbe4c568d",
   "metadata": {},
   "source": [
    "while\n",
    "\n",
    "for\n",
    "\n",
    "while \n",
    "else    # Else condition will always be executed\n",
    "\n",
    "for \n",
    "else\n",
    "\n",
    "while\n",
    "    while\n",
    "\n",
    "for\n",
    "    for\n",
    "\n",
    "while\n",
    "    for\n",
    "\n",
    "for\n",
    "    while"
   ]
  },
  {
   "cell_type": "code",
   "execution_count": 560,
   "id": "67ab9ad0-5987-49b2-983a-08cab5845db7",
   "metadata": {},
   "outputs": [
    {
     "name": "stdout",
     "output_type": "stream",
     "text": [
      "good\n",
      "morning\n"
     ]
    }
   ],
   "source": [
    "for letter in \"good morning   \".split(): #for loop will reach end of sequence and stop\n",
    "    print(letter)"
   ]
  },
  {
   "cell_type": "code",
   "execution_count": 326,
   "id": "43a037a5-04c7-42e7-ae15-f4234b3d3cbb",
   "metadata": {},
   "outputs": [
    {
     "name": "stdout",
     "output_type": "stream",
     "text": [
      "g\n",
      "o\n",
      "o\n",
      "d\n",
      " \n",
      "m\n",
      "o\n",
      "r\n",
      "n\n",
      "i\n",
      "n\n",
      "g\n",
      "good bye\n"
     ]
    }
   ],
   "source": [
    "for letter in \"good morning\": #for loop will reach end of sequence and stop\n",
    "    print(letter)\n",
    "else:\n",
    "    print(\"good bye\")"
   ]
  },
  {
   "cell_type": "code",
   "execution_count": 356,
   "id": "10f091ee-9310-4336-a294-d213ad009757",
   "metadata": {},
   "outputs": [
    {
     "name": "stdout",
     "output_type": "stream",
     "text": [
      "10\n",
      "20\n",
      "30\n",
      "40\n",
      "50\n"
     ]
    }
   ],
   "source": [
    "for number in [1, 2, 3, 4, 5]: #for loop will reach end of sequence and stop\n",
    "    print(number*10)"
   ]
  },
  {
   "cell_type": "code",
   "execution_count": 328,
   "id": "218005fc-7b69-4e52-a6a9-88dc5cb076ff",
   "metadata": {},
   "outputs": [
    {
     "name": "stdout",
     "output_type": "stream",
     "text": [
      "g_\n",
      "o_\n",
      "o_\n",
      "d_\n",
      " _\n",
      "m_\n",
      "o_\n",
      "r_\n",
      "n_\n",
      "i_\n",
      "n_\n",
      "g_\n",
      "good bye\n"
     ]
    }
   ],
   "source": [
    "for letter in \"good morning\": #for loop will reach end of sequence and stop\n",
    "    for each in letter:\n",
    "        print(each+\"_\")\n",
    "else:\n",
    "    print(\"good bye\")"
   ]
  },
  {
   "cell_type": "code",
   "execution_count": 340,
   "id": "2dbde5a1-1be8-4e49-885e-daeada6741d5",
   "metadata": {},
   "outputs": [
    {
     "name": "stdout",
     "output_type": "stream",
     "text": [
      "\n",
      "1 \n",
      "2 2 \n",
      "3 3 3 \n",
      "4 4 4 4 \n",
      "5 5 5 5 5 \n"
     ]
    }
   ],
   "source": [
    "for i in range(0, 6):\n",
    "    for j in range(i):\n",
    "        print( i, end=' ')\n",
    "    print()"
   ]
  },
  {
   "cell_type": "code",
   "execution_count": 336,
   "id": "5ffcb44a-fa43-4638-843f-c8bc39379746",
   "metadata": {},
   "outputs": [
    {
     "data": {
      "text/plain": [
       "[0, 1, 2, 3, 4, 5]"
      ]
     },
     "execution_count": 336,
     "metadata": {},
     "output_type": "execute_result"
    }
   ],
   "source": [
    "list(range(0,6))"
   ]
  },
  {
   "cell_type": "raw",
   "id": "654b199b-7889-47f3-ba13-e034b36968e5",
   "metadata": {},
   "source": [
    "condition should have initial value & modify the initial value\n",
    "while(condition):\n",
    "    statements"
   ]
  },
  {
   "cell_type": "code",
   "execution_count": 344,
   "id": "c1c23d3d-bb16-435c-a648-2092e55d6765",
   "metadata": {},
   "outputs": [
    {
     "name": "stdout",
     "output_type": "stream",
     "text": [
      "i<x\n",
      "i<x\n",
      "i<x\n"
     ]
    }
   ],
   "source": [
    "i = 0\n",
    "x = 3\n",
    "while (i<x):\n",
    "    print(\"i<x\")\n",
    "    i = i+1"
   ]
  },
  {
   "cell_type": "code",
   "execution_count": 354,
   "id": "72e04bfa-1871-4e98-b062-1d1c132c90f1",
   "metadata": {},
   "outputs": [
    {
     "name": "stdout",
     "output_type": "stream",
     "text": [
      "0<3\n",
      "1<3\n",
      "2<3\n",
      "3<3\n"
     ]
    }
   ],
   "source": [
    "i = 0\n",
    "x = 3\n",
    "while (i<x):\n",
    "    print(f\"{i}<{x}\")\n",
    "    i = i+1\n",
    "else:\n",
    "    print(f\"{i}<{x}\")"
   ]
  },
  {
   "cell_type": "markdown",
   "id": "76df0564-9a24-4e27-a46b-1235b3857bfc",
   "metadata": {},
   "source": [
    "##### Loop controls: continue, break, pass"
   ]
  },
  {
   "cell_type": "code",
   "execution_count": 383,
   "id": "d1933511-7124-4a17-9e54-90f1d456a732",
   "metadata": {},
   "outputs": [
    {
     "name": "stdout",
     "output_type": "stream",
     "text": [
      "g\n",
      "d\n",
      " \n",
      "m\n",
      "n\n",
      "i\n",
      "n\n",
      "g\n"
     ]
    }
   ],
   "source": [
    "for letter in \"good morning\":\n",
    "    if letter==\"o\" or letter==\"r\":\n",
    "        continue   # continue is used to reutn control back to loop\n",
    "    print(letter)"
   ]
  },
  {
   "cell_type": "code",
   "execution_count": 385,
   "id": "f610ac24-1a58-4750-8f03-1e9a59dc28b4",
   "metadata": {},
   "outputs": [
    {
     "name": "stdout",
     "output_type": "stream",
     "text": [
      "o\n",
      "o\n",
      "o\n",
      "r\n"
     ]
    }
   ],
   "source": [
    "for letter in \"good morning\":\n",
    "    if letter==\"o\" or letter==\"r\":\n",
    "        print(letter)\n",
    "        continue   # continue is used to reutn control back to loop, by omitting the execution of condition\n",
    "    "
   ]
  },
  {
   "cell_type": "code",
   "execution_count": 389,
   "id": "4ee40ed8-f31d-462e-9a71-584bf1d54285",
   "metadata": {},
   "outputs": [
    {
     "name": "stdout",
     "output_type": "stream",
     "text": [
      "g\n",
      "o\n",
      "o\n",
      "d\n",
      " \n",
      "m\n",
      "o\n"
     ]
    }
   ],
   "source": [
    "for letter in \"good morning\":\n",
    "    if  letter==\"r\":\n",
    "        break      # Execution is stopped when condition is met\n",
    "    print(letter)"
   ]
  },
  {
   "cell_type": "code",
   "execution_count": 379,
   "id": "b273d614-0b92-46bf-af90-0a80e525a377",
   "metadata": {},
   "outputs": [
    {
     "name": "stdout",
     "output_type": "stream",
     "text": [
      "g\n",
      "o\n",
      "o\n",
      "d\n",
      " \n",
      "m\n",
      "o\n",
      "r\n",
      "n\n",
      "i\n",
      "n\n",
      "g\n"
     ]
    }
   ],
   "source": [
    "for letter in \"good morning\":\n",
    "    if letter==\"o\":\n",
    "        pass        #Condition is not honoured, execution happens irrespective of condition\n",
    "    print(letter)"
   ]
  },
  {
   "cell_type": "code",
   "execution_count": 399,
   "id": "5955dbe7-0a3e-4f9d-bd4d-8523f98939e1",
   "metadata": {},
   "outputs": [
    {
     "name": "stdout",
     "output_type": "stream",
     "text": [
      "0<3\n"
     ]
    }
   ],
   "source": [
    "i = 0\n",
    "x = 3\n",
    "while (i>x):\n",
    "    print(f\"{i}<{x}\")\n",
    "    i = i+1\n",
    "    continue\n",
    "else:\n",
    "    print(f\"{i}<{x}\")"
   ]
  },
  {
   "cell_type": "code",
   "execution_count": 395,
   "id": "e037227d-5165-4685-8e6e-990fdd6d231f",
   "metadata": {},
   "outputs": [
    {
     "name": "stdout",
     "output_type": "stream",
     "text": [
      "0<3\n"
     ]
    }
   ],
   "source": [
    "i = 0\n",
    "x = 3\n",
    "while (i<x):\n",
    "    print(f\"{i}<{x}\")\n",
    "    i = i+1\n",
    "    break\n",
    "else:\n",
    "    print(f\"{i}<{x}\")"
   ]
  },
  {
   "cell_type": "code",
   "execution_count": 397,
   "id": "648a876e-41bc-4291-a4a2-12027d08e53c",
   "metadata": {},
   "outputs": [
    {
     "name": "stdout",
     "output_type": "stream",
     "text": [
      "0<3\n",
      "1<3\n",
      "2<3\n",
      "3<3\n"
     ]
    }
   ],
   "source": [
    "i = 0\n",
    "x = 3\n",
    "while (i<x):\n",
    "    print(f\"{i}<{x}\")\n",
    "    i = i+1\n",
    "    pass\n",
    "else:\n",
    "    print(f\"{i}<{x}\")"
   ]
  },
  {
   "cell_type": "markdown",
   "id": "1cef7085-75cf-403b-8661-a73b90c12d31",
   "metadata": {},
   "source": [
    "### Python Comprehensions"
   ]
  },
  {
   "cell_type": "raw",
   "id": "65f1d814-969f-43e1-80bb-52f5a7e3151b",
   "metadata": {},
   "source": [
    "list comprehension, []\n",
    "set comprehensions, {}\n",
    "dictionary comprehensions, {k:v} \n",
    "generator comprehensions ()"
   ]
  },
  {
   "cell_type": "code",
   "execution_count": 403,
   "id": "bf4f1be6-5c80-4268-ad39-2f297d5607af",
   "metadata": {},
   "outputs": [
    {
     "data": {
      "text/plain": [
       "[1, 4, 9, 16, 25]"
      ]
     },
     "execution_count": 403,
     "metadata": {},
     "output_type": "execute_result"
    }
   ],
   "source": [
    "l = [1, 2, 3, 4, 5]\n",
    "l2 = []\n",
    "for num in l:\n",
    "    l2.append(num*num) #elements are added towards the end\n",
    "l2"
   ]
  },
  {
   "cell_type": "code",
   "execution_count": 423,
   "id": "183d178a-421d-4812-abc4-dea0d886c379",
   "metadata": {},
   "outputs": [
    {
     "data": {
      "text/plain": [
       "[1, 4, 9, 16, 25]"
      ]
     },
     "execution_count": 423,
     "metadata": {},
     "output_type": "execute_result"
    }
   ],
   "source": [
    "l = [1, 2, 3, 4, 5]\n",
    "l2 = []\n",
    "for num in l:\n",
    "    l2.insert(num, (num*num)) #elements are added towards the end\n",
    "l2"
   ]
  },
  {
   "cell_type": "code",
   "execution_count": 421,
   "id": "cb7a5175-648e-4fb7-b74d-e1ce81932ba2",
   "metadata": {},
   "outputs": [
    {
     "name": "stdout",
     "output_type": "stream",
     "text": [
      "1\n",
      "2\n",
      "3\n",
      "4\n",
      "5\n"
     ]
    }
   ],
   "source": [
    "for num in l:\n",
    "    print(num)"
   ]
  },
  {
   "cell_type": "code",
   "execution_count": 405,
   "id": "78e7bc97-a785-4c35-8ca7-27261751a882",
   "metadata": {},
   "outputs": [
    {
     "data": {
      "text/plain": [
       "[1, 4, 9, 16, 25]"
      ]
     },
     "execution_count": 405,
     "metadata": {},
     "output_type": "execute_result"
    }
   ],
   "source": [
    "[num*num for num in l] # list comprehension - >[ return loop ]"
   ]
  },
  {
   "cell_type": "code",
   "execution_count": 427,
   "id": "f9330543-7662-44ce-902e-afd99091ab61",
   "metadata": {},
   "outputs": [
    {
     "data": {
      "text/plain": [
       "['G', 'O', 'O', 'D', ' ', 'M', 'O', 'R', 'N', 'I', 'N', 'G']"
      ]
     },
     "execution_count": 427,
     "metadata": {},
     "output_type": "execute_result"
    }
   ],
   "source": [
    "[each.upper() for each in \"good morning\"]"
   ]
  },
  {
   "cell_type": "code",
   "execution_count": 433,
   "id": "a5dda681-0033-483d-863c-078dad92a620",
   "metadata": {},
   "outputs": [
    {
     "data": {
      "text/plain": [
       "['GOOD', 'MORNING']"
      ]
     },
     "execution_count": 433,
     "metadata": {},
     "output_type": "execute_result"
    }
   ],
   "source": [
    "[var.upper() for var in \"good morning\".split()]"
   ]
  },
  {
   "cell_type": "code",
   "execution_count": 435,
   "id": "da39310b-1fcc-4f61-bbcd-48d12ae37bc8",
   "metadata": {},
   "outputs": [
    {
     "data": {
      "text/plain": [
       "['EVENING']"
      ]
     },
     "execution_count": 435,
     "metadata": {},
     "output_type": "execute_result"
    }
   ],
   "source": [
    "[var.upper() for var in \"good morning evening\".split() if var==\"evening\"]"
   ]
  },
  {
   "cell_type": "code",
   "execution_count": 437,
   "id": "5c656473-4242-4220-8d1d-0b9b54c48a93",
   "metadata": {},
   "outputs": [
    {
     "ename": "SyntaxError",
     "evalue": "invalid syntax (3395973835.py, line 1)",
     "output_type": "error",
     "traceback": [
      "\u001b[1;36m  Cell \u001b[1;32mIn[437], line 1\u001b[1;36m\u001b[0m\n\u001b[1;33m    [var.upper() for var in \"good morning evening\".split() if var==\"evening\" else \"_\"]\u001b[0m\n\u001b[1;37m                                                                             ^\u001b[0m\n\u001b[1;31mSyntaxError\u001b[0m\u001b[1;31m:\u001b[0m invalid syntax\n"
     ]
    }
   ],
   "source": [
    "[var.upper() for var in \"good morning evening\".split() if var==\"evening\" else \"_\"]"
   ]
  },
  {
   "cell_type": "code",
   "execution_count": 439,
   "id": "235736df-4249-43cc-9480-07be63b883ea",
   "metadata": {},
   "outputs": [
    {
     "data": {
      "text/plain": [
       "['_', '_', 'EVENING']"
      ]
     },
     "execution_count": 439,
     "metadata": {},
     "output_type": "execute_result"
    }
   ],
   "source": [
    "[var.upper() if var==\"evening\" else \"_\" for var in \"good morning evening\".split() ]"
   ]
  },
  {
   "cell_type": "raw",
   "id": "7ac6807c-8cb4-4b6f-9af1-ceb339fdd5e8",
   "metadata": {},
   "source": [
    "1st variation [return value for loop]\n",
    "2nd variation [return value for loop and if condition]\n",
    "3rd variation [return if condition else condition for loop]\n",
    "4th variation [return for loop for loop]"
   ]
  },
  {
   "cell_type": "code",
   "execution_count": 441,
   "id": "91240f87-ead5-4e2a-9977-32a51a5ad0ac",
   "metadata": {},
   "outputs": [
    {
     "name": "stdout",
     "output_type": "stream",
     "text": [
      "\n",
      "1 \n",
      "2 2 \n",
      "3 3 3 \n",
      "4 4 4 4 \n",
      "5 5 5 5 5 \n"
     ]
    }
   ],
   "source": [
    "for i in range(0, 6):\n",
    "    for j in range(i):\n",
    "        print( i, end=' ')\n",
    "    print()"
   ]
  },
  {
   "cell_type": "code",
   "execution_count": 455,
   "id": "d1780af7-50c2-411f-aa70-6861d8918ad3",
   "metadata": {},
   "outputs": [
    {
     "data": {
      "text/plain": [
       "[1, 2, 2, 3, 3, 3, 4, 4, 4, 4, 5, 5, 5, 5, 5]"
      ]
     },
     "execution_count": 455,
     "metadata": {},
     "output_type": "execute_result"
    }
   ],
   "source": [
    "[i for i in range(0, 6) for j in range(i)]"
   ]
  },
  {
   "cell_type": "code",
   "execution_count": 459,
   "id": "b5319846-d426-4e41-8c48-59eebfdf1fc1",
   "metadata": {},
   "outputs": [
    {
     "data": {
      "text/plain": [
       "['G', 'O', 'O', 'D', ' ', 'M', 'O', 'R', 'N', 'I', 'N', 'G']"
      ]
     },
     "execution_count": 459,
     "metadata": {},
     "output_type": "execute_result"
    }
   ],
   "source": [
    "[each.upper() for each in \"good morning\"]"
   ]
  },
  {
   "cell_type": "code",
   "execution_count": 457,
   "id": "4c194251-89dd-4a2f-9656-3a11f26117a0",
   "metadata": {},
   "outputs": [
    {
     "data": {
      "text/plain": [
       "{' ', 'D', 'G', 'I', 'M', 'N', 'O', 'R'}"
      ]
     },
     "execution_count": 457,
     "metadata": {},
     "output_type": "execute_result"
    }
   ],
   "source": [
    "{each.upper() for each in \"good morning\"}"
   ]
  },
  {
   "cell_type": "code",
   "execution_count": 463,
   "id": "4a66d9de-5b58-4277-80c3-f58aec882f81",
   "metadata": {},
   "outputs": [
    {
     "data": {
      "text/plain": [
       "['_', '_', 'EVENING']"
      ]
     },
     "execution_count": 463,
     "metadata": {},
     "output_type": "execute_result"
    }
   ],
   "source": [
    "[var.upper() if var==\"evening\" else \"_\" for var in \"good morning evening\".split() ]"
   ]
  },
  {
   "cell_type": "code",
   "execution_count": 471,
   "id": "1a61476a-f6da-4b53-9da3-ccf5fa777c6b",
   "metadata": {},
   "outputs": [
    {
     "data": {
      "text/plain": [
       "{'EVENING', '_'}"
      ]
     },
     "execution_count": 471,
     "metadata": {},
     "output_type": "execute_result"
    }
   ],
   "source": [
    "{var.upper() if var==\"evening\" else \"_\" for var in \"good morning evening\".split() }"
   ]
  },
  {
   "cell_type": "code",
   "execution_count": 475,
   "id": "bedb7f63-9016-4bfe-8327-1a3b27e3b8d5",
   "metadata": {},
   "outputs": [],
   "source": [
    "dictionary = {\"lang\": \"python\", \"sub\": \"maths\"}"
   ]
  },
  {
   "cell_type": "code",
   "execution_count": 477,
   "id": "c9abee0e-b52e-477b-8f79-f9d8de5d675f",
   "metadata": {},
   "outputs": [
    {
     "data": {
      "text/plain": [
       "dict_items([('lang', 'python'), ('sub', 'maths')])"
      ]
     },
     "execution_count": 477,
     "metadata": {},
     "output_type": "execute_result"
    }
   ],
   "source": [
    "dictionary.items()"
   ]
  },
  {
   "cell_type": "code",
   "execution_count": 483,
   "id": "ae77c7ce-f42e-4ff2-afef-3c0f773a19f4",
   "metadata": {},
   "outputs": [
    {
     "data": {
      "text/plain": [
       "{'langpython', 'submaths'}"
      ]
     },
     "execution_count": 483,
     "metadata": {},
     "output_type": "execute_result"
    }
   ],
   "source": [
    "{(key+value) for key, value in dictionary.items()} #Dictionary comprehension"
   ]
  },
  {
   "cell_type": "code",
   "execution_count": 485,
   "id": "2d0575e0-be38-4f46-a7a5-6766e6719230",
   "metadata": {},
   "outputs": [
    {
     "data": {
      "text/plain": [
       "{'lang', 'sub'}"
      ]
     },
     "execution_count": 485,
     "metadata": {},
     "output_type": "execute_result"
    }
   ],
   "source": [
    "{(key) for key in dictionary.keys()}"
   ]
  },
  {
   "cell_type": "code",
   "execution_count": 487,
   "id": "0e14845c-8e55-4bf2-a3e7-cd74cf10768a",
   "metadata": {},
   "outputs": [
    {
     "data": {
      "text/plain": [
       "{'maths', 'python'}"
      ]
     },
     "execution_count": 487,
     "metadata": {},
     "output_type": "execute_result"
    }
   ],
   "source": [
    "{value for value in dictionary.values()}"
   ]
  },
  {
   "cell_type": "code",
   "execution_count": 499,
   "id": "e944e66d-2a7c-44ae-9a93-b5dc3a8e186b",
   "metadata": {},
   "outputs": [],
   "source": [
    "gen = (each.upper() for each in \"good morning\")"
   ]
  },
  {
   "cell_type": "code",
   "execution_count": 495,
   "id": "a6154a04-8989-460d-9d3a-88baab63bca6",
   "metadata": {},
   "outputs": [
    {
     "data": {
      "text/plain": [
       "['G', 'O', 'O', 'D', ' ', 'M', 'O', 'R', 'N', 'I', 'N', 'G']"
      ]
     },
     "execution_count": 495,
     "metadata": {},
     "output_type": "execute_result"
    }
   ],
   "source": [
    "list(gen)"
   ]
  },
  {
   "cell_type": "code",
   "execution_count": 526,
   "id": "3f950a7b-0c4d-4d92-94ec-03007f25746e",
   "metadata": {},
   "outputs": [
    {
     "ename": "StopIteration",
     "evalue": "",
     "output_type": "error",
     "traceback": [
      "\u001b[1;31m---------------------------------------------------------------------------\u001b[0m",
      "\u001b[1;31mStopIteration\u001b[0m                             Traceback (most recent call last)",
      "Cell \u001b[1;32mIn[526], line 1\u001b[0m\n\u001b[1;32m----> 1\u001b[0m gen\u001b[38;5;241m.\u001b[39m\u001b[38;5;21m__next__\u001b[39m()\n",
      "\u001b[1;31mStopIteration\u001b[0m: "
     ]
    }
   ],
   "source": [
    "gen.__next__()"
   ]
  },
  {
   "cell_type": "code",
   "execution_count": 528,
   "id": "4a1d5909-e5fc-4fa7-808a-38ff421f58f3",
   "metadata": {},
   "outputs": [
    {
     "data": {
      "text/plain": [
       "<generator object <genexpr> at 0x0000022C493CA400>"
      ]
     },
     "execution_count": 528,
     "metadata": {},
     "output_type": "execute_result"
    }
   ],
   "source": [
    "(val for val in range(0,1000000000000)).__next__() #-> generator comprehensions"
   ]
  },
  {
   "cell_type": "code",
   "execution_count": null,
   "id": "2b39dd66-6b3d-43c7-97e2-e980ef3a989d",
   "metadata": {},
   "outputs": [],
   "source": [
    "try:\n",
    "    gen = (val for val in range(0,1000000000000))\n",
    "except StopIteration"
   ]
  },
  {
   "cell_type": "code",
   "execution_count": 544,
   "id": "b5c95f84-35ed-4315-8246-27eccb3cc273",
   "metadata": {},
   "outputs": [],
   "source": [
    "gen = (val for val in range(0,1000000000000))"
   ]
  },
  {
   "cell_type": "code",
   "execution_count": 552,
   "id": "a2d61f6d-e17e-42f9-a4cf-8edb8d7e41f5",
   "metadata": {},
   "outputs": [
    {
     "data": {
      "text/plain": [
       "2"
      ]
     },
     "execution_count": 552,
     "metadata": {},
     "output_type": "execute_result"
    }
   ],
   "source": [
    "myiter = iter(gen)  #access iteration\n",
    "next(myiter)"
   ]
  },
  {
   "cell_type": "markdown",
   "id": "3297e029-ff1b-42ab-8ab8-6063eb5a34b4",
   "metadata": {},
   "source": [
    "# Day 2"
   ]
  },
  {
   "cell_type": "code",
   "execution_count": null,
   "id": "81e61855-34f8-4dfc-aa7b-6996a4c8ff7b",
   "metadata": {},
   "outputs": [],
   "source": [
    "Different \n",
    "\n",
    "data engineer\n",
    "Data Analyst\n",
    "Data scientist\n",
    "    - applied data scientist\n",
    "    - NLP specialist\n",
    "    - ML Engineer\n",
    "    - MLOps Engineer\n",
    "    - LLM Engineer\n",
    "    - AI Engineer\n",
    "    - Vision engineer\n",
    "    - Product software AI engineer"
   ]
  },
  {
   "cell_type": "markdown",
   "id": "a4c6e8e4-f741-4bb1-b551-fa666ba98d77",
   "metadata": {},
   "source": [
    "##### Collections Module"
   ]
  },
  {
   "cell_type": "markdown",
   "id": "e8ebfe96-a3e2-4381-b5a1-95acc784d81b",
   "metadata": {},
   "source": [
    "The built-in collections package provides several specialized, flexible collection types that are both highperformance and \n",
    "provide alternatives to the general collection types of dict, list, tuple and set. \n",
    "\n",
    "The module also defines abstract base classes describing different types of collection functionality (such as MutableSet and\n",
    "ItemsView)"
   ]
  },
  {
   "cell_type": "raw",
   "id": "e2ec4131-96ab-4845-bc0f-76420ab19c65",
   "metadata": {},
   "source": [
    "Builtin datatypes - set, list, array, tuples, dictionary"
   ]
  },
  {
   "cell_type": "raw",
   "id": "408eb30f-e7a1-4bc7-8142-3c49d1e6a927",
   "metadata": {},
   "source": [
    "special datatypes - Collections module"
   ]
  },
  {
   "cell_type": "code",
   "execution_count": 13,
   "id": "84d3eb93-f534-43da-b7b0-086cd7126a7d",
   "metadata": {},
   "outputs": [],
   "source": [
    "from collections import *"
   ]
  },
  {
   "cell_type": "code",
   "execution_count": 10,
   "id": "f52f9d06-91da-40e6-986a-c59da08976ef",
   "metadata": {},
   "outputs": [
    {
     "data": {
      "text/plain": [
       "['ChainMap',\n",
       " 'Counter',\n",
       " 'OrderedDict',\n",
       " 'UserDict',\n",
       " 'UserList',\n",
       " 'UserString',\n",
       " '_Link',\n",
       " '_OrderedDictItemsView',\n",
       " '_OrderedDictKeysView',\n",
       " '_OrderedDictValuesView',\n",
       " '__all__',\n",
       " '__builtins__',\n",
       " '__cached__',\n",
       " '__doc__',\n",
       " '__file__',\n",
       " '__loader__',\n",
       " '__name__',\n",
       " '__package__',\n",
       " '__path__',\n",
       " '__spec__',\n",
       " '_chain',\n",
       " '_collections_abc',\n",
       " '_count_elements',\n",
       " '_eq',\n",
       " '_iskeyword',\n",
       " '_itemgetter',\n",
       " '_proxy',\n",
       " '_recursive_repr',\n",
       " '_repeat',\n",
       " '_starmap',\n",
       " '_sys',\n",
       " '_tuplegetter',\n",
       " 'abc',\n",
       " 'defaultdict',\n",
       " 'deque',\n",
       " 'namedtuple']"
      ]
     },
     "execution_count": 10,
     "metadata": {},
     "output_type": "execute_result"
    }
   ],
   "source": [
    "dir(collections)"
   ]
  },
  {
   "cell_type": "markdown",
   "id": "e109f27d-14d8-482d-b0b6-8a16c39610bb",
   "metadata": {},
   "source": [
    "##### counter"
   ]
  },
  {
   "cell_type": "code",
   "execution_count": 17,
   "id": "5dd76666-ef9b-4f0e-b3e0-4b3c8b6d0b09",
   "metadata": {},
   "outputs": [],
   "source": [
    "some_list = [\"swapnil\", \"mufaris\", \"sadiq\", \"swapnil\", \"yaseen\", \"sadiq\"]"
   ]
  },
  {
   "cell_type": "code",
   "execution_count": 19,
   "id": "e364deff-c423-4ad3-8373-5d29b8c6dc9b",
   "metadata": {},
   "outputs": [],
   "source": [
    "count = Counter(some_list)"
   ]
  },
  {
   "cell_type": "code",
   "execution_count": 21,
   "id": "eddddebe-595c-47aa-9b00-e3a2b347d462",
   "metadata": {},
   "outputs": [
    {
     "data": {
      "text/plain": [
       "Counter({'swapnil': 2, 'sadiq': 2, 'mufaris': 1, 'yaseen': 1})"
      ]
     },
     "execution_count": 21,
     "metadata": {},
     "output_type": "execute_result"
    }
   ],
   "source": [
    "count"
   ]
  },
  {
   "cell_type": "code",
   "execution_count": 23,
   "id": "bafb5d4e-53e6-4e55-b6f8-5f2eb5c93dbc",
   "metadata": {},
   "outputs": [
    {
     "data": {
      "text/plain": [
       "Counter({'a': 2,\n",
       "         'p': 2,\n",
       "         'y': 2,\n",
       "         'H': 1,\n",
       "         ' ': 1,\n",
       "         'B': 1,\n",
       "         'i': 1,\n",
       "         'r': 1,\n",
       "         't': 1,\n",
       "         'h': 1,\n",
       "         'd': 1})"
      ]
     },
     "execution_count": 23,
     "metadata": {},
     "output_type": "execute_result"
    }
   ],
   "source": [
    "Counter(\"Happy Birthday\")"
   ]
  },
  {
   "cell_type": "code",
   "execution_count": 27,
   "id": "b9e7cb91-5684-4b52-bd63-419d2182a9e9",
   "metadata": {},
   "outputs": [],
   "source": [
    "para = \"hello how are you today, did you attend the classes?\""
   ]
  },
  {
   "cell_type": "code",
   "execution_count": 31,
   "id": "b2e65188-8819-4602-9db3-c04b4a7b77df",
   "metadata": {},
   "outputs": [
    {
     "data": {
      "text/plain": [
       "Counter({'you': 2,\n",
       "         'hello': 1,\n",
       "         'how': 1,\n",
       "         'are': 1,\n",
       "         'today,': 1,\n",
       "         'did': 1,\n",
       "         'attend': 1,\n",
       "         'the': 1,\n",
       "         'classes?': 1})"
      ]
     },
     "execution_count": 31,
     "metadata": {},
     "output_type": "execute_result"
    }
   ],
   "source": [
    "Counter(para.split())"
   ]
  },
  {
   "cell_type": "code",
   "execution_count": 35,
   "id": "14c91a1e-31fc-412b-a1ef-dadfba5b66ba",
   "metadata": {},
   "outputs": [
    {
     "data": {
      "text/plain": [
       "Counter({'a': 4, 'c': 3, 'd': 3, 'b': 2})"
      ]
     },
     "execution_count": 35,
     "metadata": {},
     "output_type": "execute_result"
    }
   ],
   "source": [
    "Counter({'a':4, 'b':2, 'c':3, 'd':3}) # keys are unique"
   ]
  },
  {
   "cell_type": "code",
   "execution_count": 41,
   "id": "1b0751bb-3b3d-4fc6-9be2-9eb8448420e0",
   "metadata": {},
   "outputs": [
    {
     "data": {
      "text/plain": [
       "{'a': 3, 'b': 2, 'c': 3}"
      ]
     },
     "execution_count": 41,
     "metadata": {},
     "output_type": "execute_result"
    }
   ],
   "source": [
    "{'a':4, 'b':2, 'c':3, 'a':3}"
   ]
  },
  {
   "cell_type": "code",
   "execution_count": 39,
   "id": "d921427f-739d-49ec-b1a8-eb628a959c0a",
   "metadata": {},
   "outputs": [
    {
     "data": {
      "text/plain": [
       "Counter({'a': 3, 'c': 3, 'b': 2})"
      ]
     },
     "execution_count": 39,
     "metadata": {},
     "output_type": "execute_result"
    }
   ],
   "source": [
    "Counter({'a':4, 'b':2, 'c':3, 'a':3}) "
   ]
  },
  {
   "cell_type": "code",
   "execution_count": 43,
   "id": "74e8b756-768e-43db-a7dc-88476adfd135",
   "metadata": {},
   "outputs": [
    {
     "data": {
      "text/plain": [
       "{1, 2, 3}"
      ]
     },
     "execution_count": 43,
     "metadata": {},
     "output_type": "execute_result"
    }
   ],
   "source": [
    "{1, 2, 1, 2, 3, 1, 2}"
   ]
  },
  {
   "cell_type": "code",
   "execution_count": 37,
   "id": "457b1d89-79cf-4826-aba6-b319750e9c7d",
   "metadata": {},
   "outputs": [
    {
     "data": {
      "text/plain": [
       "Counter({1: 1, 2: 1, 3: 1})"
      ]
     },
     "execution_count": 37,
     "metadata": {},
     "output_type": "execute_result"
    }
   ],
   "source": [
    "Counter({1, 2, 1, 2, 3, 1, 2}) #set itself stores unique elements"
   ]
  },
  {
   "cell_type": "markdown",
   "id": "bd598270-212a-420b-84ba-8a828309f1f0",
   "metadata": {},
   "source": [
    "##### default dict"
   ]
  },
  {
   "cell_type": "code",
   "execution_count": 46,
   "id": "404521e0-d125-4ea0-b3e5-1ea35cdea0bc",
   "metadata": {},
   "outputs": [
    {
     "data": {
      "text/plain": [
       "{'a': 3, 'b': 2, 'c': 3}"
      ]
     },
     "execution_count": 46,
     "metadata": {},
     "output_type": "execute_result"
    }
   ],
   "source": [
    "some_dict = {'a':4, 'b':2, 'c':3, 'a':3}\n",
    "some_dict"
   ]
  },
  {
   "cell_type": "code",
   "execution_count": 50,
   "id": "6a4620bb-1df3-45a9-a978-20a56dea1246",
   "metadata": {},
   "outputs": [],
   "source": [
    "some_dict['d']=4"
   ]
  },
  {
   "cell_type": "code",
   "execution_count": 52,
   "id": "5507c686-6e17-4fd0-8367-f148ce6ea7fe",
   "metadata": {},
   "outputs": [
    {
     "ename": "KeyError",
     "evalue": "'e'",
     "output_type": "error",
     "traceback": [
      "\u001b[1;31m---------------------------------------------------------------------------\u001b[0m",
      "\u001b[1;31mKeyError\u001b[0m                                  Traceback (most recent call last)",
      "Cell \u001b[1;32mIn[52], line 1\u001b[0m\n\u001b[1;32m----> 1\u001b[0m some_dict[\u001b[38;5;124m'\u001b[39m\u001b[38;5;124me\u001b[39m\u001b[38;5;124m'\u001b[39m]\n",
      "\u001b[1;31mKeyError\u001b[0m: 'e'"
     ]
    }
   ],
   "source": [
    "some_dict['e']"
   ]
  },
  {
   "cell_type": "code",
   "execution_count": 56,
   "id": "941a2c60-613c-4b8a-872c-c1ffa64e3e70",
   "metadata": {},
   "outputs": [
    {
     "data": {
      "text/plain": [
       "defaultdict(str, {})"
      ]
     },
     "execution_count": 56,
     "metadata": {},
     "output_type": "execute_result"
    }
   ],
   "source": [
    "some_dict1 = defaultdict(str)\n",
    "some_dict1"
   ]
  },
  {
   "cell_type": "code",
   "execution_count": 58,
   "id": "30b2b94b-7d98-4fb7-9df5-a0cb2f3f9857",
   "metadata": {},
   "outputs": [],
   "source": [
    "some_dict1['a']=3\n",
    "some_dict1['b']=2"
   ]
  },
  {
   "cell_type": "code",
   "execution_count": 60,
   "id": "b6afe999-a86f-416f-adf2-8a43e3c1e981",
   "metadata": {},
   "outputs": [
    {
     "data": {
      "text/plain": [
       "defaultdict(str, {'a': 3, 'b': 2})"
      ]
     },
     "execution_count": 60,
     "metadata": {},
     "output_type": "execute_result"
    }
   ],
   "source": [
    "some_dict1"
   ]
  },
  {
   "cell_type": "code",
   "execution_count": 62,
   "id": "37e0654e-dc09-444e-9e98-a9844dce6e23",
   "metadata": {},
   "outputs": [
    {
     "data": {
      "text/plain": [
       "''"
      ]
     },
     "execution_count": 62,
     "metadata": {},
     "output_type": "execute_result"
    }
   ],
   "source": [
    "some_dict1['c']"
   ]
  },
  {
   "cell_type": "code",
   "execution_count": 64,
   "id": "da2bda54-7999-4025-967b-84d09456eb89",
   "metadata": {},
   "outputs": [
    {
     "data": {
      "text/plain": [
       "defaultdict(str, {'a': 3, 'b': 2, 'c': ''})"
      ]
     },
     "execution_count": 64,
     "metadata": {},
     "output_type": "execute_result"
    }
   ],
   "source": [
    "some_dict1"
   ]
  },
  {
   "cell_type": "code",
   "execution_count": 68,
   "id": "256aef96-e5ca-4fc0-b5e7-e208548c40fa",
   "metadata": {},
   "outputs": [],
   "source": [
    "int_dict = defaultdict(int)"
   ]
  },
  {
   "cell_type": "code",
   "execution_count": 70,
   "id": "52d158ea-1485-480d-b579-f28740e39be4",
   "metadata": {},
   "outputs": [],
   "source": [
    "int_dict['a']=1"
   ]
  },
  {
   "cell_type": "code",
   "execution_count": 72,
   "id": "fc80165a-261a-43d5-abc5-65bc4391f410",
   "metadata": {},
   "outputs": [
    {
     "data": {
      "text/plain": [
       "defaultdict(int, {'a': 1})"
      ]
     },
     "execution_count": 72,
     "metadata": {},
     "output_type": "execute_result"
    }
   ],
   "source": [
    "int_dict"
   ]
  },
  {
   "cell_type": "code",
   "execution_count": 74,
   "id": "d8d02c1d-7003-4714-bef1-f84cee9ca556",
   "metadata": {},
   "outputs": [
    {
     "data": {
      "text/plain": [
       "0"
      ]
     },
     "execution_count": 74,
     "metadata": {},
     "output_type": "execute_result"
    }
   ],
   "source": [
    "int_dict['b']"
   ]
  },
  {
   "cell_type": "code",
   "execution_count": 76,
   "id": "4a4066c5-999a-43d4-9029-143da8e4e900",
   "metadata": {},
   "outputs": [
    {
     "data": {
      "text/plain": [
       "defaultdict(int, {'a': 1, 'b': 0})"
      ]
     },
     "execution_count": 76,
     "metadata": {},
     "output_type": "execute_result"
    }
   ],
   "source": [
    "int_dict"
   ]
  },
  {
   "cell_type": "code",
   "execution_count": 78,
   "id": "f1814e9e-320c-4359-a4de-89e7446099ae",
   "metadata": {},
   "outputs": [],
   "source": [
    "flo_dict = defaultdict(float)"
   ]
  },
  {
   "cell_type": "code",
   "execution_count": 80,
   "id": "31f8482f-644a-41a1-8659-edaa7921995a",
   "metadata": {},
   "outputs": [],
   "source": [
    "flo_dict['a']=4"
   ]
  },
  {
   "cell_type": "code",
   "execution_count": 82,
   "id": "35d8fd5a-db3b-41bd-a588-e2ff32aff558",
   "metadata": {},
   "outputs": [
    {
     "data": {
      "text/plain": [
       "0.0"
      ]
     },
     "execution_count": 82,
     "metadata": {},
     "output_type": "execute_result"
    }
   ],
   "source": [
    "flo_dict['b']"
   ]
  },
  {
   "cell_type": "code",
   "execution_count": 84,
   "id": "918d1714-e674-42b7-a25b-54ac52997a50",
   "metadata": {},
   "outputs": [
    {
     "data": {
      "text/plain": [
       "defaultdict(float, {'a': 4, 'b': 0.0})"
      ]
     },
     "execution_count": 84,
     "metadata": {},
     "output_type": "execute_result"
    }
   ],
   "source": [
    "flo_dict"
   ]
  },
  {
   "cell_type": "code",
   "execution_count": 94,
   "id": "418ef7a8-9810-4a33-a4c5-1303a33df249",
   "metadata": {},
   "outputs": [
    {
     "data": {
      "text/plain": [
       "(1+2j)"
      ]
     },
     "execution_count": 94,
     "metadata": {},
     "output_type": "execute_result"
    }
   ],
   "source": [
    "complex(1, 2)"
   ]
  },
  {
   "cell_type": "code",
   "execution_count": 96,
   "id": "dc15fd22-95b1-4210-bbd9-7a383d68a85e",
   "metadata": {},
   "outputs": [
    {
     "data": {
      "text/plain": [
       "defaultdict(complex, {})"
      ]
     },
     "execution_count": 96,
     "metadata": {},
     "output_type": "execute_result"
    }
   ],
   "source": [
    "comp_dict = defaultdict(complex)\n",
    "comp_dict"
   ]
  },
  {
   "cell_type": "code",
   "execution_count": 98,
   "id": "3d32eea3-b720-434a-aeb6-0336c3f56ab3",
   "metadata": {},
   "outputs": [],
   "source": [
    "comp_dict['a']=6"
   ]
  },
  {
   "cell_type": "code",
   "execution_count": 100,
   "id": "084b37b1-814d-4254-bb45-c2353d85fddc",
   "metadata": {},
   "outputs": [
    {
     "data": {
      "text/plain": [
       "defaultdict(complex, {'a': 6})"
      ]
     },
     "execution_count": 100,
     "metadata": {},
     "output_type": "execute_result"
    }
   ],
   "source": [
    "comp_dict"
   ]
  },
  {
   "cell_type": "code",
   "execution_count": 102,
   "id": "2b0dda9f-b634-4644-ac36-d4bbe67e49c7",
   "metadata": {},
   "outputs": [
    {
     "data": {
      "text/plain": [
       "0j"
      ]
     },
     "execution_count": 102,
     "metadata": {},
     "output_type": "execute_result"
    }
   ],
   "source": [
    "comp_dict['b']"
   ]
  },
  {
   "cell_type": "code",
   "execution_count": 104,
   "id": "0650671e-f82b-49ca-ac09-ade24b844631",
   "metadata": {},
   "outputs": [
    {
     "data": {
      "text/plain": [
       "defaultdict(complex, {'a': 6, 'b': 0j})"
      ]
     },
     "execution_count": 104,
     "metadata": {},
     "output_type": "execute_result"
    }
   ],
   "source": [
    "comp_dict"
   ]
  },
  {
   "cell_type": "code",
   "execution_count": 111,
   "id": "9f57ae39-d643-4584-a3eb-f1a3c584682b",
   "metadata": {},
   "outputs": [
    {
     "data": {
      "text/plain": [
       "0j"
      ]
     },
     "execution_count": 111,
     "metadata": {},
     "output_type": "execute_result"
    }
   ],
   "source": [
    "comp_dict['b']"
   ]
  },
  {
   "cell_type": "code",
   "execution_count": 121,
   "id": "efc94a7d-ba36-4f47-a6b7-05c0b173c848",
   "metadata": {},
   "outputs": [
    {
     "data": {
      "text/plain": [
       "defaultdict(complex, {'a': 6, 'b': 0j, 'e': 9, 'd': 4, 'c': 12})"
      ]
     },
     "execution_count": 121,
     "metadata": {},
     "output_type": "execute_result"
    }
   ],
   "source": [
    "comp_dict['e']=9\n",
    "comp_dict['d']=4\n",
    "comp_dict['c']=12\n",
    "comp_dict"
   ]
  },
  {
   "cell_type": "code",
   "execution_count": 125,
   "id": "8cf3973a-c3ff-42fb-8410-9d94dd91f839",
   "metadata": {},
   "outputs": [],
   "source": [
    "comp_dict.update({'c':6})"
   ]
  },
  {
   "cell_type": "code",
   "execution_count": 127,
   "id": "14209a9d-7fcf-4618-8b67-5877c4d9727c",
   "metadata": {},
   "outputs": [
    {
     "data": {
      "text/plain": [
       "defaultdict(complex, {'a': 6, 'b': 0j, 'e': 9, 'd': 4, 'c': 6})"
      ]
     },
     "execution_count": 127,
     "metadata": {},
     "output_type": "execute_result"
    }
   ],
   "source": [
    "comp_dict"
   ]
  },
  {
   "cell_type": "markdown",
   "id": "f8f30c9b-99d1-48b7-81a3-fdf66588f6d1",
   "metadata": {},
   "source": [
    "##### OrderedDict"
   ]
  },
  {
   "cell_type": "markdown",
   "id": "7284a7f0-47e2-46a7-ab50-77a5d277b229",
   "metadata": {},
   "source": [
    "As of Python 3.7, a new improvement to the dict built-in is:\n",
    "\n",
    "the insertion-order preservation nature of dict objects has been declared to be an official part of the Python language spec.\n",
    "\n",
    "This means there is no real need for OrderedDict anymore"
   ]
  },
  {
   "cell_type": "code",
   "execution_count": 179,
   "id": "a7d2cfdc-25e8-4f3c-8c5c-f3496476a740",
   "metadata": {},
   "outputs": [
    {
     "data": {
      "text/plain": [
       "'3.11.5 | packaged by Anaconda, Inc. | (main, Sep 11 2023, 13:26:23) [MSC v.1916 64 bit (AMD64)]'"
      ]
     },
     "execution_count": 179,
     "metadata": {},
     "output_type": "execute_result"
    }
   ],
   "source": [
    "import sys\n",
    "sys.version"
   ]
  },
  {
   "cell_type": "code",
   "execution_count": 107,
   "id": "4c6f0356-2e83-4b2a-9266-eb7d5ba7eaec",
   "metadata": {},
   "outputs": [],
   "source": [
    "ord_dict = OrderedDict()\n",
    "ord_dict['seven'] = 7\n",
    "ord_dict['four'] = 4"
   ]
  },
  {
   "cell_type": "code",
   "execution_count": 115,
   "id": "0fd8f3c7-ba51-45c2-94a2-9da8e9686871",
   "metadata": {},
   "outputs": [
    {
     "data": {
      "text/plain": [
       "OrderedDict([('seven', 7), ('four', 4)])"
      ]
     },
     "execution_count": 115,
     "metadata": {},
     "output_type": "execute_result"
    }
   ],
   "source": [
    "ord_dict"
   ]
  },
  {
   "cell_type": "code",
   "execution_count": 117,
   "id": "d34188be-40fe-468a-b127-ecfbe56ead23",
   "metadata": {},
   "outputs": [],
   "source": [
    "ord_dict['apple'] = 5"
   ]
  },
  {
   "cell_type": "code",
   "execution_count": 119,
   "id": "f78ae2c9-c9ae-40f0-93f8-1203923ffd5b",
   "metadata": {},
   "outputs": [
    {
     "data": {
      "text/plain": [
       "OrderedDict([('seven', 7), ('four', 4), ('apple', 5)])"
      ]
     },
     "execution_count": 119,
     "metadata": {},
     "output_type": "execute_result"
    }
   ],
   "source": [
    "ord_dict"
   ]
  },
  {
   "cell_type": "code",
   "execution_count": 139,
   "id": "8406576a-959f-474e-9aba-a71ac6a45f62",
   "metadata": {},
   "outputs": [
    {
     "data": {
      "text/plain": [
       "{'a': 6, 'b': 0j, 'e': 9, 'd': 4, 'c': 12}"
      ]
     },
     "execution_count": 139,
     "metadata": {},
     "output_type": "execute_result"
    }
   ],
   "source": [
    "d"
   ]
  },
  {
   "cell_type": "code",
   "execution_count": 141,
   "id": "e101bd6d-6ddd-4d96-a6b2-fbad1c6ab910",
   "metadata": {},
   "outputs": [],
   "source": [
    "d['a']=12"
   ]
  },
  {
   "cell_type": "code",
   "execution_count": 143,
   "id": "9df91d44-ba8e-49f4-a29f-125f0d576c42",
   "metadata": {},
   "outputs": [
    {
     "data": {
      "text/plain": [
       "{'a': 12, 'b': 0j, 'e': 9, 'd': 4, 'c': 12}"
      ]
     },
     "execution_count": 143,
     "metadata": {},
     "output_type": "execute_result"
    }
   ],
   "source": [
    "d"
   ]
  },
  {
   "cell_type": "code",
   "execution_count": 135,
   "id": "98b82995-2457-4347-af3e-a1e299deffb9",
   "metadata": {},
   "outputs": [],
   "source": [
    "ord_dict['seven'] = 12"
   ]
  },
  {
   "cell_type": "code",
   "execution_count": 137,
   "id": "c831273c-a5af-4955-87d3-8aa0eebbc012",
   "metadata": {},
   "outputs": [
    {
     "data": {
      "text/plain": [
       "OrderedDict([('seven', 12), ('four', 4), ('apple', 5)])"
      ]
     },
     "execution_count": 137,
     "metadata": {},
     "output_type": "execute_result"
    }
   ],
   "source": [
    "ord_dict"
   ]
  },
  {
   "cell_type": "code",
   "execution_count": 174,
   "id": "e6c43aa3-eace-482f-8a48-f7c3734f0d53",
   "metadata": {},
   "outputs": [
    {
     "data": {
      "text/plain": [
       "[('a', 12), ('b', 0j), ('c', 12), ('d', 4), ('e', 9)]"
      ]
     },
     "execution_count": 174,
     "metadata": {},
     "output_type": "execute_result"
    }
   ],
   "source": [
    "sorted(d.items())"
   ]
  },
  {
   "cell_type": "code",
   "execution_count": 176,
   "id": "6e69a1eb-e075-44ce-bc2b-77bf90a95087",
   "metadata": {},
   "outputs": [
    {
     "data": {
      "text/plain": [
       "[('apple', 5), ('four', 4), ('seven', 12)]"
      ]
     },
     "execution_count": 176,
     "metadata": {},
     "output_type": "execute_result"
    }
   ],
   "source": [
    "sorted(ord_dict.items())"
   ]
  },
  {
   "cell_type": "code",
   "execution_count": null,
   "id": "1e4bbed1-4d3d-49ed-8d86-5e57ed806ee1",
   "metadata": {},
   "outputs": [],
   "source": []
  },
  {
   "cell_type": "markdown",
   "id": "8bb2b0cf-9a59-4927-a562-31feb52442df",
   "metadata": {},
   "source": [
    "##### namedTuple"
   ]
  },
  {
   "cell_type": "code",
   "execution_count": 148,
   "id": "e3ff3369-6b02-45d7-97e4-00c526968082",
   "metadata": {},
   "outputs": [
    {
     "data": {
      "text/plain": [
       "('age', 'height', 'name')"
      ]
     },
     "execution_count": 148,
     "metadata": {},
     "output_type": "execute_result"
    }
   ],
   "source": [
    "person = ('age', 'height', 'name')\n",
    "person"
   ]
  },
  {
   "cell_type": "code",
   "execution_count": 150,
   "id": "55524ca0-510a-4f95-b489-3a994eb12765",
   "metadata": {},
   "outputs": [
    {
     "data": {
      "text/plain": [
       "(20, 170, 'david')"
      ]
     },
     "execution_count": 150,
     "metadata": {},
     "output_type": "execute_result"
    }
   ],
   "source": [
    "david = (20, 170, 'david')\n",
    "david"
   ]
  },
  {
   "cell_type": "code",
   "execution_count": 154,
   "id": "5fb0c025-277a-480a-ba7c-29765040b4e2",
   "metadata": {},
   "outputs": [
    {
     "data": {
      "text/plain": [
       "(30, 170, 'john')"
      ]
     },
     "execution_count": 154,
     "metadata": {},
     "output_type": "execute_result"
    }
   ],
   "source": [
    "john = (30, 170, 'john')\n",
    "john"
   ]
  },
  {
   "cell_type": "code",
   "execution_count": 156,
   "id": "9e54bf9d-5ed2-42a7-991f-3f92701fbd84",
   "metadata": {},
   "outputs": [],
   "source": [
    "person = (20, 170, 'david')\n",
    "person =  (30, 170, 'john')"
   ]
  },
  {
   "cell_type": "code",
   "execution_count": 158,
   "id": "2b0ffe3d-e043-44c9-8f6c-7511b7710a18",
   "metadata": {},
   "outputs": [
    {
     "data": {
      "text/plain": [
       "(30, 170, 'john')"
      ]
     },
     "execution_count": 158,
     "metadata": {},
     "output_type": "execute_result"
    }
   ],
   "source": [
    "person"
   ]
  },
  {
   "cell_type": "code",
   "execution_count": 160,
   "id": "dbff7cd2-68a8-4c8d-96a3-b2b0533949ba",
   "metadata": {},
   "outputs": [
    {
     "data": {
      "text/plain": [
       "__main__.Person"
      ]
     },
     "execution_count": 160,
     "metadata": {},
     "output_type": "execute_result"
    }
   ],
   "source": [
    "Person = namedtuple('Person', ['age', 'height', 'name'])\n",
    "Person"
   ]
  },
  {
   "cell_type": "code",
   "execution_count": 162,
   "id": "1f57ab1c-3d58-465b-950f-98593c6e9376",
   "metadata": {},
   "outputs": [],
   "source": [
    "david = Person(20, 170, 'david')\n",
    "john = Person(30, 170, 'john')"
   ]
  },
  {
   "cell_type": "code",
   "execution_count": 168,
   "id": "a710a3cb-59c3-49f8-be3c-92f60eaf9b99",
   "metadata": {},
   "outputs": [
    {
     "data": {
      "text/plain": [
       "(Person(age=20, height=170, name='david'),\n",
       " Person(age=30, height=170, name='john'))"
      ]
     },
     "execution_count": 168,
     "metadata": {},
     "output_type": "execute_result"
    }
   ],
   "source": [
    "david, john"
   ]
  },
  {
   "cell_type": "code",
   "execution_count": 170,
   "id": "4d525495-b816-483d-a7a5-31fb91c5b61f",
   "metadata": {},
   "outputs": [],
   "source": [
    "Industry = namedtuple('Industry', ['age', 'height', 'name'])\n",
    "david = Industry(20, 170, 'david')"
   ]
  },
  {
   "cell_type": "code",
   "execution_count": 172,
   "id": "b4a3f435-9114-4030-ba63-7a66321a45a7",
   "metadata": {},
   "outputs": [
    {
     "data": {
      "text/plain": [
       "Industry(age=20, height=170, name='david')"
      ]
     },
     "execution_count": 172,
     "metadata": {},
     "output_type": "execute_result"
    }
   ],
   "source": [
    "david"
   ]
  },
  {
   "cell_type": "markdown",
   "id": "fed34ee1-a43a-46a7-ad01-e34dbcd0fcb9",
   "metadata": {},
   "source": [
    "##### deque"
   ]
  },
  {
   "cell_type": "code",
   "execution_count": 182,
   "id": "17901f97-004c-48b6-b5d0-31785354c811",
   "metadata": {},
   "outputs": [
    {
     "data": {
      "text/plain": [
       "deque(['g', 'h', 'i'])"
      ]
     },
     "execution_count": 182,
     "metadata": {},
     "output_type": "execute_result"
    }
   ],
   "source": [
    "D = deque(\"ghi\")\n",
    "D"
   ]
  },
  {
   "cell_type": "code",
   "execution_count": 184,
   "id": "ce4a9d06-f524-4043-b168-9476cd9b8753",
   "metadata": {},
   "outputs": [],
   "source": [
    "D.append('j')\n",
    "D.appendleft('f')"
   ]
  },
  {
   "cell_type": "code",
   "execution_count": 186,
   "id": "748d05ae-701b-41a7-a9a1-366f7bc235d9",
   "metadata": {},
   "outputs": [
    {
     "data": {
      "text/plain": [
       "deque(['f', 'g', 'h', 'i', 'j'])"
      ]
     },
     "execution_count": 186,
     "metadata": {},
     "output_type": "execute_result"
    }
   ],
   "source": [
    "D"
   ]
  },
  {
   "cell_type": "code",
   "execution_count": 188,
   "id": "e8956a0c-62b7-4690-96b7-3e9af1252823",
   "metadata": {},
   "outputs": [
    {
     "data": {
      "text/plain": [
       "'j'"
      ]
     },
     "execution_count": 188,
     "metadata": {},
     "output_type": "execute_result"
    }
   ],
   "source": [
    "D.pop()"
   ]
  },
  {
   "cell_type": "code",
   "execution_count": 190,
   "id": "4d08fb55-6e0f-4b96-bf7c-f218e8e83a03",
   "metadata": {},
   "outputs": [
    {
     "data": {
      "text/plain": [
       "'f'"
      ]
     },
     "execution_count": 190,
     "metadata": {},
     "output_type": "execute_result"
    }
   ],
   "source": [
    "D.popleft()"
   ]
  },
  {
   "cell_type": "code",
   "execution_count": 192,
   "id": "137a2dd7-58c9-4dc8-9472-cdac6656824d",
   "metadata": {},
   "outputs": [
    {
     "data": {
      "text/plain": [
       "deque(['g', 'h', 'i'])"
      ]
     },
     "execution_count": 192,
     "metadata": {},
     "output_type": "execute_result"
    }
   ],
   "source": [
    "D"
   ]
  },
  {
   "cell_type": "code",
   "execution_count": 194,
   "id": "6e26d9d8-4ea5-4387-8bf6-6171a47c98fe",
   "metadata": {},
   "outputs": [],
   "source": [
    "D.extend('jkl')"
   ]
  },
  {
   "cell_type": "code",
   "execution_count": 196,
   "id": "e24496c5-305f-442e-9070-168555a66050",
   "metadata": {},
   "outputs": [
    {
     "data": {
      "text/plain": [
       "deque(['g', 'h', 'i', 'j', 'k', 'l'])"
      ]
     },
     "execution_count": 196,
     "metadata": {},
     "output_type": "execute_result"
    }
   ],
   "source": [
    "D"
   ]
  },
  {
   "cell_type": "code",
   "execution_count": 198,
   "id": "af56479f-2948-4f04-a197-e45f41e8238b",
   "metadata": {},
   "outputs": [],
   "source": [
    "D.extendleft('abc')"
   ]
  },
  {
   "cell_type": "code",
   "execution_count": 200,
   "id": "26a6ce11-b943-4bac-b7b0-bfb4314fdf28",
   "metadata": {},
   "outputs": [
    {
     "data": {
      "text/plain": [
       "deque(['c', 'b', 'a', 'g', 'h', 'i', 'j', 'k', 'l'])"
      ]
     },
     "execution_count": 200,
     "metadata": {},
     "output_type": "execute_result"
    }
   ],
   "source": [
    "D"
   ]
  },
  {
   "cell_type": "code",
   "execution_count": 202,
   "id": "ca5291ec-78c8-47de-ba66-fbe41dae0cb6",
   "metadata": {},
   "outputs": [],
   "source": [
    "D.rotate(-1)"
   ]
  },
  {
   "cell_type": "code",
   "execution_count": 204,
   "id": "6da52b00-6ee7-481a-b6cc-0d7b7a0d6878",
   "metadata": {},
   "outputs": [
    {
     "data": {
      "text/plain": [
       "deque(['b', 'a', 'g', 'h', 'i', 'j', 'k', 'l', 'c'])"
      ]
     },
     "execution_count": 204,
     "metadata": {},
     "output_type": "execute_result"
    }
   ],
   "source": [
    "D"
   ]
  },
  {
   "cell_type": "code",
   "execution_count": 206,
   "id": "cbc04ce9-298f-4ecb-939f-284dc706e320",
   "metadata": {
    "scrolled": true
   },
   "outputs": [
    {
     "data": {
      "text/plain": [
       "['__add__',\n",
       " '__class__',\n",
       " '__class_getitem__',\n",
       " '__contains__',\n",
       " '__copy__',\n",
       " '__delattr__',\n",
       " '__delitem__',\n",
       " '__dir__',\n",
       " '__doc__',\n",
       " '__eq__',\n",
       " '__format__',\n",
       " '__ge__',\n",
       " '__getattribute__',\n",
       " '__getitem__',\n",
       " '__getstate__',\n",
       " '__gt__',\n",
       " '__hash__',\n",
       " '__iadd__',\n",
       " '__imul__',\n",
       " '__init__',\n",
       " '__init_subclass__',\n",
       " '__iter__',\n",
       " '__le__',\n",
       " '__len__',\n",
       " '__lt__',\n",
       " '__mul__',\n",
       " '__ne__',\n",
       " '__new__',\n",
       " '__reduce__',\n",
       " '__reduce_ex__',\n",
       " '__repr__',\n",
       " '__reversed__',\n",
       " '__rmul__',\n",
       " '__setattr__',\n",
       " '__setitem__',\n",
       " '__sizeof__',\n",
       " '__str__',\n",
       " '__subclasshook__',\n",
       " 'append',\n",
       " 'appendleft',\n",
       " 'clear',\n",
       " 'copy',\n",
       " 'count',\n",
       " 'extend',\n",
       " 'extendleft',\n",
       " 'index',\n",
       " 'insert',\n",
       " 'maxlen',\n",
       " 'pop',\n",
       " 'popleft',\n",
       " 'remove',\n",
       " 'reverse',\n",
       " 'rotate']"
      ]
     },
     "execution_count": 206,
     "metadata": {},
     "output_type": "execute_result"
    }
   ],
   "source": [
    "dir(D)"
   ]
  },
  {
   "cell_type": "code",
   "execution_count": 216,
   "id": "fd8e464d-ab49-4b86-aaa7-083b5f8930aa",
   "metadata": {},
   "outputs": [
    {
     "data": {
      "text/plain": [
       "9"
      ]
     },
     "execution_count": 216,
     "metadata": {},
     "output_type": "execute_result"
    }
   ],
   "source": [
    "len(D)"
   ]
  },
  {
   "cell_type": "code",
   "execution_count": 220,
   "id": "9aeda6a5-99ca-4bcc-9828-8eccead0001e",
   "metadata": {},
   "outputs": [
    {
     "data": {
      "text/plain": [
       "deque([2, 3, 4, 5], maxlen=4)"
      ]
     },
     "execution_count": 220,
     "metadata": {},
     "output_type": "execute_result"
    }
   ],
   "source": [
    "E = deque([0,1,2,3,4,5], maxlen=4)\n",
    "E"
   ]
  },
  {
   "cell_type": "code",
   "execution_count": 222,
   "id": "605b9ad2-be8e-4d0f-9aee-7daa6dc14e60",
   "metadata": {},
   "outputs": [
    {
     "data": {
      "text/plain": [
       "deque([1, 2, 3, 4], maxlen=4)"
      ]
     },
     "execution_count": 222,
     "metadata": {},
     "output_type": "execute_result"
    }
   ],
   "source": [
    "F = deque([1, 2, 3, 4], maxlen=4)\n",
    "F"
   ]
  },
  {
   "cell_type": "code",
   "execution_count": 224,
   "id": "9c558cfb-f014-4ec4-9992-0d4be279ffc3",
   "metadata": {},
   "outputs": [],
   "source": [
    "F.extend('ab')"
   ]
  },
  {
   "cell_type": "code",
   "execution_count": 226,
   "id": "6fc63e8c-f15c-428c-8212-af3c83ad451b",
   "metadata": {},
   "outputs": [
    {
     "data": {
      "text/plain": [
       "deque([3, 4, 'a', 'b'], maxlen=4)"
      ]
     },
     "execution_count": 226,
     "metadata": {},
     "output_type": "execute_result"
    }
   ],
   "source": [
    "F"
   ]
  },
  {
   "cell_type": "markdown",
   "id": "d6a88875-82d7-4226-be2a-a55f83694a82",
   "metadata": {},
   "source": [
    "##### ChainMap"
   ]
  },
  {
   "cell_type": "code",
   "execution_count": 249,
   "id": "749cc14c-557e-4c13-8288-cb652803ea15",
   "metadata": {},
   "outputs": [],
   "source": [
    "dict1 = {'apple': 1, 'banana': 2}\n",
    "dict2 = {'coconut':1, 'apple':3}"
   ]
  },
  {
   "cell_type": "code",
   "execution_count": 251,
   "id": "571d99a3-154a-4b59-b21d-af9b616ceced",
   "metadata": {},
   "outputs": [
    {
     "data": {
      "text/plain": [
       "ChainMap({'apple': 1, 'banana': 2}, {'coconut': 1, 'apple': 3})"
      ]
     },
     "execution_count": 251,
     "metadata": {},
     "output_type": "execute_result"
    }
   ],
   "source": [
    "combined_dict = ChainMap(dict1, dict2, )\n",
    "combined_dict"
   ]
  },
  {
   "cell_type": "code",
   "execution_count": 243,
   "id": "c09694c2-5e8f-49ca-882c-6b9c70fde907",
   "metadata": {},
   "outputs": [
    {
     "data": {
      "text/plain": [
       "{'apple': 3, 'banana': 2, 'coconut': 1}"
      ]
     },
     "execution_count": 243,
     "metadata": {},
     "output_type": "execute_result"
    }
   ],
   "source": [
    "dict1.update(dict2)\n",
    "dict1"
   ]
  },
  {
   "cell_type": "code",
   "execution_count": 245,
   "id": "94594b8a-73df-4552-9838-b48bcf929271",
   "metadata": {},
   "outputs": [
    {
     "data": {
      "text/plain": [
       "dict_items([('apple', 3), ('banana', 2), ('coconut', 1)])"
      ]
     },
     "execution_count": 245,
     "metadata": {},
     "output_type": "execute_result"
    }
   ],
   "source": [
    "dict1.items()"
   ]
  },
  {
   "cell_type": "code",
   "execution_count": 253,
   "id": "abd40e00-d7d6-4ed3-bb6c-dc7cb1a81b6d",
   "metadata": {},
   "outputs": [
    {
     "data": {
      "text/plain": [
       "ItemsView(ChainMap({'apple': 1, 'banana': 2}, {'coconut': 1, 'apple': 3}))"
      ]
     },
     "execution_count": 253,
     "metadata": {},
     "output_type": "execute_result"
    }
   ],
   "source": [
    "combined_dict.items()"
   ]
  },
  {
   "cell_type": "code",
   "execution_count": 255,
   "id": "3f24b193-cbc2-4f26-a890-cc5e9cc821d4",
   "metadata": {},
   "outputs": [
    {
     "name": "stdout",
     "output_type": "stream",
     "text": [
      "coconut 1\n",
      "apple 1\n",
      "banana 2\n"
     ]
    }
   ],
   "source": [
    "for key, value in combined_dict.items():\n",
    "    print(key, value)"
   ]
  },
  {
   "cell_type": "code",
   "execution_count": 257,
   "id": "bfb5456e-e43b-44a5-bd7c-1013275dc5b0",
   "metadata": {},
   "outputs": [
    {
     "data": {
      "text/plain": [
       "ItemsView(ChainMap({'apple': 1, 'banana': 2}, {'coconut': 1, 'apple': 3}))"
      ]
     },
     "execution_count": 257,
     "metadata": {},
     "output_type": "execute_result"
    }
   ],
   "source": [
    "combined_dict.items()"
   ]
  },
  {
   "cell_type": "code",
   "execution_count": 263,
   "id": "441b8614-2f8c-4497-8ef7-ee9f763c7e7f",
   "metadata": {},
   "outputs": [
    {
     "data": {
      "text/plain": [
       "[{'apple': 1, 'banana': 2}, {'coconut': 1, 'apple': 3}]"
      ]
     },
     "execution_count": 263,
     "metadata": {},
     "output_type": "execute_result"
    }
   ],
   "source": [
    "combined_dict.maps"
   ]
  },
  {
   "cell_type": "code",
   "execution_count": 271,
   "id": "12282da2-e7ad-4ebf-981e-2aa0d77e1941",
   "metadata": {},
   "outputs": [
    {
     "data": {
      "text/plain": [
       "({'apple': 1, 'banana': 2}, dict_keys(['apple', 'banana']))"
      ]
     },
     "execution_count": 271,
     "metadata": {},
     "output_type": "execute_result"
    }
   ],
   "source": [
    "combined_dict.maps[0]"
   ]
  },
  {
   "cell_type": "code",
   "execution_count": 275,
   "id": "57e5f0ec-23b1-4704-9cfd-d2f4f0ede2bd",
   "metadata": {},
   "outputs": [
    {
     "data": {
      "text/plain": [
       "1"
      ]
     },
     "execution_count": 275,
     "metadata": {},
     "output_type": "execute_result"
    }
   ],
   "source": [
    "combined_dict.maps[0]['apple']"
   ]
  },
  {
   "cell_type": "code",
   "execution_count": 267,
   "id": "22d8adcb-a495-46e6-890b-ccc9ec402b26",
   "metadata": {},
   "outputs": [
    {
     "data": {
      "text/plain": [
       "{'coconut': 1, 'apple': 3}"
      ]
     },
     "execution_count": 267,
     "metadata": {},
     "output_type": "execute_result"
    }
   ],
   "source": [
    "combined_dict.maps[1]"
   ]
  },
  {
   "cell_type": "code",
   "execution_count": 277,
   "id": "9943ee86-364c-4843-949b-8d103a928cb6",
   "metadata": {},
   "outputs": [
    {
     "data": {
      "text/plain": [
       "3"
      ]
     },
     "execution_count": 277,
     "metadata": {},
     "output_type": "execute_result"
    }
   ],
   "source": [
    "combined_dict.maps[1]['apple']"
   ]
  },
  {
   "cell_type": "code",
   "execution_count": 285,
   "id": "55d9d5a9-5edf-405c-b12a-03e24164ee59",
   "metadata": {},
   "outputs": [
    {
     "data": {
      "text/plain": [
       "ChainMap({'name': 'sadiq'}, {'apple': 1, 'banana': 2}, {'coconut': 1, 'apple': 3})"
      ]
     },
     "execution_count": 285,
     "metadata": {},
     "output_type": "execute_result"
    }
   ],
   "source": [
    "combined_dict.new_child(name='sadiq')"
   ]
  },
  {
   "cell_type": "code",
   "execution_count": 287,
   "id": "6662c023-549f-45cc-91fe-401583c9bbca",
   "metadata": {},
   "outputs": [
    {
     "data": {
      "text/plain": [
       "ChainMap(3, {'apple': 1, 'banana': 2}, {'coconut': 1, 'apple': 3})"
      ]
     },
     "execution_count": 287,
     "metadata": {},
     "output_type": "execute_result"
    }
   ],
   "source": [
    "combined_dict.new_child(m=3)"
   ]
  },
  {
   "cell_type": "code",
   "execution_count": null,
   "id": "b9117fd5-2d0d-4ca1-825a-73d962efa294",
   "metadata": {},
   "outputs": [],
   "source": []
  },
  {
   "cell_type": "code",
   "execution_count": 305,
   "id": "81b9a5d6-4f9f-43b0-8271-bb8d6e542f96",
   "metadata": {},
   "outputs": [],
   "source": [
    "mom = {\"name\":\"Jane\", \"age\": 31}\n",
    "dad = {\"name\":\"john\", \"age\": 35}\n",
    "son = {\"name\":\"dave\", \"age\": 21}"
   ]
  },
  {
   "cell_type": "code",
   "execution_count": 307,
   "id": "782087cb-e21b-4abb-8713-891bb9369d13",
   "metadata": {},
   "outputs": [],
   "source": [
    "family = ChainMap(son, mom, dad)"
   ]
  },
  {
   "cell_type": "code",
   "execution_count": 311,
   "id": "f02afe2e-38ef-4a8d-8cb5-744059a59a90",
   "metadata": {},
   "outputs": [
    {
     "data": {
      "text/plain": [
       "ChainMap({'name': 'dave', 'age': 21}, {'name': 'Jane', 'age': 31}, {'name': 'john', 'age': 35})"
      ]
     },
     "execution_count": 311,
     "metadata": {},
     "output_type": "execute_result"
    }
   ],
   "source": [
    "family"
   ]
  },
  {
   "cell_type": "code",
   "execution_count": 309,
   "id": "7222f930-9451-4fa9-b5c4-b823026bea49",
   "metadata": {},
   "outputs": [
    {
     "data": {
      "text/plain": [
       "ChainMap({'name': 'Jane', 'age': 31}, {'name': 'john', 'age': 35})"
      ]
     },
     "execution_count": 309,
     "metadata": {},
     "output_type": "execute_result"
    }
   ],
   "source": [
    "family.parents"
   ]
  },
  {
   "cell_type": "code",
   "execution_count": 313,
   "id": "6903fd47-3aff-405e-8eb5-5ae0d4991647",
   "metadata": {},
   "outputs": [
    {
     "data": {
      "text/plain": [
       "[{'name': 'dave', 'age': 21},\n",
       " {'name': 'Jane', 'age': 31},\n",
       " {'name': 'john', 'age': 35}]"
      ]
     },
     "execution_count": 313,
     "metadata": {},
     "output_type": "execute_result"
    }
   ],
   "source": [
    "family.maps"
   ]
  },
  {
   "cell_type": "code",
   "execution_count": 315,
   "id": "85fb8523-be87-46af-b364-35dbd9d2646e",
   "metadata": {},
   "outputs": [
    {
     "data": {
      "text/plain": [
       "ChainMap({'name': 'maya', 'age': 20}, {'name': 'dave', 'age': 21}, {'name': 'Jane', 'age': 31}, {'name': 'john', 'age': 35})"
      ]
     },
     "execution_count": 315,
     "metadata": {},
     "output_type": "execute_result"
    }
   ],
   "source": [
    "daughter = {'name': 'maya', 'age': 20}\n",
    "family.new_child(daughter)"
   ]
  },
  {
   "cell_type": "code",
   "execution_count": 317,
   "id": "596bdd47-dbbd-4480-8d5c-19713c992944",
   "metadata": {},
   "outputs": [
    {
     "data": {
      "text/plain": [
       "ChainMap({'name': 'Jane', 'age': 31}, {'name': 'john', 'age': 35})"
      ]
     },
     "execution_count": 317,
     "metadata": {},
     "output_type": "execute_result"
    }
   ],
   "source": [
    "family.parents"
   ]
  },
  {
   "cell_type": "code",
   "execution_count": 259,
   "id": "5d4306ab-12c4-497e-b027-fe042ccb0d19",
   "metadata": {},
   "outputs": [
    {
     "data": {
      "text/plain": [
       "['_MutableMapping__marker',\n",
       " '__abstractmethods__',\n",
       " '__bool__',\n",
       " '__class__',\n",
       " '__class_getitem__',\n",
       " '__contains__',\n",
       " '__copy__',\n",
       " '__delattr__',\n",
       " '__delitem__',\n",
       " '__dict__',\n",
       " '__dir__',\n",
       " '__doc__',\n",
       " '__eq__',\n",
       " '__format__',\n",
       " '__ge__',\n",
       " '__getattribute__',\n",
       " '__getitem__',\n",
       " '__getstate__',\n",
       " '__gt__',\n",
       " '__hash__',\n",
       " '__init__',\n",
       " '__init_subclass__',\n",
       " '__ior__',\n",
       " '__iter__',\n",
       " '__le__',\n",
       " '__len__',\n",
       " '__lt__',\n",
       " '__missing__',\n",
       " '__module__',\n",
       " '__ne__',\n",
       " '__new__',\n",
       " '__or__',\n",
       " '__reduce__',\n",
       " '__reduce_ex__',\n",
       " '__repr__',\n",
       " '__reversed__',\n",
       " '__ror__',\n",
       " '__setattr__',\n",
       " '__setitem__',\n",
       " '__sizeof__',\n",
       " '__slots__',\n",
       " '__str__',\n",
       " '__subclasshook__',\n",
       " '__weakref__',\n",
       " '_abc_impl',\n",
       " 'clear',\n",
       " 'copy',\n",
       " 'fromkeys',\n",
       " 'get',\n",
       " 'items',\n",
       " 'keys',\n",
       " 'maps',\n",
       " 'new_child',\n",
       " 'parents',\n",
       " 'pop',\n",
       " 'popitem',\n",
       " 'setdefault',\n",
       " 'update',\n",
       " 'values']"
      ]
     },
     "execution_count": 259,
     "metadata": {},
     "output_type": "execute_result"
    }
   ],
   "source": [
    "dir(combined_dict)"
   ]
  },
  {
   "cell_type": "markdown",
   "id": "47c8cb9b-6a85-43e0-92d5-e7d11a7159d0",
   "metadata": {},
   "source": [
    "#### Datetime"
   ]
  },
  {
   "cell_type": "markdown",
   "id": "c076fe53-bfdb-48a5-b51e-cf6d43dc8a24",
   "metadata": {},
   "source": [
    "1. date -  manipulate just date(month, day, year)\n",
    "2. time - manipulate(hour, min, sec, microsec)\n",
    "3. datetime - combination of date and time\n",
    "4. timedelta - duration of time used for manipulating dates\n",
    "5. tzinfo - timezones"
   ]
  },
  {
   "cell_type": "code",
   "execution_count": 341,
   "id": "eb78c171-8f06-4a72-9cc2-bff8ec80f0be",
   "metadata": {},
   "outputs": [],
   "source": [
    "import datetime"
   ]
  },
  {
   "cell_type": "code",
   "execution_count": 343,
   "id": "64d9358c-7c59-4168-a08d-c8e5e343c305",
   "metadata": {},
   "outputs": [
    {
     "data": {
      "text/plain": [
       "['MAXYEAR',\n",
       " 'MINYEAR',\n",
       " 'UTC',\n",
       " '__all__',\n",
       " '__builtins__',\n",
       " '__cached__',\n",
       " '__doc__',\n",
       " '__file__',\n",
       " '__loader__',\n",
       " '__name__',\n",
       " '__package__',\n",
       " '__spec__',\n",
       " 'date',\n",
       " 'datetime',\n",
       " 'datetime_CAPI',\n",
       " 'sys',\n",
       " 'time',\n",
       " 'timedelta',\n",
       " 'timezone',\n",
       " 'tzinfo']"
      ]
     },
     "execution_count": 343,
     "metadata": {},
     "output_type": "execute_result"
    }
   ],
   "source": [
    "dir(datetime)"
   ]
  },
  {
   "cell_type": "code",
   "execution_count": 477,
   "id": "ccbe89af-f82b-45bc-b7d5-15570979ace3",
   "metadata": {},
   "outputs": [
    {
     "data": {
      "text/plain": [
       "9999"
      ]
     },
     "execution_count": 477,
     "metadata": {},
     "output_type": "execute_result"
    }
   ],
   "source": [
    "datetime.MAXYEAR"
   ]
  },
  {
   "cell_type": "code",
   "execution_count": 479,
   "id": "689e21b3-12fc-4aad-9ed2-3f0e1ebe0696",
   "metadata": {},
   "outputs": [
    {
     "data": {
      "text/plain": [
       "1"
      ]
     },
     "execution_count": 479,
     "metadata": {},
     "output_type": "execute_result"
    }
   ],
   "source": [
    "datetime.MINYEAR"
   ]
  },
  {
   "cell_type": "code",
   "execution_count": 349,
   "id": "4bf372f9-1d02-48c6-9370-bf1ef648abd7",
   "metadata": {},
   "outputs": [
    {
     "data": {
      "text/plain": [
       "datetime.datetime(2024, 7, 28, 10, 37, 44, 444845)"
      ]
     },
     "execution_count": 349,
     "metadata": {},
     "output_type": "execute_result"
    }
   ],
   "source": [
    "datetime.datetime.now() #important function"
   ]
  },
  {
   "cell_type": "code",
   "execution_count": 351,
   "id": "3d344f07-a84e-470c-971f-5ed531201b0f",
   "metadata": {},
   "outputs": [
    {
     "data": {
      "text/plain": [
       "datetime.timedelta(days=209, seconds=38321, microseconds=661008)"
      ]
     },
     "execution_count": 351,
     "metadata": {},
     "output_type": "execute_result"
    }
   ],
   "source": [
    "datetime.datetime.now() - datetime.datetime(2024, 1, 1)"
   ]
  },
  {
   "cell_type": "code",
   "execution_count": 353,
   "id": "84fdfc93-6c32-42a4-96be-ca9a9479a966",
   "metadata": {},
   "outputs": [],
   "source": [
    "from datetime import datetime as dt"
   ]
  },
  {
   "cell_type": "code",
   "execution_count": 355,
   "id": "0a870cba-b945-4974-bd62-40b79884781d",
   "metadata": {},
   "outputs": [
    {
     "data": {
      "text/plain": [
       "['__add__',\n",
       " '__class__',\n",
       " '__delattr__',\n",
       " '__dir__',\n",
       " '__doc__',\n",
       " '__eq__',\n",
       " '__format__',\n",
       " '__ge__',\n",
       " '__getattribute__',\n",
       " '__getstate__',\n",
       " '__gt__',\n",
       " '__hash__',\n",
       " '__init__',\n",
       " '__init_subclass__',\n",
       " '__le__',\n",
       " '__lt__',\n",
       " '__ne__',\n",
       " '__new__',\n",
       " '__radd__',\n",
       " '__reduce__',\n",
       " '__reduce_ex__',\n",
       " '__repr__',\n",
       " '__rsub__',\n",
       " '__setattr__',\n",
       " '__sizeof__',\n",
       " '__str__',\n",
       " '__sub__',\n",
       " '__subclasshook__',\n",
       " 'astimezone',\n",
       " 'combine',\n",
       " 'ctime',\n",
       " 'date',\n",
       " 'day',\n",
       " 'dst',\n",
       " 'fold',\n",
       " 'fromisocalendar',\n",
       " 'fromisoformat',\n",
       " 'fromordinal',\n",
       " 'fromtimestamp',\n",
       " 'hour',\n",
       " 'isocalendar',\n",
       " 'isoformat',\n",
       " 'isoweekday',\n",
       " 'max',\n",
       " 'microsecond',\n",
       " 'min',\n",
       " 'minute',\n",
       " 'month',\n",
       " 'now',\n",
       " 'replace',\n",
       " 'resolution',\n",
       " 'second',\n",
       " 'strftime',\n",
       " 'strptime',\n",
       " 'time',\n",
       " 'timestamp',\n",
       " 'timetuple',\n",
       " 'timetz',\n",
       " 'today',\n",
       " 'toordinal',\n",
       " 'tzinfo',\n",
       " 'tzname',\n",
       " 'utcfromtimestamp',\n",
       " 'utcnow',\n",
       " 'utcoffset',\n",
       " 'utctimetuple',\n",
       " 'weekday',\n",
       " 'year']"
      ]
     },
     "execution_count": 355,
     "metadata": {},
     "output_type": "execute_result"
    }
   ],
   "source": [
    "dir(dt)"
   ]
  },
  {
   "cell_type": "code",
   "execution_count": 437,
   "id": "0be5af19-ab5d-4f58-84ad-0722d2c15fd6",
   "metadata": {},
   "outputs": [],
   "source": [
    "import datetime"
   ]
  },
  {
   "cell_type": "code",
   "execution_count": 439,
   "id": "ec98d358-a551-4fe1-a21b-0a8b2fd171f9",
   "metadata": {},
   "outputs": [
    {
     "data": {
      "text/plain": [
       "(datetime.date(9999, 12, 31), datetime.date(1, 1, 1))"
      ]
     },
     "execution_count": 439,
     "metadata": {},
     "output_type": "execute_result"
    }
   ],
   "source": [
    "datetime.date.max, datetime.date.min"
   ]
  },
  {
   "cell_type": "code",
   "execution_count": 475,
   "id": "dae843e6-e05a-46d4-9cb2-676c83b86295",
   "metadata": {},
   "outputs": [
    {
     "data": {
      "text/plain": [
       "9999"
      ]
     },
     "execution_count": 475,
     "metadata": {},
     "output_type": "execute_result"
    }
   ],
   "source": [
    "datetime.date.max.year"
   ]
  },
  {
   "cell_type": "code",
   "execution_count": 441,
   "id": "c479d2be-c1e7-4bae-be8a-e002d0c34658",
   "metadata": {},
   "outputs": [
    {
     "data": {
      "text/plain": [
       "datetime.timedelta(days=1)"
      ]
     },
     "execution_count": 441,
     "metadata": {},
     "output_type": "execute_result"
    }
   ],
   "source": [
    "datetime.date.resolution() "
   ]
  },
  {
   "cell_type": "code",
   "execution_count": 443,
   "id": "2b1569ff-e110-4cf7-ace9-8ed7274f95ee",
   "metadata": {},
   "outputs": [
    {
     "data": {
      "text/plain": [
       "datetime.date(2024, 7, 28)"
      ]
     },
     "execution_count": 443,
     "metadata": {},
     "output_type": "execute_result"
    }
   ],
   "source": [
    "datetime.date.today()"
   ]
  },
  {
   "cell_type": "code",
   "execution_count": 445,
   "id": "7206c45e-bff0-4145-b915-280560a3139e",
   "metadata": {},
   "outputs": [
    {
     "data": {
      "text/plain": [
       "7"
      ]
     },
     "execution_count": 445,
     "metadata": {},
     "output_type": "execute_result"
    }
   ],
   "source": [
    "datetime.date.today().month"
   ]
  },
  {
   "cell_type": "code",
   "execution_count": 447,
   "id": "99955862-fed1-42dd-927f-7ffdedcd98d5",
   "metadata": {},
   "outputs": [
    {
     "data": {
      "text/plain": [
       "2024"
      ]
     },
     "execution_count": 447,
     "metadata": {},
     "output_type": "execute_result"
    }
   ],
   "source": [
    "datetime.date.today().year"
   ]
  },
  {
   "cell_type": "code",
   "execution_count": 449,
   "id": "e2e70447-b5d1-472d-ab49-545adf10144b",
   "metadata": {},
   "outputs": [
    {
     "data": {
      "text/plain": [
       "28"
      ]
     },
     "execution_count": 449,
     "metadata": {},
     "output_type": "execute_result"
    }
   ],
   "source": [
    "datetime.date.today().day"
   ]
  },
  {
   "cell_type": "code",
   "execution_count": 453,
   "id": "4fb9650e-228a-4153-a5c5-89e1de3b68bc",
   "metadata": {},
   "outputs": [
    {
     "data": {
      "text/plain": [
       "6"
      ]
     },
     "execution_count": 453,
     "metadata": {},
     "output_type": "execute_result"
    }
   ],
   "source": [
    "datetime.date.today().weekday() #Mon 0, tue 1, wed 2, thu 3, fri 4, sat 5, sun 6"
   ]
  },
  {
   "cell_type": "code",
   "execution_count": 471,
   "id": "79945088-910b-477c-a9fd-eec9209f5767",
   "metadata": {},
   "outputs": [
    {
     "name": "stdout",
     "output_type": "stream",
     "text": [
      "Today is day number 6\n",
      "which is sun\n"
     ]
    }
   ],
   "source": [
    "today = datetime.datetime.now()\n",
    "wd = datetime.datetime.today().weekday()\n",
    "\n",
    "days = [\"Mon\", \"Tue\", \"Wed\", \"thu\", \"fri\", \"sat\", \"sun\"]\n",
    "\n",
    "print(\"Today is day number %d\" %wd)\n",
    "print(\"which is \"+days[wd])"
   ]
  },
  {
   "cell_type": "code",
   "execution_count": 473,
   "id": "fda1d147-6fce-42cc-aced-954a49c1e4a7",
   "metadata": {},
   "outputs": [
    {
     "data": {
      "text/plain": [
       "6"
      ]
     },
     "execution_count": 473,
     "metadata": {},
     "output_type": "execute_result"
    }
   ],
   "source": [
    "wd"
   ]
  },
  {
   "cell_type": "code",
   "execution_count": null,
   "id": "45ba19f6-5757-48bf-9bf3-0966f02719d7",
   "metadata": {},
   "outputs": [],
   "source": []
  },
  {
   "cell_type": "code",
   "execution_count": null,
   "id": "dfb71023-1b91-4ed4-a896-63b261dc5e43",
   "metadata": {},
   "outputs": [],
   "source": []
  },
  {
   "cell_type": "code",
   "execution_count": null,
   "id": "6c524e20-8892-4db9-8a2a-c57c15196655",
   "metadata": {},
   "outputs": [],
   "source": []
  },
  {
   "cell_type": "code",
   "execution_count": null,
   "id": "203d47ce-41ea-4de6-8047-62238f2d0948",
   "metadata": {},
   "outputs": [],
   "source": []
  },
  {
   "cell_type": "code",
   "execution_count": null,
   "id": "b398cc77-2d18-4162-846e-103559eac13d",
   "metadata": {},
   "outputs": [],
   "source": [
    " 'combine',\n",
    " 'ctime',\n",
    " 'date',\n",
    " 'day',\n",
    " 'dst',\n",
    " 'fold',\n",
    " 'fromisocalendar',\n",
    " 'fromisoformat',\n",
    " 'fromordinal',\n",
    " 'fromtimestamp',\n",
    " 'hour',\n",
    " 'isocalendar',\n",
    " 'isoformat',\n",
    " 'isoweekday',\n",
    " 'max',\n",
    " 'microsecond',\n",
    " 'min',\n",
    " 'minute',\n",
    " 'month',\n",
    " 'now',\n",
    " 'replace',\n",
    " 'resolution',\n",
    " 'second',\n",
    " 'strftime',\n",
    " 'strptime',\n",
    " 'time',\n",
    " 'timestamp',\n",
    " 'timetuple',\n",
    " 'timetz',\n",
    " 'today',\n",
    " 'toordinal',\n",
    " 'tzinfo',\n",
    " 'tzname',\n",
    " 'utcfromtimestamp',\n",
    " 'utcnow',\n",
    " 'utcoffset',\n",
    " 'utctimetuple',\n",
    " 'weekday',\n",
    " 'year'"
   ]
  },
  {
   "cell_type": "code",
   "execution_count": null,
   "id": "5b89d4d9-ebac-4ea9-997a-5b3f3d002446",
   "metadata": {},
   "outputs": [],
   "source": []
  },
  {
   "cell_type": "code",
   "execution_count": null,
   "id": "4be98703-85c1-4ac9-a13e-74c4e71d7953",
   "metadata": {},
   "outputs": [],
   "source": [
    " 'UTC',\n",
    "'date',\n",
    " 'datetime',\n",
    " 'datetime_CAPI',\n",
    " 'time',\n",
    " 'timedelta',\n",
    " 'timezone',\n",
    " 'tzinfo'"
   ]
  },
  {
   "cell_type": "code",
   "execution_count": null,
   "id": "33e0ca65-416b-43aa-a5cd-37334ea48cb1",
   "metadata": {},
   "outputs": [],
   "source": []
  },
  {
   "cell_type": "code",
   "execution_count": null,
   "id": "d4a7245c-097f-419e-9e2a-28b88644f2c2",
   "metadata": {},
   "outputs": [],
   "source": []
  },
  {
   "cell_type": "code",
   "execution_count": null,
   "id": "855e163b-9240-464b-ab80-3285dc912a69",
   "metadata": {},
   "outputs": [],
   "source": []
  }
 ],
 "metadata": {
  "kernelspec": {
   "display_name": "Python 3 (ipykernel)",
   "language": "python",
   "name": "python3"
  },
  "language_info": {
   "codemirror_mode": {
    "name": "ipython",
    "version": 3
   },
   "file_extension": ".py",
   "mimetype": "text/x-python",
   "name": "python",
   "nbconvert_exporter": "python",
   "pygments_lexer": "ipython3",
   "version": "3.11.5"
  }
 },
 "nbformat": 4,
 "nbformat_minor": 5
}
