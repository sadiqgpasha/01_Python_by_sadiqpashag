{
 "cells": [
  {
   "cell_type": "markdown",
   "id": "64bd9316-1c65-46c8-80f1-cf1f995ff95d",
   "metadata": {},
   "source": [
    "### Python JSON"
   ]
  },
  {
   "cell_type": "markdown",
   "id": "1316717a-cfe8-400f-8efa-977be50856f0",
   "metadata": {},
   "source": [
    "Handling JSON in Python is a fundamental skill for working with APIs, configuration files, and structured data exchange. JSON (JavaScript Object Notation) is a lightweight, text-based format that maps closely to Python’s native data structures—like dictionaries and lists. Python’s built-in json module makes it easy to parse, generate, and manipulate JSON data.\n"
   ]
  },
  {
   "cell_type": "code",
   "execution_count": 1,
   "id": "2623a0b0-0b57-4419-9da9-18686ac839e5",
   "metadata": {},
   "outputs": [],
   "source": [
    "import json"
   ]
  },
  {
   "cell_type": "code",
   "execution_count": 2,
   "id": "57210848-6ebf-4420-91e9-2c3206d974bc",
   "metadata": {},
   "outputs": [
    {
     "data": {
      "text/plain": [
       "['JSONDecodeError',\n",
       " 'JSONDecoder',\n",
       " 'JSONEncoder',\n",
       " '__all__',\n",
       " '__author__',\n",
       " '__builtins__',\n",
       " '__cached__',\n",
       " '__doc__',\n",
       " '__file__',\n",
       " '__loader__',\n",
       " '__name__',\n",
       " '__package__',\n",
       " '__path__',\n",
       " '__spec__',\n",
       " '__version__',\n",
       " '_default_decoder',\n",
       " '_default_encoder',\n",
       " 'codecs',\n",
       " 'decoder',\n",
       " 'detect_encoding',\n",
       " 'dump',\n",
       " 'dumps',\n",
       " 'encoder',\n",
       " 'load',\n",
       " 'loads',\n",
       " 'scanner']"
      ]
     },
     "execution_count": 2,
     "metadata": {},
     "output_type": "execute_result"
    }
   ],
   "source": [
    "dir(json)"
   ]
  },
  {
   "cell_type": "code",
   "execution_count": 4,
   "id": "8e5f51f1-9540-4d91-af8b-2f51235f4f3c",
   "metadata": {},
   "outputs": [
    {
     "name": "stdout",
     "output_type": "stream",
     "text": [
      "Sadiq\n"
     ]
    }
   ],
   "source": [
    "import json\n",
    "from pprint import pprint\n",
    "\n",
    "json_str = '{\"name\": \"Sadiq\", \"skills\": [\"Python\", \"AI\", \"ML\"], \"active\": true}'\n",
    "\n",
    "data = json.loads(json_str)\n",
    "print(data[\"name\"])  # Output: Sadiq"
   ]
  },
  {
   "cell_type": "code",
   "execution_count": 5,
   "id": "a8c74fb5-0f85-458f-86e0-d39a8f0e5012",
   "metadata": {},
   "outputs": [
    {
     "name": "stdout",
     "output_type": "stream",
     "text": [
      "'{\"name\": \"Sadiq\", \"skills\": [\"Python\", \"AI\", \"ML\"], \"active\": true}'\n"
     ]
    }
   ],
   "source": [
    "pprint(json_str)"
   ]
  },
  {
   "cell_type": "markdown",
   "id": "7a22a3d1-c22a-4c90-a7b3-48be687291a0",
   "metadata": {},
   "source": [
    "Here, the JSON string is parsed into a Python dictionary, allowing you to access values using standard dictionary syntax. This is especially useful when consuming data from web APIs.\n",
    "\n",
    "Conversely, to convert a Python object into a JSON string, use json.dumps(). This is useful when you want to serialize Python data for storage or transmission. You can also format the output using parameters like indent and sort_keys:\n"
   ]
  },
  {
   "cell_type": "code",
   "execution_count": 6,
   "id": "ac957844-d72e-4a0b-a290-524ec8a48503",
   "metadata": {},
   "outputs": [
    {
     "name": "stdout",
     "output_type": "stream",
     "text": [
      "{\n",
      "  \"age\": 30,\n",
      "  \"name\": \"Sadiq\",\n",
      "  \"skills\": [\n",
      "    \"Python\",\n",
      "    \"ML\"\n",
      "  ]\n",
      "}\n"
     ]
    }
   ],
   "source": [
    "python_data = {\"name\": \"Sadiq\", \"age\": 30, \"skills\": [\"Python\", \"ML\"]}\n",
    "json_output = json.dumps(python_data, indent=2, sort_keys=True)\n",
    "print(json_output)"
   ]
  },
  {
   "cell_type": "markdown",
   "id": "7888befa-4b86-4a6e-824f-66cc1ddb1a6e",
   "metadata": {},
   "source": [
    "This produces a human-readable JSON string, which is ideal for logging or saving to a file. If you want to write this directly to a file, use json.dump() with a file object.\n",
    "Reading and writing JSON files is straightforward with json.load() and json.dump(). For reading, open the file in read mode and pass the file object to json.load():\n"
   ]
  },
  {
   "cell_type": "code",
   "execution_count": 1,
   "id": "18e63022-8cd6-4f36-8712-bdddecb890c3",
   "metadata": {},
   "outputs": [],
   "source": [
    "import json\n",
    "\n",
    "# Sample data to dump\n",
    "data = {\n",
    "    \"name\": \"Sadiq\",\n",
    "    \"location\": \"Bengaluru North, Ka, India\",\n",
    "    \"timestamp\": \"2025-09-13T20:29:00+05:30\",\n",
    "    \"president_US\": \"Donald Trump\",\n",
    "    \"interests\": [\"AI\", \"ML\", \"Python\", \"Upanishads\"],\n",
    "    \"goals\": {\n",
    "        \"health\": \"Reduce visceral fat in 30 days\",\n",
    "        \"career\": \"Transition to AI/ML and NLP projects\",\n",
    "        \"finance\": \"Eliminate high-interest debt\"\n",
    "    }\n",
    "}\n",
    "\n",
    "# Dump to JSON file\n",
    "with open(\"output.json\", \"w\") as f:\n",
    "    json.dump(data, f, indent=4)"
   ]
  },
  {
   "cell_type": "code",
   "execution_count": 11,
   "id": "cb51d1f4-d3c7-4334-9df1-b623636ab13d",
   "metadata": {},
   "outputs": [
    {
     "name": "stdout",
     "output_type": "stream",
     "text": [
      "{'goals': {'career': 'Transition to AI/ML and NLP projects',\n",
      "           'finance': 'Eliminate high-interest debt',\n",
      "           'health': 'Reduce visceral fat in 30 days'},\n",
      " 'interests': ['AI', 'ML', 'Python', 'Upanishads'],\n",
      " 'location': 'Bengaluru North, Ka, India',\n",
      " 'name': 'Sadiq',\n",
      " 'president_US': 'Donald Trump',\n",
      " 'timestamp': '2025-09-13T20:29:00+05:30'}\n"
     ]
    }
   ],
   "source": [
    "with open(\"output.json\", \"r\") as f:\n",
    "    data = json.load(f)\n",
    "    pprint(data)\n"
   ]
  },
  {
   "cell_type": "markdown",
   "id": "fd966f79-502d-48ff-a8de-05d4ccf67647",
   "metadata": {},
   "source": [
    "|Function| Input Type | Purpose |\n",
    "|---------|---------|----------|\n",
    "|json.load()|File-like object| Reads JSON from as file and converts to Python|\n",
    "|json.loads()|String|Reads JSON from a string and converts to Python|"
   ]
  },
  {
   "cell_type": "markdown",
   "id": "c91d0aa8-a4a1-487e-9aa3-70468c7da542",
   "metadata": {},
   "source": [
    "#### Serialization Formats Compared\n",
    "    \n",
    "|Feature  |JSON  |Pickle  |YAML  |\n",
    "|---------|--------|------------|---------| \n",
    "|Format Type  |Text (UTF-8) |Binary |text(UTF-8)| \n",
    "|Human Readable  |yes  |No  |Yes  | \n",
    "|Cross language Support|Excellent |Python-Only  |Good| \n",
    "|Supports Complex Objects|Limited (Basic Type Only)|yes (Classes and functions)|Partial via Pyyaml | \n",
    "|Security |Safe (No code execution)  |unsafe (Can execute Code)|Depends on loader used| \n",
    "|Speed |Slower for large data |fast  |Moderate | \n",
    "|File Size|Compact|Larger|Compact|\n",
    "|Use Case|APIs, config, web data|internal python state saving|config files, readable data|"
   ]
  },
  {
   "cell_type": "code",
   "execution_count": 2,
   "id": "327d99d4-c671-46b0-af15-d8b43cfedfb8",
   "metadata": {},
   "outputs": [],
   "source": [
    "#Pickle\n",
    "import pickle\n",
    "\n",
    "data = {\"name\": \"Sadiq\", \"skills\": [\"Python\", \"ML\"]}\n",
    "pickled = pickle.dumps(data)\n",
    "unpickled = pickle.loads(pickled)"
   ]
  },
  {
   "cell_type": "code",
   "execution_count": 3,
   "id": "2a1dace3-e23c-4c65-9423-8c4081760ebc",
   "metadata": {},
   "outputs": [],
   "source": [
    "#YAML\n",
    "import yaml\n",
    "\n",
    "data = {\"name\": \"Sadiq\", \"skills\": [\"Python\", \"ML\"]}\n",
    "yaml_str = yaml.dump(data)\n",
    "parsed = yaml.safe_load(yaml_str)"
   ]
  },
  {
   "cell_type": "markdown",
   "id": "64a4c163-7da6-4298-88f2-4245105f9b7e",
   "metadata": {},
   "source": [
    "##### What Is JSONDecodeError?\n",
    "\n",
    "JSONDecodeError is raised when the json module in Python encounters invalid JSON while trying to parse a string using json.loads() or a file using json.load().\n",
    "It’s a subclass of ValueError, and typically signals:\n",
    "\n",
    "- Malformed JSON syntax\n",
    "- Unexpected characters\n",
    "- Trailing commas or extra data\n",
    "- Empty strings or None inputs"
   ]
  },
  {
   "cell_type": "markdown",
   "id": "c55842db-04db-4f4b-bb45-c7a35f9b4364",
   "metadata": {},
   "source": [
    "##### Common Causes and Examples\n",
    "1. Empty String Input"
   ]
  },
  {
   "cell_type": "code",
   "execution_count": 1,
   "id": "2037dccf-063a-48bc-9baa-c4c228ee370e",
   "metadata": {},
   "outputs": [
    {
     "ename": "JSONDecodeError",
     "evalue": "Expecting value: line 1 column 1 (char 0)",
     "output_type": "error",
     "traceback": [
      "\u001b[31m---------------------------------------------------------------------------\u001b[39m",
      "\u001b[31mJSONDecodeError\u001b[39m                           Traceback (most recent call last)",
      "\u001b[36mCell\u001b[39m\u001b[36m \u001b[39m\u001b[32mIn[1]\u001b[39m\u001b[32m, line 4\u001b[39m\n\u001b[32m      1\u001b[39m \u001b[38;5;28;01mimport\u001b[39;00m\u001b[38;5;250m \u001b[39m\u001b[34;01mjson\u001b[39;00m\n\u001b[32m      3\u001b[39m data = \u001b[33m\"\u001b[39m\u001b[33m\"\u001b[39m\n\u001b[32m----> \u001b[39m\u001b[32m4\u001b[39m parsed = \u001b[43mjson\u001b[49m\u001b[43m.\u001b[49m\u001b[43mloads\u001b[49m\u001b[43m(\u001b[49m\u001b[43mdata\u001b[49m\u001b[43m)\u001b[49m  \u001b[38;5;66;03m# Raises JSONDecodeError: Expecting value\u001b[39;00m\n",
      "\u001b[36mFile \u001b[39m\u001b[32m~\\anaconda3\\envs\\guvi\\Lib\\json\\__init__.py:346\u001b[39m, in \u001b[36mloads\u001b[39m\u001b[34m(s, cls, object_hook, parse_float, parse_int, parse_constant, object_pairs_hook, **kw)\u001b[39m\n\u001b[32m    341\u001b[39m     s = s.decode(detect_encoding(s), \u001b[33m'\u001b[39m\u001b[33msurrogatepass\u001b[39m\u001b[33m'\u001b[39m)\n\u001b[32m    343\u001b[39m \u001b[38;5;28;01mif\u001b[39;00m (\u001b[38;5;28mcls\u001b[39m \u001b[38;5;129;01mis\u001b[39;00m \u001b[38;5;28;01mNone\u001b[39;00m \u001b[38;5;129;01mand\u001b[39;00m object_hook \u001b[38;5;129;01mis\u001b[39;00m \u001b[38;5;28;01mNone\u001b[39;00m \u001b[38;5;129;01mand\u001b[39;00m\n\u001b[32m    344\u001b[39m         parse_int \u001b[38;5;129;01mis\u001b[39;00m \u001b[38;5;28;01mNone\u001b[39;00m \u001b[38;5;129;01mand\u001b[39;00m parse_float \u001b[38;5;129;01mis\u001b[39;00m \u001b[38;5;28;01mNone\u001b[39;00m \u001b[38;5;129;01mand\u001b[39;00m\n\u001b[32m    345\u001b[39m         parse_constant \u001b[38;5;129;01mis\u001b[39;00m \u001b[38;5;28;01mNone\u001b[39;00m \u001b[38;5;129;01mand\u001b[39;00m object_pairs_hook \u001b[38;5;129;01mis\u001b[39;00m \u001b[38;5;28;01mNone\u001b[39;00m \u001b[38;5;129;01mand\u001b[39;00m \u001b[38;5;129;01mnot\u001b[39;00m kw):\n\u001b[32m--> \u001b[39m\u001b[32m346\u001b[39m     \u001b[38;5;28;01mreturn\u001b[39;00m \u001b[43m_default_decoder\u001b[49m\u001b[43m.\u001b[49m\u001b[43mdecode\u001b[49m\u001b[43m(\u001b[49m\u001b[43ms\u001b[49m\u001b[43m)\u001b[49m\n\u001b[32m    347\u001b[39m \u001b[38;5;28;01mif\u001b[39;00m \u001b[38;5;28mcls\u001b[39m \u001b[38;5;129;01mis\u001b[39;00m \u001b[38;5;28;01mNone\u001b[39;00m:\n\u001b[32m    348\u001b[39m     \u001b[38;5;28mcls\u001b[39m = JSONDecoder\n",
      "\u001b[36mFile \u001b[39m\u001b[32m~\\anaconda3\\envs\\guvi\\Lib\\json\\decoder.py:337\u001b[39m, in \u001b[36mJSONDecoder.decode\u001b[39m\u001b[34m(self, s, _w)\u001b[39m\n\u001b[32m    332\u001b[39m \u001b[38;5;28;01mdef\u001b[39;00m\u001b[38;5;250m \u001b[39m\u001b[34mdecode\u001b[39m(\u001b[38;5;28mself\u001b[39m, s, _w=WHITESPACE.match):\n\u001b[32m    333\u001b[39m \u001b[38;5;250m    \u001b[39m\u001b[33;03m\"\"\"Return the Python representation of ``s`` (a ``str`` instance\u001b[39;00m\n\u001b[32m    334\u001b[39m \u001b[33;03m    containing a JSON document).\u001b[39;00m\n\u001b[32m    335\u001b[39m \n\u001b[32m    336\u001b[39m \u001b[33;03m    \"\"\"\u001b[39;00m\n\u001b[32m--> \u001b[39m\u001b[32m337\u001b[39m     obj, end = \u001b[38;5;28;43mself\u001b[39;49m\u001b[43m.\u001b[49m\u001b[43mraw_decode\u001b[49m\u001b[43m(\u001b[49m\u001b[43ms\u001b[49m\u001b[43m,\u001b[49m\u001b[43m \u001b[49m\u001b[43midx\u001b[49m\u001b[43m=\u001b[49m\u001b[43m_w\u001b[49m\u001b[43m(\u001b[49m\u001b[43ms\u001b[49m\u001b[43m,\u001b[49m\u001b[43m \u001b[49m\u001b[32;43m0\u001b[39;49m\u001b[43m)\u001b[49m\u001b[43m.\u001b[49m\u001b[43mend\u001b[49m\u001b[43m(\u001b[49m\u001b[43m)\u001b[49m\u001b[43m)\u001b[49m\n\u001b[32m    338\u001b[39m     end = _w(s, end).end()\n\u001b[32m    339\u001b[39m     \u001b[38;5;28;01mif\u001b[39;00m end != \u001b[38;5;28mlen\u001b[39m(s):\n",
      "\u001b[36mFile \u001b[39m\u001b[32m~\\anaconda3\\envs\\guvi\\Lib\\json\\decoder.py:355\u001b[39m, in \u001b[36mJSONDecoder.raw_decode\u001b[39m\u001b[34m(self, s, idx)\u001b[39m\n\u001b[32m    353\u001b[39m     obj, end = \u001b[38;5;28mself\u001b[39m.scan_once(s, idx)\n\u001b[32m    354\u001b[39m \u001b[38;5;28;01mexcept\u001b[39;00m \u001b[38;5;167;01mStopIteration\u001b[39;00m \u001b[38;5;28;01mas\u001b[39;00m err:\n\u001b[32m--> \u001b[39m\u001b[32m355\u001b[39m     \u001b[38;5;28;01mraise\u001b[39;00m JSONDecodeError(\u001b[33m\"\u001b[39m\u001b[33mExpecting value\u001b[39m\u001b[33m\"\u001b[39m, s, err.value) \u001b[38;5;28;01mfrom\u001b[39;00m\u001b[38;5;250m \u001b[39m\u001b[38;5;28;01mNone\u001b[39;00m\n\u001b[32m    356\u001b[39m \u001b[38;5;28;01mreturn\u001b[39;00m obj, end\n",
      "\u001b[31mJSONDecodeError\u001b[39m: Expecting value: line 1 column 1 (char 0)"
     ]
    }
   ],
   "source": [
    "import json\n",
    "\n",
    "data = \"\"\n",
    "parsed = json.loads(data)  # Raises JSONDecodeError: Expecting value"
   ]
  },
  {
   "cell_type": "markdown",
   "id": "e322c49b-109c-4d2e-87dd-334d7a43138f",
   "metadata": {},
   "source": [
    "Why? JSON must contain at least one valid value—empty string is not valid JSON."
   ]
  },
  {
   "cell_type": "markdown",
   "id": "0e44f42e-277c-4d10-8d08-dce39da47926",
   "metadata": {},
   "source": [
    "##### 2. Trailing Comma"
   ]
  },
  {
   "cell_type": "code",
   "execution_count": 2,
   "id": "af842fa9-7775-46c8-b4f8-b0e79af3324f",
   "metadata": {},
   "outputs": [
    {
     "ename": "JSONDecodeError",
     "evalue": "Expecting value: line 1 column 46 (char 45)",
     "output_type": "error",
     "traceback": [
      "\u001b[31m---------------------------------------------------------------------------\u001b[39m",
      "\u001b[31mJSONDecodeError\u001b[39m                           Traceback (most recent call last)",
      "\u001b[36mCell\u001b[39m\u001b[36m \u001b[39m\u001b[32mIn[2]\u001b[39m\u001b[32m, line 3\u001b[39m\n\u001b[32m      1\u001b[39m \u001b[38;5;66;03m##### 2. Trailing Comma\u001b[39;00m\n\u001b[32m      2\u001b[39m json_str = \u001b[33m'\u001b[39m\u001b[33m{\u001b[39m\u001b[33m\"\u001b[39m\u001b[33mname\u001b[39m\u001b[33m\"\u001b[39m\u001b[33m: \u001b[39m\u001b[33m\"\u001b[39m\u001b[33mSadiq\u001b[39m\u001b[33m\"\u001b[39m\u001b[33m, \u001b[39m\u001b[33m\"\u001b[39m\u001b[33mskills\u001b[39m\u001b[33m\"\u001b[39m\u001b[33m: [\u001b[39m\u001b[33m\"\u001b[39m\u001b[33mPython\u001b[39m\u001b[33m\"\u001b[39m\u001b[33m, \u001b[39m\u001b[33m\"\u001b[39m\u001b[33mML\u001b[39m\u001b[33m\"\u001b[39m\u001b[33m, ]}\u001b[39m\u001b[33m'\u001b[39m\n\u001b[32m----> \u001b[39m\u001b[32m3\u001b[39m \u001b[43mjson\u001b[49m\u001b[43m.\u001b[49m\u001b[43mloads\u001b[49m\u001b[43m(\u001b[49m\u001b[43mjson_str\u001b[49m\u001b[43m)\u001b[49m  \u001b[38;5;66;03m# Raises JSONDecodeError: Expecting value\u001b[39;00m\n",
      "\u001b[36mFile \u001b[39m\u001b[32m~\\anaconda3\\envs\\guvi\\Lib\\json\\__init__.py:346\u001b[39m, in \u001b[36mloads\u001b[39m\u001b[34m(s, cls, object_hook, parse_float, parse_int, parse_constant, object_pairs_hook, **kw)\u001b[39m\n\u001b[32m    341\u001b[39m     s = s.decode(detect_encoding(s), \u001b[33m'\u001b[39m\u001b[33msurrogatepass\u001b[39m\u001b[33m'\u001b[39m)\n\u001b[32m    343\u001b[39m \u001b[38;5;28;01mif\u001b[39;00m (\u001b[38;5;28mcls\u001b[39m \u001b[38;5;129;01mis\u001b[39;00m \u001b[38;5;28;01mNone\u001b[39;00m \u001b[38;5;129;01mand\u001b[39;00m object_hook \u001b[38;5;129;01mis\u001b[39;00m \u001b[38;5;28;01mNone\u001b[39;00m \u001b[38;5;129;01mand\u001b[39;00m\n\u001b[32m    344\u001b[39m         parse_int \u001b[38;5;129;01mis\u001b[39;00m \u001b[38;5;28;01mNone\u001b[39;00m \u001b[38;5;129;01mand\u001b[39;00m parse_float \u001b[38;5;129;01mis\u001b[39;00m \u001b[38;5;28;01mNone\u001b[39;00m \u001b[38;5;129;01mand\u001b[39;00m\n\u001b[32m    345\u001b[39m         parse_constant \u001b[38;5;129;01mis\u001b[39;00m \u001b[38;5;28;01mNone\u001b[39;00m \u001b[38;5;129;01mand\u001b[39;00m object_pairs_hook \u001b[38;5;129;01mis\u001b[39;00m \u001b[38;5;28;01mNone\u001b[39;00m \u001b[38;5;129;01mand\u001b[39;00m \u001b[38;5;129;01mnot\u001b[39;00m kw):\n\u001b[32m--> \u001b[39m\u001b[32m346\u001b[39m     \u001b[38;5;28;01mreturn\u001b[39;00m \u001b[43m_default_decoder\u001b[49m\u001b[43m.\u001b[49m\u001b[43mdecode\u001b[49m\u001b[43m(\u001b[49m\u001b[43ms\u001b[49m\u001b[43m)\u001b[49m\n\u001b[32m    347\u001b[39m \u001b[38;5;28;01mif\u001b[39;00m \u001b[38;5;28mcls\u001b[39m \u001b[38;5;129;01mis\u001b[39;00m \u001b[38;5;28;01mNone\u001b[39;00m:\n\u001b[32m    348\u001b[39m     \u001b[38;5;28mcls\u001b[39m = JSONDecoder\n",
      "\u001b[36mFile \u001b[39m\u001b[32m~\\anaconda3\\envs\\guvi\\Lib\\json\\decoder.py:337\u001b[39m, in \u001b[36mJSONDecoder.decode\u001b[39m\u001b[34m(self, s, _w)\u001b[39m\n\u001b[32m    332\u001b[39m \u001b[38;5;28;01mdef\u001b[39;00m\u001b[38;5;250m \u001b[39m\u001b[34mdecode\u001b[39m(\u001b[38;5;28mself\u001b[39m, s, _w=WHITESPACE.match):\n\u001b[32m    333\u001b[39m \u001b[38;5;250m    \u001b[39m\u001b[33;03m\"\"\"Return the Python representation of ``s`` (a ``str`` instance\u001b[39;00m\n\u001b[32m    334\u001b[39m \u001b[33;03m    containing a JSON document).\u001b[39;00m\n\u001b[32m    335\u001b[39m \n\u001b[32m    336\u001b[39m \u001b[33;03m    \"\"\"\u001b[39;00m\n\u001b[32m--> \u001b[39m\u001b[32m337\u001b[39m     obj, end = \u001b[38;5;28;43mself\u001b[39;49m\u001b[43m.\u001b[49m\u001b[43mraw_decode\u001b[49m\u001b[43m(\u001b[49m\u001b[43ms\u001b[49m\u001b[43m,\u001b[49m\u001b[43m \u001b[49m\u001b[43midx\u001b[49m\u001b[43m=\u001b[49m\u001b[43m_w\u001b[49m\u001b[43m(\u001b[49m\u001b[43ms\u001b[49m\u001b[43m,\u001b[49m\u001b[43m \u001b[49m\u001b[32;43m0\u001b[39;49m\u001b[43m)\u001b[49m\u001b[43m.\u001b[49m\u001b[43mend\u001b[49m\u001b[43m(\u001b[49m\u001b[43m)\u001b[49m\u001b[43m)\u001b[49m\n\u001b[32m    338\u001b[39m     end = _w(s, end).end()\n\u001b[32m    339\u001b[39m     \u001b[38;5;28;01mif\u001b[39;00m end != \u001b[38;5;28mlen\u001b[39m(s):\n",
      "\u001b[36mFile \u001b[39m\u001b[32m~\\anaconda3\\envs\\guvi\\Lib\\json\\decoder.py:355\u001b[39m, in \u001b[36mJSONDecoder.raw_decode\u001b[39m\u001b[34m(self, s, idx)\u001b[39m\n\u001b[32m    353\u001b[39m     obj, end = \u001b[38;5;28mself\u001b[39m.scan_once(s, idx)\n\u001b[32m    354\u001b[39m \u001b[38;5;28;01mexcept\u001b[39;00m \u001b[38;5;167;01mStopIteration\u001b[39;00m \u001b[38;5;28;01mas\u001b[39;00m err:\n\u001b[32m--> \u001b[39m\u001b[32m355\u001b[39m     \u001b[38;5;28;01mraise\u001b[39;00m JSONDecodeError(\u001b[33m\"\u001b[39m\u001b[33mExpecting value\u001b[39m\u001b[33m\"\u001b[39m, s, err.value) \u001b[38;5;28;01mfrom\u001b[39;00m\u001b[38;5;250m \u001b[39m\u001b[38;5;28;01mNone\u001b[39;00m\n\u001b[32m    356\u001b[39m \u001b[38;5;28;01mreturn\u001b[39;00m obj, end\n",
      "\u001b[31mJSONDecodeError\u001b[39m: Expecting value: line 1 column 46 (char 45)"
     ]
    }
   ],
   "source": [
    "json_str = '{\"name\": \"Sadiq\", \"skills\": [\"Python\", \"ML\", ]}'\n",
    "json.loads(json_str)  # Raises JSONDecodeError: Expecting value"
   ]
  },
  {
   "cell_type": "markdown",
   "id": "2fe9c6f3-a01f-4cd0-81bd-392f72f8b74b",
   "metadata": {},
   "source": [
    "Why? JSON does not allow trailing commas in arrays or objects."
   ]
  },
  {
   "cell_type": "markdown",
   "id": "bbbeb69b-0ccd-4a1d-9f2f-8d673c275ee0",
   "metadata": {},
   "source": [
    "##### 3. Multiple JSON Objects in One String"
   ]
  },
  {
   "cell_type": "code",
   "execution_count": 3,
   "id": "f856f9eb-2a4c-4507-9d5f-220e85fc8727",
   "metadata": {},
   "outputs": [
    {
     "ename": "JSONDecodeError",
     "evalue": "Extra data: line 1 column 18 (char 17)",
     "output_type": "error",
     "traceback": [
      "\u001b[31m---------------------------------------------------------------------------\u001b[39m",
      "\u001b[31mJSONDecodeError\u001b[39m                           Traceback (most recent call last)",
      "\u001b[36mCell\u001b[39m\u001b[36m \u001b[39m\u001b[32mIn[3]\u001b[39m\u001b[32m, line 3\u001b[39m\n\u001b[32m      1\u001b[39m \u001b[38;5;66;03m##### 3. Multiple JSON Objects in One String\u001b[39;00m\n\u001b[32m      2\u001b[39m json_str = \u001b[33m'\u001b[39m\u001b[33m{\u001b[39m\u001b[33m\"\u001b[39m\u001b[33mname\u001b[39m\u001b[33m\"\u001b[39m\u001b[33m: \u001b[39m\u001b[33m\"\u001b[39m\u001b[33mSadiq\u001b[39m\u001b[33m\"\u001b[39m\u001b[33m}\u001b[39m\u001b[33m{\u001b[39m\u001b[33m\"\u001b[39m\u001b[33mskills\u001b[39m\u001b[33m\"\u001b[39m\u001b[33m: [\u001b[39m\u001b[33m\"\u001b[39m\u001b[33mPython\u001b[39m\u001b[33m\"\u001b[39m\u001b[33m, \u001b[39m\u001b[33m\"\u001b[39m\u001b[33mML\u001b[39m\u001b[33m\"\u001b[39m\u001b[33m]}\u001b[39m\u001b[33m'\u001b[39m\n\u001b[32m----> \u001b[39m\u001b[32m3\u001b[39m \u001b[43mjson\u001b[49m\u001b[43m.\u001b[49m\u001b[43mloads\u001b[49m\u001b[43m(\u001b[49m\u001b[43mjson_str\u001b[49m\u001b[43m)\u001b[49m  \u001b[38;5;66;03m# Raises JSONDecodeError: Extra data\u001b[39;00m\n",
      "\u001b[36mFile \u001b[39m\u001b[32m~\\anaconda3\\envs\\guvi\\Lib\\json\\__init__.py:346\u001b[39m, in \u001b[36mloads\u001b[39m\u001b[34m(s, cls, object_hook, parse_float, parse_int, parse_constant, object_pairs_hook, **kw)\u001b[39m\n\u001b[32m    341\u001b[39m     s = s.decode(detect_encoding(s), \u001b[33m'\u001b[39m\u001b[33msurrogatepass\u001b[39m\u001b[33m'\u001b[39m)\n\u001b[32m    343\u001b[39m \u001b[38;5;28;01mif\u001b[39;00m (\u001b[38;5;28mcls\u001b[39m \u001b[38;5;129;01mis\u001b[39;00m \u001b[38;5;28;01mNone\u001b[39;00m \u001b[38;5;129;01mand\u001b[39;00m object_hook \u001b[38;5;129;01mis\u001b[39;00m \u001b[38;5;28;01mNone\u001b[39;00m \u001b[38;5;129;01mand\u001b[39;00m\n\u001b[32m    344\u001b[39m         parse_int \u001b[38;5;129;01mis\u001b[39;00m \u001b[38;5;28;01mNone\u001b[39;00m \u001b[38;5;129;01mand\u001b[39;00m parse_float \u001b[38;5;129;01mis\u001b[39;00m \u001b[38;5;28;01mNone\u001b[39;00m \u001b[38;5;129;01mand\u001b[39;00m\n\u001b[32m    345\u001b[39m         parse_constant \u001b[38;5;129;01mis\u001b[39;00m \u001b[38;5;28;01mNone\u001b[39;00m \u001b[38;5;129;01mand\u001b[39;00m object_pairs_hook \u001b[38;5;129;01mis\u001b[39;00m \u001b[38;5;28;01mNone\u001b[39;00m \u001b[38;5;129;01mand\u001b[39;00m \u001b[38;5;129;01mnot\u001b[39;00m kw):\n\u001b[32m--> \u001b[39m\u001b[32m346\u001b[39m     \u001b[38;5;28;01mreturn\u001b[39;00m \u001b[43m_default_decoder\u001b[49m\u001b[43m.\u001b[49m\u001b[43mdecode\u001b[49m\u001b[43m(\u001b[49m\u001b[43ms\u001b[49m\u001b[43m)\u001b[49m\n\u001b[32m    347\u001b[39m \u001b[38;5;28;01mif\u001b[39;00m \u001b[38;5;28mcls\u001b[39m \u001b[38;5;129;01mis\u001b[39;00m \u001b[38;5;28;01mNone\u001b[39;00m:\n\u001b[32m    348\u001b[39m     \u001b[38;5;28mcls\u001b[39m = JSONDecoder\n",
      "\u001b[36mFile \u001b[39m\u001b[32m~\\anaconda3\\envs\\guvi\\Lib\\json\\decoder.py:340\u001b[39m, in \u001b[36mJSONDecoder.decode\u001b[39m\u001b[34m(self, s, _w)\u001b[39m\n\u001b[32m    338\u001b[39m end = _w(s, end).end()\n\u001b[32m    339\u001b[39m \u001b[38;5;28;01mif\u001b[39;00m end != \u001b[38;5;28mlen\u001b[39m(s):\n\u001b[32m--> \u001b[39m\u001b[32m340\u001b[39m     \u001b[38;5;28;01mraise\u001b[39;00m JSONDecodeError(\u001b[33m\"\u001b[39m\u001b[33mExtra data\u001b[39m\u001b[33m\"\u001b[39m, s, end)\n\u001b[32m    341\u001b[39m \u001b[38;5;28;01mreturn\u001b[39;00m obj\n",
      "\u001b[31mJSONDecodeError\u001b[39m: Extra data: line 1 column 18 (char 17)"
     ]
    }
   ],
   "source": [
    "json_str = '{\"name\": \"Sadiq\"}{\"skills\": [\"Python\", \"ML\"]}'\n",
    "json.loads(json_str)  # Raises JSONDecodeError: Extra data"
   ]
  },
  {
   "cell_type": "markdown",
   "id": "fedd7435-1448-41dc-885a-ceb33ef16aed",
   "metadata": {},
   "source": [
    "Why? json.loads() expects a single JSON object. Use a streaming parser or split the string."
   ]
  },
  {
   "cell_type": "markdown",
   "id": "8a5781b7-9dac-4327-a261-fb423c3936e9",
   "metadata": {},
   "source": [
    "##### 4. Improper Quotes"
   ]
  },
  {
   "cell_type": "code",
   "execution_count": 4,
   "id": "64ee65a8-c227-447d-a902-4ec2c01c03a3",
   "metadata": {},
   "outputs": [
    {
     "ename": "JSONDecodeError",
     "evalue": "Expecting property name enclosed in double quotes: line 1 column 2 (char 1)",
     "output_type": "error",
     "traceback": [
      "\u001b[31m---------------------------------------------------------------------------\u001b[39m",
      "\u001b[31mJSONDecodeError\u001b[39m                           Traceback (most recent call last)",
      "\u001b[36mCell\u001b[39m\u001b[36m \u001b[39m\u001b[32mIn[4]\u001b[39m\u001b[32m, line 2\u001b[39m\n\u001b[32m      1\u001b[39m json_str = \u001b[33m\"\u001b[39m\u001b[33m{\u001b[39m\u001b[33m'\u001b[39m\u001b[33mname\u001b[39m\u001b[33m'\u001b[39m\u001b[33m: \u001b[39m\u001b[33m'\u001b[39m\u001b[33mSadiq\u001b[39m\u001b[33m'\u001b[39m\u001b[33m}\u001b[39m\u001b[33m\"\u001b[39m\n\u001b[32m----> \u001b[39m\u001b[32m2\u001b[39m \u001b[43mjson\u001b[49m\u001b[43m.\u001b[49m\u001b[43mloads\u001b[49m\u001b[43m(\u001b[49m\u001b[43mjson_str\u001b[49m\u001b[43m)\u001b[49m  \u001b[38;5;66;03m# Raises JSONDecodeError: Expecting property name enclosed in double quotes\u001b[39;00m\n",
      "\u001b[36mFile \u001b[39m\u001b[32m~\\anaconda3\\envs\\guvi\\Lib\\json\\__init__.py:346\u001b[39m, in \u001b[36mloads\u001b[39m\u001b[34m(s, cls, object_hook, parse_float, parse_int, parse_constant, object_pairs_hook, **kw)\u001b[39m\n\u001b[32m    341\u001b[39m     s = s.decode(detect_encoding(s), \u001b[33m'\u001b[39m\u001b[33msurrogatepass\u001b[39m\u001b[33m'\u001b[39m)\n\u001b[32m    343\u001b[39m \u001b[38;5;28;01mif\u001b[39;00m (\u001b[38;5;28mcls\u001b[39m \u001b[38;5;129;01mis\u001b[39;00m \u001b[38;5;28;01mNone\u001b[39;00m \u001b[38;5;129;01mand\u001b[39;00m object_hook \u001b[38;5;129;01mis\u001b[39;00m \u001b[38;5;28;01mNone\u001b[39;00m \u001b[38;5;129;01mand\u001b[39;00m\n\u001b[32m    344\u001b[39m         parse_int \u001b[38;5;129;01mis\u001b[39;00m \u001b[38;5;28;01mNone\u001b[39;00m \u001b[38;5;129;01mand\u001b[39;00m parse_float \u001b[38;5;129;01mis\u001b[39;00m \u001b[38;5;28;01mNone\u001b[39;00m \u001b[38;5;129;01mand\u001b[39;00m\n\u001b[32m    345\u001b[39m         parse_constant \u001b[38;5;129;01mis\u001b[39;00m \u001b[38;5;28;01mNone\u001b[39;00m \u001b[38;5;129;01mand\u001b[39;00m object_pairs_hook \u001b[38;5;129;01mis\u001b[39;00m \u001b[38;5;28;01mNone\u001b[39;00m \u001b[38;5;129;01mand\u001b[39;00m \u001b[38;5;129;01mnot\u001b[39;00m kw):\n\u001b[32m--> \u001b[39m\u001b[32m346\u001b[39m     \u001b[38;5;28;01mreturn\u001b[39;00m \u001b[43m_default_decoder\u001b[49m\u001b[43m.\u001b[49m\u001b[43mdecode\u001b[49m\u001b[43m(\u001b[49m\u001b[43ms\u001b[49m\u001b[43m)\u001b[49m\n\u001b[32m    347\u001b[39m \u001b[38;5;28;01mif\u001b[39;00m \u001b[38;5;28mcls\u001b[39m \u001b[38;5;129;01mis\u001b[39;00m \u001b[38;5;28;01mNone\u001b[39;00m:\n\u001b[32m    348\u001b[39m     \u001b[38;5;28mcls\u001b[39m = JSONDecoder\n",
      "\u001b[36mFile \u001b[39m\u001b[32m~\\anaconda3\\envs\\guvi\\Lib\\json\\decoder.py:337\u001b[39m, in \u001b[36mJSONDecoder.decode\u001b[39m\u001b[34m(self, s, _w)\u001b[39m\n\u001b[32m    332\u001b[39m \u001b[38;5;28;01mdef\u001b[39;00m\u001b[38;5;250m \u001b[39m\u001b[34mdecode\u001b[39m(\u001b[38;5;28mself\u001b[39m, s, _w=WHITESPACE.match):\n\u001b[32m    333\u001b[39m \u001b[38;5;250m    \u001b[39m\u001b[33;03m\"\"\"Return the Python representation of ``s`` (a ``str`` instance\u001b[39;00m\n\u001b[32m    334\u001b[39m \u001b[33;03m    containing a JSON document).\u001b[39;00m\n\u001b[32m    335\u001b[39m \n\u001b[32m    336\u001b[39m \u001b[33;03m    \"\"\"\u001b[39;00m\n\u001b[32m--> \u001b[39m\u001b[32m337\u001b[39m     obj, end = \u001b[38;5;28;43mself\u001b[39;49m\u001b[43m.\u001b[49m\u001b[43mraw_decode\u001b[49m\u001b[43m(\u001b[49m\u001b[43ms\u001b[49m\u001b[43m,\u001b[49m\u001b[43m \u001b[49m\u001b[43midx\u001b[49m\u001b[43m=\u001b[49m\u001b[43m_w\u001b[49m\u001b[43m(\u001b[49m\u001b[43ms\u001b[49m\u001b[43m,\u001b[49m\u001b[43m \u001b[49m\u001b[32;43m0\u001b[39;49m\u001b[43m)\u001b[49m\u001b[43m.\u001b[49m\u001b[43mend\u001b[49m\u001b[43m(\u001b[49m\u001b[43m)\u001b[49m\u001b[43m)\u001b[49m\n\u001b[32m    338\u001b[39m     end = _w(s, end).end()\n\u001b[32m    339\u001b[39m     \u001b[38;5;28;01mif\u001b[39;00m end != \u001b[38;5;28mlen\u001b[39m(s):\n",
      "\u001b[36mFile \u001b[39m\u001b[32m~\\anaconda3\\envs\\guvi\\Lib\\json\\decoder.py:353\u001b[39m, in \u001b[36mJSONDecoder.raw_decode\u001b[39m\u001b[34m(self, s, idx)\u001b[39m\n\u001b[32m    344\u001b[39m \u001b[38;5;250m\u001b[39m\u001b[33;03m\"\"\"Decode a JSON document from ``s`` (a ``str`` beginning with\u001b[39;00m\n\u001b[32m    345\u001b[39m \u001b[33;03ma JSON document) and return a 2-tuple of the Python\u001b[39;00m\n\u001b[32m    346\u001b[39m \u001b[33;03mrepresentation and the index in ``s`` where the document ended.\u001b[39;00m\n\u001b[32m   (...)\u001b[39m\u001b[32m    350\u001b[39m \n\u001b[32m    351\u001b[39m \u001b[33;03m\"\"\"\u001b[39;00m\n\u001b[32m    352\u001b[39m \u001b[38;5;28;01mtry\u001b[39;00m:\n\u001b[32m--> \u001b[39m\u001b[32m353\u001b[39m     obj, end = \u001b[38;5;28;43mself\u001b[39;49m\u001b[43m.\u001b[49m\u001b[43mscan_once\u001b[49m\u001b[43m(\u001b[49m\u001b[43ms\u001b[49m\u001b[43m,\u001b[49m\u001b[43m \u001b[49m\u001b[43midx\u001b[49m\u001b[43m)\u001b[49m\n\u001b[32m    354\u001b[39m \u001b[38;5;28;01mexcept\u001b[39;00m \u001b[38;5;167;01mStopIteration\u001b[39;00m \u001b[38;5;28;01mas\u001b[39;00m err:\n\u001b[32m    355\u001b[39m     \u001b[38;5;28;01mraise\u001b[39;00m JSONDecodeError(\u001b[33m\"\u001b[39m\u001b[33mExpecting value\u001b[39m\u001b[33m\"\u001b[39m, s, err.value) \u001b[38;5;28;01mfrom\u001b[39;00m\u001b[38;5;250m \u001b[39m\u001b[38;5;28;01mNone\u001b[39;00m\n",
      "\u001b[31mJSONDecodeError\u001b[39m: Expecting property name enclosed in double quotes: line 1 column 2 (char 1)"
     ]
    }
   ],
   "source": [
    "json_str = \"{'name': 'Sadiq'}\"\n",
    "json.loads(json_str)  # Raises JSONDecodeError: Expecting property name enclosed in double quotes"
   ]
  },
  {
   "cell_type": "markdown",
   "id": "e996562c-8394-4b27-ae4a-5f23844aa059",
   "metadata": {},
   "source": [
    "Why? JSON requires double quotes for strings and keys—not single quotes."
   ]
  },
  {
   "cell_type": "markdown",
   "id": "171df8ce-a327-4407-a29e-67e8d01fd7d1",
   "metadata": {},
   "source": [
    "##### 5. Control Characters or Non-Printable Characters"
   ]
  },
  {
   "cell_type": "code",
   "execution_count": 5,
   "id": "92449440-362d-41d7-ae28-aeec37124e38",
   "metadata": {},
   "outputs": [
    {
     "ename": "JSONDecodeError",
     "evalue": "Invalid control character at: line 1 column 16 (char 15)",
     "output_type": "error",
     "traceback": [
      "\u001b[31m---------------------------------------------------------------------------\u001b[39m",
      "\u001b[31mJSONDecodeError\u001b[39m                           Traceback (most recent call last)",
      "\u001b[36mCell\u001b[39m\u001b[36m \u001b[39m\u001b[32mIn[5]\u001b[39m\u001b[32m, line 2\u001b[39m\n\u001b[32m      1\u001b[39m json_str = \u001b[33m'\u001b[39m\u001b[33m{\u001b[39m\u001b[33m\"\u001b[39m\u001b[33mname\u001b[39m\u001b[33m\"\u001b[39m\u001b[33m: \u001b[39m\u001b[33m\"\u001b[39m\u001b[33mSadiq\u001b[39m\u001b[38;5;130;01m\\u0001\u001b[39;00m\u001b[33m\"\u001b[39m\u001b[33m}\u001b[39m\u001b[33m'\u001b[39m\n\u001b[32m----> \u001b[39m\u001b[32m2\u001b[39m \u001b[43mjson\u001b[49m\u001b[43m.\u001b[49m\u001b[43mloads\u001b[49m\u001b[43m(\u001b[49m\u001b[43mjson_str\u001b[49m\u001b[43m)\u001b[49m  \u001b[38;5;66;03m# May raise JSONDecodeError depending on context\u001b[39;00m\n",
      "\u001b[36mFile \u001b[39m\u001b[32m~\\anaconda3\\envs\\guvi\\Lib\\json\\__init__.py:346\u001b[39m, in \u001b[36mloads\u001b[39m\u001b[34m(s, cls, object_hook, parse_float, parse_int, parse_constant, object_pairs_hook, **kw)\u001b[39m\n\u001b[32m    341\u001b[39m     s = s.decode(detect_encoding(s), \u001b[33m'\u001b[39m\u001b[33msurrogatepass\u001b[39m\u001b[33m'\u001b[39m)\n\u001b[32m    343\u001b[39m \u001b[38;5;28;01mif\u001b[39;00m (\u001b[38;5;28mcls\u001b[39m \u001b[38;5;129;01mis\u001b[39;00m \u001b[38;5;28;01mNone\u001b[39;00m \u001b[38;5;129;01mand\u001b[39;00m object_hook \u001b[38;5;129;01mis\u001b[39;00m \u001b[38;5;28;01mNone\u001b[39;00m \u001b[38;5;129;01mand\u001b[39;00m\n\u001b[32m    344\u001b[39m         parse_int \u001b[38;5;129;01mis\u001b[39;00m \u001b[38;5;28;01mNone\u001b[39;00m \u001b[38;5;129;01mand\u001b[39;00m parse_float \u001b[38;5;129;01mis\u001b[39;00m \u001b[38;5;28;01mNone\u001b[39;00m \u001b[38;5;129;01mand\u001b[39;00m\n\u001b[32m    345\u001b[39m         parse_constant \u001b[38;5;129;01mis\u001b[39;00m \u001b[38;5;28;01mNone\u001b[39;00m \u001b[38;5;129;01mand\u001b[39;00m object_pairs_hook \u001b[38;5;129;01mis\u001b[39;00m \u001b[38;5;28;01mNone\u001b[39;00m \u001b[38;5;129;01mand\u001b[39;00m \u001b[38;5;129;01mnot\u001b[39;00m kw):\n\u001b[32m--> \u001b[39m\u001b[32m346\u001b[39m     \u001b[38;5;28;01mreturn\u001b[39;00m \u001b[43m_default_decoder\u001b[49m\u001b[43m.\u001b[49m\u001b[43mdecode\u001b[49m\u001b[43m(\u001b[49m\u001b[43ms\u001b[49m\u001b[43m)\u001b[49m\n\u001b[32m    347\u001b[39m \u001b[38;5;28;01mif\u001b[39;00m \u001b[38;5;28mcls\u001b[39m \u001b[38;5;129;01mis\u001b[39;00m \u001b[38;5;28;01mNone\u001b[39;00m:\n\u001b[32m    348\u001b[39m     \u001b[38;5;28mcls\u001b[39m = JSONDecoder\n",
      "\u001b[36mFile \u001b[39m\u001b[32m~\\anaconda3\\envs\\guvi\\Lib\\json\\decoder.py:337\u001b[39m, in \u001b[36mJSONDecoder.decode\u001b[39m\u001b[34m(self, s, _w)\u001b[39m\n\u001b[32m    332\u001b[39m \u001b[38;5;28;01mdef\u001b[39;00m\u001b[38;5;250m \u001b[39m\u001b[34mdecode\u001b[39m(\u001b[38;5;28mself\u001b[39m, s, _w=WHITESPACE.match):\n\u001b[32m    333\u001b[39m \u001b[38;5;250m    \u001b[39m\u001b[33;03m\"\"\"Return the Python representation of ``s`` (a ``str`` instance\u001b[39;00m\n\u001b[32m    334\u001b[39m \u001b[33;03m    containing a JSON document).\u001b[39;00m\n\u001b[32m    335\u001b[39m \n\u001b[32m    336\u001b[39m \u001b[33;03m    \"\"\"\u001b[39;00m\n\u001b[32m--> \u001b[39m\u001b[32m337\u001b[39m     obj, end = \u001b[38;5;28;43mself\u001b[39;49m\u001b[43m.\u001b[49m\u001b[43mraw_decode\u001b[49m\u001b[43m(\u001b[49m\u001b[43ms\u001b[49m\u001b[43m,\u001b[49m\u001b[43m \u001b[49m\u001b[43midx\u001b[49m\u001b[43m=\u001b[49m\u001b[43m_w\u001b[49m\u001b[43m(\u001b[49m\u001b[43ms\u001b[49m\u001b[43m,\u001b[49m\u001b[43m \u001b[49m\u001b[32;43m0\u001b[39;49m\u001b[43m)\u001b[49m\u001b[43m.\u001b[49m\u001b[43mend\u001b[49m\u001b[43m(\u001b[49m\u001b[43m)\u001b[49m\u001b[43m)\u001b[49m\n\u001b[32m    338\u001b[39m     end = _w(s, end).end()\n\u001b[32m    339\u001b[39m     \u001b[38;5;28;01mif\u001b[39;00m end != \u001b[38;5;28mlen\u001b[39m(s):\n",
      "\u001b[36mFile \u001b[39m\u001b[32m~\\anaconda3\\envs\\guvi\\Lib\\json\\decoder.py:353\u001b[39m, in \u001b[36mJSONDecoder.raw_decode\u001b[39m\u001b[34m(self, s, idx)\u001b[39m\n\u001b[32m    344\u001b[39m \u001b[38;5;250m\u001b[39m\u001b[33;03m\"\"\"Decode a JSON document from ``s`` (a ``str`` beginning with\u001b[39;00m\n\u001b[32m    345\u001b[39m \u001b[33;03ma JSON document) and return a 2-tuple of the Python\u001b[39;00m\n\u001b[32m    346\u001b[39m \u001b[33;03mrepresentation and the index in ``s`` where the document ended.\u001b[39;00m\n\u001b[32m   (...)\u001b[39m\u001b[32m    350\u001b[39m \n\u001b[32m    351\u001b[39m \u001b[33;03m\"\"\"\u001b[39;00m\n\u001b[32m    352\u001b[39m \u001b[38;5;28;01mtry\u001b[39;00m:\n\u001b[32m--> \u001b[39m\u001b[32m353\u001b[39m     obj, end = \u001b[38;5;28;43mself\u001b[39;49m\u001b[43m.\u001b[49m\u001b[43mscan_once\u001b[49m\u001b[43m(\u001b[49m\u001b[43ms\u001b[49m\u001b[43m,\u001b[49m\u001b[43m \u001b[49m\u001b[43midx\u001b[49m\u001b[43m)\u001b[49m\n\u001b[32m    354\u001b[39m \u001b[38;5;28;01mexcept\u001b[39;00m \u001b[38;5;167;01mStopIteration\u001b[39;00m \u001b[38;5;28;01mas\u001b[39;00m err:\n\u001b[32m    355\u001b[39m     \u001b[38;5;28;01mraise\u001b[39;00m JSONDecodeError(\u001b[33m\"\u001b[39m\u001b[33mExpecting value\u001b[39m\u001b[33m\"\u001b[39m, s, err.value) \u001b[38;5;28;01mfrom\u001b[39;00m\u001b[38;5;250m \u001b[39m\u001b[38;5;28;01mNone\u001b[39;00m\n",
      "\u001b[31mJSONDecodeError\u001b[39m: Invalid control character at: line 1 column 16 (char 15)"
     ]
    }
   ],
   "source": [
    "json_str = '{\"name\": \"Sadiq\\u0001\"}'\n",
    "json.loads(json_str)  # May raise JSONDecodeError depending on context"
   ]
  },
  {
   "cell_type": "markdown",
   "id": "534fc589-301a-425b-8420-fa8a47e350f3",
   "metadata": {},
   "source": [
    "Why? Control characters can corrupt the JSON structure unless properly escaped."
   ]
  },
  {
   "cell_type": "code",
   "execution_count": 6,
   "id": "f4b8007d-ee69-4a04-b279-1fd7d9bf31d5",
   "metadata": {},
   "outputs": [
    {
     "name": "stdout",
     "output_type": "stream",
     "text": [
      "JSON decoding failed: Invalid control character at: line 1 column 16 (char 15)\n"
     ]
    }
   ],
   "source": [
    "##### How to Handle It Gracefully\n",
    "\n",
    "#Use try-except Block\n",
    "\n",
    "try:\n",
    "    data = json.loads(json_str)\n",
    "except json.JSONDecodeError as e:\n",
    "    print(f\"JSON decoding failed: {e}\")"
   ]
  },
  {
   "cell_type": "markdown",
   "id": "287a6207-0a94-4af0-87d4-6f6438b8bee5",
   "metadata": {},
   "source": [
    "- Validate JSON Before Parsing:\n",
    "  \n",
    "Use tools like JSONLint or Python libraries like jsonschema to validate structure.\n",
    "    "
   ]
  },
  {
   "cell_type": "code",
   "execution_count": 8,
   "id": "18027605-c12c-4865-987c-b74670dd05b5",
   "metadata": {},
   "outputs": [],
   "source": [
    "##### Use strict=False (with caution)\n",
    "with open(\"output.json\") as f:\n",
    "    data = json.load(f, strict=False)"
   ]
  },
  {
   "cell_type": "markdown",
   "id": "642534fa-7fe3-4a94-960b-7169c887d516",
   "metadata": {},
   "source": [
    "#### What Are JSON Codecs"
   ]
  },
  {
   "cell_type": "markdown",
   "id": "ccc4bbb1-e8a9-4b7d-9221-72d2437c37a1",
   "metadata": {},
   "source": [
    "In Python, a codec (short for coder-decoder) refers to the mechanism that encodes Python objects into JSON strings and decodes JSON strings back into Python objects. The built-in json module provides the default codec, but there are alternative codecs like **ujson, orjson, and rapidjson** that offer performance, memory, and feature trade-offs."
   ]
  },
  {
   "cell_type": "markdown",
   "id": "892512a9-9800-4c35-a4d0-690f2f86927f",
   "metadata": {},
   "source": [
    "##### Standard JSON Codec (json module)\n"
   ]
  },
  {
   "cell_type": "code",
   "execution_count": 9,
   "id": "108075f2-9678-4d67-9580-6a544aada59f",
   "metadata": {},
   "outputs": [
    {
     "name": "stdout",
     "output_type": "stream",
     "text": [
      "{\"name\": \"Sadiq\", \"skills\": [\"Python\", \"ML\"], \"active\": true}\n",
      "['Python', 'ML']\n"
     ]
    }
   ],
   "source": [
    "#Encoding (Python → JSON)\n",
    "\n",
    "import json\n",
    "\n",
    "data = {\"name\": \"Sadiq\", \"skills\": [\"Python\", \"ML\"], \"active\": True}\n",
    "json_str = json.dumps(data)\n",
    "print(json_str)\n",
    "\n",
    "\n",
    "# Decoding (JSON → Python)\n",
    "decoded = json.loads(json_str)\n",
    "print(decoded[\"skills\"])"
   ]
  },
  {
   "cell_type": "markdown",
   "id": "212debf7-9f36-4509-a1ee-d023bc3fd919",
   "metadata": {},
   "source": [
    "##### Custom Encoder\n",
    "You can subclass json.JSONEncoder to handle non-standard types:"
   ]
  },
  {
   "cell_type": "code",
   "execution_count": 10,
   "id": "fcde0a5e-190d-4269-b5c1-a3d60e90da68",
   "metadata": {},
   "outputs": [
    {
     "name": "stdout",
     "output_type": "stream",
     "text": [
      "{\"timestamp\": \"2025-09-17T11:06:40.287173\"}\n"
     ]
    }
   ],
   "source": [
    "import json\n",
    "from datetime import datetime\n",
    "\n",
    "class DateTimeEncoder(json.JSONEncoder):\n",
    "    def default(self, obj):\n",
    "        if isinstance(obj, datetime):\n",
    "            return obj.isoformat()\n",
    "        return super().default(obj)\n",
    "\n",
    "data = {\"timestamp\": datetime.now()}\n",
    "print(json.dumps(data, cls=DateTimeEncoder))"
   ]
  },
  {
   "cell_type": "markdown",
   "id": "50f08e23-9a3e-4676-ba59-7c78843003ac",
   "metadata": {},
   "source": [
    "##### High-Performance JSON Codecs\n",
    "\n",
    "1. UltraJSON (ujson)\n",
    "- Written in C, very fast\n",
    "- Doesn’t support custom encoders or Decimal"
   ]
  },
  {
   "cell_type": "code",
   "execution_count": 12,
   "id": "019b77b4-0463-4033-b56b-c8259c7ebff3",
   "metadata": {},
   "outputs": [
    {
     "name": "stdout",
     "output_type": "stream",
     "text": [
      "Collecting ujson\n",
      "  Downloading ujson-5.11.0-cp311-cp311-win_amd64.whl.metadata (9.6 kB)\n",
      "Collecting orjson\n",
      "  Downloading orjson-3.11.3-cp311-cp311-win_amd64.whl.metadata (43 kB)\n",
      "Collecting python-rapidjson\n",
      "  Downloading python_rapidjson-1.21-cp311-cp311-win_amd64.whl.metadata (24 kB)\n",
      "Downloading ujson-5.11.0-cp311-cp311-win_amd64.whl (43 kB)\n",
      "Downloading orjson-3.11.3-cp311-cp311-win_amd64.whl (131 kB)\n",
      "Downloading python_rapidjson-1.21-cp311-cp311-win_amd64.whl (147 kB)\n",
      "Installing collected packages: ujson, python-rapidjson, orjson\n",
      "\n",
      "   ---------------------------------------- 3/3 [orjson]\n",
      "\n",
      "Successfully installed orjson-3.11.3 python-rapidjson-1.21 ujson-5.11.0\n"
     ]
    }
   ],
   "source": [
    "!pip install ujson orjson python-rapidjson"
   ]
  },
  {
   "cell_type": "code",
   "execution_count": 15,
   "id": "7cccb6da-eb2d-4399-a9f7-0be4466e7830",
   "metadata": {},
   "outputs": [
    {
     "name": "stdout",
     "output_type": "stream",
     "text": [
      "{'name': 'Sadiq', 'score': 99.5}\n"
     ]
    }
   ],
   "source": [
    "import ujson\n",
    "\n",
    "data = {\"name\": \"Sadiq\", \"score\": 99.5}\n",
    "encoded = ujson.dumps(data)\n",
    "decoded = ujson.loads(encoded)\n",
    "print(decoded)"
   ]
  },
  {
   "cell_type": "markdown",
   "id": "8e59b1aa-2cb9-4c2c-8334-05bd72a42d64",
   "metadata": {},
   "source": [
    "2. orjson\n",
    "\n",
    "- Blazing fast, supports datetime, numpy, and dataclass\n",
    "- Returns bytes instead of str"
   ]
  },
  {
   "cell_type": "code",
   "execution_count": 16,
   "id": "e7685468-eb8f-43bf-8154-75a9fe29e146",
   "metadata": {},
   "outputs": [
    {
     "name": "stdout",
     "output_type": "stream",
     "text": [
      "{'created': '2025-09-17T11:08:48.117337'}\n"
     ]
    }
   ],
   "source": [
    "import orjson\n",
    "from datetime import datetime\n",
    "\n",
    "data = {\"created\": datetime.now()}\n",
    "encoded = orjson.dumps(data)\n",
    "decoded = orjson.loads(encoded)\n",
    "print(decoded)"
   ]
  },
  {
   "cell_type": "markdown",
   "id": "8c314f0c-9e4b-41b3-84bd-312e40058597",
   "metadata": {},
   "source": [
    "3. python-rapidjson\n",
    "- Fast and flexible\n",
    "- Supports datetime, UUID, and more"
   ]
  },
  {
   "cell_type": "code",
   "execution_count": 18,
   "id": "9a941c1c-d41b-450b-8dd0-8c290802e0b2",
   "metadata": {},
   "outputs": [
    {
     "name": "stdout",
     "output_type": "stream",
     "text": [
      "{'created': '2025-09-17T11:09:19.297403'}\n"
     ]
    }
   ],
   "source": [
    "import rapidjson\n",
    "\n",
    "data = {\"created\": datetime.now()}\n",
    "encoded = rapidjson.dumps(data, datetime_mode=rapidjson.DM_ISO8601)\n",
    "decoded = rapidjson.loads(encoded)\n",
    "print(decoded)"
   ]
  },
  {
   "cell_type": "markdown",
   "id": "c84bcec4-771a-44d3-bab5-b502b0961e11",
   "metadata": {},
   "source": [
    "##### Benchmarking Codecs (Speed Comparison)\n",
    "Here’s a simple benchmark using timeit:"
   ]
  },
  {
   "cell_type": "code",
   "execution_count": 20,
   "id": "7c2af911-eb69-4ad2-9195-e032ca99de85",
   "metadata": {},
   "outputs": [
    {
     "name": "stdout",
     "output_type": "stream",
     "text": [
      "json: 0.3866023000000496\n",
      "ujson: 0.12795980000009877\n",
      "orjson: 0.04135450000012497\n",
      "rapidjson: 0.14769030000002203\n"
     ]
    }
   ],
   "source": [
    "import json, ujson, orjson, rapidjson\n",
    "import timeit\n",
    "\n",
    "data = {\"name\": \"Sadiq\", \"skills\": [\"Python\", \"ML\"], \"active\": True}\n",
    "\n",
    "print(\"json:\", timeit.timeit(lambda: json.dumps(data), number=100000))\n",
    "print(\"ujson:\", timeit.timeit(lambda: ujson.dumps(data), number=100000))\n",
    "print(\"orjson:\", timeit.timeit(lambda: orjson.dumps(data), number=100000))\n",
    "print(\"rapidjson:\", timeit.timeit(lambda: rapidjson.dumps(data), number=100000))"
   ]
  },
  {
   "cell_type": "markdown",
   "id": "31cb842a-03ed-463d-a0cf-9c7affeb9630",
   "metadata": {},
   "source": [
    "##### Security and Compatibility Notes\n",
    "|codec  |Speed  |Custom Types  |Security Risk  |Output Type  | \n",
    "|-----------|---------|----------|----------|-------|\n",
    "| json |Fast  |Full  |Safe  | str | \n",
    "| ujson |Fast  |Limited  |Less strict  | str | \n",
    "| orjson |Very Fast  |Good  |safe  | bytes | \n",
    "| rapidjson |Fast  |Flexible  |safe  | str | \n",
    "\n",
    "\n",
    "- Be cautious with codecs that silently ignore malformed input (ujson can do this). For secure applications, stick with json or orjson.\n",
    "\n"
   ]
  },
  {
   "cell_type": "markdown",
   "id": "2a94c1d7-5eb0-4ffe-bb81-546b929cae35",
   "metadata": {},
   "source": [
    "##### Flattening json"
   ]
  },
  {
   "cell_type": "code",
   "execution_count": 21,
   "id": "cd973000-ff18-4750-86f8-5cc8932f68b5",
   "metadata": {},
   "outputs": [
    {
     "name": "stdout",
     "output_type": "stream",
     "text": [
      "  location user.name   user.skills\n",
      "0    India     Sadiq  [Python, ML]\n"
     ]
    }
   ],
   "source": [
    "import pandas as pd\n",
    "\n",
    "data = {\n",
    "    \"user\": {\n",
    "        \"name\": \"Sadiq\",\n",
    "        \"skills\": [\"Python\", \"ML\"]\n",
    "    },\n",
    "    \"location\": \"India\"\n",
    "}\n",
    "\n",
    "df = pd.json_normalize(data)\n",
    "print(df)\n"
   ]
  },
  {
   "cell_type": "code",
   "execution_count": 22,
   "id": "51dc4bb1-dcd3-4534-990a-4cc80971cca5",
   "metadata": {},
   "outputs": [
    {
     "name": "stdout",
     "output_type": "stream",
     "text": [
      "Collecting flatten_json\n",
      "  Downloading flatten_json-0.1.14-py3-none-any.whl.metadata (4.2 kB)\n",
      "Requirement already satisfied: six in c:\\users\\sadiq\\anaconda3\\envs\\guvi\\lib\\site-packages (from flatten_json) (1.17.0)\n",
      "Downloading flatten_json-0.1.14-py3-none-any.whl (8.0 kB)\n",
      "Installing collected packages: flatten_json\n",
      "Successfully installed flatten_json-0.1.14\n"
     ]
    }
   ],
   "source": [
    "!pip install flatten_json"
   ]
  },
  {
   "cell_type": "code",
   "execution_count": 23,
   "id": "4d1b6f7b-25c4-42c9-b586-40b9dc876dee",
   "metadata": {},
   "outputs": [
    {
     "name": "stdout",
     "output_type": "stream",
     "text": [
      "{'user_name': 'Sadiq', 'user_skills_0': 'Python', 'user_skills_1': 'ML', 'location': 'India'}\n"
     ]
    }
   ],
   "source": [
    "from flatten_json import flatten\n",
    "\n",
    "nested = {\n",
    "    \"user\": {\n",
    "        \"name\": \"Sadiq\",\n",
    "        \"skills\": [\"Python\", \"ML\"]\n",
    "    },\n",
    "    \"location\": \"India\"\n",
    "}\n",
    "\n",
    "\n",
    "flat = flatten(nested)\n",
    "print(flat)"
   ]
  },
  {
   "cell_type": "code",
   "execution_count": null,
   "id": "06ef2025-7971-4ea2-a943-db9af5110786",
   "metadata": {},
   "outputs": [],
   "source": []
  }
 ],
 "metadata": {
  "kernelspec": {
   "display_name": "Python 3 (ipykernel)",
   "language": "python",
   "name": "python3"
  },
  "language_info": {
   "codemirror_mode": {
    "name": "ipython",
    "version": 3
   },
   "file_extension": ".py",
   "mimetype": "text/x-python",
   "name": "python",
   "nbconvert_exporter": "python",
   "pygments_lexer": "ipython3",
   "version": "3.11.13"
  }
 },
 "nbformat": 4,
 "nbformat_minor": 5
}
