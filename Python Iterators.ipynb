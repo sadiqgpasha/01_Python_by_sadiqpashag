{
 "cells": [
  {
   "cell_type": "markdown",
   "id": "5fcb418a-fd81-4423-b6bc-33ad80480b2c",
   "metadata": {},
   "source": [
    "### Python Iterators and Iterables"
   ]
  },
  {
   "cell_type": "markdown",
   "id": "1328dfc4-1399-4fb3-9e67-5f8503a5def0",
   "metadata": {},
   "source": [
    "    Iterable - Any Object capable of ruturning its elements one at a time(eg. list, str)\n",
    "    Iterator - An object that represewnts a stream of data; It implements __iter__() and __next__()"
   ]
  },
  {
   "cell_type": "code",
   "execution_count": 2,
   "id": "2951648d-f9cd-4a03-b3af-977dda46e9b6",
   "metadata": {},
   "outputs": [
    {
     "name": "stdout",
     "output_type": "stream",
     "text": [
      "10\n",
      "20\n",
      "30\n"
     ]
    },
    {
     "ename": "StopIteration",
     "evalue": "",
     "output_type": "error",
     "traceback": [
      "\u001b[31m---------------------------------------------------------------------------\u001b[39m",
      "\u001b[31mStopIteration\u001b[39m                             Traceback (most recent call last)",
      "\u001b[36mCell\u001b[39m\u001b[36m \u001b[39m\u001b[32mIn[2]\u001b[39m\u001b[32m, line 7\u001b[39m\n\u001b[32m      5\u001b[39m \u001b[38;5;28mprint\u001b[39m(\u001b[38;5;28mnext\u001b[39m(iterator))  \u001b[38;5;66;03m# 20\u001b[39;00m\n\u001b[32m      6\u001b[39m \u001b[38;5;28mprint\u001b[39m(\u001b[38;5;28mnext\u001b[39m(iterator))  \u001b[38;5;66;03m# 30\u001b[39;00m\n\u001b[32m----> \u001b[39m\u001b[32m7\u001b[39m \u001b[38;5;28mprint\u001b[39m(\u001b[38;5;28;43mnext\u001b[39;49m\u001b[43m(\u001b[49m\u001b[43miterator\u001b[49m\u001b[43m)\u001b[49m)  \u001b[38;5;66;03m# Raises StopIteration\u001b[39;00m\n",
      "\u001b[31mStopIteration\u001b[39m: "
     ]
    }
   ],
   "source": [
    "my_list = [10, 20, 30]\n",
    "iterator = iter(my_list)\n",
    "\n",
    "print(next(iterator))  # 10\n",
    "print(next(iterator))  # 20\n",
    "print(next(iterator))  # 30\n",
    "print(next(iterator))  # Raises StopIteration\n"
   ]
  },
  {
   "cell_type": "markdown",
   "id": "6b46c27a-8b87-4f80-a2bf-f826e1eba411",
   "metadata": {},
   "source": [
    "### Custom Iterator Class"
   ]
  },
  {
   "cell_type": "code",
   "execution_count": 3,
   "id": "69a9e743-f13a-4746-a868-34a8121cc405",
   "metadata": {},
   "outputs": [
    {
     "name": "stdout",
     "output_type": "stream",
     "text": [
      "0\n",
      "2\n",
      "4\n",
      "6\n",
      "8\n",
      "10\n"
     ]
    }
   ],
   "source": [
    "class EvenNumbers:\n",
    "    def __init__(self, max):\n",
    "        self.max = max\n",
    "        self.num = 0\n",
    "\n",
    "    def __iter__(self):\n",
    "        return self\n",
    "\n",
    "    def __next__(self):\n",
    "        if self.num > self.max:\n",
    "            raise StopIteration\n",
    "        result = self.num\n",
    "        self.num += 2\n",
    "        return result\n",
    "\n",
    "evens = EvenNumbers(10)\n",
    "for num in evens:\n",
    "    print(num)"
   ]
  },
  {
   "cell_type": "markdown",
   "id": "95639dc0-e28f-410b-bdcb-6a09c5a0de24",
   "metadata": {},
   "source": [
    "- Implements __iter__() and __next__().\n",
    "- Keeps internal state (self.num).\n",
    "- Stops when self.num > self.max.\n"
   ]
  },
  {
   "cell_type": "markdown",
   "id": "1799c78f-4bac-4c8c-9b04-59faec75d3e9",
   "metadata": {},
   "source": [
    "### Generator Based Iterator"
   ]
  },
  {
   "cell_type": "code",
   "execution_count": 4,
   "id": "5d9f887f-07d0-4719-8811-34458ca3e357",
   "metadata": {},
   "outputs": [
    {
     "name": "stdout",
     "output_type": "stream",
     "text": [
      "0\n",
      "2\n",
      "4\n",
      "6\n",
      "8\n",
      "10\n"
     ]
    }
   ],
   "source": [
    "def even_numbers(max):\n",
    "    num = 0\n",
    "    while num <= max:\n",
    "        yield num\n",
    "        num += 2\n",
    "\n",
    "for n in even_numbers(10):\n",
    "    print(n)"
   ]
  },
  {
   "cell_type": "markdown",
   "id": "857589af-3d09-48a0-91c5-b0b21df3e9cb",
   "metadata": {},
   "source": [
    "- yield creates a generator, which is a type of iterator.\n",
    "- Automatically handles __iter__() and __next__().\n"
   ]
  },
  {
   "cell_type": "code",
   "execution_count": null,
   "id": "db76185f-c1bf-441f-8e29-5641501b9806",
   "metadata": {},
   "outputs": [],
   "source": []
  }
 ],
 "metadata": {
  "kernelspec": {
   "display_name": "Python 3 (ipykernel)",
   "language": "python",
   "name": "python3"
  },
  "language_info": {
   "codemirror_mode": {
    "name": "ipython",
    "version": 3
   },
   "file_extension": ".py",
   "mimetype": "text/x-python",
   "name": "python",
   "nbconvert_exporter": "python",
   "pygments_lexer": "ipython3",
   "version": "3.11.13"
  }
 },
 "nbformat": 4,
 "nbformat_minor": 5
}
